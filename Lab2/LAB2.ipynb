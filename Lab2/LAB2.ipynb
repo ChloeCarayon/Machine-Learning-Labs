{
 "cells": [
  {
   "cell_type": "markdown",
   "metadata": {
    "cell_id": "00000-b0a9cf58-8732-4b37-867f-2a65851b1180",
    "deepnote_cell_type": "markdown",
    "output_cleared": false,
    "tags": []
   },
   "source": [
    "**Authors**: Carayon Chloé - Taillieu Victor\n",
    "\n",
    "**Date**: 01/12/2020\n",
    "\n",
    "---\n",
    "# LAB2 Machine Learning: Bike Rental\n",
    "---\n",
    "\n",
    "## Introduction\n",
    "\n",
    "In this second lab, we have to reuse our predictive model from the first lab, \n",
    "compare it to several regression models and improve it by doing feature engineering.  \n",
    "We created a class implementing our linear regression model in **linreg.py** and we will use \n",
    "it for our model from scratch.\n"
   ]
  },
  {
   "cell_type": "code",
   "execution_count": 1,
   "metadata": {
    "cell_id": "00000-2b533adf-bd1f-412d-8b4c-574ceb536d8e",
    "deepnote_cell_type": "code",
    "execution_millis": 818,
    "execution_start": 1606859124722,
    "output_cleared": false,
    "scrolled": true,
    "source_hash": "1fc1d8ce"
   },
   "outputs": [],
   "source": [
    "import sys\n",
    "sys.path.append(\"../Lab1\")\n",
    "from linreg import LinearRegression\n",
    "\n",
    "import pandas as pd\n",
    "import numpy as np\n",
    "import matplotlib.pyplot as plt\n",
    "\n",
    "from sklearn import linear_model\n",
    "from sklearn.model_selection import train_test_split\n",
    "from sklearn.preprocessing import MinMaxScaler\n",
    "from sklearn.metrics import mean_absolute_error, r2_score\n",
    "from sklearn.ensemble import GradientBoostingRegressor, RandomForestRegressor"
   ]
  },
  {
   "cell_type": "markdown",
   "metadata": {
    "cell_id": "00001-48e243e3-c08d-4df1-b9be-1a21dc4bfbcb",
    "deepnote_cell_type": "markdown",
    "output_cleared": false
   },
   "source": [
    "## 1. Data understanding\n",
    "\n",
    "Before building models, we have to understand our data. As explained in the lab instructions,\n",
    "we have to build a predictive model to help bike rental companies in predicting the hourly demand on bikes.\n",
    "\n",
    "### 1.1. Loading and exploring data"
   ]
  },
  {
   "cell_type": "code",
   "execution_count": 2,
   "metadata": {
    "cell_id": "00002-5f9bb1fd-5e5f-4e5e-86c9-24d272301714",
    "deepnote_cell_type": "code",
    "execution_millis": 78,
    "execution_start": 1606859125542,
    "output_cleared": false,
    "source_hash": "694f7e86"
   },
   "outputs": [
    {
     "data": {
      "text/html": [
       "<div>\n",
       "<style scoped>\n",
       "    .dataframe tbody tr th:only-of-type {\n",
       "        vertical-align: middle;\n",
       "    }\n",
       "\n",
       "    .dataframe tbody tr th {\n",
       "        vertical-align: top;\n",
       "    }\n",
       "\n",
       "    .dataframe thead th {\n",
       "        text-align: right;\n",
       "    }\n",
       "</style>\n",
       "<table border=\"1\" class=\"dataframe\">\n",
       "  <thead>\n",
       "    <tr style=\"text-align: right;\">\n",
       "      <th></th>\n",
       "      <th>season</th>\n",
       "      <th>yr</th>\n",
       "      <th>mnth</th>\n",
       "      <th>hr</th>\n",
       "      <th>holiday</th>\n",
       "      <th>workingday</th>\n",
       "      <th>weathersit</th>\n",
       "      <th>temp</th>\n",
       "      <th>hum</th>\n",
       "      <th>windspeed</th>\n",
       "      <th>dayOfWeek</th>\n",
       "      <th>days</th>\n",
       "      <th>demand</th>\n",
       "    </tr>\n",
       "  </thead>\n",
       "  <tbody>\n",
       "    <tr>\n",
       "      <th>0</th>\n",
       "      <td>1</td>\n",
       "      <td>0</td>\n",
       "      <td>1</td>\n",
       "      <td>0</td>\n",
       "      <td>0</td>\n",
       "      <td>0</td>\n",
       "      <td>1</td>\n",
       "      <td>0.24</td>\n",
       "      <td>0.81</td>\n",
       "      <td>0.0</td>\n",
       "      <td>Sat</td>\n",
       "      <td>0</td>\n",
       "      <td>16</td>\n",
       "    </tr>\n",
       "    <tr>\n",
       "      <th>1</th>\n",
       "      <td>1</td>\n",
       "      <td>0</td>\n",
       "      <td>1</td>\n",
       "      <td>1</td>\n",
       "      <td>0</td>\n",
       "      <td>0</td>\n",
       "      <td>1</td>\n",
       "      <td>0.22</td>\n",
       "      <td>0.80</td>\n",
       "      <td>0.0</td>\n",
       "      <td>Sat</td>\n",
       "      <td>0</td>\n",
       "      <td>40</td>\n",
       "    </tr>\n",
       "    <tr>\n",
       "      <th>2</th>\n",
       "      <td>1</td>\n",
       "      <td>0</td>\n",
       "      <td>1</td>\n",
       "      <td>2</td>\n",
       "      <td>0</td>\n",
       "      <td>0</td>\n",
       "      <td>1</td>\n",
       "      <td>0.22</td>\n",
       "      <td>0.80</td>\n",
       "      <td>0.0</td>\n",
       "      <td>Sat</td>\n",
       "      <td>0</td>\n",
       "      <td>32</td>\n",
       "    </tr>\n",
       "    <tr>\n",
       "      <th>3</th>\n",
       "      <td>1</td>\n",
       "      <td>0</td>\n",
       "      <td>1</td>\n",
       "      <td>3</td>\n",
       "      <td>0</td>\n",
       "      <td>0</td>\n",
       "      <td>1</td>\n",
       "      <td>0.24</td>\n",
       "      <td>0.75</td>\n",
       "      <td>0.0</td>\n",
       "      <td>Sat</td>\n",
       "      <td>0</td>\n",
       "      <td>13</td>\n",
       "    </tr>\n",
       "    <tr>\n",
       "      <th>4</th>\n",
       "      <td>1</td>\n",
       "      <td>0</td>\n",
       "      <td>1</td>\n",
       "      <td>4</td>\n",
       "      <td>0</td>\n",
       "      <td>0</td>\n",
       "      <td>1</td>\n",
       "      <td>0.24</td>\n",
       "      <td>0.75</td>\n",
       "      <td>0.0</td>\n",
       "      <td>Sat</td>\n",
       "      <td>0</td>\n",
       "      <td>1</td>\n",
       "    </tr>\n",
       "  </tbody>\n",
       "</table>\n",
       "</div>"
      ],
      "text/plain": [
       "   season  yr  mnth  hr  holiday  workingday  weathersit  temp   hum  \\\n",
       "0       1   0     1   0        0           0           1  0.24  0.81   \n",
       "1       1   0     1   1        0           0           1  0.22  0.80   \n",
       "2       1   0     1   2        0           0           1  0.22  0.80   \n",
       "3       1   0     1   3        0           0           1  0.24  0.75   \n",
       "4       1   0     1   4        0           0           1  0.24  0.75   \n",
       "\n",
       "   windspeed dayOfWeek  days  demand  \n",
       "0        0.0       Sat     0      16  \n",
       "1        0.0       Sat     0      40  \n",
       "2        0.0       Sat     0      32  \n",
       "3        0.0       Sat     0      13  \n",
       "4        0.0       Sat     0       1  "
      ]
     },
     "execution_count": 2,
     "metadata": {},
     "output_type": "execute_result"
    }
   ],
   "source": [
    "df = pd.read_csv(\"data/bike.csv\")\n",
    "df.head()"
   ]
  },
  {
   "cell_type": "markdown",
   "metadata": {
    "cell_id": "00004-a7d0aaee-fba6-4de6-9f63-ef8c297dfb86",
    "deepnote_cell_type": "markdown",
    "output_cleared": false,
    "tags": []
   },
   "source": [
    "Our dataset is composed of 13 columns. During two years, data has been collected each hour:\n",
    "the date (hour, day, month and year), the associated weather conditions (temperature, humidity and windspeed)\n",
    "and the day particularity (holiday and working day).\n",
    "\n",
    "Those variables have different types: the temperature, humidity and windspeed are numerical whereas season, year, month, hour are categorical. \n",
    "Some are also boolean such as holiday and workingday. Finally, dayOfWeek could be converted in categorical as it is string and can't be used like this.\n",
    "\n",
    "Let's look at some plots to familiarize with those data.\n",
    "\n",
    "### 1.2. Data Visualisation\n",
    "\n",
    "####  1.2.1. Bike rental demand depending on the hour of the day "
   ]
  },
  {
   "cell_type": "code",
   "execution_count": 3,
   "metadata": {
    "cell_id": "00003-00704889-7f34-4f60-b462-568060e4759c",
    "deepnote_cell_type": "code",
    "execution_millis": 201,
    "execution_start": 1606859125620,
    "output_cleared": false,
    "source_hash": "ce4b0009"
   },
   "outputs": [
    {
     "data": {
      "image/png": "[encoded data removed]",
      "text/plain": [
       "<Figure size 432x288 with 1 Axes>"
      ]
     },
     "metadata": {
      "needs_background": "light"
     },
     "output_type": "display_data"
    }
   ],
   "source": [
    "plt.bar(df.hr.unique(), df.groupby(\"hr\").mean().demand)\n",
    "plt.title(\"Bike rental demand depending on the hour of the day\")\n",
    "plt.xlabel(\"Hour\")\n",
    "plt.ylabel(\"Average demand\")\n",
    "plt.show()"
   ]
  },
  {
   "cell_type": "markdown",
   "metadata": {
    "cell_id": "00006-5f8a6348-9137-4446-85b9-16dbef779171",
    "deepnote_cell_type": "markdown",
    "output_cleared": false,
    "tags": []
   },
   "source": [
    "This first graph shows the dispersion of rental bike demand across hours. \n",
    "Only few people rent bikes during the night and early in the morning. \n",
    "Most of the rents are done during the morning around 8 and in the afternoon around 17, else the rental\n",
    "is correct but declined during the evening.\n",
    "\n",
    "The hours where bikes are mostly rented, correspond to potential hours for workers to go and leave work. \n",
    "But it can also be linked to the day, the weather conditions and the season. When the weather is nice, people may rent a bike more easily. \n",
    "\n",
    "#### 1.2.2. Bike rental demand depending on the day of the week"
   ]
  },
  {
   "cell_type": "code",
   "execution_count": 4,
   "metadata": {
    "cell_id": "00007-038f4cfe-eba8-4c5f-bbd6-2830e91fb23c",
    "deepnote_cell_type": "code",
    "execution_millis": 199,
    "execution_start": 1606859125830,
    "output_cleared": false,
    "source_hash": "f377d30",
    "tags": []
   },
   "outputs": [
    {
     "data": {
      "image/png": "[encoded data removed]",
      "text/plain": [
       "<Figure size 432x288 with 1 Axes>"
      ]
     },
     "metadata": {
      "needs_background": "light"
     },
     "output_type": "display_data"
    }
   ],
   "source": [
    "plt.bar(df.dayOfWeek.unique(), df.groupby(\"dayOfWeek\").mean().demand)\n",
    "plt.title(\"Bike rental demand depending on the day of the week\")\n",
    "plt.xlabel(\"Day\")\n",
    "plt.ylabel(\"Average demand\")\n",
    "plt.ylim(100)\n",
    "plt.show()"
   ]
  },
  {
   "cell_type": "markdown",
   "metadata": {
    "cell_id": "00008-31f8c41f-68fa-4a27-8a71-a75dc1887f49",
    "deepnote_cell_type": "markdown",
    "output_cleared": false,
    "tags": []
   },
   "source": [
    "We can see that there is not much difference in bikes demand between the different days of the week on average.\n",
    "\n",
    "#### 1.2.3. Bike rental demand depending on working days and holidays"
   ]
  },
  {
   "cell_type": "code",
   "execution_count": 5,
   "metadata": {
    "cell_id": "00007-35cc251c-caa6-4624-a439-5efedbdeb13a",
    "deepnote_cell_type": "code",
    "execution_millis": 224,
    "execution_start": 1606859126039,
    "output_cleared": false,
    "source_hash": "6806edba",
    "tags": []
   },
   "outputs": [
    {
     "data": {
      "image/png": "[encoded data removed]",
      "text/plain": [
       "<Figure size 432x288 with 2 Axes>"
      ]
     },
     "metadata": {
      "needs_background": "light"
     },
     "output_type": "display_data"
    }
   ],
   "source": [
    "plt.subplot(121)\n",
    "plt.bar(df.workingday.unique(), df.groupby(\"workingday\").mean().demand)\n",
    "plt.ylabel(\"Average demand\")\n",
    "plt.ylim(100, 200)\n",
    "plt.xticks([0, 1], ['not working day', 'working day'])\n",
    "\n",
    "plt.subplot(122)\n",
    "plt.bar(df.holiday.unique(), df.groupby(\"holiday\").mean().demand)\n",
    "plt.ylim(100, 200)\n",
    "plt.xticks([0, 1], ['not holiday', 'holiday'])\n",
    "\n",
    "plt.title(\"Bike rental demand depending on working day and holiday\\n\")\n",
    "plt.show()"
   ]
  },
  {
   "cell_type": "markdown",
   "metadata": {
    "cell_id": "00008-6c5ca28c-d9ee-426b-9409-717eb51f2041",
    "deepnote_cell_type": "markdown",
    "output_cleared": false,
    "tags": []
   },
   "source": [
    "Those two plots confirm what we have supposed above, it shows that more bikes are rented during working days than on weekend and holidays.  \n",
    "We also notice that the demand difference is more pronounced for holiday/not holiday than for working day/not working day\n",
    "\n",
    "\n",
    "#### 1.2.4. Bike rental demand depending on the season"
   ]
  },
  {
   "cell_type": "code",
   "execution_count": 6,
   "metadata": {
    "cell_id": "00007-439df0cc-6cf0-4b55-bea5-0cfb02dc1d0a",
    "deepnote_cell_type": "code",
    "execution_millis": 185,
    "execution_start": 1606859126277,
    "output_cleared": false,
    "source_hash": "40667ec4",
    "tags": []
   },
   "outputs": [
    {
     "data": {
      "image/png": "[encoded data removed]",
      "text/plain": [
       "<Figure size 432x288 with 1 Axes>"
      ]
     },
     "metadata": {},
     "output_type": "display_data"
    }
   ],
   "source": [
    "plt.pie(df.groupby(\"season\").mean().demand, labels=[\"Spring\", \"Summer\", \"Fall\", \"Winter\"], autopct=\"%1.1f%%\")\n",
    "plt.title(\"Bike rental demand depending on the season\")\n",
    "plt.show()"
   ]
  },
  {
   "cell_type": "markdown",
   "metadata": {
    "cell_id": "00008-96e42a63-420b-41d7-894e-37ca7640aecf",
    "deepnote_cell_type": "markdown",
    "output_cleared": false,
    "tags": []
   },
   "source": [
    "The majority of demands is in Fall, Summer and Winter.\n",
    "A third of those demands is made in Fall, then there are many demands in Summer and Winter with respectively 3.7% and 4.9% of difference with Fall.\n",
    "The rental bike decreases in Spring, only few people rent bike: around 14.7% of demand.   \n",
    "We can ask ourselves if the bike rental demand is linked to the temperature.\n",
    "\n",
    "\n",
    "#### 1.2.5. Bike rental demand depending on the temperature\n",
    "\n",
    "Temperature data has been normalized which explains why values are between 0 and 1."
   ]
  },
  {
   "cell_type": "code",
   "execution_count": 7,
   "metadata": {
    "cell_id": "00011-a75f0b86-34f1-41bb-93cd-9348fa041dea",
    "deepnote_cell_type": "code",
    "execution_millis": 215,
    "execution_start": 1606859126472,
    "output_cleared": false,
    "source_hash": "7a770895",
    "tags": []
   },
   "outputs": [
    {
     "data": {
      "image/png": "[encoded data removed]",
      "text/plain": [
       "<Figure size 432x288 with 1 Axes>"
      ]
     },
     "metadata": {
      "needs_background": "light"
     },
     "output_type": "display_data"
    }
   ],
   "source": [
    "plt.scatter(df.temp, df.demand, alpha=0.2)\n",
    "plt.title(\"Bike demand in function of temperature\")\n",
    "plt.xlabel(\"temperature\")\n",
    "plt.ylabel(\"demand\")\n",
    "plt.show()"
   ]
  },
  {
   "cell_type": "markdown",
   "metadata": {
    "cell_id": "00014-e44cb8d4-4f98-4472-ae86-eaae0d9587c6",
    "deepnote_cell_type": "markdown",
    "output_cleared": false,
    "tags": []
   },
   "source": [
    "The temperature clearly has a positive correlation with the demand. When the temperature increases, the demand globally increases.  \n",
    "This variable will be useful in the linear model."
   ]
  },
  {
   "cell_type": "code",
   "execution_count": 8,
   "metadata": {
    "cell_id": "00009-50a45224-01e1-4535-8bf3-67af5e301a82",
    "deepnote_cell_type": "code",
    "execution_millis": 175,
    "execution_start": 1606859126695,
    "output_cleared": false,
    "source_hash": "daaeb06c",
    "tags": []
   },
   "outputs": [
    {
     "name": "stdout",
     "output_type": "stream",
     "text": [
      "0.00    0.02\n",
      "0.25    0.34\n",
      "0.50    0.50\n",
      "0.75    0.66\n",
      "1.00    1.00\n",
      "Name: temp, dtype: float64\n"
     ]
    },
    {
     "data": {
      "image/png": "[encoded data removed]",
      "text/plain": [
       "<Figure size 432x288 with 1 Axes>"
      ]
     },
     "metadata": {
      "needs_background": "light"
     },
     "output_type": "display_data"
    }
   ],
   "source": [
    "fig, ax = plt.subplots()\n",
    "df['temp'].hist(bins=10, color='#A9C5D3', edgecolor='black', grid=False)\n",
    "ax.set_title('Histogram of temperature', fontsize=12)\n",
    "ax.set_xlabel('temperature', fontsize=12)\n",
    "\n",
    "print(df.temp.quantile([0, 0.25, 0.5, 0.75, 1]))"
   ]
  },
  {
   "cell_type": "markdown",
   "metadata": {
    "cell_id": "00011-12679338-8f38-4f4f-8f03-f7f91c123198",
    "deepnote_cell_type": "markdown",
    "output_cleared": false,
    "tags": []
   },
   "source": [
    "For the temperature, most of the values are between 0.34 and 0.66. It has the shape of a normal distribution.\n",
    "\n",
    "### 1.3. Data preprocessing\n",
    "\n",
    "This first approach on our dataset made us understand that many variables can influence bike rental demand.\n",
    "\n",
    "#### 1.3.1. Handling missing values \n",
    "\n",
    "Let's quickly check if there are missing values:"
   ]
  },
  {
   "cell_type": "code",
   "execution_count": 9,
   "metadata": {
    "cell_id": "00017-f15cf508-23e2-4112-a733-82485f98a2f1",
    "deepnote_cell_type": "code",
    "execution_millis": 5,
    "execution_start": 1606859126881,
    "output_cleared": false,
    "source_hash": "7dbd6cc3",
    "tags": []
   },
   "outputs": [
    {
     "name": "stdout",
     "output_type": "stream",
     "text": [
      "Number of missing values: 0\n"
     ]
    }
   ],
   "source": [
    "print(\"Number of missing values:\",df.isnull().sum().sum())"
   ]
  },
  {
   "cell_type": "markdown",
   "metadata": {
    "cell_id": "00017-c2a01989-4239-437f-b5fd-13eca06812ed",
    "deepnote_cell_type": "markdown",
    "output_cleared": false,
    "tags": []
   },
   "source": [
    "There is no missing value in this dataset.\n",
    "\n",
    "#### 1.3.2. Handling string data\n",
    "\n",
    "There is one variable which can't be properly used for our linear model: dayOfWeek.   \n",
    "In order to use it, we have to convert those days in numerical values. We obtain the following result:"
   ]
  },
  {
   "cell_type": "code",
   "execution_count": 10,
   "metadata": {
    "cell_id": "00007-44cec1aa-5d66-46d4-a9b6-06909c9ca38d",
    "deepnote_cell_type": "code",
    "execution_millis": 119,
    "execution_start": 1606859126894,
    "output_cleared": false,
    "source_hash": "b4fbd870"
   },
   "outputs": [
    {
     "data": {
      "text/html": [
       "<div>\n",
       "<style scoped>\n",
       "    .dataframe tbody tr th:only-of-type {\n",
       "        vertical-align: middle;\n",
       "    }\n",
       "\n",
       "    .dataframe tbody tr th {\n",
       "        vertical-align: top;\n",
       "    }\n",
       "\n",
       "    .dataframe thead th {\n",
       "        text-align: right;\n",
       "    }\n",
       "</style>\n",
       "<table border=\"1\" class=\"dataframe\">\n",
       "  <thead>\n",
       "    <tr style=\"text-align: right;\">\n",
       "      <th></th>\n",
       "      <th>season</th>\n",
       "      <th>yr</th>\n",
       "      <th>mnth</th>\n",
       "      <th>hr</th>\n",
       "      <th>holiday</th>\n",
       "      <th>workingday</th>\n",
       "      <th>weathersit</th>\n",
       "      <th>temp</th>\n",
       "      <th>hum</th>\n",
       "      <th>windspeed</th>\n",
       "      <th>dayOfWeek</th>\n",
       "      <th>days</th>\n",
       "      <th>demand</th>\n",
       "    </tr>\n",
       "  </thead>\n",
       "  <tbody>\n",
       "    <tr>\n",
       "      <th>count</th>\n",
       "      <td>17379.000000</td>\n",
       "      <td>17379.000000</td>\n",
       "      <td>17379.000000</td>\n",
       "      <td>17379.000000</td>\n",
       "      <td>17379.000000</td>\n",
       "      <td>17379.000000</td>\n",
       "      <td>17379.000000</td>\n",
       "      <td>17379.000000</td>\n",
       "      <td>17379.000000</td>\n",
       "      <td>17379.000000</td>\n",
       "      <td>17379.000000</td>\n",
       "      <td>17379.000000</td>\n",
       "      <td>17379.000000</td>\n",
       "    </tr>\n",
       "    <tr>\n",
       "      <th>mean</th>\n",
       "      <td>2.501640</td>\n",
       "      <td>0.502561</td>\n",
       "      <td>6.537775</td>\n",
       "      <td>11.546752</td>\n",
       "      <td>0.028770</td>\n",
       "      <td>0.682721</td>\n",
       "      <td>1.425283</td>\n",
       "      <td>0.496987</td>\n",
       "      <td>0.627229</td>\n",
       "      <td>0.190098</td>\n",
       "      <td>2.992577</td>\n",
       "      <td>361.562576</td>\n",
       "      <td>189.463088</td>\n",
       "    </tr>\n",
       "    <tr>\n",
       "      <th>std</th>\n",
       "      <td>1.106918</td>\n",
       "      <td>0.500008</td>\n",
       "      <td>3.438776</td>\n",
       "      <td>6.914405</td>\n",
       "      <td>0.167165</td>\n",
       "      <td>0.465431</td>\n",
       "      <td>0.639357</td>\n",
       "      <td>0.192556</td>\n",
       "      <td>0.192930</td>\n",
       "      <td>0.122340</td>\n",
       "      <td>1.997928</td>\n",
       "      <td>209.042828</td>\n",
       "      <td>181.387599</td>\n",
       "    </tr>\n",
       "    <tr>\n",
       "      <th>min</th>\n",
       "      <td>1.000000</td>\n",
       "      <td>0.000000</td>\n",
       "      <td>1.000000</td>\n",
       "      <td>0.000000</td>\n",
       "      <td>0.000000</td>\n",
       "      <td>0.000000</td>\n",
       "      <td>1.000000</td>\n",
       "      <td>0.020000</td>\n",
       "      <td>0.000000</td>\n",
       "      <td>0.000000</td>\n",
       "      <td>0.000000</td>\n",
       "      <td>0.000000</td>\n",
       "      <td>1.000000</td>\n",
       "    </tr>\n",
       "    <tr>\n",
       "      <th>25%</th>\n",
       "      <td>2.000000</td>\n",
       "      <td>0.000000</td>\n",
       "      <td>4.000000</td>\n",
       "      <td>6.000000</td>\n",
       "      <td>0.000000</td>\n",
       "      <td>0.000000</td>\n",
       "      <td>1.000000</td>\n",
       "      <td>0.340000</td>\n",
       "      <td>0.480000</td>\n",
       "      <td>0.104500</td>\n",
       "      <td>1.000000</td>\n",
       "      <td>181.000000</td>\n",
       "      <td>40.000000</td>\n",
       "    </tr>\n",
       "    <tr>\n",
       "      <th>50%</th>\n",
       "      <td>3.000000</td>\n",
       "      <td>1.000000</td>\n",
       "      <td>7.000000</td>\n",
       "      <td>12.000000</td>\n",
       "      <td>0.000000</td>\n",
       "      <td>1.000000</td>\n",
       "      <td>1.000000</td>\n",
       "      <td>0.500000</td>\n",
       "      <td>0.630000</td>\n",
       "      <td>0.194000</td>\n",
       "      <td>3.000000</td>\n",
       "      <td>362.000000</td>\n",
       "      <td>142.000000</td>\n",
       "    </tr>\n",
       "    <tr>\n",
       "      <th>75%</th>\n",
       "      <td>3.000000</td>\n",
       "      <td>1.000000</td>\n",
       "      <td>10.000000</td>\n",
       "      <td>18.000000</td>\n",
       "      <td>0.000000</td>\n",
       "      <td>1.000000</td>\n",
       "      <td>2.000000</td>\n",
       "      <td>0.660000</td>\n",
       "      <td>0.780000</td>\n",
       "      <td>0.253700</td>\n",
       "      <td>5.000000</td>\n",
       "      <td>543.000000</td>\n",
       "      <td>281.000000</td>\n",
       "    </tr>\n",
       "    <tr>\n",
       "      <th>max</th>\n",
       "      <td>4.000000</td>\n",
       "      <td>1.000000</td>\n",
       "      <td>12.000000</td>\n",
       "      <td>23.000000</td>\n",
       "      <td>1.000000</td>\n",
       "      <td>1.000000</td>\n",
       "      <td>4.000000</td>\n",
       "      <td>1.000000</td>\n",
       "      <td>1.000000</td>\n",
       "      <td>0.850700</td>\n",
       "      <td>6.000000</td>\n",
       "      <td>724.000000</td>\n",
       "      <td>977.000000</td>\n",
       "    </tr>\n",
       "  </tbody>\n",
       "</table>\n",
       "</div>"
      ],
      "text/plain": [
       "             season            yr          mnth            hr       holiday  \\\n",
       "count  17379.000000  17379.000000  17379.000000  17379.000000  17379.000000   \n",
       "mean       2.501640      0.502561      6.537775     11.546752      0.028770   \n",
       "std        1.106918      0.500008      3.438776      6.914405      0.167165   \n",
       "min        1.000000      0.000000      1.000000      0.000000      0.000000   \n",
       "25%        2.000000      0.000000      4.000000      6.000000      0.000000   \n",
       "50%        3.000000      1.000000      7.000000     12.000000      0.000000   \n",
       "75%        3.000000      1.000000     10.000000     18.000000      0.000000   \n",
       "max        4.000000      1.000000     12.000000     23.000000      1.000000   \n",
       "\n",
       "         workingday    weathersit          temp           hum     windspeed  \\\n",
       "count  17379.000000  17379.000000  17379.000000  17379.000000  17379.000000   \n",
       "mean       0.682721      1.425283      0.496987      0.627229      0.190098   \n",
       "std        0.465431      0.639357      0.192556      0.192930      0.122340   \n",
       "min        0.000000      1.000000      0.020000      0.000000      0.000000   \n",
       "25%        0.000000      1.000000      0.340000      0.480000      0.104500   \n",
       "50%        1.000000      1.000000      0.500000      0.630000      0.194000   \n",
       "75%        1.000000      2.000000      0.660000      0.780000      0.253700   \n",
       "max        1.000000      4.000000      1.000000      1.000000      0.850700   \n",
       "\n",
       "          dayOfWeek          days        demand  \n",
       "count  17379.000000  17379.000000  17379.000000  \n",
       "mean       2.992577    361.562576    189.463088  \n",
       "std        1.997928    209.042828    181.387599  \n",
       "min        0.000000      0.000000      1.000000  \n",
       "25%        1.000000    181.000000     40.000000  \n",
       "50%        3.000000    362.000000    142.000000  \n",
       "75%        5.000000    543.000000    281.000000  \n",
       "max        6.000000    724.000000    977.000000  "
      ]
     },
     "execution_count": 10,
     "metadata": {},
     "output_type": "execute_result"
    }
   ],
   "source": [
    "# ['Sat' 'Sun' 'Mon' 'Tue' 'Wed' 'Thr' 'Fri'] -> [2 3 1 5 6 4 0]\n",
    "df[\"dayOfWeek\"] = df[\"dayOfWeek\"].astype(\"category\").cat.codes\n",
    "df.describe()"
   ]
  },
  {
   "cell_type": "markdown",
   "metadata": {
    "cell_id": "00008-e7e89612-7f83-48d5-861e-12c232ed62b7",
    "deepnote_cell_type": "markdown",
    "output_cleared": false
   },
   "source": [
    "## 2. Building models\n",
    "\n",
    "We use the class LinearRegression in **linreg.py ** created in the previous lab to build a model using gradient descent. \n",
    "\n",
    "### 2.1. Train and test sets\n",
    "\n",
    "As we have used train and test through the first lab, we decided to add the splitting operation in our **LinearRegression** class.\n",
    "\n",
    "To do so, we have corrected our `preprocessingData` function by adding from Scikit-Learn library, the train_test_split function:  \n",
    "`X_train, X_test, y_train, y_test = train_test_split(X, y, test_size=test_size, random_state=42)`\n",
    "\n",
    "### 2.2. Gradient descent\n",
    "\n",
    "With $\\alpha = 0.01$, we obtain the following results for our `train` and `test` sets:"
   ]
  },
  {
   "cell_type": "code",
   "execution_count": 11,
   "metadata": {
    "cell_id": "00009-b6d92b55-414b-4799-8613-2920bc0348df",
    "deepnote_cell_type": "code",
    "execution_millis": 5106,
    "execution_start": 1606859127016,
    "output_cleared": false,
    "source_hash": "39c8d029"
   },
   "outputs": [
    {
     "data": {
      "image/png": "[encoded data removed]",
      "text/plain": [
       "<Figure size 432x288 with 1 Axes>"
      ]
     },
     "metadata": {
      "needs_background": "light"
     },
     "output_type": "display_data"
    },
    {
     "name": "stdout",
     "output_type": "stream",
     "text": [
      "Gradient descent coefficients:\n",
      "[[ 27.43389817]\n",
      " [ 43.83444628]\n",
      " [ 64.36551259]\n",
      " [ 13.60325224]\n",
      " [137.16673552]\n",
      " [ -4.87068748]\n",
      " [  6.52130698]\n",
      " [-33.73262516]\n",
      " [106.7804526 ]\n",
      " [-67.68198006]\n",
      " [ 24.90593609]\n",
      " [  0.78937668]\n",
      " [ 38.94099136]]\n",
      "MAE: 113.32747297188442\n",
      "R2:\n",
      "Train: 0.32083882807538466\n",
      "Test: 0.3114911256467666\n"
     ]
    }
   ],
   "source": [
    "model_grad1 = LinearRegression(df)\n",
    "model_grad1.gradientDescent(alpha=0.01)\n",
    "model_grad1.plotCost()\n",
    "print(\"Gradient descent coefficients:\")\n",
    "print(model_grad1.w)\n",
    "\n",
    "print(\"MAE:\", model_grad1.MAE)\n",
    "print(\"R2:\")\n",
    "print(\"Train:\", model_grad1.R2)\n",
    "print(\"Test:\", model_grad1.test_R2)"
   ]
  },
  {
   "cell_type": "markdown",
   "metadata": {
    "cell_id": "00021-8c2b1096-d589-49b4-b7be-3dec333186c8",
    "deepnote_cell_type": "markdown",
    "output_cleared": false,
    "tags": []
   },
   "source": [
    "The convergence is very slow and the log of the cost function value is around 9.4.\n",
    "Looking at $R^2$ and $MAE$, we clearly see that our model does not fit the data very well. In fact, the quality of the \n",
    "fitting is only 32%. \n",
    "\n",
    "In order to obtain a better model, we can improve our **hyperparameters** by increasing $\\alpha$ and decreasing the $threshold$."
   ]
  },
  {
   "cell_type": "code",
   "execution_count": 12,
   "metadata": {
    "cell_id": "00010-1acc2f3a-6967-46cc-9b96-0975af0677a4",
    "deepnote_cell_type": "code",
    "execution_millis": 4413,
    "execution_start": 1606859132127,
    "output_cleared": false,
    "source_hash": "970c7229"
   },
   "outputs": [
    {
     "data": {
      "image/png": "[encoded data removed]",
      "text/plain": [
       "<Figure size 432x288 with 1 Axes>"
      ]
     },
     "metadata": {
      "needs_background": "light"
     },
     "output_type": "display_data"
    },
    {
     "name": "stdout",
     "output_type": "stream",
     "text": [
      "Gradient descent coefficients:\n",
      "[[  15.25614432]\n",
      " [  62.16363578]\n",
      " [  70.1350214 ]\n",
      " [ -10.19451843]\n",
      " [ 176.85420204]\n",
      " [ -27.4104932 ]\n",
      " [   4.30315651]\n",
      " [ -11.33107788]\n",
      " [ 273.63532282]\n",
      " [-198.095751  ]\n",
      " [  20.9882641 ]\n",
      " [  -3.36688933]\n",
      " [  24.98548201]]\n",
      "MAE: 106.66332152370752\n",
      "R2:\n",
      "Train: 0.38761758431685356\n",
      "Test: 0.3855197492585182\n"
     ]
    }
   ],
   "source": [
    "model_grad2 = LinearRegression(df)\n",
    "model_grad2.gradientDescent(alpha=0.5, threshold=1e-4)\n",
    "model_grad2.plotCost()\n",
    "print(\"Gradient descent coefficients:\")\n",
    "print(model_grad2.w)\n",
    "\n",
    "print(\"MAE:\", model_grad2.MAE)\n",
    "print(\"R2:\")\n",
    "print(\"Train:\", model_grad2.R2)\n",
    "print(\"Test:\", model_grad2.test_R2)"
   ]
  },
  {
   "cell_type": "markdown",
   "metadata": {
    "cell_id": "00023-11f35c0d-9330-42dd-bff8-92e87c4045d2",
    "deepnote_cell_type": "markdown",
    "output_cleared": false,
    "tags": []
   },
   "source": [
    "The convergence is better and the log of the cost function is around 9.2.  \n",
    "But $R^2$ and $MAE$ are still very bad: the quality of the fitting is only around 38%.\n",
    "\n",
    "### 2.3. Normal equation\n",
    "\n",
    "We can build a new model with the normal equation which should give better results."
   ]
  },
  {
   "cell_type": "code",
   "execution_count": 13,
   "metadata": {
    "cell_id": "00012-4bc4530f-2f94-4a95-8d09-660e557e739f",
    "deepnote_cell_type": "code",
    "execution_millis": 349,
    "execution_start": 1606859136548,
    "output_cleared": false,
    "source_hash": "39eaf04c"
   },
   "outputs": [
    {
     "name": "stdout",
     "output_type": "stream",
     "text": [
      "Normal equation coefficients:\n",
      "[[  16.82540449]\n",
      " [  62.01144869]\n",
      " [ 116.58965098]\n",
      " [  32.48776091]\n",
      " [ 176.96206809]\n",
      " [ -27.50480882]\n",
      " [   4.30596978]\n",
      " [ -11.2490898 ]\n",
      " [ 273.51027645]\n",
      " [-198.28934502]\n",
      " [  20.67036957]\n",
      " [  -3.39974329]\n",
      " [ -67.35622144]]\n",
      "MAE: 106.66142249364468\n",
      "R2:\n",
      "Train: 0.3876553087897192\n",
      "Test: 0.38567137931379636\n"
     ]
    }
   ],
   "source": [
    "model_norm = LinearRegression(df)\n",
    "model_norm.normalEquation()\n",
    "print(\"Normal equation coefficients:\")\n",
    "print(model_norm.w)\n",
    "\n",
    "print(\"MAE:\", model_norm.MAE)\n",
    "print(\"R2:\")\n",
    "print(\"Train:\", model_norm.R2)\n",
    "print(\"Test:\", model_norm.test_R2)"
   ]
  },
  {
   "cell_type": "markdown",
   "metadata": {
    "cell_id": "00013-d22d6248-6773-404e-b4a4-64228b9e89f5",
    "deepnote_cell_type": "markdown",
    "output_cleared": false
   },
   "source": [
    "The results for $R^2$ and $MAE$ are slightly better from the ones we obtain with our linear model.\n",
    "The difference between $MAE$ is infinitesimal, around 1e-3.  \n",
    "As we can see, the $R^2$ value for the test set is a little bit smaller than for the train set (0.385 < 0.387).\n",
    "This is nice because it means that we do not have a model that **overfits** the data.\n",
    "\n",
    "### 2.4. Scikit-Learn\n",
    "\n",
    "Using Scikit-Learn, we can once again build a linear model."
   ]
  },
  {
   "cell_type": "code",
   "execution_count": 14,
   "metadata": {
    "cell_id": "00014-d62675d0-0373-4381-81d7-1d6c2d2db70d",
    "deepnote_cell_type": "code",
    "execution_millis": 154,
    "execution_start": 1606859136895,
    "output_cleared": false,
    "scrolled": false,
    "source_hash": "26fa0b1"
   },
   "outputs": [
    {
     "name": "stdout",
     "output_type": "stream",
     "text": [
      "Scikit-learn\n",
      "[[  16.82540449]\n",
      " [  62.01144869]\n",
      " [ 116.58965098]\n",
      " [  32.48776091]\n",
      " [ 176.96206809]\n",
      " [ -27.50480882]\n",
      " [   4.30596978]\n",
      " [ -11.2490898 ]\n",
      " [ 273.51027645]\n",
      " [-198.28934502]\n",
      " [  20.67036957]\n",
      " [  -3.39974329]\n",
      " [ -67.35622144]]\n",
      "MAE: 106.6614224936571\n",
      "Train: 0.38765530878971943\n",
      "Test: 0.38567137931378104\n"
     ]
    }
   ],
   "source": [
    "print(\"Scikit-learn\")\n",
    "X = df.iloc[:, :-1]\n",
    "y = df.iloc[:, -1:]\n",
    "X_train, X_test, y_train, y_test = train_test_split(X, y, test_size=0.2, random_state=42)\n",
    "\n",
    "scaler = MinMaxScaler()\n",
    "X_train = scaler.fit_transform(X_train)\n",
    "X_test = scaler.transform(X_test)\n",
    "\n",
    "reg = linear_model.LinearRegression()\n",
    "reg.fit(X_train, y_train)\n",
    "s = np.insert(reg.coef_.T, 0, reg.intercept_)\n",
    "print(np.vstack(s))\n",
    "\n",
    "print(\"MAE:\", mean_absolute_error(y_train, reg.predict(X_train)))\n",
    "print(\"Train:\", r2_score(y_train, reg.predict(X_train)))\n",
    "print(\"Test:\", r2_score(y_test, reg.predict(X_test)))"
   ]
  },
  {
   "cell_type": "markdown",
   "metadata": {
    "cell_id": "00028-63f274e4-fcaf-483f-b1ff-e34d25fa3c7c",
    "deepnote_cell_type": "markdown",
    "output_cleared": false,
    "tags": []
   },
   "source": [
    "We obtain values for $R^2$ and $MAE$ very close to the previous models.  \n",
    "\n",
    "But for those three models, $R^2$ and $MAE$ are very bad respectively around 38% and 106. \n",
    "If we want to properly fit our data, we need to improve our models.  \n",
    "First, let's take a look at some data to see possible future improvements.\n",
    "\n",
    "## 3. Insights\n",
    "\n",
    "To clearly see the accuracy of our models, we can look at the difference between predicted and actual label values.\n",
    "\n",
    "We create a new dataframe with our predicted values."
   ]
  },
  {
   "cell_type": "code",
   "execution_count": 15,
   "metadata": {
    "cell_id": "00016-bfddad9b-8120-49b8-ad27-1300717de1de",
    "deepnote_cell_type": "code",
    "execution_millis": 89,
    "execution_start": 1606859137061,
    "output_cleared": false,
    "scrolled": true,
    "source_hash": "4ab99a9c"
   },
   "outputs": [],
   "source": [
    "df_pred = df.copy()\n",
    "df_pred[\"predicted\"] = model_norm.predict(df.iloc[:, :-1])"
   ]
  },
  {
   "cell_type": "markdown",
   "metadata": {
    "cell_id": "00032-7a12d043-be80-40ea-b33c-d0ed60756517",
    "deepnote_cell_type": "markdown",
    "output_cleared": false,
    "tags": []
   },
   "source": [
    "### 3.1. Grouping data by hour\n",
    "\n",
    "Let's compare the mean and standard deviation difference between real demand and our predicted values through time."
   ]
  },
  {
   "cell_type": "code",
   "execution_count": 16,
   "metadata": {
    "cell_id": "00017-971675e5-eace-400b-8675-ffc5803eb9e8",
    "deepnote_cell_type": "code",
    "execution_millis": 164,
    "execution_start": 1606859137153,
    "output_cleared": false,
    "source_hash": "b3bacbb5"
   },
   "outputs": [
    {
     "data": {
      "text/html": [
       "<div>\n",
       "<style scoped>\n",
       "    .dataframe tbody tr th:only-of-type {\n",
       "        vertical-align: middle;\n",
       "    }\n",
       "\n",
       "    .dataframe tbody tr th {\n",
       "        vertical-align: top;\n",
       "    }\n",
       "\n",
       "    .dataframe thead tr th {\n",
       "        text-align: left;\n",
       "    }\n",
       "\n",
       "    .dataframe thead tr:last-of-type th {\n",
       "        text-align: right;\n",
       "    }\n",
       "</style>\n",
       "<table border=\"1\" class=\"dataframe\">\n",
       "  <thead>\n",
       "    <tr>\n",
       "      <th></th>\n",
       "      <th colspan=\"2\" halign=\"left\">demand</th>\n",
       "      <th colspan=\"2\" halign=\"left\">predicted</th>\n",
       "    </tr>\n",
       "    <tr>\n",
       "      <th></th>\n",
       "      <th>mean</th>\n",
       "      <th>std</th>\n",
       "      <th>mean</th>\n",
       "      <th>std</th>\n",
       "    </tr>\n",
       "    <tr>\n",
       "      <th>hr</th>\n",
       "      <th></th>\n",
       "      <th></th>\n",
       "      <th></th>\n",
       "      <th></th>\n",
       "    </tr>\n",
       "  </thead>\n",
       "  <tbody>\n",
       "    <tr>\n",
       "      <th>0</th>\n",
       "      <td>53.898072</td>\n",
       "      <td>42.307910</td>\n",
       "      <td>79.939755</td>\n",
       "      <td>78.290049</td>\n",
       "    </tr>\n",
       "    <tr>\n",
       "      <th>1</th>\n",
       "      <td>33.375691</td>\n",
       "      <td>33.538727</td>\n",
       "      <td>82.622850</td>\n",
       "      <td>77.216068</td>\n",
       "    </tr>\n",
       "    <tr>\n",
       "      <th>2</th>\n",
       "      <td>22.869930</td>\n",
       "      <td>26.578642</td>\n",
       "      <td>87.040627</td>\n",
       "      <td>75.861173</td>\n",
       "    </tr>\n",
       "    <tr>\n",
       "      <th>3</th>\n",
       "      <td>11.727403</td>\n",
       "      <td>13.239190</td>\n",
       "      <td>92.407156</td>\n",
       "      <td>73.587678</td>\n",
       "    </tr>\n",
       "    <tr>\n",
       "      <th>4</th>\n",
       "      <td>6.352941</td>\n",
       "      <td>4.143818</td>\n",
       "      <td>96.692316</td>\n",
       "      <td>72.654095</td>\n",
       "    </tr>\n",
       "    <tr>\n",
       "      <th>5</th>\n",
       "      <td>19.889819</td>\n",
       "      <td>13.200765</td>\n",
       "      <td>99.691743</td>\n",
       "      <td>73.567485</td>\n",
       "    </tr>\n",
       "    <tr>\n",
       "      <th>6</th>\n",
       "      <td>76.044138</td>\n",
       "      <td>55.084348</td>\n",
       "      <td>105.382607</td>\n",
       "      <td>74.370436</td>\n",
       "    </tr>\n",
       "    <tr>\n",
       "      <th>7</th>\n",
       "      <td>212.064649</td>\n",
       "      <td>161.441936</td>\n",
       "      <td>117.418399</td>\n",
       "      <td>77.428100</td>\n",
       "    </tr>\n",
       "    <tr>\n",
       "      <th>8</th>\n",
       "      <td>359.011004</td>\n",
       "      <td>235.189285</td>\n",
       "      <td>135.500399</td>\n",
       "      <td>82.069483</td>\n",
       "    </tr>\n",
       "    <tr>\n",
       "      <th>9</th>\n",
       "      <td>219.309491</td>\n",
       "      <td>93.703458</td>\n",
       "      <td>157.708207</td>\n",
       "      <td>84.748934</td>\n",
       "    </tr>\n",
       "    <tr>\n",
       "      <th>10</th>\n",
       "      <td>173.668501</td>\n",
       "      <td>102.205413</td>\n",
       "      <td>181.450376</td>\n",
       "      <td>88.116591</td>\n",
       "    </tr>\n",
       "    <tr>\n",
       "      <th>11</th>\n",
       "      <td>208.143054</td>\n",
       "      <td>127.495536</td>\n",
       "      <td>204.318109</td>\n",
       "      <td>89.750415</td>\n",
       "    </tr>\n",
       "    <tr>\n",
       "      <th>12</th>\n",
       "      <td>253.315934</td>\n",
       "      <td>145.081134</td>\n",
       "      <td>223.872565</td>\n",
       "      <td>91.229614</td>\n",
       "    </tr>\n",
       "    <tr>\n",
       "      <th>13</th>\n",
       "      <td>253.661180</td>\n",
       "      <td>148.107657</td>\n",
       "      <td>240.901325</td>\n",
       "      <td>91.643298</td>\n",
       "    </tr>\n",
       "    <tr>\n",
       "      <th>14</th>\n",
       "      <td>240.949246</td>\n",
       "      <td>147.271574</td>\n",
       "      <td>254.678215</td>\n",
       "      <td>92.677621</td>\n",
       "    </tr>\n",
       "    <tr>\n",
       "      <th>15</th>\n",
       "      <td>251.233196</td>\n",
       "      <td>144.632541</td>\n",
       "      <td>264.413343</td>\n",
       "      <td>93.197498</td>\n",
       "    </tr>\n",
       "    <tr>\n",
       "      <th>16</th>\n",
       "      <td>311.983562</td>\n",
       "      <td>148.682618</td>\n",
       "      <td>270.408733</td>\n",
       "      <td>93.361278</td>\n",
       "    </tr>\n",
       "    <tr>\n",
       "      <th>17</th>\n",
       "      <td>461.452055</td>\n",
       "      <td>232.656611</td>\n",
       "      <td>271.567427</td>\n",
       "      <td>93.440580</td>\n",
       "    </tr>\n",
       "    <tr>\n",
       "      <th>18</th>\n",
       "      <td>425.510989</td>\n",
       "      <td>224.639304</td>\n",
       "      <td>270.979753</td>\n",
       "      <td>91.054272</td>\n",
       "    </tr>\n",
       "    <tr>\n",
       "      <th>19</th>\n",
       "      <td>311.523352</td>\n",
       "      <td>161.050359</td>\n",
       "      <td>266.449182</td>\n",
       "      <td>88.245691</td>\n",
       "    </tr>\n",
       "    <tr>\n",
       "      <th>20</th>\n",
       "      <td>226.030220</td>\n",
       "      <td>119.670164</td>\n",
       "      <td>263.686860</td>\n",
       "      <td>85.934677</td>\n",
       "    </tr>\n",
       "    <tr>\n",
       "      <th>21</th>\n",
       "      <td>172.314560</td>\n",
       "      <td>89.788893</td>\n",
       "      <td>261.375872</td>\n",
       "      <td>83.308579</td>\n",
       "    </tr>\n",
       "    <tr>\n",
       "      <th>22</th>\n",
       "      <td>131.335165</td>\n",
       "      <td>69.937782</td>\n",
       "      <td>261.590253</td>\n",
       "      <td>81.767488</td>\n",
       "    </tr>\n",
       "    <tr>\n",
       "      <th>23</th>\n",
       "      <td>87.831044</td>\n",
       "      <td>50.846889</td>\n",
       "      <td>262.258506</td>\n",
       "      <td>79.709445</td>\n",
       "    </tr>\n",
       "  </tbody>\n",
       "</table>\n",
       "</div>"
      ],
      "text/plain": [
       "        demand               predicted           \n",
       "          mean         std        mean        std\n",
       "hr                                               \n",
       "0    53.898072   42.307910   79.939755  78.290049\n",
       "1    33.375691   33.538727   82.622850  77.216068\n",
       "2    22.869930   26.578642   87.040627  75.861173\n",
       "3    11.727403   13.239190   92.407156  73.587678\n",
       "4     6.352941    4.143818   96.692316  72.654095\n",
       "5    19.889819   13.200765   99.691743  73.567485\n",
       "6    76.044138   55.084348  105.382607  74.370436\n",
       "7   212.064649  161.441936  117.418399  77.428100\n",
       "8   359.011004  235.189285  135.500399  82.069483\n",
       "9   219.309491   93.703458  157.708207  84.748934\n",
       "10  173.668501  102.205413  181.450376  88.116591\n",
       "11  208.143054  127.495536  204.318109  89.750415\n",
       "12  253.315934  145.081134  223.872565  91.229614\n",
       "13  253.661180  148.107657  240.901325  91.643298\n",
       "14  240.949246  147.271574  254.678215  92.677621\n",
       "15  251.233196  144.632541  264.413343  93.197498\n",
       "16  311.983562  148.682618  270.408733  93.361278\n",
       "17  461.452055  232.656611  271.567427  93.440580\n",
       "18  425.510989  224.639304  270.979753  91.054272\n",
       "19  311.523352  161.050359  266.449182  88.245691\n",
       "20  226.030220  119.670164  263.686860  85.934677\n",
       "21  172.314560   89.788893  261.375872  83.308579\n",
       "22  131.335165   69.937782  261.590253  81.767488\n",
       "23   87.831044   50.846889  262.258506  79.709445"
      ]
     },
     "execution_count": 16,
     "metadata": {},
     "output_type": "execute_result"
    }
   ],
   "source": [
    "df_pred.groupby(\"hr\").agg([\"mean\", \"std\"])[[\"demand\", \"predicted\"]]"
   ]
  },
  {
   "cell_type": "markdown",
   "metadata": {
    "cell_id": "00034-956ca5c5-0b6c-4b0c-842f-6b11d815bb62",
    "deepnote_cell_type": "markdown",
    "output_cleared": false,
    "tags": []
   },
   "source": [
    "We clearly see that for the predicted values, the mean and standard increase drastically through time and decrease a little bit around 19.  \n",
    "Whereas for the demand, values increase and decrease over time and it does not seem to be any linear relationship between data and time.  \n",
    "We can suppose that as there is only one column for all the hours, our model interpretes each hour number as a weight even if it is not the case. \n",
    "\n",
    "In order to improve the model, we could split them into different columns.\n",
    "\n",
    "### 3.2. Grouping data by season\n",
    "\n",
    "Let's compare the mean and standard deviation difference between real demand and our predicted values across seasons."
   ]
  },
  {
   "cell_type": "code",
   "execution_count": 17,
   "metadata": {
    "cell_id": "00018-9b47d458-f7a5-4ce2-bead-969d30822441",
    "deepnote_cell_type": "code",
    "execution_millis": 86,
    "execution_start": 1606859137321,
    "output_cleared": false,
    "source_hash": "b49ebb3d"
   },
   "outputs": [
    {
     "data": {
      "text/html": [
       "<div>\n",
       "<style scoped>\n",
       "    .dataframe tbody tr th:only-of-type {\n",
       "        vertical-align: middle;\n",
       "    }\n",
       "\n",
       "    .dataframe tbody tr th {\n",
       "        vertical-align: top;\n",
       "    }\n",
       "\n",
       "    .dataframe thead tr th {\n",
       "        text-align: left;\n",
       "    }\n",
       "\n",
       "    .dataframe thead tr:last-of-type th {\n",
       "        text-align: right;\n",
       "    }\n",
       "</style>\n",
       "<table border=\"1\" class=\"dataframe\">\n",
       "  <thead>\n",
       "    <tr>\n",
       "      <th></th>\n",
       "      <th colspan=\"2\" halign=\"left\">demand</th>\n",
       "      <th colspan=\"2\" halign=\"left\">predicted</th>\n",
       "    </tr>\n",
       "    <tr>\n",
       "      <th></th>\n",
       "      <th>mean</th>\n",
       "      <th>std</th>\n",
       "      <th>mean</th>\n",
       "      <th>std</th>\n",
       "    </tr>\n",
       "    <tr>\n",
       "      <th>season</th>\n",
       "      <th></th>\n",
       "      <th></th>\n",
       "      <th></th>\n",
       "      <th></th>\n",
       "    </tr>\n",
       "  </thead>\n",
       "  <tbody>\n",
       "    <tr>\n",
       "      <th>1</th>\n",
       "      <td>111.114569</td>\n",
       "      <td>119.224010</td>\n",
       "      <td>114.320369</td>\n",
       "      <td>98.687537</td>\n",
       "    </tr>\n",
       "    <tr>\n",
       "      <th>2</th>\n",
       "      <td>208.344069</td>\n",
       "      <td>188.362473</td>\n",
       "      <td>193.064142</td>\n",
       "      <td>107.683386</td>\n",
       "    </tr>\n",
       "    <tr>\n",
       "      <th>3</th>\n",
       "      <td>236.016237</td>\n",
       "      <td>197.711630</td>\n",
       "      <td>257.748707</td>\n",
       "      <td>101.115423</td>\n",
       "    </tr>\n",
       "    <tr>\n",
       "      <th>4</th>\n",
       "      <td>198.868856</td>\n",
       "      <td>182.967972</td>\n",
       "      <td>191.696585</td>\n",
       "      <td>95.805637</td>\n",
       "    </tr>\n",
       "  </tbody>\n",
       "</table>\n",
       "</div>"
      ],
      "text/plain": [
       "            demand               predicted            \n",
       "              mean         std        mean         std\n",
       "season                                                \n",
       "1       111.114569  119.224010  114.320369   98.687537\n",
       "2       208.344069  188.362473  193.064142  107.683386\n",
       "3       236.016237  197.711630  257.748707  101.115423\n",
       "4       198.868856  182.967972  191.696585   95.805637"
      ]
     },
     "execution_count": 17,
     "metadata": {},
     "output_type": "execute_result"
    }
   ],
   "source": [
    "df_pred.groupby(\"season\").agg([\"mean\", \"std\"])[[\"demand\", \"predicted\"]]"
   ]
  },
  {
   "cell_type": "markdown",
   "metadata": {
    "cell_id": "00036-8f384fba-7622-4c0c-a7df-3c362bbc2df0",
    "deepnote_cell_type": "markdown",
    "output_cleared": false,
    "tags": []
   },
   "source": [
    "The four seasons correspond to the following numbers: spring = 1, summer = 2, fall = 3, and winter = 4.  \n",
    "Our predicted values try to fit the demand, but we clearly see that we have some huge differences: for fall and winter, \n",
    "the predicted standard deviation is lower of 96 and 87 from the demand one.  \n",
    "The predicted mean of spring is the only one which is close to the demand and which corresponds to number 1.\n",
    "\n",
    "So we may suppose that once again, the model interprets the numerus of each season as a weight which\n",
    "explains why the mean of the predicted season increases with the season number associated.\n",
    "We could split them into different columns, in order to improve the model.\n",
    "\n",
    "### 3.3. Grouping data by holiday\n",
    "\n",
    "Let's compare the mean and standard deviation difference between real demand and our predicted values depending on holiday."
   ]
  },
  {
   "cell_type": "code",
   "execution_count": 18,
   "metadata": {
    "cell_id": "00019-b5b31de0-5d0c-4a36-8a35-72e6e91bb4ed",
    "deepnote_cell_type": "code",
    "execution_millis": 92,
    "execution_start": 1606859137457,
    "output_cleared": false,
    "source_hash": "a7ed6fd3"
   },
   "outputs": [
    {
     "data": {
      "text/html": [
       "<div>\n",
       "<style scoped>\n",
       "    .dataframe tbody tr th:only-of-type {\n",
       "        vertical-align: middle;\n",
       "    }\n",
       "\n",
       "    .dataframe tbody tr th {\n",
       "        vertical-align: top;\n",
       "    }\n",
       "\n",
       "    .dataframe thead tr th {\n",
       "        text-align: left;\n",
       "    }\n",
       "\n",
       "    .dataframe thead tr:last-of-type th {\n",
       "        text-align: right;\n",
       "    }\n",
       "</style>\n",
       "<table border=\"1\" class=\"dataframe\">\n",
       "  <thead>\n",
       "    <tr>\n",
       "      <th></th>\n",
       "      <th colspan=\"2\" halign=\"left\">demand</th>\n",
       "      <th colspan=\"2\" halign=\"left\">predicted</th>\n",
       "    </tr>\n",
       "    <tr>\n",
       "      <th></th>\n",
       "      <th>mean</th>\n",
       "      <th>std</th>\n",
       "      <th>mean</th>\n",
       "      <th>std</th>\n",
       "    </tr>\n",
       "    <tr>\n",
       "      <th>holiday</th>\n",
       "      <th></th>\n",
       "      <th></th>\n",
       "      <th></th>\n",
       "      <th></th>\n",
       "    </tr>\n",
       "  </thead>\n",
       "  <tbody>\n",
       "    <tr>\n",
       "      <th>0</th>\n",
       "      <td>190.42858</td>\n",
       "      <td>181.981435</td>\n",
       "      <td>191.257503</td>\n",
       "      <td>113.060898</td>\n",
       "    </tr>\n",
       "    <tr>\n",
       "      <th>1</th>\n",
       "      <td>156.87000</td>\n",
       "      <td>156.757478</td>\n",
       "      <td>156.059113</td>\n",
       "      <td>108.243821</td>\n",
       "    </tr>\n",
       "  </tbody>\n",
       "</table>\n",
       "</div>"
      ],
      "text/plain": [
       "            demand               predicted            \n",
       "              mean         std        mean         std\n",
       "holiday                                               \n",
       "0        190.42858  181.981435  191.257503  113.060898\n",
       "1        156.87000  156.757478  156.059113  108.243821"
      ]
     },
     "execution_count": 18,
     "metadata": {},
     "output_type": "execute_result"
    }
   ],
   "source": [
    "df_pred.groupby(\"holiday\").agg([\"mean\", \"std\"])[[\"demand\", \"predicted\"]]"
   ]
  },
  {
   "cell_type": "markdown",
   "metadata": {
    "cell_id": "00038-080d60d0-371c-43e6-8767-8f364f1835e9",
    "deepnote_cell_type": "markdown",
    "output_cleared": false,
    "tags": []
   },
   "source": [
    "The mean for the predicted values for both holiday and not holiday are very close to the real values, \n",
    "but we clearly see that the standard deviation of the predicted ones did not reached at all the demand.\n",
    "We can suppose that improving other features may have an impact on the holiday.\n",
    "\n",
    "### 3.4. Grouping data by weathersit\n",
    "\n",
    "Let's compare the mean and standard deviation difference between our demand and our predicted values depending on the weathersit."
   ]
  },
  {
   "cell_type": "code",
   "execution_count": 19,
   "metadata": {
    "cell_id": "00020-769b5f32-9697-47ba-ab26-fc8de3dbcac4",
    "deepnote_cell_type": "code",
    "execution_millis": 80,
    "execution_start": 1606859137549,
    "output_cleared": false,
    "scrolled": true,
    "source_hash": "cae997f7"
   },
   "outputs": [
    {
     "data": {
      "text/html": [
       "<div>\n",
       "<style scoped>\n",
       "    .dataframe tbody tr th:only-of-type {\n",
       "        vertical-align: middle;\n",
       "    }\n",
       "\n",
       "    .dataframe tbody tr th {\n",
       "        vertical-align: top;\n",
       "    }\n",
       "\n",
       "    .dataframe thead tr th {\n",
       "        text-align: left;\n",
       "    }\n",
       "\n",
       "    .dataframe thead tr:last-of-type th {\n",
       "        text-align: right;\n",
       "    }\n",
       "</style>\n",
       "<table border=\"1\" class=\"dataframe\">\n",
       "  <thead>\n",
       "    <tr>\n",
       "      <th></th>\n",
       "      <th colspan=\"2\" halign=\"left\">demand</th>\n",
       "      <th colspan=\"2\" halign=\"left\">predicted</th>\n",
       "    </tr>\n",
       "    <tr>\n",
       "      <th></th>\n",
       "      <th>mean</th>\n",
       "      <th>std</th>\n",
       "      <th>mean</th>\n",
       "      <th>std</th>\n",
       "    </tr>\n",
       "    <tr>\n",
       "      <th>weathersit</th>\n",
       "      <th></th>\n",
       "      <th></th>\n",
       "      <th></th>\n",
       "      <th></th>\n",
       "    </tr>\n",
       "  </thead>\n",
       "  <tbody>\n",
       "    <tr>\n",
       "      <th>1</th>\n",
       "      <td>204.869272</td>\n",
       "      <td>189.487773</td>\n",
       "      <td>208.150525</td>\n",
       "      <td>113.629854</td>\n",
       "    </tr>\n",
       "    <tr>\n",
       "      <th>2</th>\n",
       "      <td>175.165493</td>\n",
       "      <td>165.431589</td>\n",
       "      <td>163.507350</td>\n",
       "      <td>103.116244</td>\n",
       "    </tr>\n",
       "    <tr>\n",
       "      <th>3</th>\n",
       "      <td>111.579281</td>\n",
       "      <td>133.781045</td>\n",
       "      <td>132.195743</td>\n",
       "      <td>102.024324</td>\n",
       "    </tr>\n",
       "    <tr>\n",
       "      <th>4</th>\n",
       "      <td>74.333333</td>\n",
       "      <td>77.925178</td>\n",
       "      <td>26.612854</td>\n",
       "      <td>77.434211</td>\n",
       "    </tr>\n",
       "  </tbody>\n",
       "</table>\n",
       "</div>"
      ],
      "text/plain": [
       "                demand               predicted            \n",
       "                  mean         std        mean         std\n",
       "weathersit                                                \n",
       "1           204.869272  189.487773  208.150525  113.629854\n",
       "2           175.165493  165.431589  163.507350  103.116244\n",
       "3           111.579281  133.781045  132.195743  102.024324\n",
       "4            74.333333   77.925178   26.612854   77.434211"
      ]
     },
     "execution_count": 19,
     "metadata": {},
     "output_type": "execute_result"
    }
   ],
   "source": [
    "df_pred.groupby(\"weathersit\").agg([\"mean\", \"std\"])[[\"demand\", \"predicted\"]]"
   ]
  },
  {
   "cell_type": "markdown",
   "metadata": {
    "cell_id": "00040-f2cf1d9b-57a9-41e7-be7a-98e577e78b34",
    "deepnote_cell_type": "markdown",
    "output_cleared": false,
    "tags": []
   },
   "source": [
    "For the weather site, we have: clear = 1, cloudy = 2, light rain = 3 and heavy rain = 4.\n",
    "Some predicted values are close to the demand, such as the standard deviation of the rain or the mean of the clear weather. \n",
    "But, most of the time, standard deviation of the predicted values are under the standard deviation of the demand.\n",
    "\n",
    "So we may suppose that once again, the model interpretes the numerus of each weathersit as a weight.\n",
    "We could split them into different columns, in order to improve the model.\n",
    "\n",
    "## 4. Feature engineering\n",
    "\n",
    "We can improve our model, by doing feature engineering.  \n",
    "We copy the previous dataframe and create a new one, to perform feature engineering.\n",
    "\n",
    "### 4.1. Missing values \n",
    "\n",
    "As we have seen in the data processing part, there is no missing values in our dataset. \n",
    "\n",
    "### 4.2. Drop features \n",
    "\n",
    "Thanks to the data visualisation part, we were able to catch the importance of the different features on the label.  \n",
    "We drop the less significant predictor features below:\n",
    "\n",
    "* **days**  \n",
    "Days column was pointless as it was working as a counter for days. It was irrelevant for the demand.\n",
    "\n",
    "* **dayOfWeek**  \n",
    "The difference demand between days of the week is thin. So, we can drop the column as it does not \n",
    "influence the demand as much as other features such as the season.\n",
    "\n",
    "* **workingday**   \n",
    "Looking at the plot of working day, we noticed that the demand difference was less pronounced compare to the\n",
    "one of the holiday. "
   ]
  },
  {
   "cell_type": "code",
   "execution_count": 20,
   "metadata": {
    "cell_id": "00022-120fc53f-1e63-459e-b563-184d14799c85",
    "deepnote_cell_type": "code",
    "execution_millis": 1,
    "execution_start": 1606859137629,
    "output_cleared": false,
    "source_hash": "9a76fadf"
   },
   "outputs": [],
   "source": [
    "df_cleaned = df.copy()\n",
    "df_cleaned.drop(\"days\", axis=1, inplace=True)\n",
    "df_cleaned.drop(\"dayOfWeek\", axis=1, inplace=True)\n",
    "df_cleaned.drop(\"workingday\", axis=1, inplace=True)"
   ]
  },
  {
   "cell_type": "markdown",
   "metadata": {
    "cell_id": "00041-a7f6bb41-7d5c-4dac-bd94-0b2c6b412b9e",
    "deepnote_cell_type": "markdown",
    "output_cleared": false,
    "tags": []
   },
   "source": [
    "### 4.3. Categorical features \n",
    "\n",
    "As we have seen in the insight part, some columns represent categories of data such as season or hour and we can \n",
    "split them in order to improve our model.  \n",
    "Indeed, keeping them as they are introduces a relation of order (for example spring < summer < fall < winter) that is not correct here.\n",
    "\n",
    "#### 4.3.1. Dummy features \n",
    "\n",
    "We didn't have to dummy binary features such as holiday, we only dummy features with more than 2 categories: \n",
    "\n",
    "* **hours column**  \n",
    "We can split the hours column in 24 subcolumns:"
   ]
  },
  {
   "cell_type": "code",
   "execution_count": 21,
   "metadata": {
    "cell_id": "00042-ac40da76-21a0-47d8-a2e8-06236147236f",
    "deepnote_cell_type": "code",
    "execution_millis": 0,
    "execution_start": 1606859137630,
    "output_cleared": false,
    "source_hash": "5968dbec",
    "tags": []
   },
   "outputs": [],
   "source": [
    "hours = pd.get_dummies(df_cleaned[\"hr\"])\n",
    "index = df_cleaned.columns.get_loc(\"hr\")\n",
    "df_cleaned.drop(\"hr\", axis=1, inplace=True)\n",
    "\n",
    "for i in range(hours.shape[1]):\n",
    "    df_cleaned.insert(index + i, \"hr.{}\".format(i), hours[i])"
   ]
  },
  {
   "cell_type": "markdown",
   "metadata": {
    "cell_id": "00042-13f90c50-ac33-4ace-8eaf-d5954ea5f265",
    "deepnote_cell_type": "markdown",
    "output_cleared": false,
    "tags": []
   },
   "source": [
    "* **months column**  \n",
    "We can split the months column in 12 subcolumns:"
   ]
  },
  {
   "cell_type": "code",
   "execution_count": 22,
   "metadata": {
    "cell_id": "00023-1b8ef8a7-484e-4d7e-be2c-3af485e78e01",
    "deepnote_cell_type": "code",
    "execution_millis": 46,
    "execution_start": 1606859137631,
    "output_cleared": false,
    "source_hash": "98e6a5a9"
   },
   "outputs": [],
   "source": [
    "months = pd.get_dummies(df_cleaned[\"mnth\"])\n",
    "index = df_cleaned.columns.get_loc(\"mnth\")\n",
    "df_cleaned.drop(\"mnth\", axis=1, inplace=True)\n",
    "list_month = [\"jan\", \"feb\", \"mar\", \"apr\",\" may\", \"jun\", \"jul\", \"aug\", \"sep\", \"oct\", \"nov\", \"dec\"]\n",
    "\n",
    "for i in range(months.shape[1]):\n",
    "    df_cleaned.insert(index + i, list_month[i], months[i + 1])"
   ]
  },
  {
   "cell_type": "markdown",
   "metadata": {
    "cell_id": "00045-edcfb60d-fc8b-4102-b677-88a8a2e51b44",
    "deepnote_cell_type": "markdown",
    "output_cleared": false,
    "tags": []
   },
   "source": [
    "* **season column**  \n",
    "We can split the season column in 4 subcolumns:"
   ]
  },
  {
   "cell_type": "code",
   "execution_count": 23,
   "metadata": {
    "cell_id": "00047-f0bb5613-4d65-4280-b45b-821d079c9dde",
    "deepnote_cell_type": "code",
    "execution_millis": 0,
    "execution_start": 1606859137678,
    "output_cleared": false,
    "source_hash": "1e6a262b",
    "tags": []
   },
   "outputs": [],
   "source": [
    "seasons = pd.get_dummies(df_cleaned[\"season\"])\n",
    "index = df_cleaned.columns.get_loc(\"season\")\n",
    "df_cleaned.drop(\"season\", axis=1, inplace=True)\n",
    "df_cleaned.insert(index, \"spring\", seasons[1])\n",
    "df_cleaned.insert(index + 1, \"summer\", seasons[2])\n",
    "df_cleaned.insert(index + 2, \"fall\", seasons[3])\n",
    "df_cleaned.insert(index + 3, \"winter\", seasons[4])"
   ]
  },
  {
   "cell_type": "markdown",
   "metadata": {
    "cell_id": "00048-20c3113f-78a5-49af-8b37-701b749d34bc",
    "deepnote_cell_type": "markdown",
    "output_cleared": false,
    "tags": []
   },
   "source": [
    "* **weathersit column**  \n",
    "We can split the weathersit column in 4 subcolumns:"
   ]
  },
  {
   "cell_type": "code",
   "execution_count": 24,
   "metadata": {
    "cell_id": "00029-4dd35c38-e1d3-4187-81b6-04f24da2138c",
    "deepnote_cell_type": "code",
    "execution_millis": 1,
    "execution_start": 1606859137678,
    "output_cleared": false,
    "source_hash": "1be1458f",
    "tags": []
   },
   "outputs": [],
   "source": [
    "weathers = pd.get_dummies(df_cleaned[\"weathersit\"])\n",
    "index = df_cleaned.columns.get_loc(\"weathersit\")\n",
    "df_cleaned.drop(\"weathersit\", axis=1, inplace=True)\n",
    "list_weathers = [\"clear\", \"cloudy\", \"light.rain\", \"heavy.rain\"]\n",
    "\n",
    "for i in range(weathers.shape[1]):\n",
    "    df_cleaned.insert(index + i, list_weathers[i], weathers[i + 1])"
   ]
  },
  {
   "cell_type": "markdown",
   "metadata": {
    "cell_id": "00053-6e2e3717-b02a-4af3-91dd-2551001e534f",
    "deepnote_cell_type": "markdown",
    "output_cleared": false,
    "tags": []
   },
   "source": [
    "\n",
    "### 4.4. Numerical/continuous features \n",
    "\n",
    "For numerical features, we firstly wanted to split each feature column in 3 subcolumns depending on the quantiles.\n",
    "But, after observation of this technic on humidity, windspeed and temperature, we noticed that it gave us a loss\n",
    "of information and had badly influenced $R^2$.\n",
    "\n",
    "\n",
    "### 4.5. Model with the modified features\n",
    "\n",
    "Doing feature engineering, we obtain the following columns:"
   ]
  },
  {
   "cell_type": "code",
   "execution_count": 25,
   "metadata": {
    "cell_id": "00026-e5debd65-7b2d-4c35-9099-b80dd1ee7634",
    "deepnote_cell_type": "code",
    "execution_millis": 6,
    "execution_start": 1606859137681,
    "output_cleared": false,
    "source_hash": "3c298a8a"
   },
   "outputs": [
    {
     "data": {
      "text/plain": [
       "Index(['spring', 'summer', 'fall', 'winter', 'yr', 'jan', 'feb', 'mar', 'apr',\n",
       "       ' may', 'jun', 'jul', 'aug', 'sep', 'oct', 'nov', 'dec', 'hr.0', 'hr.1',\n",
       "       'hr.2', 'hr.3', 'hr.4', 'hr.5', 'hr.6', 'hr.7', 'hr.8', 'hr.9', 'hr.10',\n",
       "       'hr.11', 'hr.12', 'hr.13', 'hr.14', 'hr.15', 'hr.16', 'hr.17', 'hr.18',\n",
       "       'hr.19', 'hr.20', 'hr.21', 'hr.22', 'hr.23', 'holiday', 'clear',\n",
       "       'cloudy', 'light.rain', 'heavy.rain', 'temp', 'hum', 'windspeed',\n",
       "       'demand'],\n",
       "      dtype='object')"
      ]
     },
     "execution_count": 25,
     "metadata": {},
     "output_type": "execute_result"
    }
   ],
   "source": [
    "df_cleaned.columns"
   ]
  },
  {
   "cell_type": "markdown",
   "metadata": {
    "cell_id": "00049-df4c859d-a3a1-4f16-9221-ed49dd9c6a53",
    "deepnote_cell_type": "markdown",
    "output_cleared": false,
    "tags": []
   },
   "source": [
    "We can now build a new model on df_cleaned dataframe, using our gradient descent function:"
   ]
  },
  {
   "cell_type": "code",
   "execution_count": 26,
   "metadata": {
    "cell_id": "00027-0917d791-ddf6-4e41-8e10-132a56e22203",
    "deepnote_cell_type": "code",
    "execution_millis": 13962,
    "execution_start": 1606859137691,
    "output_cleared": false,
    "source_hash": "55d299da"
   },
   "outputs": [
    {
     "data": {
      "image/png": "[encoded data removed]",
      "text/plain": [
       "<Figure size 432x288 with 1 Axes>"
      ]
     },
     "metadata": {
      "needs_background": "light"
     },
     "output_type": "display_data"
    },
    {
     "name": "stdout",
     "output_type": "stream",
     "text": [
      "MAE:\n",
      "75.61891123531998\n",
      "R2:\n",
      "Train: 0.6860157429793772\n",
      "Test: 0.6801797492699438\n"
     ]
    }
   ],
   "source": [
    "model_grad2 = LinearRegression(df_cleaned)\n",
    "model_grad2.gradientDescent(alpha=0.5, threshold=1e-4)\n",
    "model_grad2.plotCost()\n",
    "\n",
    "print(\"MAE:\")\n",
    "print(model_grad2.MAE)\n",
    "\n",
    "print(\"R2:\")\n",
    "print(\"Train:\", model_grad2.R2)\n",
    "print(\"Test:\", model_grad2.test_R2)"
   ]
  },
  {
   "cell_type": "markdown",
   "metadata": {
    "cell_id": "00057-35922e25-66b8-4dc4-8bff-661df25efd42",
    "deepnote_cell_type": "markdown",
    "output_cleared": false,
    "tags": []
   },
   "source": [
    "Our $MAE$ and $R^2$ are twice better thanks to feature engineering.  \n",
    "However the $R^2$ is still not very good (0.68), that is why we are going to test other models in the next part.\n",
    "\n",
    "We can compare the real demand to the predicted one."
   ]
  },
  {
   "cell_type": "code",
   "execution_count": 27,
   "metadata": {
    "cell_id": "00057-438babf1-e113-4d78-8851-396d7c26567e",
    "deepnote_cell_type": "code",
    "execution_millis": 224,
    "execution_start": 1606859151653,
    "output_cleared": false,
    "source_hash": "66137b88",
    "tags": []
   },
   "outputs": [
    {
     "name": "stdout",
     "output_type": "stream",
     "text": [
      "- Prediction for hour 1 with feature engineering\n",
      "         demand  predicted\n",
      "mean  33.375691  34.096046\n",
      "std   33.538727  73.719459\n",
      "\n",
      "- Prediction for fall with feature engineering\n",
      "          demand   predicted\n",
      "mean  236.016237  237.189056\n",
      "std   197.711630  142.512668\n"
     ]
    }
   ],
   "source": [
    "df_pred2 = df_cleaned.copy()\n",
    "df_pred2[\"predicted\"] = model_grad2.predict(df_cleaned.iloc[:, :-1])\n",
    "\n",
    "print(\"- Prediction for hour 1 with feature engineering\")\n",
    "print(df_pred2[df_pred2['hr.1'] == 1].agg([\"mean\", \"std\"])[[\"demand\", \"predicted\"]])\n",
    "\n",
    "print(\"\\n- Prediction for fall with feature engineering\")\n",
    "print(df_pred2[df_pred2['fall'] == 1].agg([\"mean\", \"std\"])[[\"demand\", \"predicted\"]])"
   ]
  },
  {
   "cell_type": "markdown",
   "metadata": {
    "cell_id": "00058-ecb49cf6-0acc-4526-8f71-3631826ecf88",
    "deepnote_cell_type": "markdown",
    "output_cleared": false,
    "tags": []
   },
   "source": [
    "Compared to the previous prediction, we are closer to the demand, but we still have important differences as\n",
    "we can see with standard deviation of fall and hour 1.  \n",
    "In order to better fit our data, we can try other models.\n",
    "\n",
    "## 5. Other models\n",
    "\n",
    "Using Scikit-Learn library, we can build GradientBoostingRegressor and RandomForest models to better fit our data.\n",
    "\n",
    "### 5.1. Gradient Boosting Regressor\n",
    "\n",
    "The Gradient Boosting Regressor is different from the linear regression even if it uses gradient descent to\n",
    "minimize the lost.  \n",
    "It consists of combining multiple models into a single one: it adds new models to the huge one, which gives \n",
    "a stronger predictor.\n",
    "In fact, it uses the concept of decision trees as each node represents an attribute and each leaf node represents a label."
   ]
  },
  {
   "cell_type": "code",
   "execution_count": 28,
   "metadata": {
    "cell_id": "00055-dbc678ff-44c9-43bb-95d5-0a51b23b5364",
    "deepnote_cell_type": "code",
    "execution_millis": 1798,
    "execution_start": 1606859151882,
    "output_cleared": false,
    "source_hash": "95a60d26",
    "tags": []
   },
   "outputs": [
    {
     "name": "stderr",
     "output_type": "stream",
     "text": [
      "c:\\python\\lib\\site-packages\\sklearn\\utils\\validation.py:72: DataConversionWarning: A column-vector y was passed when a 1d array was expected. Please change the shape of y to (n_samples, ), for example using ravel().\n",
      "  return f(**kwargs)\n"
     ]
    },
    {
     "name": "stdout",
     "output_type": "stream",
     "text": [
      "Mean Absolute Error: 45.94885124235284\n",
      "R2:\n",
      "Train: 0.8656024842527666\n",
      "Test: 0.8685019033559096\n"
     ]
    }
   ],
   "source": [
    "gbr = GradientBoostingRegressor(random_state=0)\n",
    "gbr.fit(X_train, y_train)\n",
    "\n",
    "print('Mean Absolute Error:', mean_absolute_error(y_train, gbr.predict(X_train)))\n",
    "print(\"R2:\")\n",
    "print(\"Train:\", r2_score(y_train, gbr.predict(X_train)))\n",
    "print(\"Test:\", r2_score(y_test, gbr.predict(X_test)))"
   ]
  },
  {
   "cell_type": "markdown",
   "metadata": {
    "cell_id": "00056-2cab78f6-df61-4848-82c1-7427953ff596",
    "deepnote_cell_type": "markdown",
    "output_cleared": false,
    "tags": []
   },
   "source": [
    "Using Gradient Boosting Regressor, we obtain 0.86 for $R^2$ and 45.9 for $MAE$. It is much better than the linear regression.  \n",
    "\n",
    "Let's take a look at the predictions:"
   ]
  },
  {
   "cell_type": "code",
   "execution_count": 29,
   "metadata": {
    "cell_id": "00056-31c36fba-0374-4a02-abc4-323c1efc092a",
    "deepnote_cell_type": "code",
    "execution_millis": 64,
    "execution_start": 1606859153700,
    "output_cleared": false,
    "source_hash": "8615fd74",
    "tags": []
   },
   "outputs": [
    {
     "name": "stdout",
     "output_type": "stream",
     "text": [
      "- Prediction for hour 1 with gradient boosting regressor\n",
      "         demand  predicted\n",
      "mean  33.375691  32.524649\n",
      "std   33.538727  19.317482\n",
      "\n",
      "- Prediction for fall with gradient boosting regressor\n",
      "          demand   predicted\n",
      "mean  236.016237  237.341575\n",
      "std   197.711630  166.213355\n"
     ]
    }
   ],
   "source": [
    "df_pred3 = df.copy()\n",
    "df_pred3[\"predicted\"] = gbr.predict(scaler.transform(df.iloc[:, :-1]))\n",
    "\n",
    "print(\"- Prediction for hour 1 with gradient boosting regressor\")\n",
    "print(df_pred3[df_pred3['hr'] == 1].agg([\"mean\", \"std\"])[[\"demand\", \"predicted\"]])\n",
    "\n",
    "print(\"\\n- Prediction for fall with gradient boosting regressor\")\n",
    "print(df_pred3[df_pred3['season'] == 3].agg([\"mean\", \"std\"])[[\"demand\", \"predicted\"]])"
   ]
  },
  {
   "cell_type": "markdown",
   "metadata": {
    "cell_id": "00056-03ef86fa-33b2-452f-99e7-51027373e89c",
    "deepnote_cell_type": "markdown",
    "output_cleared": false,
    "tags": []
   },
   "source": [
    "The predicted results are closer to the demand, but we still see some aberation such as the standard deviation\n",
    "of the predicted fall and hour 1. As we have $MAE$ of 45.9, we still have important difference.  \n",
    "So an $R^2$ value of 0.86 is still not sufficient to correctly fit our data.\n",
    "\n",
    "### 5.2. Random forest \n",
    "\n",
    "Random forest is made of multiple decision trees, each of them produces its own prediction and the Random forest \n",
    "combines their predictions to produce a more accurate prediction. \n"
   ]
  },
  {
   "cell_type": "code",
   "execution_count": 30,
   "metadata": {
    "cell_id": "00059-2459f4aa-ad3b-4d7d-955d-e8b3639fd5e5",
    "deepnote_cell_type": "code",
    "execution_millis": 751,
    "execution_start": 1606859153770,
    "output_cleared": false,
    "source_hash": "6030ecb8",
    "tags": []
   },
   "outputs": [
    {
     "name": "stderr",
     "output_type": "stream",
     "text": [
      "<ipython-input-30-1cb661d5bce2>:2: DataConversionWarning: A column-vector y was passed when a 1d array was expected. Please change the shape of y to (n_samples,), for example using ravel().\n",
      "  regressor.fit(X_train, y_train)\n"
     ]
    },
    {
     "name": "stdout",
     "output_type": "stream",
     "text": [
      "Mean Absolute Error: 10.628900237358843\n",
      "R2:\n",
      "Train: 0.9892134371645537\n",
      "Test: 0.941373517700752\n"
     ]
    }
   ],
   "source": [
    "regressor = RandomForestRegressor(n_estimators=10, random_state=42)\n",
    "regressor.fit(X_train, y_train)\n",
    "\n",
    "print('Mean Absolute Error:', mean_absolute_error(y_train, regressor.predict(X_train)))\n",
    "print(\"R2:\")\n",
    "print(\"Train:\", r2_score(y_train, regressor.predict(X_train)))\n",
    "print(\"Test:\", r2_score(y_test, regressor.predict(X_test)))"
   ]
  },
  {
   "cell_type": "markdown",
   "metadata": {
    "cell_id": "00060-6d8f492e-2419-44be-bb33-b32d34d74f90",
    "deepnote_cell_type": "markdown",
    "output_cleared": false,
    "tags": []
   },
   "source": [
    "Using Random forest, we obtain a $R^2$ value of 0.98 for the train set and 0.94 for the test set.\n",
    "It is much better than the linear regression and gradient boosting regressor.  \n",
    "Moreover, we only have a $MAE$ of 10. \n",
    "\n",
    "Let's take a look at the predictions:"
   ]
  },
  {
   "cell_type": "code",
   "execution_count": 31,
   "metadata": {
    "cell_id": "00060-95e6dff7-3550-4264-95c6-cd62d961a818",
    "deepnote_cell_type": "code",
    "execution_millis": 89,
    "execution_start": 1606859154525,
    "output_cleared": false,
    "source_hash": "842f047a",
    "tags": []
   },
   "outputs": [
    {
     "name": "stdout",
     "output_type": "stream",
     "text": [
      "- Prediction for hour 1 with random forest\n",
      "         demand  predicted\n",
      "mean  33.375691  33.656630\n",
      "std   33.538727  32.033695\n",
      "\n",
      "- Prediction for fall with random forest\n",
      "          demand   predicted\n",
      "mean  236.016237  236.825378\n",
      "std   197.711630  195.036559\n"
     ]
    }
   ],
   "source": [
    "df_pred4 = df.copy()\n",
    "df_pred4[\"predicted\"] = regressor.predict(scaler.transform(df.iloc[:, :-1]))\n",
    "\n",
    "print(\"- Prediction for hour 1 with random forest\")\n",
    "print(df_pred4[df_pred4['hr'] == 1].agg([\"mean\", \"std\"])[[\"demand\", \"predicted\"]])\n",
    "\n",
    "print(\"\\n- Prediction for fall with random forest\")\n",
    "print(df_pred4[df_pred4['season'] == 3].agg([\"mean\", \"std\"])[[\"demand\", \"predicted\"]])"
   ]
  },
  {
   "cell_type": "markdown",
   "metadata": {
    "cell_id": "00055-69a9c2af-b681-4276-9c80-be3d3068ac7b",
    "deepnote_cell_type": "markdown",
    "output_cleared": false,
    "tags": []
   },
   "source": [
    "Our predictions are similar to the demand as we have a small $MAE$ and an important $R^2$.\n",
    "So now, we can predict the demand of bike rental depending on several parameters. \n",
    "\n",
    "## Conclusion\n",
    "\n",
    "This second lab gave us the opportunity to manipulate huge amount of data, perform feature engineering and build several models.  \n",
    "Thanks to this second approach on linear regression and the opening on other models, we clearly see that to find the\n",
    "correct model, we need to assimilate the data and project the utility of the different features on the label.    \n",
    "With the last part on other models, we learnt that seeing linear pattern between some of our features and our label \n",
    "and doing many feature engineering does not ensure that a linear model will fit our data and be the most appropriate model.  \n",
    "We have to try several models to find the best one which fits our data."
   ]
  }
 ],
 "metadata": {
  "deepnote_execution_queue": [],
  "deepnote_notebook_id": "847b60aa-c15f-4437-b43c-7e1228cae544",
  "kernelspec": {
   "display_name": "Python 3",
   "language": "python",
   "name": "python3"
  },
  "language_info": {
   "codemirror_mode": {
    "name": "ipython",
    "version": 3
   },
   "file_extension": ".py",
   "mimetype": "text/x-python",
   "name": "python",
   "nbconvert_exporter": "python",
   "pygments_lexer": "ipython3",
   "version": "3.8.6"
  }
 },
 "nbformat": 4,
 "nbformat_minor": 4
}
