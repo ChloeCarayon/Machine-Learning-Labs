{
 "cells": [
  {
   "cell_type": "markdown",
   "metadata": {
    "cell_id": "00001-1ede7047-fe77-46fc-b8a1-dccdf78baf21",
    "deepnote_cell_type": "markdown",
    "output_cleared": false,
    "tags": []
   },
   "source": [
    "**Authors**: Carayon Chloé - Taillieu Victor\n",
    "\n",
    "**Date**: 07/01/2021\n",
    "\n",
    "---\n",
    "# LAB4 Machine Learning: Neural Network\n",
    "---\n",
    "\n",
    "## Introduction\n",
    "\n",
    "In this last lab, we have to implement from scratch an image classifier using a feed-forward neural network (FFNN),\n",
    "optimize it and then compare results by increasing the number of layers.\n",
    "\n",
    "We firstly import the libraries needed for the lab."
   ]
  },
  {
   "cell_type": "code",
   "execution_count": 1,
   "metadata": {
    "cell_id": "00001-1a1455af-0013-4699-9a5a-d2fdf442f231",
    "deepnote_cell_type": "code",
    "deepnote_to_be_reexecuted": false,
    "execution_millis": 5222,
    "execution_start": 1610012122497,
    "output_cleared": false,
    "source_hash": "4ecef206",
    "tags": []
   },
   "outputs": [],
   "source": [
    "import pandas as pd\n",
    "import numpy as np\n",
    "import matplotlib.pyplot as plt\n",
    "from sklearn.model_selection import train_test_split\n",
    "from sklearn.metrics import confusion_matrix\n",
    "from keras.models import Sequential\n",
    "from keras.layers import Dense"
   ]
  },
  {
   "cell_type": "markdown",
   "metadata": {
    "cell_id": "00002-b51d411b-0d0f-4e0a-8ee0-104894ca5fbf",
    "deepnote_cell_type": "markdown",
    "tags": []
   },
   "source": [
    "## 1. Exploration of dataset\n",
    "\n",
    "This dataset is composed of features stored in features.txt and associated labels stored in labels.txt. We modify the label values and replace the 10 by 0.\n",
    "\n",
    "The features represent images and associated labels which are between 0 and 9.\n",
    "We can see their representation by plotting the features below."
   ]
  },
  {
   "cell_type": "code",
   "execution_count": 2,
   "metadata": {
    "cell_id": "00002-b05841e0-5f60-493d-b8d5-9409183fdf47",
    "deepnote_cell_type": "code",
    "deepnote_to_be_reexecuted": false,
    "execution_millis": 885,
    "execution_start": 1610012127763,
    "source_hash": "b57331a1",
    "tags": []
   },
   "outputs": [
    {
     "data": {
      "image/png": "[encoded data removed]",
      "text/plain": [
       "<Figure size 504x504 with 9 Axes>"
      ]
     },
     "metadata": {
      "needs_background": "light"
     },
     "output_type": "display_data"
    }
   ],
   "source": [
    "features = pd.read_csv(\"data/features.txt\", header=None)\n",
    "labels = pd.read_csv(\"data/labels.txt\", header=None).replace(10, 0)\n",
    "\n",
    "np.random.seed(1)\n",
    "plt.figure(figsize=(7, 7))\n",
    "\n",
    "for i in range(9):\n",
    "    plt.subplot(331 + i)\n",
    "    plt.imshow(features.iloc[np.random.randint(0, 5000)].values.reshape(20, 20, order=\"F\"), cmap=\"gray\")\n",
    "\n",
    "plt.show()"
   ]
  },
  {
   "cell_type": "markdown",
   "metadata": {
    "cell_id": "00004-632e9df0-c3af-418a-a7d5-31353160a875",
    "deepnote_cell_type": "markdown",
    "tags": []
   },
   "source": [
    "We have an equally repartition of the label class values which will allow us to obtain better results for the image classifier."
   ]
  },
  {
   "cell_type": "code",
   "execution_count": 247,
   "metadata": {
    "cell_id": "00004-3011c303-60db-484d-8071-3ca68031ebc9",
    "deepnote_cell_type": "code",
    "deepnote_to_be_reexecuted": false,
    "execution_millis": 19,
    "execution_start": 1610035700308,
    "source_hash": "58161965",
    "tags": []
   },
   "outputs": [
    {
     "data": {
      "text/plain": [
       "7    500\n",
       "3    500\n",
       "6    500\n",
       "2    500\n",
       "9    500\n",
       "5    500\n",
       "1    500\n",
       "8    500\n",
       "4    500\n",
       "0    500\n",
       "Name: 0, dtype: int64"
      ]
     },
     "execution_count": 247,
     "metadata": {},
     "output_type": "execute_result"
    }
   ],
   "source": [
    "labels[0].value_counts()"
   ]
  },
  {
   "cell_type": "markdown",
   "metadata": {
    "cell_id": "00004-8e7910b0-a864-4aea-ada7-bf1cd5b6a4b7",
    "deepnote_cell_type": "markdown",
    "tags": []
   },
   "source": [
    "We decided to merge in a unique dataset the features and the labels."
   ]
  },
  {
   "cell_type": "code",
   "execution_count": 3,
   "metadata": {
    "cell_id": "00003-d3df454f-321d-4eed-beb6-8b8451fcb5b7",
    "deepnote_cell_type": "code",
    "deepnote_to_be_reexecuted": false,
    "execution_millis": 196,
    "execution_start": 1610012128651,
    "source_hash": "39d24a9e",
    "tags": []
   },
   "outputs": [
    {
     "data": {
      "application/vnd.deepnote.dataframe.v2+json": {
       "column_count": 401,
       "columns": [
        {
         "dtype": "int64",
         "name": 0,
         "stats": {
          "histogram": [
           {
            "bin_end": -0.4,
            "bin_start": -0.5,
            "count": 0
           },
           {
            "bin_end": -0.3,
            "bin_start": -0.4,
            "count": 0
           },
           {
            "bin_end": -0.19999999999999996,
            "bin_start": -0.3,
            "count": 0
           },
           {
            "bin_end": -0.09999999999999998,
            "bin_start": -0.19999999999999996,
            "count": 0
           },
           {
            "bin_end": 0,
            "bin_start": -0.09999999999999998,
            "count": 0
           },
           {
            "bin_end": 0.10000000000000009,
            "bin_start": 0,
            "count": 5000
           },
           {
            "bin_end": 0.20000000000000007,
            "bin_start": 0.10000000000000009,
            "count": 0
           },
           {
            "bin_end": 0.30000000000000004,
            "bin_start": 0.20000000000000007,
            "count": 0
           },
           {
            "bin_end": 0.4,
            "bin_start": 0.30000000000000004,
            "count": 0
           },
           {
            "bin_end": 0.5,
            "bin_start": 0.4,
            "count": 0
           }
          ],
          "max": 0,
          "min": 0,
          "nan_count": 0,
          "unique_count": 1
         }
        },
        {
         "dtype": "int64",
         "name": 1,
         "stats": {
          "histogram": [
           {
            "bin_end": -0.4,
            "bin_start": -0.5,
            "count": 0
           },
           {
            "bin_end": -0.3,
            "bin_start": -0.4,
            "count": 0
           },
           {
            "bin_end": -0.19999999999999996,
            "bin_start": -0.3,
            "count": 0
           },
           {
            "bin_end": -0.09999999999999998,
            "bin_start": -0.19999999999999996,
            "count": 0
           },
           {
            "bin_end": 0,
            "bin_start": -0.09999999999999998,
            "count": 0
           },
           {
            "bin_end": 0.10000000000000009,
            "bin_start": 0,
            "count": 5000
           },
           {
            "bin_end": 0.20000000000000007,
            "bin_start": 0.10000000000000009,
            "count": 0
           },
           {
            "bin_end": 0.30000000000000004,
            "bin_start": 0.20000000000000007,
            "count": 0
           },
           {
            "bin_end": 0.4,
            "bin_start": 0.30000000000000004,
            "count": 0
           },
           {
            "bin_end": 0.5,
            "bin_start": 0.4,
            "count": 0
           }
          ],
          "max": 0,
          "min": 0,
          "nan_count": 0,
          "unique_count": 1
         }
        },
        {
         "dtype": "float64",
         "name": 2,
         "stats": {
          "histogram": [
           {
            "bin_end": 7.74530186294897e-05,
            "bin_start": 0,
            "count": 4999
           },
           {
            "bin_end": 0.0001549060372589794,
            "bin_start": 7.74530186294897e-05,
            "count": 0
           },
           {
            "bin_end": 0.00023235905588846908,
            "bin_start": 0.0001549060372589794,
            "count": 0
           },
           {
            "bin_end": 0.0003098120745179588,
            "bin_start": 0.00023235905588846908,
            "count": 0
           },
           {
            "bin_end": 0.00038726509314744844,
            "bin_start": 0.0003098120745179588,
            "count": 0
           },
           {
            "bin_end": 0.00046471811177693816,
            "bin_start": 0.00038726509314744844,
            "count": 0
           },
           {
            "bin_end": 0.0005421711304064279,
            "bin_start": 0.00046471811177693816,
            "count": 0
           },
           {
            "bin_end": 0.0006196241490359175,
            "bin_start": 0.0005421711304064279,
            "count": 0
           },
           {
            "bin_end": 0.0006970771676654072,
            "bin_start": 0.0006196241490359175,
            "count": 0
           },
           {
            "bin_end": 0.0007745301862948969,
            "bin_start": 0.0006970771676654072,
            "count": 1
           }
          ],
          "max": 0.0007745301862948969,
          "min": 0,
          "nan_count": 0,
          "unique_count": 2
         }
        },
        {
         "dtype": "float64",
         "name": 3,
         "stats": {
          "histogram": [
           {
            "bin_end": -0.006390165441176449,
            "bin_start": -0.0071631604030500855,
            "count": 1
           },
           {
            "bin_end": -0.005617170479302813,
            "bin_start": -0.006390165441176449,
            "count": 0
           },
           {
            "bin_end": -0.004844175517429177,
            "bin_start": -0.005617170479302813,
            "count": 0
           },
           {
            "bin_end": -0.00407118055555554,
            "bin_start": -0.004844175517429177,
            "count": 0
           },
           {
            "bin_end": -0.003298185593681904,
            "bin_start": -0.00407118055555554,
            "count": 0
           },
           {
            "bin_end": -0.0025251906318082672,
            "bin_start": -0.003298185593681904,
            "count": 0
           },
           {
            "bin_end": -0.001752195669934631,
            "bin_start": -0.0025251906318082672,
            "count": 1
           },
           {
            "bin_end": -0.0009792007080609948,
            "bin_start": -0.001752195669934631,
            "count": 1
           },
           {
            "bin_end": -0.00020620574618735853,
            "bin_start": -0.0009792007080609948,
            "count": 0
           },
           {
            "bin_end": 0.000566789215686278,
            "bin_start": -0.00020620574618735853,
            "count": 4997
           }
          ],
          "max": 0.000566789215686278,
          "min": -0.0071631604030500855,
          "nan_count": 0,
          "unique_count": 7
         }
        },
        {
         "dtype": "float64",
         "name": 4,
         "stats": {
          "histogram": [
           {
            "bin_end": -0.007985304330065335,
            "bin_start": -0.010296670751633959,
            "count": 1
           },
           {
            "bin_end": -0.005673937908496712,
            "bin_start": -0.007985304330065335,
            "count": 2
           },
           {
            "bin_end": -0.003362571486928089,
            "bin_start": -0.005673937908496712,
            "count": 0
           },
           {
            "bin_end": -0.0010512050653594656,
            "bin_start": -0.003362571486928089,
            "count": 3
           },
           {
            "bin_end": 0.0012601613562091569,
            "bin_start": -0.0010512050653594656,
            "count": 4993
           },
           {
            "bin_end": 0.003571527777777781,
            "bin_start": 0.0012601613562091569,
            "count": 0
           },
           {
            "bin_end": 0.005882894199346405,
            "bin_start": 0.003571527777777781,
            "count": 0
           },
           {
            "bin_end": 0.008194260620915028,
            "bin_start": 0.005882894199346405,
            "count": 0
           },
           {
            "bin_end": 0.01050562704248365,
            "bin_start": 0.008194260620915028,
            "count": 0
           },
           {
            "bin_end": 0.012816993464052271,
            "bin_start": 0.01050562704248365,
            "count": 1
           }
          ],
          "max": 0.012816993464052271,
          "min": -0.010296670751633959,
          "nan_count": 0,
          "unique_count": 14
         }
        },
        {
         "dtype": "float64",
         "name": 5,
         "stats": {
          "histogram": [
           {
            "bin_end": 0.024164748434096,
            "bin_start": -0.029396446078431313,
            "count": 4997
           },
           {
            "bin_end": 0.07772594294662331,
            "bin_start": 0.024164748434096,
            "count": 1
           },
           {
            "bin_end": 0.13128713745915063,
            "bin_start": 0.07772594294662331,
            "count": 1
           },
           {
            "bin_end": 0.18484833197167794,
            "bin_start": 0.13128713745915063,
            "count": 0
           },
           {
            "bin_end": 0.23840952648420524,
            "bin_start": 0.18484833197167794,
            "count": 0
           },
           {
            "bin_end": 0.29197072099673255,
            "bin_start": 0.23840952648420524,
            "count": 0
           },
           {
            "bin_end": 0.3455319155092598,
            "bin_start": 0.29197072099673255,
            "count": 0
           },
           {
            "bin_end": 0.39909311002178716,
            "bin_start": 0.3455319155092598,
            "count": 0
           },
           {
            "bin_end": 0.4526543045343145,
            "bin_start": 0.39909311002178716,
            "count": 0
           },
           {
            "bin_end": 0.5062154990468418,
            "bin_start": 0.4526543045343145,
            "count": 1
           }
          ],
          "max": 0.5062154990468418,
          "min": -0.029396446078431313,
          "nan_count": 0,
          "unique_count": 30
         }
        },
        {
         "dtype": "float64",
         "name": 6,
         "stats": {
          "histogram": [
           {
            "bin_end": 0.020793370438453244,
            "bin_start": -0.02870625680827877,
            "count": 4994
           },
           {
            "bin_end": 0.07029299768518527,
            "bin_start": 0.020793370438453244,
            "count": 3
           },
           {
            "bin_end": 0.11979262493191728,
            "bin_start": 0.07029299768518527,
            "count": 1
           },
           {
            "bin_end": 0.1692922521786493,
            "bin_start": 0.11979262493191728,
            "count": 0
           },
           {
            "bin_end": 0.2187918794253813,
            "bin_start": 0.1692922521786493,
            "count": 1
           },
           {
            "bin_end": 0.2682915066721133,
            "bin_start": 0.2187918794253813,
            "count": 0
           },
           {
            "bin_end": 0.31779113391884534,
            "bin_start": 0.2682915066721133,
            "count": 0
           },
           {
            "bin_end": 0.36729076116557735,
            "bin_start": 0.31779113391884534,
            "count": 0
           },
           {
            "bin_end": 0.41679038841230936,
            "bin_start": 0.36729076116557735,
            "count": 0
           },
           {
            "bin_end": 0.4662900156590414,
            "bin_start": 0.41679038841230936,
            "count": 1
           }
          ],
          "max": 0.4662900156590414,
          "min": -0.02870625680827877,
          "nan_count": 0,
          "unique_count": 30
         }
        },
        {
         "dtype": "float64",
         "name": 7,
         "stats": {
          "histogram": [
           {
            "bin_end": -0.01551798914298904,
            "bin_start": -0.04548538923538913,
            "count": 7
           },
           {
            "bin_end": 0.014449410949411053,
            "bin_start": -0.01551798914298904,
            "count": 4987
           },
           {
            "bin_end": 0.044416811041811145,
            "bin_start": 0.014449410949411053,
            "count": 3
           },
           {
            "bin_end": 0.07438421113421123,
            "bin_start": 0.044416811041811145,
            "count": 0
           },
           {
            "bin_end": 0.10435161122661132,
            "bin_start": 0.07438421113421123,
            "count": 0
           },
           {
            "bin_end": 0.13431901131901142,
            "bin_start": 0.10435161122661132,
            "count": 0
           },
           {
            "bin_end": 0.1642864114114115,
            "bin_start": 0.13431901131901142,
            "count": 1
           },
           {
            "bin_end": 0.1942538115038116,
            "bin_start": 0.1642864114114115,
            "count": 1
           },
           {
            "bin_end": 0.22422121159621167,
            "bin_start": 0.1942538115038116,
            "count": 0
           },
           {
            "bin_end": 0.2541886116886118,
            "bin_start": 0.22422121159621167,
            "count": 1
           }
          ],
          "max": 0.2541886116886118,
          "min": -0.04548538923538913,
          "nan_count": 0,
          "unique_count": 28
         }
        },
        {
         "dtype": "float64",
         "name": 8,
         "stats": {
          "histogram": [
           {
            "bin_end": -0.024805153867102234,
            "bin_start": -0.05495685253267955,
            "count": 5
           },
           {
            "bin_end": 0.005346544798475079,
            "bin_start": -0.024805153867102234,
            "count": 4992
           },
           {
            "bin_end": 0.035498243464052386,
            "bin_start": 0.005346544798475079,
            "count": 1
           },
           {
            "bin_end": 0.06564994212962971,
            "bin_start": 0.035498243464052386,
            "count": 0
           },
           {
            "bin_end": 0.09580164079520703,
            "bin_start": 0.06564994212962971,
            "count": 1
           },
           {
            "bin_end": 0.12595333946078432,
            "bin_start": 0.09580164079520703,
            "count": 0
           },
           {
            "bin_end": 0.15610503812636164,
            "bin_start": 0.12595333946078432,
            "count": 0
           },
           {
            "bin_end": 0.18625673679193896,
            "bin_start": 0.15610503812636164,
            "count": 0
           },
           {
            "bin_end": 0.21640843545751628,
            "bin_start": 0.18625673679193896,
            "count": 0
           },
           {
            "bin_end": 0.2465601341230936,
            "bin_start": 0.21640843545751628,
            "count": 1
           }
          ],
          "max": 0.2465601341230936,
          "min": -0.05495685253267955,
          "nan_count": 0,
          "unique_count": 28
         }
        },
        {
         "dtype": "float64",
         "name": 9,
         "stats": {
          "histogram": [
           {
            "bin_end": -0.014567898965141497,
            "bin_start": -0.04255004084967308,
            "count": 2
           },
           {
            "bin_end": 0.013414242919390085,
            "bin_start": -0.014567898965141497,
            "count": 4996
           },
           {
            "bin_end": 0.041396384803921674,
            "bin_start": 0.013414242919390085,
            "count": 0
           },
           {
            "bin_end": 0.06937852668845325,
            "bin_start": 0.041396384803921674,
            "count": 0
           },
           {
            "bin_end": 0.09736066857298482,
            "bin_start": 0.06937852668845325,
            "count": 1
           },
           {
            "bin_end": 0.12534281045751644,
            "bin_start": 0.09736066857298482,
            "count": 0
           },
           {
            "bin_end": 0.15332495234204802,
            "bin_start": 0.12534281045751644,
            "count": 0
           },
           {
            "bin_end": 0.1813070942265796,
            "bin_start": 0.15332495234204802,
            "count": 0
           },
           {
            "bin_end": 0.20928923611111117,
            "bin_start": 0.1813070942265796,
            "count": 0
           },
           {
            "bin_end": 0.2372713779956427,
            "bin_start": 0.20928923611111117,
            "count": 1
           }
          ],
          "max": 0.2372713779956427,
          "min": -0.04255004084967308,
          "nan_count": 0,
          "unique_count": 15
         }
        },
        {
         "dtype": "float64",
         "name": 10,
         "stats": {
          "histogram": [
           {
            "bin_end": -0.0006819308278866697,
            "bin_start": -0.00955627042483655,
            "count": 3
           },
           {
            "bin_end": 0.00819240876906321,
            "bin_start": -0.0006819308278866697,
            "count": 4996
           },
           {
            "bin_end": 0.01706674836601309,
            "bin_start": 0.00819240876906321,
            "count": 0
           },
           {
            "bin_end": 0.02594108796296297,
            "bin_start": 0.01706674836601309,
            "count": 0
           },
           {
            "bin_end": 0.03481542755991285,
            "bin_start": 0.02594108796296297,
            "count": 0
           },
           {
            "bin_end": 0.043689767156862735,
            "bin_start": 0.03481542755991285,
            "count": 0
           },
           {
            "bin_end": 0.05256410675381261,
            "bin_start": 0.043689767156862735,
            "count": 0
           },
           {
            "bin_end": 0.061438446350762496,
            "bin_start": 0.05256410675381261,
            "count": 0
           },
           {
            "bin_end": 0.07031278594771238,
            "bin_start": 0.061438446350762496,
            "count": 0
           },
           {
            "bin_end": 0.07918712554466226,
            "bin_start": 0.07031278594771238,
            "count": 1
           }
          ],
          "max": 0.07918712554466226,
          "min": -0.00955627042483655,
          "nan_count": 0,
          "unique_count": 18
         }
        },
        {
         "dtype": "float64",
         "name": 11,
         "stats": {
          "histogram": [
           {
            "bin_end": -0.01883542007080595,
            "bin_start": -0.02104786220043556,
            "count": 1
           },
           {
            "bin_end": -0.016622977941176335,
            "bin_start": -0.01883542007080595,
            "count": 1
           },
           {
            "bin_end": -0.014410535811546724,
            "bin_start": -0.016622977941176335,
            "count": 0
           },
           {
            "bin_end": -0.012198093681917111,
            "bin_start": -0.014410535811546724,
            "count": 0
           },
           {
            "bin_end": -0.009985651552287499,
            "bin_start": -0.012198093681917111,
            "count": 1
           },
           {
            "bin_end": -0.0077732094226578875,
            "bin_start": -0.009985651552287499,
            "count": 0
           },
           {
            "bin_end": -0.005560767293028275,
            "bin_start": -0.0077732094226578875,
            "count": 1
           },
           {
            "bin_end": -0.003348325163398662,
            "bin_start": -0.005560767293028275,
            "count": 0
           },
           {
            "bin_end": -0.0011358830337690508,
            "bin_start": -0.003348325163398662,
            "count": 1
           },
           {
            "bin_end": 0.001076559095860564,
            "bin_start": -0.0011358830337690508,
            "count": 4995
           }
          ],
          "max": 0.001076559095860564,
          "min": -0.02104786220043556,
          "nan_count": 0,
          "unique_count": 17
         }
        },
        {
         "dtype": "float64",
         "name": 12,
         "stats": {
          "histogram": [
           {
            "bin_end": -0.04215762708409757,
            "bin_start": -0.04710451401627861,
            "count": 1
           },
           {
            "bin_end": -0.03721074015191653,
            "bin_start": -0.04215762708409757,
            "count": 0
           },
           {
            "bin_end": -0.03226385321973549,
            "bin_start": -0.03721074015191653,
            "count": 0
           },
           {
            "bin_end": -0.02731696628755445,
            "bin_start": -0.03226385321973549,
            "count": 0
           },
           {
            "bin_end": -0.022370079355373412,
            "bin_start": -0.02731696628755445,
            "count": 1
           },
           {
            "bin_end": -0.01742319242319237,
            "bin_start": -0.022370079355373412,
            "count": 1
           },
           {
            "bin_end": -0.012476305491011329,
            "bin_start": -0.01742319242319237,
            "count": 2
           },
           {
            "bin_end": -0.007529418558830291,
            "bin_start": -0.012476305491011329,
            "count": 0
           },
           {
            "bin_end": -0.0025825316266492523,
            "bin_start": -0.007529418558830291,
            "count": 0
           },
           {
            "bin_end": 0.002364355305531791,
            "bin_start": -0.0025825316266492523,
            "count": 4995
           }
          ],
          "max": 0.002364355305531791,
          "min": -0.04710451401627861,
          "nan_count": 0,
          "unique_count": 19
         }
        },
        {
         "dtype": "float64",
         "name": 13,
         "stats": {
          "histogram": [
           {
            "bin_end": -0.03887654888344217,
            "bin_start": -0.04329937704248355,
            "count": 1
           },
           {
            "bin_end": -0.03445372072440078,
            "bin_start": -0.03887654888344217,
            "count": 0
           },
           {
            "bin_end": -0.0300308925653594,
            "bin_start": -0.03445372072440078,
            "count": 0
           },
           {
            "bin_end": -0.02560806440631802,
            "bin_start": -0.0300308925653594,
            "count": 1
           },
           {
            "bin_end": -0.02118523624727664,
            "bin_start": -0.02560806440631802,
            "count": 0
           },
           {
            "bin_end": -0.016762408088235255,
            "bin_start": -0.02118523624727664,
            "count": 3
           },
           {
            "bin_end": -0.012339579929193871,
            "bin_start": -0.016762408088235255,
            "count": 3
           },
           {
            "bin_end": -0.00791675177015249,
            "bin_start": -0.012339579929193871,
            "count": 2
           },
           {
            "bin_end": -0.003493923611111109,
            "bin_start": -0.00791675177015249,
            "count": 1
           },
           {
            "bin_end": 0.0009289045479302764,
            "bin_start": -0.003493923611111109,
            "count": 4989
           }
          ],
          "max": 0.0009289045479302764,
          "min": -0.04329937704248355,
          "nan_count": 0,
          "unique_count": 23
         }
        },
        {
         "dtype": "float64",
         "name": 14,
         "stats": {
          "histogram": [
           {
            "bin_end": -0.04205852566721118,
            "bin_start": -0.04688180827886694,
            "count": 5
           },
           {
            "bin_end": -0.03723524305555543,
            "bin_start": -0.04205852566721118,
            "count": 0
           },
           {
            "bin_end": -0.03241196044389967,
            "bin_start": -0.03723524305555543,
            "count": 0
           },
           {
            "bin_end": -0.027588677832243915,
            "bin_start": -0.03241196044389967,
            "count": 0
           },
           {
            "bin_end": -0.02276539522058816,
            "bin_start": -0.027588677832243915,
            "count": 2
           },
           {
            "bin_end": -0.0179421126089324,
            "bin_start": -0.02276539522058816,
            "count": 1
           },
           {
            "bin_end": -0.013118829997276649,
            "bin_start": -0.0179421126089324,
            "count": 0
           },
           {
            "bin_end": -0.00829554738562089,
            "bin_start": -0.013118829997276649,
            "count": 1
           },
           {
            "bin_end": -0.0034722647739651308,
            "bin_start": -0.00829554738562089,
            "count": 4
           },
           {
            "bin_end": 0.001351017837690624,
            "bin_start": -0.0034722647739651308,
            "count": 4987
           }
          ],
          "max": 0.001351017837690624,
          "min": -0.04688180827886694,
          "nan_count": 0,
          "unique_count": 22
         }
        },
        {
         "dtype": "float64",
         "name": 15,
         "stats": {
          "histogram": [
           {
            "bin_end": -0.04329371766067525,
            "bin_start": -0.048217081971677414,
            "count": 1
           },
           {
            "bin_end": -0.03837035334967309,
            "bin_start": -0.04329371766067525,
            "count": 1
           },
           {
            "bin_end": -0.033446989038670924,
            "bin_start": -0.03837035334967309,
            "count": 0
           },
           {
            "bin_end": -0.028523624727668763,
            "bin_start": -0.033446989038670924,
            "count": 2
           },
           {
            "bin_end": -0.023600260416666602,
            "bin_start": -0.028523624727668763,
            "count": 1
           },
           {
            "bin_end": -0.018676896105664437,
            "bin_start": -0.023600260416666602,
            "count": 1
           },
           {
            "bin_end": -0.013753531794662273,
            "bin_start": -0.018676896105664437,
            "count": 1
           },
           {
            "bin_end": -0.008830167483660112,
            "bin_start": -0.013753531794662273,
            "count": 1
           },
           {
            "bin_end": -0.003906803172657951,
            "bin_start": -0.008830167483660112,
            "count": 2
           },
           {
            "bin_end": 0.001016561138344219,
            "bin_start": -0.003906803172657951,
            "count": 4990
           }
          ],
          "max": 0.001016561138344219,
          "min": -0.048217081971677414,
          "nan_count": 0,
          "unique_count": 19
         }
        },
        {
         "dtype": "float64",
         "name": 16,
         "stats": {
          "histogram": [
           {
            "bin_end": -0.02692146650326789,
            "bin_start": -0.03010280501089315,
            "count": 1
           },
           {
            "bin_end": -0.023740127995642627,
            "bin_start": -0.02692146650326789,
            "count": 0
           },
           {
            "bin_end": -0.020558789488017367,
            "bin_start": -0.023740127995642627,
            "count": 0
           },
           {
            "bin_end": -0.017377450980392103,
            "bin_start": -0.020558789488017367,
            "count": 1
           },
           {
            "bin_end": -0.014196112472766843,
            "bin_start": -0.017377450980392103,
            "count": 1
           },
           {
            "bin_end": -0.011014773965141583,
            "bin_start": -0.014196112472766843,
            "count": 0
           },
           {
            "bin_end": -0.00783343545751632,
            "bin_start": -0.011014773965141583,
            "count": 0
           },
           {
            "bin_end": -0.00465209694989106,
            "bin_start": -0.00783343545751632,
            "count": 0
           },
           {
            "bin_end": -0.0014707584422657995,
            "bin_start": -0.00465209694989106,
            "count": 3
           },
           {
            "bin_end": 0.001710580065359462,
            "bin_start": -0.0014707584422657995,
            "count": 4994
           }
          ],
          "max": 0.001710580065359462,
          "min": -0.03010280501089315,
          "nan_count": 0,
          "unique_count": 15
         }
        },
        {
         "dtype": "float64",
         "name": 17,
         "stats": {
          "histogram": [
           {
            "bin_end": -0.0034036015653662517,
            "bin_start": -0.0040331621213973955,
            "count": 1
           },
           {
            "bin_end": -0.002774041009335108,
            "bin_start": -0.0034036015653662517,
            "count": 0
           },
           {
            "bin_end": -0.0021444804533039645,
            "bin_start": -0.002774041009335108,
            "count": 0
           },
           {
            "bin_end": -0.0015149198972728207,
            "bin_start": -0.0021444804533039645,
            "count": 0
           },
           {
            "bin_end": -0.0008853593412416769,
            "bin_start": -0.0015149198972728207,
            "count": 0
           },
           {
            "bin_end": -0.00025579878521053354,
            "bin_start": -0.0008853593412416769,
            "count": 0
           },
           {
            "bin_end": 0.0003737617708206107,
            "bin_start": -0.00025579878521053354,
            "count": 4995
           },
           {
            "bin_end": 0.001003322326851754,
            "bin_start": 0.0003737617708206107,
            "count": 3
           },
           {
            "bin_end": 0.0016328828828828974,
            "bin_start": 0.001003322326851754,
            "count": 0
           },
           {
            "bin_end": 0.0022624434389140412,
            "bin_start": 0.0016328828828828974,
            "count": 1
           }
          ],
          "max": 0.0022624434389140412,
          "min": -0.0040331621213973955,
          "nan_count": 0,
          "unique_count": 7
         }
        },
        {
         "dtype": "float64",
         "name": 18,
         "stats": {
          "histogram": [
           {
            "bin_end": 5.872140522875818e-05,
            "bin_start": 0,
            "count": 4998
           },
           {
            "bin_end": 0.00011744281045751636,
            "bin_start": 5.872140522875818e-05,
            "count": 0
           },
           {
            "bin_end": 0.00017616421568627453,
            "bin_start": 0.00011744281045751636,
            "count": 1
           },
           {
            "bin_end": 0.0002348856209150327,
            "bin_start": 0.00017616421568627453,
            "count": 0
           },
           {
            "bin_end": 0.0002936070261437909,
            "bin_start": 0.0002348856209150327,
            "count": 0
           },
           {
            "bin_end": 0.00035232843137254907,
            "bin_start": 0.0002936070261437909,
            "count": 0
           },
           {
            "bin_end": 0.00041104983660130725,
            "bin_start": 0.00035232843137254907,
            "count": 0
           },
           {
            "bin_end": 0.0004697712418300654,
            "bin_start": 0.00041104983660130725,
            "count": 0
           },
           {
            "bin_end": 0.0005284926470588236,
            "bin_start": 0.0004697712418300654,
            "count": 0
           },
           {
            "bin_end": 0.0005872140522875818,
            "bin_start": 0.0005284926470588236,
            "count": 1
           }
          ],
          "max": 0.0005872140522875818,
          "min": 0,
          "nan_count": 0,
          "unique_count": 3
         }
        },
        {
         "dtype": "int64",
         "name": 19,
         "stats": {
          "histogram": [
           {
            "bin_end": -0.4,
            "bin_start": -0.5,
            "count": 0
           },
           {
            "bin_end": -0.3,
            "bin_start": -0.4,
            "count": 0
           },
           {
            "bin_end": -0.19999999999999996,
            "bin_start": -0.3,
            "count": 0
           },
           {
            "bin_end": -0.09999999999999998,
            "bin_start": -0.19999999999999996,
            "count": 0
           },
           {
            "bin_end": 0,
            "bin_start": -0.09999999999999998,
            "count": 0
           },
           {
            "bin_end": 0.10000000000000009,
            "bin_start": 0,
            "count": 5000
           },
           {
            "bin_end": 0.20000000000000007,
            "bin_start": 0.10000000000000009,
            "count": 0
           },
           {
            "bin_end": 0.30000000000000004,
            "bin_start": 0.20000000000000007,
            "count": 0
           },
           {
            "bin_end": 0.4,
            "bin_start": 0.30000000000000004,
            "count": 0
           },
           {
            "bin_end": 0.5,
            "bin_start": 0.4,
            "count": 0
           }
          ],
          "max": 0,
          "min": 0,
          "nan_count": 0,
          "unique_count": 1
         }
        },
        {
         "dtype": "float64",
         "name": 20
        },
        {
         "dtype": "float64",
         "name": 21
        },
        {
         "dtype": "float64",
         "name": 22
        },
        {
         "dtype": "float64",
         "name": 23
        },
        {
         "dtype": "float64",
         "name": 24
        },
        {
         "dtype": "float64",
         "name": 25
        },
        {
         "dtype": "float64",
         "name": 26
        },
        {
         "dtype": "float64",
         "name": 27
        },
        {
         "dtype": "float64",
         "name": 28
        },
        {
         "dtype": "float64",
         "name": 29
        },
        {
         "dtype": "float64",
         "name": 30
        },
        {
         "dtype": "float64",
         "name": 31
        },
        {
         "dtype": "float64",
         "name": 32
        },
        {
         "dtype": "float64",
         "name": 33
        },
        {
         "dtype": "float64",
         "name": 34
        },
        {
         "dtype": "float64",
         "name": 35
        },
        {
         "dtype": "float64",
         "name": 36
        },
        {
         "dtype": "float64",
         "name": 37
        },
        {
         "dtype": "float64",
         "name": 38
        },
        {
         "dtype": "float64",
         "name": 39
        },
        {
         "dtype": "float64",
         "name": 40
        },
        {
         "dtype": "float64",
         "name": 41
        },
        {
         "dtype": "float64",
         "name": 42
        },
        {
         "dtype": "float64",
         "name": 43
        },
        {
         "dtype": "float64",
         "name": 44
        },
        {
         "dtype": "float64",
         "name": 45
        },
        {
         "dtype": "float64",
         "name": 46
        },
        {
         "dtype": "float64",
         "name": 47
        },
        {
         "dtype": "float64",
         "name": 48
        },
        {
         "dtype": "float64",
         "name": 49
        },
        {
         "dtype": "float64",
         "name": 50
        },
        {
         "dtype": "float64",
         "name": 51
        },
        {
         "dtype": "float64",
         "name": 52
        },
        {
         "dtype": "float64",
         "name": 53
        },
        {
         "dtype": "float64",
         "name": 54
        },
        {
         "dtype": "float64",
         "name": 55
        },
        {
         "dtype": "float64",
         "name": 56
        },
        {
         "dtype": "float64",
         "name": 57
        },
        {
         "dtype": "float64",
         "name": 58
        },
        {
         "dtype": "float64",
         "name": 59
        },
        {
         "dtype": "float64",
         "name": 60
        },
        {
         "dtype": "float64",
         "name": 61
        },
        {
         "dtype": "float64",
         "name": 62
        },
        {
         "dtype": "float64",
         "name": 63
        },
        {
         "dtype": "float64",
         "name": 64
        },
        {
         "dtype": "float64",
         "name": 65
        },
        {
         "dtype": "float64",
         "name": 66
        },
        {
         "dtype": "float64",
         "name": 67
        },
        {
         "dtype": "float64",
         "name": 68
        },
        {
         "dtype": "float64",
         "name": 69
        },
        {
         "dtype": "float64",
         "name": 70
        },
        {
         "dtype": "float64",
         "name": 71
        },
        {
         "dtype": "float64",
         "name": 72
        },
        {
         "dtype": "float64",
         "name": 73
        },
        {
         "dtype": "float64",
         "name": 74
        },
        {
         "dtype": "float64",
         "name": 75
        },
        {
         "dtype": "float64",
         "name": 76
        },
        {
         "dtype": "float64",
         "name": 77
        },
        {
         "dtype": "float64",
         "name": 78
        },
        {
         "dtype": "float64",
         "name": 79
        },
        {
         "dtype": "float64",
         "name": 80
        },
        {
         "dtype": "float64",
         "name": 81
        },
        {
         "dtype": "float64",
         "name": 82
        },
        {
         "dtype": "float64",
         "name": 83
        },
        {
         "dtype": "float64",
         "name": 84
        },
        {
         "dtype": "float64",
         "name": 85
        },
        {
         "dtype": "float64",
         "name": 86
        },
        {
         "dtype": "float64",
         "name": 87
        },
        {
         "dtype": "float64",
         "name": 88
        },
        {
         "dtype": "float64",
         "name": 89
        },
        {
         "dtype": "float64",
         "name": 90
        },
        {
         "dtype": "float64",
         "name": 91
        },
        {
         "dtype": "float64",
         "name": 92
        },
        {
         "dtype": "float64",
         "name": 93
        },
        {
         "dtype": "float64",
         "name": 94
        },
        {
         "dtype": "float64",
         "name": 95
        },
        {
         "dtype": "float64",
         "name": 96
        },
        {
         "dtype": "float64",
         "name": 97
        },
        {
         "dtype": "float64",
         "name": 98
        },
        {
         "dtype": "float64",
         "name": 99
        },
        {
         "dtype": "float64",
         "name": 100
        },
        {
         "dtype": "float64",
         "name": 101
        },
        {
         "dtype": "float64",
         "name": 102
        },
        {
         "dtype": "float64",
         "name": 103
        },
        {
         "dtype": "float64",
         "name": 104
        },
        {
         "dtype": "float64",
         "name": 105
        },
        {
         "dtype": "float64",
         "name": 106
        },
        {
         "dtype": "float64",
         "name": 107
        },
        {
         "dtype": "float64",
         "name": 108
        },
        {
         "dtype": "float64",
         "name": 109
        },
        {
         "dtype": "float64",
         "name": 110
        },
        {
         "dtype": "float64",
         "name": 111
        },
        {
         "dtype": "float64",
         "name": 112
        },
        {
         "dtype": "float64",
         "name": 113
        },
        {
         "dtype": "float64",
         "name": 114
        },
        {
         "dtype": "float64",
         "name": 115
        },
        {
         "dtype": "float64",
         "name": 116
        },
        {
         "dtype": "float64",
         "name": 117
        },
        {
         "dtype": "float64",
         "name": 118
        },
        {
         "dtype": "float64",
         "name": 119
        },
        {
         "dtype": "float64",
         "name": 120
        },
        {
         "dtype": "float64",
         "name": 121
        },
        {
         "dtype": "float64",
         "name": 122
        },
        {
         "dtype": "float64",
         "name": 123
        },
        {
         "dtype": "float64",
         "name": 124
        },
        {
         "dtype": "float64",
         "name": 125
        },
        {
         "dtype": "float64",
         "name": 126
        },
        {
         "dtype": "float64",
         "name": 127
        },
        {
         "dtype": "float64",
         "name": 128
        },
        {
         "dtype": "float64",
         "name": 129
        },
        {
         "dtype": "float64",
         "name": 130
        },
        {
         "dtype": "float64",
         "name": 131
        },
        {
         "dtype": "float64",
         "name": 132
        },
        {
         "dtype": "float64",
         "name": 133
        },
        {
         "dtype": "float64",
         "name": 134
        },
        {
         "dtype": "float64",
         "name": 135
        },
        {
         "dtype": "float64",
         "name": 136
        },
        {
         "dtype": "float64",
         "name": 137
        },
        {
         "dtype": "float64",
         "name": 138
        },
        {
         "dtype": "float64",
         "name": 139
        },
        {
         "dtype": "float64",
         "name": 140
        },
        {
         "dtype": "float64",
         "name": 141
        },
        {
         "dtype": "float64",
         "name": 142
        },
        {
         "dtype": "float64",
         "name": 143
        },
        {
         "dtype": "float64",
         "name": 144
        },
        {
         "dtype": "float64",
         "name": 145
        },
        {
         "dtype": "float64",
         "name": 146
        },
        {
         "dtype": "float64",
         "name": 147
        },
        {
         "dtype": "float64",
         "name": 148
        },
        {
         "dtype": "float64",
         "name": 149
        },
        {
         "dtype": "float64",
         "name": 150
        },
        {
         "dtype": "float64",
         "name": 151
        },
        {
         "dtype": "float64",
         "name": 152
        },
        {
         "dtype": "float64",
         "name": 153
        },
        {
         "dtype": "float64",
         "name": 154
        },
        {
         "dtype": "float64",
         "name": 155
        },
        {
         "dtype": "float64",
         "name": 156
        },
        {
         "dtype": "float64",
         "name": 157
        },
        {
         "dtype": "float64",
         "name": 158
        },
        {
         "dtype": "float64",
         "name": 159
        },
        {
         "dtype": "float64",
         "name": 160
        },
        {
         "dtype": "float64",
         "name": 161
        },
        {
         "dtype": "float64",
         "name": 162
        },
        {
         "dtype": "float64",
         "name": 163
        },
        {
         "dtype": "float64",
         "name": 164
        },
        {
         "dtype": "float64",
         "name": 165
        },
        {
         "dtype": "float64",
         "name": 166
        },
        {
         "dtype": "float64",
         "name": 167
        },
        {
         "dtype": "float64",
         "name": 168
        },
        {
         "dtype": "float64",
         "name": 169
        },
        {
         "dtype": "float64",
         "name": 170
        },
        {
         "dtype": "float64",
         "name": 171
        },
        {
         "dtype": "float64",
         "name": 172
        },
        {
         "dtype": "float64",
         "name": 173
        },
        {
         "dtype": "float64",
         "name": 174
        },
        {
         "dtype": "float64",
         "name": 175
        },
        {
         "dtype": "float64",
         "name": 176
        },
        {
         "dtype": "float64",
         "name": 177
        },
        {
         "dtype": "float64",
         "name": 178
        },
        {
         "dtype": "float64",
         "name": 179
        },
        {
         "dtype": "float64",
         "name": 180
        },
        {
         "dtype": "float64",
         "name": 181
        },
        {
         "dtype": "float64",
         "name": 182
        },
        {
         "dtype": "float64",
         "name": 183
        },
        {
         "dtype": "float64",
         "name": 184
        },
        {
         "dtype": "float64",
         "name": 185
        },
        {
         "dtype": "float64",
         "name": 186
        },
        {
         "dtype": "float64",
         "name": 187
        },
        {
         "dtype": "float64",
         "name": 188
        },
        {
         "dtype": "float64",
         "name": 189
        },
        {
         "dtype": "float64",
         "name": 190
        },
        {
         "dtype": "float64",
         "name": 191
        },
        {
         "dtype": "float64",
         "name": 192
        },
        {
         "dtype": "float64",
         "name": 193
        },
        {
         "dtype": "float64",
         "name": 194
        },
        {
         "dtype": "float64",
         "name": 195
        },
        {
         "dtype": "float64",
         "name": 196
        },
        {
         "dtype": "float64",
         "name": 197
        },
        {
         "dtype": "float64",
         "name": 198
        },
        {
         "dtype": "float64",
         "name": 199
        },
        {
         "dtype": "float64",
         "name": 200
        },
        {
         "dtype": "float64",
         "name": 201
        },
        {
         "dtype": "float64",
         "name": 202
        },
        {
         "dtype": "float64",
         "name": 203
        },
        {
         "dtype": "float64",
         "name": 204
        },
        {
         "dtype": "float64",
         "name": 205
        },
        {
         "dtype": "float64",
         "name": 206
        },
        {
         "dtype": "float64",
         "name": 207
        },
        {
         "dtype": "float64",
         "name": 208
        },
        {
         "dtype": "float64",
         "name": 209
        },
        {
         "dtype": "float64",
         "name": 210
        },
        {
         "dtype": "float64",
         "name": 211
        },
        {
         "dtype": "float64",
         "name": 212
        },
        {
         "dtype": "float64",
         "name": 213
        },
        {
         "dtype": "float64",
         "name": 214
        },
        {
         "dtype": "float64",
         "name": 215
        },
        {
         "dtype": "float64",
         "name": 216
        },
        {
         "dtype": "float64",
         "name": 217
        },
        {
         "dtype": "float64",
         "name": 218
        },
        {
         "dtype": "float64",
         "name": 219
        },
        {
         "dtype": "float64",
         "name": 220
        },
        {
         "dtype": "float64",
         "name": 221
        },
        {
         "dtype": "float64",
         "name": 222
        },
        {
         "dtype": "float64",
         "name": 223
        },
        {
         "dtype": "float64",
         "name": 224
        },
        {
         "dtype": "float64",
         "name": 225
        },
        {
         "dtype": "float64",
         "name": 226
        },
        {
         "dtype": "float64",
         "name": 227
        },
        {
         "dtype": "float64",
         "name": 228
        },
        {
         "dtype": "float64",
         "name": 229
        },
        {
         "dtype": "float64",
         "name": 230
        },
        {
         "dtype": "float64",
         "name": 231
        },
        {
         "dtype": "float64",
         "name": 232
        },
        {
         "dtype": "float64",
         "name": 233
        },
        {
         "dtype": "float64",
         "name": 234
        },
        {
         "dtype": "float64",
         "name": 235
        },
        {
         "dtype": "float64",
         "name": 236
        },
        {
         "dtype": "float64",
         "name": 237
        },
        {
         "dtype": "float64",
         "name": 238
        },
        {
         "dtype": "float64",
         "name": 239
        },
        {
         "dtype": "float64",
         "name": 240
        },
        {
         "dtype": "float64",
         "name": 241
        },
        {
         "dtype": "float64",
         "name": 242
        },
        {
         "dtype": "float64",
         "name": 243
        },
        {
         "dtype": "float64",
         "name": 244
        },
        {
         "dtype": "float64",
         "name": 245
        },
        {
         "dtype": "float64",
         "name": 246
        },
        {
         "dtype": "float64",
         "name": 247
        },
        {
         "dtype": "float64",
         "name": 248
        },
        {
         "dtype": "float64",
         "name": 249
        },
        {
         "dtype": "float64",
         "name": 250
        },
        {
         "dtype": "float64",
         "name": 251
        },
        {
         "dtype": "float64",
         "name": 252
        },
        {
         "dtype": "float64",
         "name": 253
        },
        {
         "dtype": "float64",
         "name": 254
        },
        {
         "dtype": "float64",
         "name": 255
        },
        {
         "dtype": "float64",
         "name": 256
        },
        {
         "dtype": "float64",
         "name": 257
        },
        {
         "dtype": "float64",
         "name": 258
        },
        {
         "dtype": "float64",
         "name": 259
        },
        {
         "dtype": "float64",
         "name": 260
        },
        {
         "dtype": "float64",
         "name": 261
        },
        {
         "dtype": "float64",
         "name": 262
        },
        {
         "dtype": "float64",
         "name": 263
        },
        {
         "dtype": "float64",
         "name": 264
        },
        {
         "dtype": "float64",
         "name": 265
        },
        {
         "dtype": "float64",
         "name": 266
        },
        {
         "dtype": "float64",
         "name": 267
        },
        {
         "dtype": "float64",
         "name": 268
        },
        {
         "dtype": "float64",
         "name": 269
        },
        {
         "dtype": "float64",
         "name": 270
        },
        {
         "dtype": "float64",
         "name": 271
        },
        {
         "dtype": "float64",
         "name": 272
        },
        {
         "dtype": "float64",
         "name": 273
        },
        {
         "dtype": "float64",
         "name": 274
        },
        {
         "dtype": "float64",
         "name": 275
        },
        {
         "dtype": "float64",
         "name": 276
        },
        {
         "dtype": "float64",
         "name": 277
        },
        {
         "dtype": "float64",
         "name": 278
        },
        {
         "dtype": "float64",
         "name": 279
        },
        {
         "dtype": "float64",
         "name": 280
        },
        {
         "dtype": "float64",
         "name": 281
        },
        {
         "dtype": "float64",
         "name": 282
        },
        {
         "dtype": "float64",
         "name": 283
        },
        {
         "dtype": "float64",
         "name": 284
        },
        {
         "dtype": "float64",
         "name": 285
        },
        {
         "dtype": "float64",
         "name": 286
        },
        {
         "dtype": "float64",
         "name": 287
        },
        {
         "dtype": "float64",
         "name": 288
        },
        {
         "dtype": "float64",
         "name": 289
        },
        {
         "dtype": "float64",
         "name": 290
        },
        {
         "dtype": "float64",
         "name": 291
        },
        {
         "dtype": "float64",
         "name": 292
        },
        {
         "dtype": "float64",
         "name": 293
        },
        {
         "dtype": "float64",
         "name": 294
        },
        {
         "dtype": "float64",
         "name": 295
        },
        {
         "dtype": "float64",
         "name": 296
        },
        {
         "dtype": "float64",
         "name": 297
        },
        {
         "dtype": "float64",
         "name": 298
        },
        {
         "dtype": "float64",
         "name": 299
        },
        {
         "dtype": "float64",
         "name": 300
        },
        {
         "dtype": "float64",
         "name": 301
        },
        {
         "dtype": "float64",
         "name": 302
        },
        {
         "dtype": "float64",
         "name": 303
        },
        {
         "dtype": "float64",
         "name": 304
        },
        {
         "dtype": "float64",
         "name": 305
        },
        {
         "dtype": "float64",
         "name": 306
        },
        {
         "dtype": "float64",
         "name": 307
        },
        {
         "dtype": "float64",
         "name": 308
        },
        {
         "dtype": "float64",
         "name": 309
        },
        {
         "dtype": "float64",
         "name": 310
        },
        {
         "dtype": "float64",
         "name": 311
        },
        {
         "dtype": "float64",
         "name": 312
        },
        {
         "dtype": "float64",
         "name": 313
        },
        {
         "dtype": "float64",
         "name": 314
        },
        {
         "dtype": "float64",
         "name": 315
        },
        {
         "dtype": "float64",
         "name": 316
        },
        {
         "dtype": "float64",
         "name": 317
        },
        {
         "dtype": "float64",
         "name": 318
        },
        {
         "dtype": "float64",
         "name": 319
        },
        {
         "dtype": "float64",
         "name": 320
        },
        {
         "dtype": "float64",
         "name": 321
        },
        {
         "dtype": "float64",
         "name": 322
        },
        {
         "dtype": "float64",
         "name": 323
        },
        {
         "dtype": "float64",
         "name": 324
        },
        {
         "dtype": "float64",
         "name": 325
        },
        {
         "dtype": "float64",
         "name": 326
        },
        {
         "dtype": "float64",
         "name": 327
        },
        {
         "dtype": "float64",
         "name": 328
        },
        {
         "dtype": "float64",
         "name": 329
        },
        {
         "dtype": "float64",
         "name": 330
        },
        {
         "dtype": "float64",
         "name": 331
        },
        {
         "dtype": "float64",
         "name": 332
        },
        {
         "dtype": "float64",
         "name": 333
        },
        {
         "dtype": "float64",
         "name": 334
        },
        {
         "dtype": "float64",
         "name": 335
        },
        {
         "dtype": "float64",
         "name": 336
        },
        {
         "dtype": "float64",
         "name": 337
        },
        {
         "dtype": "float64",
         "name": 338
        },
        {
         "dtype": "float64",
         "name": 339
        },
        {
         "dtype": "float64",
         "name": 340
        },
        {
         "dtype": "float64",
         "name": 341
        },
        {
         "dtype": "float64",
         "name": 342
        },
        {
         "dtype": "float64",
         "name": 343
        },
        {
         "dtype": "float64",
         "name": 344
        },
        {
         "dtype": "float64",
         "name": 345
        },
        {
         "dtype": "float64",
         "name": 346
        },
        {
         "dtype": "float64",
         "name": 347
        },
        {
         "dtype": "float64",
         "name": 348
        },
        {
         "dtype": "float64",
         "name": 349
        },
        {
         "dtype": "float64",
         "name": 350
        },
        {
         "dtype": "float64",
         "name": 351
        },
        {
         "dtype": "float64",
         "name": 352
        },
        {
         "dtype": "float64",
         "name": 353
        },
        {
         "dtype": "float64",
         "name": 354
        },
        {
         "dtype": "float64",
         "name": 355
        },
        {
         "dtype": "float64",
         "name": 356
        },
        {
         "dtype": "float64",
         "name": 357
        },
        {
         "dtype": "float64",
         "name": 358
        },
        {
         "dtype": "float64",
         "name": 359
        },
        {
         "dtype": "float64",
         "name": 360
        },
        {
         "dtype": "float64",
         "name": 361
        },
        {
         "dtype": "float64",
         "name": 362
        },
        {
         "dtype": "float64",
         "name": 363
        },
        {
         "dtype": "float64",
         "name": 364
        },
        {
         "dtype": "float64",
         "name": 365
        },
        {
         "dtype": "float64",
         "name": 366
        },
        {
         "dtype": "float64",
         "name": 367
        },
        {
         "dtype": "float64",
         "name": 368
        },
        {
         "dtype": "float64",
         "name": 369
        },
        {
         "dtype": "float64",
         "name": 370
        },
        {
         "dtype": "float64",
         "name": 371
        },
        {
         "dtype": "float64",
         "name": 372
        },
        {
         "dtype": "float64",
         "name": 373
        },
        {
         "dtype": "float64",
         "name": 374
        },
        {
         "dtype": "float64",
         "name": 375
        },
        {
         "dtype": "float64",
         "name": 376
        },
        {
         "dtype": "float64",
         "name": 377
        },
        {
         "dtype": "float64",
         "name": 378
        },
        {
         "dtype": "float64",
         "name": 379
        },
        {
         "dtype": "int64",
         "name": 380
        },
        {
         "dtype": "float64",
         "name": 381
        },
        {
         "dtype": "float64",
         "name": 382
        },
        {
         "dtype": "float64",
         "name": 383
        },
        {
         "dtype": "float64",
         "name": 384
        },
        {
         "dtype": "float64",
         "name": 385
        },
        {
         "dtype": "float64",
         "name": 386
        },
        {
         "dtype": "float64",
         "name": 387
        },
        {
         "dtype": "float64",
         "name": 388
        },
        {
         "dtype": "float64",
         "name": 389
        },
        {
         "dtype": "float64",
         "name": 390
        },
        {
         "dtype": "float64",
         "name": 391
        },
        {
         "dtype": "float64",
         "name": 392
        },
        {
         "dtype": "float64",
         "name": 393
        },
        {
         "dtype": "float64",
         "name": 394
        },
        {
         "dtype": "float64",
         "name": 395
        },
        {
         "dtype": "float64",
         "name": 396
        },
        {
         "dtype": "float64",
         "name": 397
        },
        {
         "dtype": "float64",
         "name": 398
        },
        {
         "dtype": "int64",
         "name": 399
        },
        {
         "dtype": "int64",
         "name": "label"
        },
        {
         "dtype": "int64",
         "name": "_deepnote_index_column"
        }
       ],
       "row_count": 5000,
       "rows_bottom": [
        {
         "0": 0,
         "1": 0,
         "10": 0,
         "100": 0,
         "101": 0,
         "102": 0,
         "103": -0.001936070261437966,
         "104": -0.002569767837690822,
         "105": 0.3897139671840959,
         "106": 0.9005411560457516,
         "107": 1.014527842321961,
         "108": 0.8860497004357298,
         "109": 0.8751086941721135,
         "11": 0,
         "110": 0.8911961294934643,
         "111": 1.011416445397604,
         "112": 0.8590688992159586,
         "113": 0.2027682632080614,
         "114": -0.00927587145969505,
         "115": -0.001045036764705872,
         "116": 0,
         "117": 0,
         "118": 0,
         "119": 0,
         "12": 0,
         "120": 0,
         "121": 0,
         "122": 0,
         "123": -0.009135876225490412,
         "124": 0.09409543504901934,
         "125": 0.9249775497004356,
         "126": 0.9990854268790844,
         "127": 0.4453431202695912,
         "128": 0.1414902301198264,
         "129": 0.1389957107843145,
         "13": 0,
         "130": 0.1599597971132899,
         "131": 0.5107503574346415,
         "132": 1.016923178834944,
         "133": 0.6424696861383443,
         "134": -0.0007762969771241716,
         "135": -0.0057212009803921425,
         "136": 0,
         "137": 0,
         "138": 0,
         "139": 0,
         "14": 0,
         "140": 0,
         "141": 0,
         "142": 0,
         "143": -0.01971296522767145,
         "144": 0.2859641541994482,
         "145": 1.016034982946749,
         "146": 0.5139014919897275,
         "147": -0.03757540100942402,
         "148": -0.02550972918619997,
         "149": -0.01932982756512186,
         "15": 0,
         "150": -0.029178964031906063,
         "151": 0.006631133395839247,
         "152": 0.8575957562627493,
         "153": 0.8370984162895933,
         "154": 0.1216441781147662,
         "155": -0.01952641555582732,
         "156": -0.0010395010395010552,
         "157": -0.01588472509348151,
         "158": -0.01005870123517193,
         "159": 0.0008866332395744213,
         "16": 0,
         "160": 0,
         "161": 0,
         "162": 0,
         "163": -0.028002450980392567,
         "164": 0.4487796160130718,
         "165": 0.9315342456427019,
         "166": 0.2467498978758174,
         "167": -0.0360944655062305,
         "168": 0.00037615740740741066,
         "169": 0,
         "17": 0,
         "170": 0.000675296160130124,
         "171": -0.02836831086601278,
         "172": 0.8224924585218706,
         "173": 0.8833422691993468,
         "174": 0.15461294934640502,
         "175": -0.02878319035947682,
         "176": -0.0130596405228752,
         "177": 0.1046308752191114,
         "178": 0.07017463235294172,
         "179": -0.006135110294117667,
         "18": 0,
         "180": 0,
         "181": 0,
         "182": 0,
         "183": -0.027197303921569032,
         "184": 0.4377924836601306,
         "185": 0.8967880923202619,
         "186": 0.2119060457516345,
         "187": -0.02677020912315054,
         "188": 0,
         "189": 0,
         "19": 0,
         "190": -0.0009357128267979919,
         "191": -0.01000280841503235,
         "192": 0.8368613692878402,
         "193": 0.8496406250000005,
         "194": 0.112867000272331,
         "195": -0.008334133306099917,
         "196": 0.3475015148420488,
         "197": 0.8597888555976799,
         "198": 0.4941598583878005,
         "199": -0.04435083061002165,
         "2": 0,
         "20": 0,
         "200": 0,
         "201": 0,
         "202": 0,
         "203": -0.03102604166666711,
         "204": 0.507026194852941,
         "205": 0.90749988085512,
         "206": 0.2153069342320267,
         "207": -0.02719823896294508,
         "208": 5.755653760423576e-19,
         "209": 0.0008195465686274678,
         "21": 0,
         "210": -0.02965771377995745,
         "211": 0.2246098005174294,
         "212": 0.9636700671259496,
         "213": 0.7386277403322445,
         "214": 0.3078190359477128,
         "215": 0.7441470247821359,
         "216": 1.027865740740741,
         "217": 1.026602156455098,
         "218": 0.4173706427015258,
         "219": -0.03849996595860554,
         "22": 0,
         "220": 0,
         "221": 0,
         "222": 0,
         "223": -0.04314368872549075,
         "224": 0.7272921262254901,
         "225": 0.9312717354302836,
         "226": 0.2116717218137262,
         "227": -0.027027027027027268,
         "228": 8.476307189541902e-05,
         "229": -0.009613119553376926,
         "23": 0,
         "230": 0.02080295138888845,
         "231": 0.6076598243464062,
         "232": 1.0102317475846891,
         "233": 0.9782443661492376,
         "234": 0.9977756672113292,
         "235": 0.9882869349128536,
         "236": 0.7867427832244002,
         "237": 0.4444854469854463,
         "238": 0.01288407203159054,
         "239": -0.00243523624727668,
         "24": 0,
         "240": 0,
         "241": 0,
         "242": 0,
         "243": -0.03959953732012608,
         "244": 0.66239097128803,
         "245": 0.9286543217425572,
         "246": 0.2174679657032604,
         "247": -0.02707253777328399,
         "248": -0.01020795116383354,
         "249": -0.057926789912084324,
         "25": 0,
         "250": 0.3479500767736061,
         "251": 0.9675328156210512,
         "252": 1.014487028208442,
         "253": 1.0045690147160742,
         "254": 0.7326276955688721,
         "255": 0.2604631045072222,
         "256": 0.054378592393298016,
         "257": -0.0063774539254547865,
         "258": -0.006387835799600561,
         "259": 0.00047898577310342304,
         "26": 0,
         "260": 0,
         "261": 0,
         "262": 0,
         "263": -0.02113863357843174,
         "264": 0.3164638991013073,
         "265": 0.9876737983387806,
         "266": 0.3469510825163403,
         "267": -0.0619896253719784,
         "268": 0.04426981209150378,
         "269": 0.3599729711328971,
         "27": 0,
         "270": 0.8593436648965139,
         "271": 1.037655501089324,
         "272": 0.9291035492506082,
         "273": 0.4102832244008726,
         "274": 0.042371578839869466,
         "275": -0.0288638684640523,
         "276": -0.012386982570806141,
         "277": -0.0036975323740029704,
         "278": 0.0002110566448801745,
         "279": 0,
         "28": 0,
         "280": 0,
         "281": 0,
         "282": 0,
         "283": -0.007657373366013276,
         "284": 0.06947474128540294,
         "285": 0.9082759055010902,
         "286": 0.6728298951525057,
         "287": 0.1377284864049567,
         "288": 0.6409086158769073,
         "289": 1.016186325571895,
         "29": 0,
         "290": 1.0322511574074078,
         "291": 0.72772511574074,
         "292": 0.2985308725014602,
         "293": -0.04432495915032661,
         "294": -0.006153407543572958,
         "295": 0.0008493327886710207,
         "296": 2.553104575163217e-06,
         "297": 0,
         "298": 0,
         "299": 0,
         "3": 0,
         "30": 0,
         "300": 0,
         "301": 0,
         "302": 0,
         "303": -0.0019035947712419013,
         "304": -0.007638497412854024,
         "305": 0.4356387186819177,
         "306": 0.9405100081699341,
         "307": 0.9247530505618738,
         "308": 1.0155294458061,
         "309": 0.974221490332244,
         "31": 0,
         "310": 0.5188257591230939,
         "311": 0.07669791666666691,
         "312": -0.02739037680214156,
         "313": -0.0005783632897603586,
         "314": 6.127450980392136e-05,
         "315": 0,
         "316": 0,
         "317": 0,
         "318": 0,
         "319": 0,
         "32": 0,
         "320": 0,
         "321": 0,
         "322": 0,
         "323": 0.0001446078431372575,
         "324": -0.007528747957516295,
         "325": -0.004943899782135654,
         "326": 0.5136781896786479,
         "327": 1.027817013846425,
         "328": 0.9604321384803912,
         "329": 0.4194611757897596,
         "33": 0,
         "330": -0.0226645561002179,
         "331": -0.01066855596405189,
         "332": -0.00036280624515911433,
         "333": 5.310457516339494e-05,
         "334": 0,
         "335": 0,
         "336": 0,
         "337": 0,
         "338": 0,
         "339": 0,
         "34": 0,
         "340": 0,
         "341": 0,
         "342": 0,
         "343": 0,
         "344": 0.0006915739268680512,
         "345": -0.01051319418966501,
         "346": 0.03640509287568069,
         "347": 0.2338055009694974,
         "348": 0.20465577568518697,
         "349": 0.004077374886198068,
         "35": 0,
         "350": -0.00908289511230689,
         "351": 0.0003130732542497131,
         "352": 0,
         "353": 0,
         "354": 0,
         "355": 0,
         "356": 0,
         "357": 0,
         "358": 0,
         "359": 0,
         "36": 0,
         "360": 0,
         "361": 0,
         "362": 0,
         "363": 0,
         "364": 6.1274509803921735e-06,
         "365": 0.0005884055010893417,
         "366": -0.006971166938997825,
         "367": -0.02040394466865058,
         "368": -0.01870898011982572,
         "369": -0.0036323869825708095,
         "37": 0,
         "370": 0.0005330882352941192,
         "371": 0,
         "372": 0,
         "373": 0,
         "374": 0,
         "375": 0,
         "376": 0,
         "377": 0,
         "378": 0,
         "379": 0,
         "38": 0,
         "380": 0,
         "381": 0,
         "382": 0,
         "383": 0,
         "384": 0,
         "385": 0,
         "386": 0,
         "387": 0,
         "388": 0,
         "389": 0,
         "39": 0,
         "390": 0,
         "391": 0,
         "392": 0,
         "393": 0,
         "394": 0,
         "395": 0,
         "396": 0,
         "397": 0,
         "398": 0,
         "399": 0,
         "4": 0,
         "40": 0,
         "41": 0,
         "42": 0,
         "43": 0,
         "44": 0,
         "45": 1.6144419605572118e-18,
         "46": 0.000154906037258981,
         "47": -0.002880550563074741,
         "48": -0.007612408788879447,
         "49": -0.007442827442827508,
         "5": 0,
         "50": -0.002960335901512395,
         "51": 0.00019322489910725182,
         "52": 0,
         "53": 0,
         "54": 0,
         "55": 0,
         "56": 0,
         "57": 0,
         "58": 0,
         "59": 0,
         "6": 0,
         "60": 0,
         "61": 0,
         "62": 0,
         "63": 5.667892156863136e-06,
         "64": 9.094158496732315e-05,
         "65": -0.0006433312908497108,
         "66": -0.01844902301198285,
         "67": -0.010035244520539159,
         "68": 0.028048543028321892,
         "69": 0.026830678104574592,
         "7": 0,
         "70": -0.009233319716776123,
         "71": -0.03549867238562136,
         "72": -0.01356457135868925,
         "73": 9.625204248364666e-05,
         "74": 5.233864379085131e-05,
         "75": 0,
         "76": 0,
         "77": 0,
         "78": 0,
         "79": 0,
         "8": 0,
         "80": 0,
         "81": 0,
         "82": 0,
         "83": 0.00014884599673203032,
         "84": -0.0027138310185185147,
         "85": -0.02785438793573033,
         "86": 0.2379037479575158,
         "87": 0.6274108441020205,
         "88": 0.7941947508169933,
         "89": 0.7871804534313724,
         "9": 0,
         "90": 0.6414238153594769,
         "91": 0.541894795070806,
         "92": 0.1783421996657289,
         "93": -0.025731328295206968,
         "94": -0.000304210920479303,
         "95": 0.00015992647058823517,
         "96": 0,
         "97": 0,
         "98": 0,
         "99": 0,
         "_deepnote_index_column": 4999,
         "label": 9
        }
       ],
       "rows_top": [
        {
         "0": 0,
         "1": 0,
         "10": 0,
         "100": 0,
         "101": 0,
         "102": 0,
         "103": 0,
         "104": 0,
         "105": 1.2833552303648469e-17,
         "106": -0.00032628676470594246,
         "107": -0.01386516040927874,
         "108": 0.08156515522875822,
         "109": 0.3828003812636172,
         "11": 0,
         "110": 0.8578497753267986,
         "111": 1.001097613698258,
         "112": 0.9697106382400508,
         "113": 0.930928598175382,
         "114": 1.003837571486929,
         "115": 0.9641573563453164,
         "116": 0.4492565529684089,
         "117": -0.005604082589377122,
         "118": -0.0037831903594771287,
         "119": 0,
         "12": 0,
         "120": 0,
         "121": 0,
         "122": 0,
         "123": 5.106209150326987e-06,
         "124": 0.00043641067538126467,
         "125": -0.003955099400871534,
         "126": -0.02685372412854042,
         "127": 0.1007550140638369,
         "128": 0.6420317095588234,
         "129": 1.0313683789488008,
         "13": 0,
         "130": 0.8509686138344228,
         "131": 0.5431223788126365,
         "132": 0.3425997377467968,
         "133": 0.268918777233116,
         "134": 0.6683746425653599,
         "135": 1.012569580610022,
         "136": 0.9037955984477112,
         "137": 0.10448157433451499,
         "138": -0.01664249727668849,
         "139": 0,
         "14": 0,
         "140": 0,
         "141": 0,
         "142": 0,
         "143": 2.5987525987527507e-05,
         "144": -0.003106069870775747,
         "145": 0.0075245607598541766,
         "146": 0.1775398305545356,
         "147": 0.792890119684788,
         "148": 0.9656265032000324,
         "149": 0.4631660789749022,
         "15": 0,
         "150": 0.06917206799559697,
         "151": -0.003641005258652664,
         "152": -0.041218040459816564,
         "153": -0.050190065631242085,
         "154": 0.1561029072058483,
         "155": 0.9017626506597092,
         "156": 1.047483456306985,
         "157": 0.1510552518257053,
         "158": -0.021604466457407708,
         "159": 0,
         "16": 0,
         "160": 0,
         "161": 0,
         "162": 5.8701235171819924e-05,
         "163": -0.0006409313725490192,
         "164": -0.03233052491830029,
         "165": 0.2782034654139441,
         "166": 0.9367201627178646,
         "167": 1.043209561371326,
         "168": 0.5980032169117634,
         "169": -0.0035940904139435273,
         "17": 0,
         "170": -0.02167517701525059,
         "171": -0.00481021922657953,
         "172": 6.165667930374212e-05,
         "173": -0.01237733183551167,
         "174": 0.1554774816176477,
         "175": 0.914867476851852,
         "176": 0.9204013480392148,
         "177": 0.1091739024091961,
         "178": -0.01710580065359481,
         "179": 0,
         "18": 0,
         "180": 0,
         "181": 0.0001562500000000004,
         "182": -0.0004277241041946877,
         "183": -0.025146650326797568,
         "184": 0.1305325605936821,
         "185": 0.7816648624727675,
         "186": 1.0283658258442259,
         "187": 0.7571376014023069,
         "188": 0.2846671943082782,
         "189": 0.004868651279956468,
         "19": 0,
         "190": -0.003186887254901963,
         "191": 0,
         "192": 0.0008364926011984907,
         "193": -0.03707511233660105,
         "194": 0.4526441653050114,
         "195": 1.031801334422658,
         "196": 0.539028101171023,
         "197": -0.002437426113897104,
         "198": -0.004802900326797398,
         "199": 0,
         "2": 0,
         "20": 0,
         "200": 0,
         "201": -0.0007036356209150228,
         "202": -0.01272624434389169,
         "203": 0.1617066482843129,
         "204": 0.7798653833061004,
         "205": 1.036767054738563,
         "206": 0.8044904003267973,
         "207": 0.1605867236014289,
         "208": -0.01381733387799584,
         "209": 0.002148794934640509,
         "21": 0,
         "210": -0.0002126225490196059,
         "211": 0.000204248366013082,
         "212": -0.006859076270841104,
         "213": 0.00043171296296251165,
         "214": 0.7206809470315907,
         "215": 0.8481360634531595,
         "216": 0.1513834082244003,
         "217": -0.02284043659043678,
         "218": 0.00019897194989107,
         "219": 0,
         "22": 0,
         "220": 0,
         "221": -0.009404105392156898,
         "222": 0.03745205046675607,
         "223": 0.694389110157952,
         "224": 1.028448444308279,
         "225": 1.016480664488018,
         "226": 0.8804884259259267,
         "227": 0.3921239452121807,
         "228": -0.01741224128540313,
         "229": -0.000120098039215678,
         "23": 0,
         "230": 5.552151416122533e-05,
         "231": -0.002239072712418317,
         "232": -0.027606837606837933,
         "233": 0.3686454929193897,
         "234": 0.9364111689814814,
         "235": 0.4590067231753815,
         "236": -0.0424701797385617,
         "237": 0.001173566100036701,
         "238": 1.889297385620793e-05,
         "239": 0,
         "24": 0,
         "240": 0,
         "241": -0.01935119508648927,
         "242": 0.1299997940575167,
         "243": 0.9798217051893526,
         "244": 0.941862388406506,
         "245": 0.7751477042653513,
         "246": 0.8736322408381236,
         "247": 0.2127783496989805,
         "248": -0.0172353348823938,
         "249": 0,
         "25": 0,
         "250": 0.00109937426113894,
         "251": -0.026179375076434083,
         "252": 0.1228728789937051,
         "253": 0.8308126622097207,
         "254": 0.726501773266479,
         "255": 0.052444186267715735,
         "256": -0.006189719130895343,
         "257": 0,
         "258": 0,
         "259": 0,
         "26": 0,
         "260": 0,
         "261": -0.00936563861655777,
         "262": 0.03683497411438559,
         "263": 0.6990792994281047,
         "264": 1.002935831971677,
         "265": 0.6057044015522872,
         "266": 0.3272992238562096,
         "267": -0.03220992485698378,
         "268": -0.04830530024509793,
         "269": -0.04340691380718942,
         "27": 0,
         "270": -0.05751511437908536,
         "271": 0.0955674189814816,
         "272": 0.7265126268802737,
         "273": 0.6953669662309376,
         "274": 0.1471144812091507,
         "275": -0.012004867919389959,
         "276": -0.0003027982026143288,
         "277": 0,
         "278": 0,
         "279": 0,
         "28": 0,
         "280": 0,
         "281": -0.0006765727124183023,
         "282": -0.0065141555582733,
         "283": 0.1173393586601302,
         "284": 0.4219484102668841,
         "285": 0.9932109375,
         "286": 0.8820139739923745,
         "287": 0.7457587338469692,
         "288": 0.7238742681100221,
         "289": 0.7233417245370375,
         "29": 0,
         "290": 0.7200203397331155,
         "291": 0.8453249591503271,
         "292": 0.8318597386979739,
         "293": 0.06888318695533797,
         "294": -0.02777650122549008,
         "295": 0.0003591367102396456,
         "296": 7.148692810457008e-05,
         "297": 0,
         "298": 0,
         "299": 0,
         "3": 0,
         "30": 0,
         "300": 0,
         "301": 0.00015318627450980433,
         "302": 0.0003173535526476848,
         "303": -0.02291671772875825,
         "304": -0.00414402913943351,
         "305": 0.3870384497549024,
         "306": 0.5045834354575163,
         "307": 0.7748858756946994,
         "308": 0.9900374455337696,
         "309": 1.007694784858388,
         "31": 0,
         "310": 1.008514399509804,
         "311": 0.737905041530501,
         "312": 0.2154552912641149,
         "313": -0.02696248638344225,
         "314": 0.001325061274509799,
         "315": 0,
         "316": 0,
         "317": 0,
         "318": 0,
         "319": 0,
         "32": 0,
         "320": 0,
         "321": 0,
         "322": 0,
         "323": 0.00023636642156862843,
         "324": -0.002260314542483585,
         "325": -0.02519944852941157,
         "326": -0.03738899101307168,
         "327": 0.06621212275624025,
         "328": 0.2911344975490192,
         "329": 0.3230557257625266,
         "33": 0,
         "330": 0.3062603145424832,
         "331": 0.08760709422657921,
         "332": -0.02505819167583859,
         "333": 0.00023743872549018857,
         "334": 0,
         "335": 0,
         "336": 0,
         "337": 0,
         "338": 0,
         "339": 0,
         "34": 0,
         "340": 0,
         "341": 0,
         "342": 0,
         "343": 0,
         "344": 0,
         "345": 6.209392155989279e-18,
         "346": 0.0006726183196771541,
         "347": -0.01131514106932974,
         "348": -0.035464106640577565,
         "349": -0.0388214911744327,
         "35": 0,
         "350": -0.03710774122538864,
         "351": -0.013352492764257571,
         "352": 0.0009909647184931734,
         "353": 4.8917695976520094e-05,
         "354": 0,
         "355": 0,
         "356": 0,
         "357": 0,
         "358": 0,
         "359": 0,
         "36": 0,
         "360": 0,
         "361": 0,
         "362": 0,
         "363": 0,
         "364": 0,
         "365": 0,
         "366": 0,
         "367": 0,
         "368": 0,
         "369": 0,
         "37": 0,
         "370": 0,
         "371": 0,
         "372": 0,
         "373": 0,
         "374": 0,
         "375": 0,
         "376": 0,
         "377": 0,
         "378": 0,
         "379": 0,
         "38": 0,
         "380": 0,
         "381": 0,
         "382": 0,
         "383": 0,
         "384": 0,
         "385": 0,
         "386": 0,
         "387": 0,
         "388": 0,
         "389": 0,
         "39": 0,
         "390": 0,
         "391": 0,
         "392": 0,
         "393": 0,
         "394": 0,
         "395": 0,
         "396": 0,
         "397": 0,
         "398": 0,
         "399": 0,
         "4": 0,
         "40": 0,
         "41": 0,
         "42": 0,
         "43": 0,
         "44": 0,
         "45": 0,
         "46": 0,
         "47": 0,
         "48": 0,
         "49": 0,
         "5": 0,
         "50": 0,
         "51": 0,
         "52": 0,
         "53": 0,
         "54": 0,
         "55": 0,
         "56": 0,
         "57": 0,
         "58": 0,
         "59": 0,
         "6": 0,
         "60": 0,
         "61": 0,
         "62": 0,
         "63": 0,
         "64": 0,
         "65": 0,
         "66": 0,
         "67": 8.560596795891286e-06,
         "68": 1.940359477121703e-06,
         "69": -0.0007374387254902338,
         "7": 0,
         "70": -0.008134037990196283,
         "71": -0.01861044730392189,
         "72": -0.01874128653540451,
         "73": -0.01875725081699379,
         "74": -0.019096354166667,
         "75": -0.01640390114379115,
         "76": -0.003781913807189632,
         "77": 0.00033034731564144336,
         "78": 1.276552287581747e-05,
         "79": 0,
         "8": 0,
         "80": 0,
         "81": 0,
         "82": 0,
         "83": 0,
         "84": 0,
         "85": 0,
         "86": 0.00011642156862745129,
         "87": 0.00012005217887571821,
         "88": -0.01404445806100217,
         "89": -0.02845424836601306,
         "9": 0,
         "90": 0.08038265931372544,
         "91": 0.2665403390522875,
         "92": 0.2738537462802167,
         "93": 0.2787295411220042,
         "94": 0.2742936070261437,
         "95": 0.2246764025054466,
         "96": 0.02775629765795196,
         "97": -0.007063154783743061,
         "98": 0.00023471541394335592,
         "99": 0,
         "_deepnote_index_column": 0,
         "label": 0
        }
       ]
      },
      "text/html": [
       "<div>\n",
       "<style scoped>\n",
       "    .dataframe tbody tr th:only-of-type {\n",
       "        vertical-align: middle;\n",
       "    }\n",
       "\n",
       "    .dataframe tbody tr th {\n",
       "        vertical-align: top;\n",
       "    }\n",
       "\n",
       "    .dataframe thead th {\n",
       "        text-align: right;\n",
       "    }\n",
       "</style>\n",
       "<table border=\"1\" class=\"dataframe\">\n",
       "  <thead>\n",
       "    <tr style=\"text-align: right;\">\n",
       "      <th></th>\n",
       "      <th>0</th>\n",
       "      <th>1</th>\n",
       "      <th>2</th>\n",
       "      <th>3</th>\n",
       "      <th>4</th>\n",
       "      <th>5</th>\n",
       "      <th>6</th>\n",
       "      <th>7</th>\n",
       "      <th>8</th>\n",
       "      <th>9</th>\n",
       "      <th>...</th>\n",
       "      <th>391</th>\n",
       "      <th>392</th>\n",
       "      <th>393</th>\n",
       "      <th>394</th>\n",
       "      <th>395</th>\n",
       "      <th>396</th>\n",
       "      <th>397</th>\n",
       "      <th>398</th>\n",
       "      <th>399</th>\n",
       "      <th>label</th>\n",
       "    </tr>\n",
       "  </thead>\n",
       "  <tbody>\n",
       "    <tr>\n",
       "      <th>0</th>\n",
       "      <td>0</td>\n",
       "      <td>0</td>\n",
       "      <td>0.0</td>\n",
       "      <td>0.0</td>\n",
       "      <td>0.0</td>\n",
       "      <td>0.0</td>\n",
       "      <td>0.0</td>\n",
       "      <td>0.0</td>\n",
       "      <td>0.0</td>\n",
       "      <td>0.0</td>\n",
       "      <td>...</td>\n",
       "      <td>0.0</td>\n",
       "      <td>0.0</td>\n",
       "      <td>0.0</td>\n",
       "      <td>0.0</td>\n",
       "      <td>0.0</td>\n",
       "      <td>0.0</td>\n",
       "      <td>0.0</td>\n",
       "      <td>0.0</td>\n",
       "      <td>0</td>\n",
       "      <td>0</td>\n",
       "    </tr>\n",
       "    <tr>\n",
       "      <th>1</th>\n",
       "      <td>0</td>\n",
       "      <td>0</td>\n",
       "      <td>0.0</td>\n",
       "      <td>0.0</td>\n",
       "      <td>0.0</td>\n",
       "      <td>0.0</td>\n",
       "      <td>0.0</td>\n",
       "      <td>0.0</td>\n",
       "      <td>0.0</td>\n",
       "      <td>0.0</td>\n",
       "      <td>...</td>\n",
       "      <td>0.0</td>\n",
       "      <td>0.0</td>\n",
       "      <td>0.0</td>\n",
       "      <td>0.0</td>\n",
       "      <td>0.0</td>\n",
       "      <td>0.0</td>\n",
       "      <td>0.0</td>\n",
       "      <td>0.0</td>\n",
       "      <td>0</td>\n",
       "      <td>0</td>\n",
       "    </tr>\n",
       "    <tr>\n",
       "      <th>2</th>\n",
       "      <td>0</td>\n",
       "      <td>0</td>\n",
       "      <td>0.0</td>\n",
       "      <td>0.0</td>\n",
       "      <td>0.0</td>\n",
       "      <td>0.0</td>\n",
       "      <td>0.0</td>\n",
       "      <td>0.0</td>\n",
       "      <td>0.0</td>\n",
       "      <td>0.0</td>\n",
       "      <td>...</td>\n",
       "      <td>0.0</td>\n",
       "      <td>0.0</td>\n",
       "      <td>0.0</td>\n",
       "      <td>0.0</td>\n",
       "      <td>0.0</td>\n",
       "      <td>0.0</td>\n",
       "      <td>0.0</td>\n",
       "      <td>0.0</td>\n",
       "      <td>0</td>\n",
       "      <td>0</td>\n",
       "    </tr>\n",
       "    <tr>\n",
       "      <th>3</th>\n",
       "      <td>0</td>\n",
       "      <td>0</td>\n",
       "      <td>0.0</td>\n",
       "      <td>0.0</td>\n",
       "      <td>0.0</td>\n",
       "      <td>0.0</td>\n",
       "      <td>0.0</td>\n",
       "      <td>0.0</td>\n",
       "      <td>0.0</td>\n",
       "      <td>0.0</td>\n",
       "      <td>...</td>\n",
       "      <td>0.0</td>\n",
       "      <td>0.0</td>\n",
       "      <td>0.0</td>\n",
       "      <td>0.0</td>\n",
       "      <td>0.0</td>\n",
       "      <td>0.0</td>\n",
       "      <td>0.0</td>\n",
       "      <td>0.0</td>\n",
       "      <td>0</td>\n",
       "      <td>0</td>\n",
       "    </tr>\n",
       "    <tr>\n",
       "      <th>4</th>\n",
       "      <td>0</td>\n",
       "      <td>0</td>\n",
       "      <td>0.0</td>\n",
       "      <td>0.0</td>\n",
       "      <td>0.0</td>\n",
       "      <td>0.0</td>\n",
       "      <td>0.0</td>\n",
       "      <td>0.0</td>\n",
       "      <td>0.0</td>\n",
       "      <td>0.0</td>\n",
       "      <td>...</td>\n",
       "      <td>0.0</td>\n",
       "      <td>0.0</td>\n",
       "      <td>0.0</td>\n",
       "      <td>0.0</td>\n",
       "      <td>0.0</td>\n",
       "      <td>0.0</td>\n",
       "      <td>0.0</td>\n",
       "      <td>0.0</td>\n",
       "      <td>0</td>\n",
       "      <td>0</td>\n",
       "    </tr>\n",
       "    <tr>\n",
       "      <th>...</th>\n",
       "      <td>...</td>\n",
       "      <td>...</td>\n",
       "      <td>...</td>\n",
       "      <td>...</td>\n",
       "      <td>...</td>\n",
       "      <td>...</td>\n",
       "      <td>...</td>\n",
       "      <td>...</td>\n",
       "      <td>...</td>\n",
       "      <td>...</td>\n",
       "      <td>...</td>\n",
       "      <td>...</td>\n",
       "      <td>...</td>\n",
       "      <td>...</td>\n",
       "      <td>...</td>\n",
       "      <td>...</td>\n",
       "      <td>...</td>\n",
       "      <td>...</td>\n",
       "      <td>...</td>\n",
       "      <td>...</td>\n",
       "      <td>...</td>\n",
       "    </tr>\n",
       "    <tr>\n",
       "      <th>4995</th>\n",
       "      <td>0</td>\n",
       "      <td>0</td>\n",
       "      <td>0.0</td>\n",
       "      <td>0.0</td>\n",
       "      <td>0.0</td>\n",
       "      <td>0.0</td>\n",
       "      <td>0.0</td>\n",
       "      <td>0.0</td>\n",
       "      <td>0.0</td>\n",
       "      <td>0.0</td>\n",
       "      <td>...</td>\n",
       "      <td>0.0</td>\n",
       "      <td>0.0</td>\n",
       "      <td>0.0</td>\n",
       "      <td>0.0</td>\n",
       "      <td>0.0</td>\n",
       "      <td>0.0</td>\n",
       "      <td>0.0</td>\n",
       "      <td>0.0</td>\n",
       "      <td>0</td>\n",
       "      <td>9</td>\n",
       "    </tr>\n",
       "    <tr>\n",
       "      <th>4996</th>\n",
       "      <td>0</td>\n",
       "      <td>0</td>\n",
       "      <td>0.0</td>\n",
       "      <td>0.0</td>\n",
       "      <td>0.0</td>\n",
       "      <td>0.0</td>\n",
       "      <td>0.0</td>\n",
       "      <td>0.0</td>\n",
       "      <td>0.0</td>\n",
       "      <td>0.0</td>\n",
       "      <td>...</td>\n",
       "      <td>0.0</td>\n",
       "      <td>0.0</td>\n",
       "      <td>0.0</td>\n",
       "      <td>0.0</td>\n",
       "      <td>0.0</td>\n",
       "      <td>0.0</td>\n",
       "      <td>0.0</td>\n",
       "      <td>0.0</td>\n",
       "      <td>0</td>\n",
       "      <td>9</td>\n",
       "    </tr>\n",
       "    <tr>\n",
       "      <th>4997</th>\n",
       "      <td>0</td>\n",
       "      <td>0</td>\n",
       "      <td>0.0</td>\n",
       "      <td>0.0</td>\n",
       "      <td>0.0</td>\n",
       "      <td>0.0</td>\n",
       "      <td>0.0</td>\n",
       "      <td>0.0</td>\n",
       "      <td>0.0</td>\n",
       "      <td>0.0</td>\n",
       "      <td>...</td>\n",
       "      <td>0.0</td>\n",
       "      <td>0.0</td>\n",
       "      <td>0.0</td>\n",
       "      <td>0.0</td>\n",
       "      <td>0.0</td>\n",
       "      <td>0.0</td>\n",
       "      <td>0.0</td>\n",
       "      <td>0.0</td>\n",
       "      <td>0</td>\n",
       "      <td>9</td>\n",
       "    </tr>\n",
       "    <tr>\n",
       "      <th>4998</th>\n",
       "      <td>0</td>\n",
       "      <td>0</td>\n",
       "      <td>0.0</td>\n",
       "      <td>0.0</td>\n",
       "      <td>0.0</td>\n",
       "      <td>0.0</td>\n",
       "      <td>0.0</td>\n",
       "      <td>0.0</td>\n",
       "      <td>0.0</td>\n",
       "      <td>0.0</td>\n",
       "      <td>...</td>\n",
       "      <td>0.0</td>\n",
       "      <td>0.0</td>\n",
       "      <td>0.0</td>\n",
       "      <td>0.0</td>\n",
       "      <td>0.0</td>\n",
       "      <td>0.0</td>\n",
       "      <td>0.0</td>\n",
       "      <td>0.0</td>\n",
       "      <td>0</td>\n",
       "      <td>9</td>\n",
       "    </tr>\n",
       "    <tr>\n",
       "      <th>4999</th>\n",
       "      <td>0</td>\n",
       "      <td>0</td>\n",
       "      <td>0.0</td>\n",
       "      <td>0.0</td>\n",
       "      <td>0.0</td>\n",
       "      <td>0.0</td>\n",
       "      <td>0.0</td>\n",
       "      <td>0.0</td>\n",
       "      <td>0.0</td>\n",
       "      <td>0.0</td>\n",
       "      <td>...</td>\n",
       "      <td>0.0</td>\n",
       "      <td>0.0</td>\n",
       "      <td>0.0</td>\n",
       "      <td>0.0</td>\n",
       "      <td>0.0</td>\n",
       "      <td>0.0</td>\n",
       "      <td>0.0</td>\n",
       "      <td>0.0</td>\n",
       "      <td>0</td>\n",
       "      <td>9</td>\n",
       "    </tr>\n",
       "  </tbody>\n",
       "</table>\n",
       "<p>5000 rows × 401 columns</p>\n",
       "</div>"
      ],
      "text/plain": [
       "      0  1    2    3    4    5    6    7    8    9  ...  391  392  393  394  \\\n",
       "0     0  0  0.0  0.0  0.0  0.0  0.0  0.0  0.0  0.0  ...  0.0  0.0  0.0  0.0   \n",
       "1     0  0  0.0  0.0  0.0  0.0  0.0  0.0  0.0  0.0  ...  0.0  0.0  0.0  0.0   \n",
       "2     0  0  0.0  0.0  0.0  0.0  0.0  0.0  0.0  0.0  ...  0.0  0.0  0.0  0.0   \n",
       "3     0  0  0.0  0.0  0.0  0.0  0.0  0.0  0.0  0.0  ...  0.0  0.0  0.0  0.0   \n",
       "4     0  0  0.0  0.0  0.0  0.0  0.0  0.0  0.0  0.0  ...  0.0  0.0  0.0  0.0   \n",
       "...  .. ..  ...  ...  ...  ...  ...  ...  ...  ...  ...  ...  ...  ...  ...   \n",
       "4995  0  0  0.0  0.0  0.0  0.0  0.0  0.0  0.0  0.0  ...  0.0  0.0  0.0  0.0   \n",
       "4996  0  0  0.0  0.0  0.0  0.0  0.0  0.0  0.0  0.0  ...  0.0  0.0  0.0  0.0   \n",
       "4997  0  0  0.0  0.0  0.0  0.0  0.0  0.0  0.0  0.0  ...  0.0  0.0  0.0  0.0   \n",
       "4998  0  0  0.0  0.0  0.0  0.0  0.0  0.0  0.0  0.0  ...  0.0  0.0  0.0  0.0   \n",
       "4999  0  0  0.0  0.0  0.0  0.0  0.0  0.0  0.0  0.0  ...  0.0  0.0  0.0  0.0   \n",
       "\n",
       "      395  396  397  398  399  label  \n",
       "0     0.0  0.0  0.0  0.0    0      0  \n",
       "1     0.0  0.0  0.0  0.0    0      0  \n",
       "2     0.0  0.0  0.0  0.0    0      0  \n",
       "3     0.0  0.0  0.0  0.0    0      0  \n",
       "4     0.0  0.0  0.0  0.0    0      0  \n",
       "...   ...  ...  ...  ...  ...    ...  \n",
       "4995  0.0  0.0  0.0  0.0    0      9  \n",
       "4996  0.0  0.0  0.0  0.0    0      9  \n",
       "4997  0.0  0.0  0.0  0.0    0      9  \n",
       "4998  0.0  0.0  0.0  0.0    0      9  \n",
       "4999  0.0  0.0  0.0  0.0    0      9  \n",
       "\n",
       "[5000 rows x 401 columns]"
      ]
     },
     "execution_count": 3,
     "metadata": {},
     "output_type": "execute_result"
    }
   ],
   "source": [
    "df = features.copy()\n",
    "df[\"label\"] = labels\n",
    "df"
   ]
  },
  {
   "cell_type": "markdown",
   "metadata": {
    "cell_id": "00002-1d6255e9-14f4-4ef4-8f2d-4ada4f72d16a",
    "deepnote_cell_type": "markdown",
    "tags": []
   },
   "source": [
    "## 2. FFNN Implementation\n",
    "\n",
    "To implement our image classifier with a FFNN, we created two different classes, **Layer** and **NeuralNetwork**.      \n",
    "In this first part, the **NeuralNetwork** class is only working for 3 layers: an input layer, a hidden layer and an output layer.  \n",
    "We will then generalize in our second part this class in order to use it for as many layers as we want. \n",
    "\n",
    "### 2.1. Layer class\n",
    "\n",
    "**Layer** class is used to instanciate a layer, we have created also two child classes: **InputLayer** and **OutputLayer**.  \n",
    "Depending on the classes, the forward and backward functions may be different.\n",
    "\n",
    "We will explain the several methods of our classes and then present the entire code of the class.   \n",
    "\n",
    "#### 2.1.1. Initialization of Layer classes\n",
    "\n",
    "The input layer is not initialized because it does not have associated weights. \n",
    "\n",
    "##### Hidden layers and output layer \n",
    "\n",
    "In order to create those layers, we need: the number of inputs `n_inputs` and the number of nodes `n_neurons`. \n",
    "One can also define a random state `random_state`, with a default value at 42. Using `random_state`, we ensure that the splits we generate\n",
    "for test and train dataset will be reproducible.\n",
    "\n",
    "``` python \n",
    "    np.random.seed(random_state)\n",
    "```\n",
    "\n",
    "We decided to create the weight matrix `w` during the initialization of the hidden and output layers. \n",
    "We instance the weight `w` based on our parameters. \n",
    "\n",
    "``` python \n",
    "    self.w = np.matrix(np.random.randn(n_neurons, n_inputs + 1))\n",
    "```\n",
    "\n",
    "##### Input layer \n",
    "\n",
    "As the input layer takes the values of the features, we don't need to instance it with a number of inputs and nodes. \n",
    "We also won't create the weight matrix `w` in this layer, as it is created in hidden and output layers. \n",
    "\n",
    "\n",
    "#### 2.1.2. Sigmoid and derivative of the sigmoid\n",
    "\n",
    "We decide to use the sigmoid as the **activation function**.  \n",
    "The sigmoid is used during the forward propagation whereas the derivative of the \n",
    "sigmoid is used for the backward propagation.\n",
    "\n",
    "##### Sigmoid \n",
    "\n",
    "The formula of the sigmoid is $ a^{i} = g(z^{i}) = \\frac{1}{1 + e^{-z^{i}}}$.\n",
    "Which gives us:\n",
    "``` python\n",
    "    1 / (1 + np.exp(-x))\n",
    "```\n",
    "\n",
    "##### Derivative of the sigmoid \n",
    "\n",
    "For the derivative of the sigmoid, we have :\n",
    "$ g'(z^{i}) = a^{i} * (1 - a^{i}) $\n",
    "\n",
    "In python, we have to use `np.multiply` to do the element wise multiplication:\n",
    "\n",
    "``` python\n",
    "    np.multiply(x, (1 - x)\n",
    "```\n",
    "\n",
    "#### 2.1.3. Forward propagation \n",
    "\n",
    "Depending on the type of layer, the calculus of the forward propagation changes.\n",
    "\n",
    "##### Input layer \n",
    "\n",
    "For the input layer, as our input data corresponds to the features values, we only have to save them as the output of the forward function.  \n",
    "In fact, we have the following formula:   \n",
    "$ a^{1} = x $ with $x$ the inputs and $a$ the outputs of the layer. \n",
    "\n",
    "We use `np.insert()` in order to insert a line of ones corresponding to the bias.\n",
    "\n",
    "``` python \n",
    "    self.output = np.insert(inputs, 0, 1, axis=0)\n",
    "```\n",
    "\n",
    "##### Hidden layer and output layer \n",
    "\n",
    "Whereas, for hidden and output layer, we have to do:    \n",
    "$ a^{i} =  sigmoid(z^{i}) $    \n",
    "with $ z^{i} = W^{i-1} a^{i-1}$ \n",
    "\n",
    "Which gives us:\n",
    "``` python \n",
    "    z = self.w * inputs\n",
    "    a = self.sigmoid(z)\n",
    "```\n",
    "\n",
    "For the hidden layer, we have to add a line of `1` in order to create the bias.  \n",
    "```python \n",
    "    self.output = np.insert(a, 0, 1, axis=0)\n",
    "```\n",
    "\n",
    "#### 2.1.4. Backward propagation \n",
    "\n",
    "For the backward propagation, we go from the end to the beginning of the FFNN, we won't have\n",
    "the same formula for the output layer and the hidden and input layers. \n",
    "\n",
    "When we implement the NeuralNetwork, we have to update the weight associated to layers. \n",
    "But if we only focus on the layers, during the backward propagation, we only have to update the errors.\n",
    "\n",
    "##### Output layer \n",
    "\n",
    "For the output layer, we know that:   \n",
    "$ \\delta^{n} = a{^n} - y $\n",
    "\n",
    "For the function, we have a parameter, `y`  corresponding to the labels outputs of the dataset. \n",
    "\n",
    "We reuse $a$, calculated during the forward propagation, and stored in `self.output`. \n",
    "\n",
    "``` python\n",
    "    self.error = self.output - y\n",
    "```\n",
    "\n",
    "##### Input layer and hidden layer \n",
    "\n",
    "For the input and hidden layers, the calculus were more complex.  \n",
    "With $i < n $ :\n",
    "$ \\delta^{i} = (W^{i})^{T}.delta^{i+1} * sigmoid' (W^{i} a^{i}) $   \n",
    "\n",
    "The parameters of the function are `next_w` and `next_error` which are the respective values of $W^{i}$ \n",
    "and $delta^{i+1}$.\n",
    "\n",
    "To do so, we decide to firstly calculate the derivate and stored it in `deriv`, and then\n",
    "calculate the error stored in `self.error`.\n",
    "\n",
    "We have to use `np.multiply` as we have to do element-wise multiplication.\n",
    "\n",
    "``` python\n",
    "    deriv = self.sigmoid_deriv(self.output)\n",
    "    error = np.multiply(next_w.T * next_error, deriv)\n",
    "```\n",
    "\n",
    "Moreover, we have to drop the first line of the previous error due to the bias to match the dimension of `self.output`. \n",
    "```python\n",
    "    self.error = np.delete(error, 0, axis=0)\n",
    "```\n",
    "\n",
    "#### 2.1.5. Code of the layer class\n"
   ]
  },
  {
   "cell_type": "code",
   "execution_count": 4,
   "metadata": {
    "cell_id": "00003-83a04baa-a809-43e1-9e95-8e27afa3779a",
    "deepnote_cell_type": "code",
    "deepnote_to_be_reexecuted": false,
    "execution_millis": 2,
    "execution_start": 1610012128848,
    "output_cleared": false,
    "source_hash": "1abb2a6b",
    "tags": []
   },
   "outputs": [],
   "source": [
    "class Layer:\n",
    "    def __init__(self, n_inputs, n_neurons, random_state=42):\n",
    "        np.random.seed(random_state)\n",
    "        self.w = np.matrix(np.random.randn(n_neurons, n_inputs + 1))\n",
    "\n",
    "    def sigmoid(self, x):\n",
    "        return 1 / (1 + np.exp(-x))\n",
    "\n",
    "    def sigmoid_deriv(self, x):\n",
    "        return np.multiply(x, (1 - x))\n",
    "\n",
    "    def forward(self, inputs):\n",
    "        z = self.w * inputs\n",
    "        a = self.sigmoid(z)\n",
    "        self.output = np.insert(a, 0, 1, axis=0)\n",
    "\n",
    "    def backward(self, next_w, next_error):\n",
    "        deriv = self.sigmoid_deriv(self.output)\n",
    "        error = np.multiply(next_w.T * next_error, deriv)\n",
    "        self.error = np.delete(error, 0, axis=0)\n",
    "        \n",
    "class InputLayer(Layer):\n",
    "    def __init__(self):\n",
    "        pass\n",
    "\n",
    "    def forward(self, inputs):\n",
    "        self.output = np.insert(inputs, 0, 1, axis=0)\n",
    "\n",
    "class OutputLayer(Layer):\n",
    "    def forward(self, inputs):\n",
    "        z = self.w * inputs\n",
    "        a = self.sigmoid(z)\n",
    "        self.output = a\n",
    "    \n",
    "    def backward(self, y):\n",
    "        self.error = self.output - y"
   ]
  },
  {
   "cell_type": "markdown",
   "metadata": {
    "cell_id": "00004-c411615d-4a69-4f72-89ba-b3953a4b14a0",
    "deepnote_cell_type": "markdown",
    "output_cleared": false,
    "tags": []
   },
   "source": [
    "### 2.2. NeuralNetwork class\n",
    "\n",
    "NeuralNetwork class is used to instance feed forward neural network (FFNN).  \n",
    "We implement it using 3 layers: one input layer, one hidden layer and one output layer.\n",
    "\n",
    "#### 2.2.1. Initialization of NeuralNetwork\n",
    "\n",
    "##### Initialization \n",
    "\n",
    "For the initialization, we need 3 parameters: the features and labels stored in `df`, the number of neurons `n_neurons` and  the random state `random_state` and `test_size` which \n",
    "with respectivelly default values at 42 and 0,2.\n",
    "\n",
    "As we have done before in the previous lab, we take the dataset as a parameter and split it in X and y train and test dataset.\n",
    "`X`is our features and `y` the labels: the last column of the dataset. \n",
    "We save the number of observations as `m` and the number of features in `n` based on `X` shape.  \n",
    "We also set the number of output classes in `n_classes`.\n",
    "\n",
    "``` python\n",
    "        X = df.iloc[:, :-1]\n",
    "        y = df.iloc[:, -1]\n",
    "        X_train, X_test, y_train, y_test = train_test_split(X, y, test_size=test_size, random_state=random_state)\n",
    "        self.m, self.n = X_train.shape\n",
    "        self.n_classes = y.nunique()\n",
    "```\n",
    " \n",
    "We normalize `X.train`and `X_test` and dummies `y_train`and `y_test` but keep the label values in `labels_train`and `labels_test`\n",
    "to use them later.\n",
    "\n",
    "``` python\n",
    "        self.X_train = self.normalizeFeatures(X_train, fit=True).T\n",
    "        self.X_test = self.normalizeFeatures(X_test).T\n",
    "        self.y_train = np.matrix(pd.get_dummies(y_train)).T\n",
    "        self.labels_train = np.matrix(y_train)\n",
    "        self.y_test = np.matrix(pd.get_dummies(y_test)).T\n",
    "        self.labels_test = np.matrix(y_test)\n",
    "```\n",
    "\n",
    "Finally, we create the 3 layers of our FFNN, which are: one input layer, one hidden layer and one output layer.\n",
    "Knowing that for the hidden layer, we can't exceed the number of features. And we can't exceed the number of nodes for the output layer\n",
    "corresponding to the number of classes labels.\n",
    "\n",
    "``` python\n",
    "        self.layer0 = InputLayer()\n",
    "        self.layer1 = Layer(self.n, n_neurons)\n",
    "        self.layer2 = OutputLayer(n_neurons, self.n_classes)\n",
    "```\n",
    "\n",
    "##### Normalization  \n",
    "\n",
    "For the normalization, we adapt the function used in the previous lab. We store for each column its associated minimum and maximum values.  \n",
    "\n",
    "But this time, we have to take into consideration the possibility to have equal minimum and maximum. \n",
    "This brings us to an issue solved thanks to the lambda mapping. \n",
    "``` python\n",
    "    self.scaling = list(map(lambda x: (0, 1) if x[0] == x[1] else (x[0], x[1]), self.scaling))\n",
    "```\n",
    "\n",
    "We then normalize our features and return the normalize features:\n",
    "\n",
    "``` python\n",
    "    minmax = list(zip(*self.scaling))\n",
    "    min, max = np.array(minmax[0]), np.array(minmax[1])\n",
    "    np.matrix((X - min) / (max - min))\n",
    "```\n",
    "\n",
    "\n",
    "#### 2.2.2. Forward, Backward propagation and Cost function\n",
    "\n",
    "##### Forward \n",
    "\n",
    "For the forward propagation, we have to go from left to right in our FFNN. We use the **forward** function of the Layer class and \n",
    "its child classes. It actualizes the output variable of each layer.\n",
    "\n",
    "For each layer, we use the output of the previous layer, which gives us:\n",
    "\n",
    "``` python\n",
    "    self.layer0.forward(self.X)\n",
    "    self.layer1.forward(self.layer0.output)\n",
    "    self.layer2.forward(self.layer1.output)\n",
    "```\n",
    "\n",
    "##### Backward \n",
    "\n",
    "Whereas for the backward propagation, we have to go from right to left in our FFNN. \n",
    "\n",
    "As we don't have weight on layer0 (the input layer), we only have to calculate the backward propagation \n",
    "of the output and hidden layers.  \n",
    "We use the **backward** function of Layer class and its child class, which actualizes the error.\n",
    "\n",
    "``` python \n",
    "    self.layer2.backward(self.y_train)\n",
    "    self.layer1.backward(self.layer2.w, self.layer2.error)\n",
    "```\n",
    "\n",
    "##### Cost function \n",
    "\n",
    "Finally, for the cost function, based on the formula below:   \n",
    "$ J = \\frac{-1}{m} [ \\sum_{i = 1}^{m} \\sum_{k = 1}^{k}  y^{i}_k log(h_w(x^{i}))_k + (1- y^{i}_k) log(1 - h_w(x^{i}))_k  ] $\n",
    "\n",
    "Using `np.multiply`, we ensure element wise multiplication:\n",
    "\n",
    "``` python\n",
    "    y, m = self.y_train, self.m\n",
    "    -1 / m * np.sum(np.multiply(y, np.log(y_pred)) + np.multiply((1 - y), np.log(1 - y_pred)))\n",
    "```\n",
    "\n",
    "#### 2.2.3. Gradient descent \n",
    "\n",
    "##### Gradient\n",
    "\n",
    "To calculate the global gradient, we calculate the gradient of each output and hidden layers.\n",
    "It is given by:  \n",
    "$ \\Delta_{ij}^{l} = \\delta_i^{l+1}(a_j^{l})^T  $ \n",
    "\n",
    "``` python\n",
    "    grad0 = self.layer1.error * self.layer0.output.T\n",
    "    grad1 = self.layer2.error * self.layer1.output.T\n",
    "```\n",
    "\n",
    "We use it for the update of weight matrix.\n",
    "\n",
    "##### Gradient descent \n",
    "\n",
    "For the gradient descent, we have to define some hyperparameters such as the number of epochs, the threshold and the $\\alpha$ value.\n",
    "And we create lists to store the accuracy and cost result to plot them latter.  \n",
    "We need the following variables:\n",
    "``` python\n",
    "    i = 0\n",
    "    self.J = []\n",
    "    self.train_accuracy = []\n",
    "    self.test_accuracy = []\n",
    "```\n",
    "\n",
    "We do the gradient descent until convergence or until the number of epochs.\n",
    "\n",
    "We repeat until convergence the following steps:  \n",
    "The forward and backward propagation, followed by the cost function. \n",
    "We store each result of the cost function in `J` in order to plot it after and see the Cost.\n",
    "``` python\n",
    "    while True:\n",
    "        i += 1\n",
    "        self.forward(self.X_train)\n",
    "        self.backward()\n",
    "\n",
    "        self.J.append(self.costFunction(self.layer2.output))\n",
    "```\n",
    "\n",
    "Then, we update the values of the weight matrix in layer1 and layer2, as we have:  \n",
    "$ w^l = w^l - \\alpha\\Delta^l $\n",
    "\n",
    "``` python\n",
    "    grads = self.gradient()\n",
    "\n",
    "    self.layer1.w -= alpha * grads[0]\n",
    "    self.layer2.w -= alpha * grads[1]\n",
    "```\n",
    "\n",
    "Calculate the train and test accuracy:\n",
    "```python \n",
    "    self.train_accuracy.append(self.accuracy(self.X_train, self.labels_train))\n",
    "    self.test_accuracy.append(self.accuracy(self.X_test, self.labels_test))\n",
    "```\n",
    "\n",
    "Finally, if the Cost function convergences, we stop:\n",
    "``` python    \n",
    "    if len(self.J) > 1:\n",
    "        if abs(self.J[-1] - self.J[-2]) < threshold or i == epochs:\n",
    "            break\n",
    "```\n",
    "\n",
    "#### 2.2.4. Confusion matrix \n",
    "\n",
    "##### predict \n",
    "\n",
    "We redo the forward propagation and use `argmax` to obtain for each column, the greatest number corresponding to the most predicted value.\n",
    "Predict is used for the calculation of the accuracy.\n",
    "\n",
    "``` python\n",
    "    self.forward(X)\n",
    "    np.array(self.layer2.output).argmax(axis=0)\n",
    "``` \n",
    "\n",
    "##### Confusion \n",
    "\n",
    "For the confusion matrix, we present a matrix of size 10x10 to see the prediction of each class.\n",
    "\n",
    "``` python\n",
    "    y_pred = self.predict(X)\n",
    "    \n",
    "    matrix = np.zeros((self.n_classes, self.n_classes), dtype=int)\n",
    "        \n",
    "    for i in range(len(y_pred)):\n",
    "        matrix[y.T[i], y_pred[i]] += 1\n",
    "``` \n",
    "\n",
    "##### Accuracy \n",
    "\n",
    "The accuracy is the proportion of correct predictions over total predictions.  \n",
    "It is perfect for classes which are equally important. \n",
    "\n",
    "``` python\n",
    "    (self.predict(X) == y).mean()\n",
    "``` \n",
    "\n",
    "#### 2.2.5. Code of the NeuralNetwork class\n"
   ]
  },
  {
   "cell_type": "code",
   "execution_count": 5,
   "metadata": {
    "cell_id": "00003-0d376895-c296-4692-a185-2e5d4024353e",
    "deepnote_cell_type": "code",
    "deepnote_to_be_reexecuted": false,
    "execution_millis": 3,
    "execution_start": 1610012128864,
    "output_cleared": false,
    "source_hash": "11a33852",
    "tags": []
   },
   "outputs": [],
   "source": [
    "class NeuralNetwork:\n",
    "    def __init__(self, df, n_neurons, test_size=0.2, random_state=42):\n",
    "        X = df.iloc[:, :-1]\n",
    "        y = df.iloc[:, -1]\n",
    "        X_train, X_test, y_train, y_test = train_test_split(X, y, test_size=test_size, random_state=random_state)\n",
    "        self.m, self.n = X_train.shape\n",
    "        self.n_classes = y.nunique()\n",
    "        \n",
    "        self.X_train = self.normalizeFeatures(X_train, fit=True).T\n",
    "        self.X_test = self.normalizeFeatures(X_test).T\n",
    "        self.y_train = np.matrix(pd.get_dummies(y_train)).T\n",
    "        self.labels_train = np.matrix(y_train)\n",
    "        self.y_test = np.matrix(pd.get_dummies(y_test)).T\n",
    "        self.labels_test = np.matrix(y_test)\n",
    "        \n",
    "        self.layer0 = InputLayer()\n",
    "        self.layer1 = Layer(self.n, n_neurons)\n",
    "        self.layer2 = OutputLayer(n_neurons, self.n_classes)\n",
    "\n",
    "    def normalizeFeatures(self, X, fit=False):\n",
    "        if fit:\n",
    "            scaling = list(zip(X.min(), X.max()))\n",
    "            self.scaling = list(map(lambda x: (0, 1) if x[0] == x[1] else (x[0], x[1]), scaling))\n",
    "\n",
    "        minmax = list(zip(*self.scaling))\n",
    "        min, max = np.array(minmax[0]), np.array(minmax[1])\n",
    "        \n",
    "        return np.matrix((X - min) / (max - min))\n",
    "\n",
    "    def gradientDescent(self, alpha=1e-3, threshold=1e-5, epochs=1000):\n",
    "        i = 0\n",
    "        self.J = []\n",
    "        self.train_accuracy = []\n",
    "        self.test_accuracy = []\n",
    "    \n",
    "        while True:\n",
    "            i += 1\n",
    "            self.forward(self.X_train)\n",
    "            self.backward()\n",
    "        \n",
    "            self.J.append(self.costFunction(self.layer2.output))\n",
    "\n",
    "            grads = self.gradient()\n",
    "\n",
    "            self.layer1.w -= alpha * grads[0]\n",
    "            self.layer2.w -= alpha * grads[1]\n",
    "            \n",
    "            self.train_accuracy.append(self.accuracy(self.X_train, self.labels_train))\n",
    "            self.test_accuracy.append(self.accuracy(self.X_test, self.labels_test))\n",
    "            \n",
    "            if len(self.J) > 1:\n",
    "                if abs(self.J[-1] - self.J[-2]) < threshold or i == epochs:\n",
    "                    break\n",
    "\n",
    "    def plotCostAccuracy(self):\n",
    "        try:\n",
    "            plt.figure(figsize=(12, 4))\n",
    "            plt.subplot(121)\n",
    "            plt.plot(self.J)\n",
    "            plt.title(\"Value of the cost function over epochs\")\n",
    "            plt.xlabel(\"epoch\")\n",
    "            plt.ylabel(\"cost function value\")\n",
    "            \n",
    "            plt.subplot(122)\n",
    "            plt.plot(self.train_accuracy, label=\"train\")\n",
    "            plt.plot(self.test_accuracy, label=\"test\")\n",
    "            plt.title(\"Accuracy over epochs\")\n",
    "            plt.xlabel(\"epoch\")\n",
    "            plt.ylabel(\"accuracy\")\n",
    "            plt.legend()\n",
    "            plt.show()\n",
    "        except AttributeError:\n",
    "            print(\"No gradient descent was performed\")\n",
    "\n",
    "    def costFunction(self, y_pred):\n",
    "        y, m = self.y_train, self.m\n",
    "    \n",
    "        return -1 / m * np.sum(np.multiply(y, np.log(y_pred)) + np.multiply((1 - y), np.log(1 - y_pred)))\n",
    "\n",
    "    def forward(self, x):\n",
    "        self.layer0.forward(x)\n",
    "        self.layer1.forward(self.layer0.output)\n",
    "        self.layer2.forward(self.layer1.output)\n",
    "\n",
    "    def backward(self):\n",
    "        self.layer2.backward(self.y_train)\n",
    "        self.layer1.backward(self.layer2.w, self.layer2.error)\n",
    "\n",
    "    def gradient(self):\n",
    "        grad0 = self.layer1.error * self.layer0.output.T\n",
    "        grad1 = self.layer2.error * self.layer1.output.T\n",
    "\n",
    "        return grad0, grad1\n",
    "    \n",
    "    def confusion(self, X, y):\n",
    "        y_pred = self.predict(X)\n",
    "        \n",
    "        matrix = np.zeros((self.n_classes, self.n_classes), dtype=int)\n",
    "        \n",
    "        for i in range(len(y_pred)):\n",
    "            matrix[y.T[i], y_pred[i]] += 1\n",
    "        \n",
    "        return matrix\n",
    "\n",
    "    def accuracy(self, X, y):\n",
    "        return (self.predict(X) == y).mean()\n",
    "        \n",
    "    def predict(self, X):\n",
    "        self.forward(X)\n",
    "        return np.array(self.layer2.output).argmax(axis=0)"
   ]
  },
  {
   "cell_type": "markdown",
   "metadata": {
    "cell_id": "00010-669712ad-cd0f-440a-9ca5-b947ad92c81e",
    "deepnote_cell_type": "markdown",
    "tags": []
   },
   "source": [
    "## 3. Applying the FFNN algorithm to the dataset\n",
    "\n",
    "We can now use those classes to apply FFNN on our dataset.\n",
    "\n",
    "### 3.1. Initialization \n",
    "\n",
    "For the **train and test**, the separation is done inside the class **NeuralNetwork** and have a default value `test_size=0.2`.\n",
    "\n",
    "Let's select the most accurate number of neurons for the hidden layer which has to be between the number of neurons of the input and output layers."
   ]
  },
  {
   "cell_type": "code",
   "execution_count": 6,
   "metadata": {
    "cell_id": "00011-9fafce8d-db93-4c52-bc83-b816b87bf62a",
    "deepnote_cell_type": "code",
    "deepnote_to_be_reexecuted": false,
    "execution_millis": 551692,
    "execution_start": 1610012128881,
    "source_hash": "c6f6a718",
    "tags": []
   },
   "outputs": [
    {
     "name": "stdout",
     "output_type": "stream",
     "text": [
      "NN 10 neurons\n",
      "Train accuracy: 0.802\n",
      "Test accuracy: 0.795\n"
     ]
    },
    {
     "data": {
      "image/png": "[encoded data removed]",
      "text/plain": [
       "<Figure size 864x288 with 2 Axes>"
      ]
     },
     "metadata": {
      "needs_background": "light"
     },
     "output_type": "display_data"
    },
    {
     "name": "stdout",
     "output_type": "stream",
     "text": [
      "\n",
      "NN 50 neurons\n",
      "Train accuracy: 0.9075\n",
      "Test accuracy: 0.878\n"
     ]
    },
    {
     "data": {
      "image/png": "[encoded data removed]",
      "text/plain": [
       "<Figure size 864x288 with 2 Axes>"
      ]
     },
     "metadata": {
      "needs_background": "light"
     },
     "output_type": "display_data"
    },
    {
     "name": "stdout",
     "output_type": "stream",
     "text": [
      "\n",
      "NN 100 neurons\n",
      "Train accuracy: 0.9265\n",
      "Test accuracy: 0.874\n"
     ]
    },
    {
     "data": {
      "image/png": "[encoded data removed]",
      "text/plain": [
       "<Figure size 864x288 with 2 Axes>"
      ]
     },
     "metadata": {
      "needs_background": "light"
     },
     "output_type": "display_data"
    },
    {
     "name": "stderr",
     "output_type": "stream",
     "text": [
      "/shared-libs/python3.7/py-core/lib/python3.7/site-packages/ipykernel_launcher.py:78: RuntimeWarning: divide by zero encountered in log\n",
      "/shared-libs/python3.7/py-core/lib/python3.7/site-packages/ipykernel_launcher.py:78: RuntimeWarning: invalid value encountered in multiply\n",
      "\n",
      "NN 400 neurons\n",
      "Train accuracy: 0.9815\n",
      "Test accuracy: 0.904\n"
     ]
    },
    {
     "data": {
      "image/png": "[encoded data removed]",
      "text/plain": [
       "<Figure size 864x288 with 2 Axes>"
      ]
     },
     "metadata": {
      "needs_background": "light"
     },
     "output_type": "display_data"
    }
   ],
   "source": [
    "NN10 = NeuralNetwork(df, 10)\n",
    "NN10.gradientDescent(alpha=1e-4, epochs=1000)\n",
    "print(\"NN 10 neurons\")\n",
    "print(\"Train accuracy:\", NN10.accuracy(NN10.X_train, NN10.labels_train))\n",
    "print(\"Test accuracy:\", NN10.accuracy(NN10.X_test, NN10.labels_test))\n",
    "NN10.plotCostAccuracy()\n",
    "\n",
    "NN50 = NeuralNetwork(df, 50)\n",
    "NN50.gradientDescent(alpha=1e-4, epochs=1000)\n",
    "print(\"\\nNN 50 neurons\")\n",
    "print(\"Train accuracy:\", NN50.accuracy(NN50.X_train, NN50.labels_train))\n",
    "print(\"Test accuracy:\", NN50.accuracy(NN50.X_test, NN50.labels_test))\n",
    "NN50.plotCostAccuracy()\n",
    "\n",
    "NN100 = NeuralNetwork(df, 100)\n",
    "NN100.gradientDescent(alpha=1e-4, epochs=1000)\n",
    "print(\"\\nNN 100 neurons\")\n",
    "print(\"Train accuracy:\", NN100.accuracy(NN100.X_train, NN100.labels_train))\n",
    "print(\"Test accuracy:\", NN100.accuracy(NN100.X_test, NN100.labels_test))\n",
    "NN100.plotCostAccuracy()\n",
    "\n",
    "NN400 = NeuralNetwork(df, 400)\n",
    "NN400.gradientDescent(alpha=1e-4, epochs=1000)\n",
    "print(\"\\nNN 400 neurons\")\n",
    "print(\"Train accuracy:\", NN400.accuracy(NN400.X_train, NN400.labels_train))\n",
    "print(\"Test accuracy:\", NN400.accuracy(NN400.X_test, NN400.labels_test))\n",
    "NN400.plotCostAccuracy()"
   ]
  },
  {
   "cell_type": "markdown",
   "metadata": {
    "cell_id": "00011-7b900e08-72b6-4843-be7c-68d4aa679a7b",
    "deepnote_cell_type": "markdown",
    "tags": []
   },
   "source": [
    "If we compare those 4 results, we clearly see that NN10 gives the worst results for the accuracy of the train and test sets with respectively 0.80 and 0.79.\n",
    "\n",
    "For NN100 and NN400 models, it overfits of 0.05 and 0.08 as we can see on the accuracy plot.\n",
    "\n",
    "By comparison, NN50 obtains the most acceptable results, that's why we decided to take **50 neurons** for the hidden layer.\n",
    "\n",
    "### 3.2. Gradient descent\n",
    "\n",
    "We can now test the gradient descent for this FFNN and take $\\alpha = 10^{-3} $ and $epoch = 1000 $.  \n",
    "Depending on the result of the accuracy and the plot of the cost function, we can change the hyperparameters to improve the FFNN."
   ]
  },
  {
   "cell_type": "code",
   "execution_count": 7,
   "metadata": {
    "cell_id": "00013-3eebcea9-be44-4135-b0aa-19bc659e5737",
    "deepnote_cell_type": "code",
    "deepnote_to_be_reexecuted": false,
    "execution_millis": 31390,
    "execution_start": 1610012680586,
    "source_hash": "ac1dd436",
    "tags": []
   },
   "outputs": [
    {
     "data": {
      "image/png": "[encoded data removed]",
      "text/plain": [
       "<Figure size 864x288 with 2 Axes>"
      ]
     },
     "metadata": {
      "needs_background": "light"
     },
     "output_type": "display_data"
    }
   ],
   "source": [
    "NN = NeuralNetwork(df, 50)\n",
    "NN.gradientDescent(alpha=1e-3, epochs=1000)\n",
    "NN.plotCostAccuracy()"
   ]
  },
  {
   "cell_type": "markdown",
   "metadata": {
    "cell_id": "00014-004d5966-4198-4362-8328-61916223fada",
    "deepnote_cell_type": "markdown",
    "tags": []
   },
   "source": [
    "We obtain the above result, as we can see, the learning rate is too high for the cost function. \n",
    "\n",
    "We should take a lower learning rate, such as $\\alpha = 10^{-4}$"
   ]
  },
  {
   "cell_type": "code",
   "execution_count": 8,
   "metadata": {
    "cell_id": "00015-64f58b2f-3615-4ae0-844e-40021c0e99f7",
    "deepnote_cell_type": "code",
    "deepnote_to_be_reexecuted": false,
    "execution_millis": 72239,
    "execution_start": 1610012712019,
    "source_hash": "ee24d89d",
    "tags": []
   },
   "outputs": [
    {
     "data": {
      "image/png": "[encoded data removed]",
      "text/plain": [
       "<Figure size 864x288 with 2 Axes>"
      ]
     },
     "metadata": {
      "needs_background": "light"
     },
     "output_type": "display_data"
    }
   ],
   "source": [
    "NN = NeuralNetwork(df, 50)\n",
    "NN.gradientDescent(alpha=1e-4, epochs=1000)\n",
    "NN.plotCostAccuracy()"
   ]
  },
  {
   "cell_type": "markdown",
   "metadata": {
    "cell_id": "00018-cdc196c4-7e0a-4413-84eb-f85a27783069",
    "deepnote_cell_type": "markdown",
    "tags": []
   },
   "source": [
    "With $ \\alpha = 10^{-4}$, the cost function is better.\n",
    "\n",
    "As we selected **50** neurons for the hidden layer and choose a correct value for $\\alpha$, we can now\n",
    "do the gradient descent until convergence."
   ]
  },
  {
   "cell_type": "code",
   "execution_count": 255,
   "metadata": {
    "cell_id": "00020-171aad3e-a081-4bf2-bf60-c95810b097eb",
    "deepnote_cell_type": "code",
    "deepnote_to_be_reexecuted": false,
    "execution_millis": 223701,
    "execution_start": 1610036651762,
    "source_hash": "c73f4d9b",
    "tags": []
   },
   "outputs": [
    {
     "data": {
      "image/png": "[encoded data removed]",
      "text/plain": [
       "<Figure size 864x288 with 2 Axes>"
      ]
     },
     "metadata": {
      "needs_background": "light"
     },
     "output_type": "display_data"
    },
    {
     "name": "stdout",
     "output_type": "stream",
     "text": [
      "Train accuracy: 0.95175\n",
      "Test accuracy: 0.903\n"
     ]
    }
   ],
   "source": [
    "NN = NeuralNetwork(df, 50)\n",
    "NN.gradientDescent(alpha=1e-4, threshold=1e-4, epochs=3000)\n",
    "NN.plotCostAccuracy()\n",
    "print(\"Train accuracy:\", NN.accuracy(NN.X_train, NN.labels_train))\n",
    "print(\"Test accuracy:\", NN.accuracy(NN.X_test, NN.labels_test))"
   ]
  },
  {
   "cell_type": "markdown",
   "metadata": {
    "cell_id": "00021-0426233d-0626-4d50-b68e-4a308997f3e1",
    "deepnote_cell_type": "markdown",
    "tags": []
   },
   "source": [
    "As we can see the cost function converges as the gradient descent stopped due to the $10^{-4}$ threshold (before 3000 epochs).\n",
    "\n",
    "The accuracy of train and test are relativelly closed, even if there is a difference of 0.05.\n",
    "\n",
    "### 3.3. Test Classifier \n",
    "\n",
    "We can use our model to try to predict some images:"
   ]
  },
  {
   "cell_type": "code",
   "execution_count": 279,
   "metadata": {
    "cell_id": "00019-009c502d-5e46-4e37-9f21-971098ca0190",
    "deepnote_cell_type": "code",
    "deepnote_to_be_reexecuted": false,
    "execution_millis": 1013,
    "execution_start": 1610038611168,
    "source_hash": "1cd12266",
    "tags": []
   },
   "outputs": [
    {
     "data": {
      "image/png": "[encoded data removed]",
      "text/plain": [
       "<Figure size 576x432 with 8 Axes>"
      ]
     },
     "metadata": {
      "needs_background": "light"
     },
     "output_type": "display_data"
    }
   ],
   "source": [
    "list_images = [3546,2171 , 1601, 4415, 1458, 2914, 3509, 401]\n",
    "plt.figure(figsize=(8, 6))\n",
    "\n",
    "for i in range(8):\n",
    "    im = list_images[i]\n",
    "    obs = df.iloc[im, :-1]\n",
    "    label = df.iloc[im, -1]\n",
    "    plt.subplot(241 + i)\n",
    "    plt.imshow(obs.values.reshape(20, 20, order=\"F\"), cmap=\"gray\")\n",
    "    x_label = \"label:\" + str(label) + \"\\nprediction: \" + str(NN.predict(NN.normalizeFeatures(obs).T))\n",
    "    plt.xlabel(x_label)\n",
    "    if(i==1): plt.title(\"                          Incorrect predictions\")\n",
    "    if(i==5): plt.title(\"                          Correct predictions\")\n",
    "\n",
    "plt.show()"
   ]
  },
  {
   "cell_type": "markdown",
   "metadata": {
    "cell_id": "00018-f8730d66-8c35-447c-8622-d84757787618",
    "deepnote_cell_type": "markdown",
    "tags": []
   },
   "source": [
    "As the accuracy of the test dataset is around 0.9, it means that we predict 9 times out of 10 a correct value.   \n",
    "Above, we selected tricky observations, our model seems to mismatch 4 and 9 for example. \n",
    "\n",
    "### 3.4. Performance\n",
    "\n",
    "Let's compare the confusion matrix of train and test set:"
   ]
  },
  {
   "cell_type": "code",
   "execution_count": 273,
   "metadata": {
    "cell_id": "00021-00e4eaa1-cd21-4671-a9b1-93d79f0dcb2e",
    "deepnote_cell_type": "code",
    "deepnote_to_be_reexecuted": false,
    "execution_millis": 179,
    "execution_start": 1610038291418,
    "source_hash": "dab24c0d",
    "tags": []
   },
   "outputs": [
    {
     "name": "stdout",
     "output_type": "stream",
     "text": [
      "Train \n",
      "accuracy: 0.95175\n",
      "confusion matrix:\n",
      " [[381   0   0   2   0   1   3   0   1   1]\n",
      " [  0 387   1   2   2   0   0   0   3   0]\n",
      " [  1   1 371   4   7   1   2   2   6   0]\n",
      " [  2   3   4 383   2  12   0   5   3   1]\n",
      " [  0   1   3   0 391   0   3   1   0   7]\n",
      " [  3   0   3   8   1 377   4   1   5   0]\n",
      " [  0   3   0   0   1   4 394   0   0   0]\n",
      " [  2   3   6   0   3   0   0 369   1   4]\n",
      " [  0   7   4   6   3   5   4   0 387   3]\n",
      " [  3   1   0   2   3   3   2   6   2 367]]\n",
      "\n",
      "Test \n",
      "accuracy: 0.903\n",
      "confusion matrix:\n",
      " [[106   0   0   0   0   1   2   0   1   1]\n",
      " [  0 100   1   0   0   4   0   0   0   0]\n",
      " [  1   0  94   4   3   0   1   0   1   1]\n",
      " [  0   0   3  74   1   2   1   1   2   1]\n",
      " [  0   0   2   0  83   0   3   0   1   5]\n",
      " [  2   0   0   1   1  90   1   0   3   0]\n",
      " [  2   0   4   0   2   1  88   0   1   0]\n",
      " [  1   2   3   1   2   0   0 100   1   2]\n",
      " [  1   1   0   3   0   1   2   0  73   0]\n",
      " [  0   0   1   1   5   1   0   5   3  95]]\n"
     ]
    }
   ],
   "source": [
    "print(\"Train \\naccuracy:\", NN.accuracy(NN.X_train, NN.labels_train))\n",
    "print(\"confusion matrix:\\n\", NN.confusion(NN.X_train, NN.labels_train))\n",
    "\n",
    "print(\"\\nTest \\naccuracy:\", NN.accuracy(NN.X_test, NN.labels_test))\n",
    "print(\"confusion matrix:\\n\", NN.confusion(NN.X_test, NN.labels_test))"
   ]
  },
  {
   "cell_type": "markdown",
   "metadata": {
    "cell_id": "00019-dc3fddff-df78-4939-9879-b15ab1c595aa",
    "deepnote_cell_type": "markdown",
    "tags": []
   },
   "source": [
    "For the confusion matrix: the rows represent the true labels whereas the columns represent the predictions.   \n",
    "The correct prediction are represented in the diagonal. \n",
    "\n",
    "Let's take an example :   \n",
    "If we take the confusion matrix of the train set, the value 6 is at row 8 and column 3.   \n",
    "It means that there are 16 incorrect predictions : the model predicts 3 instead of 8. \n",
    "\n",
    "Thanks to the confusion matrix, we can state that the model seems to confuse some numbers: \n",
    "- 3 with 8 \n",
    "- 9 with 4 \n",
    "- 3 with 5 \n",
    "\n",
    "Let's see if we can improve it by using a Deep Neural Network.\n",
    "\n",
    "## 4. Generalization to DeepNeuralNetwork\n",
    "\n",
    "We can now generalize our Neural Network in order to implement a DeepNeuralNetwork with as many layers as we want.  \n",
    "Once again, we create a class called **DeepNeuralNetwork**, which uses and adapts the functions created in the **NeuralNetwork** class.\n",
    "\n",
    "Let's see the modifications brought by the **DeepNeuralNetwork**. The previous NeuralNetwork was working for 3 layers : one input, one hidden and one output layer.\n",
    "\n",
    "### 4.1. Initialisation \n",
    "\n",
    "For the DeepNeuralNetwork, one have to initiate `n_neurons`: a list of number of neurons for each hidden layer.  \n",
    "For example: `n_neurons = [50,50,50]` means that we have 5 layers: one input layer, three hidden layers of 50 neurons and one output layer.\n",
    "\n",
    "``` python\n",
    "    self.layers = []\n",
    "    self.layers.append(InputLayer())\n",
    "    prev_n = self.n\n",
    "    for n in n_neurons:\n",
    "        self.layers.append(Layer(prev_n, n))\n",
    "        prev_n = n\n",
    "    self.layers.append(OutputLayer(prev_n, self.n_classes))\n",
    "```\n",
    "\n",
    "### 4.2. Forward and Backward propagation \n",
    "\n",
    "#### Forward\n",
    "\n",
    "We have to do the forward propagation from the input layer to the output layer. \n",
    "As each layer use the output of the previous layer to complete forward propagation, \n",
    "we just have to do a `for` loop and reuse the result of the previous layer stored in `inputs`. \n",
    "\n",
    "``` python\n",
    "    inputs = x\n",
    "    for l in range(len(self.layers)):\n",
    "        self.layers[l].forward(inputs)\n",
    "        inputs = self.layers[l].output\n",
    "```\n",
    "\n",
    "#### Backward\n",
    "\n",
    "Whereas for the backward propagation, we have to go from the output layer to the input layer. \n",
    "We start by doing the backward propagation of the output layer, and then do a `for` to do the backward propagation of \n",
    "all the hidden layers.\n",
    "We use the backward function created in the Layer class and its child class, which actualizes the error.\n",
    "We store the weight at each layer in`next_w` and the associated error in `next_error`.\n",
    "\n",
    "``` python\n",
    "    self.layers[-1].backward(self.y_train)\n",
    "    next_w, next_error = self.layers[-1].w, self.layers[-1].error\n",
    "    for l in range(len(self.layers) - 2, 0, -1):\n",
    "        self.layers[l].backward(next_w, next_error)\n",
    "        next_w, next_error = self.layers[l].w, self.layers[l].error\n",
    "```\n",
    "\n",
    "### 4.3. Gradient\n",
    "\n",
    "To calculate the global gradient, we calculate the gradient of each output and hidden layers.   \n",
    "So we use a `for` loop to do the calculation.\n",
    "\n",
    "```python\n",
    "    grads = []\n",
    "    for l in range(len(self.layers) - 1):\n",
    "        grads.append(self.layers[l + 1].error * self.layers[l].output.T)\n",
    "\n",
    "    return grads\n",
    "```\n",
    "\n",
    "### 4.4. Code of the DeepNeuralNetwork"
   ]
  },
  {
   "cell_type": "code",
   "execution_count": 12,
   "metadata": {
    "cell_id": "00016-d2cc62c7-257a-4c14-a6b2-6ab103208d5f",
    "deepnote_cell_type": "code",
    "deepnote_to_be_reexecuted": false,
    "execution_millis": 81,
    "execution_start": 1610012784708,
    "source_hash": "c047e1ec",
    "tags": []
   },
   "outputs": [],
   "source": [
    "class DeepNeuralNetwork:\n",
    "    def __init__(self, df, n_neurons, test_size=0.2, random_state=42):\n",
    "        X = df.iloc[:, :-1]\n",
    "        y = df.iloc[:, -1]\n",
    "        X_train, X_test, y_train, y_test = train_test_split(X, y, test_size=test_size, random_state=random_state)\n",
    "        self.m, self.n = X_train.shape\n",
    "        self.n_classes = y.nunique()\n",
    "        \n",
    "        self.X_train = self.normalizeFeatures(X_train, fit=True).T\n",
    "        self.X_test = self.normalizeFeatures(X_test).T\n",
    "        self.y_train = np.matrix(pd.get_dummies(y_train)).T\n",
    "        self.labels_train = np.matrix(y_train)\n",
    "        self.y_test = np.matrix(pd.get_dummies(y_test)).T\n",
    "        self.labels_test = np.matrix(y_test)\n",
    "        \n",
    "        self.layers = []\n",
    "        self.layers.append(InputLayer())\n",
    "        prev_n = self.n\n",
    "        for n in n_neurons:\n",
    "            self.layers.append(Layer(prev_n, n))\n",
    "            prev_n = n\n",
    "        self.layers.append(OutputLayer(prev_n, self.n_classes))\n",
    "\n",
    "    def normalizeFeatures(self, X, fit=False):\n",
    "        if fit:\n",
    "            scaling = list(zip(X.min(), X.max()))\n",
    "            self.scaling = list(map(lambda x: (0, 1) if x[0] == x[1] else (x[0], x[1]), scaling))\n",
    "\n",
    "        minmax = list(zip(*self.scaling))\n",
    "        min, max = np.array(minmax[0]), np.array(minmax[1])\n",
    "        \n",
    "        return np.matrix((X - min) / (max - min))\n",
    "\n",
    "    def gradientDescent(self, alpha=1e-3, threshold=1e-5, epochs=1000):\n",
    "        i = 0\n",
    "        self.J = []\n",
    "        self.train_accuracy = []\n",
    "        self.test_accuracy = []\n",
    "    \n",
    "        while True:\n",
    "            i += 1\n",
    "            self.forward(self.X_train)\n",
    "            self.backward()\n",
    "        \n",
    "            self.J.append(self.costFunction(self.layers[-1].output))\n",
    "\n",
    "            grads = self.gradient()\n",
    "            \n",
    "            for l in range(len(self.layers) - 1):\n",
    "                self.layers[l + 1].w -= alpha * grads[l]\n",
    "                \n",
    "            self.train_accuracy.append(self.accuracy(self.X_train, self.labels_train))\n",
    "            self.test_accuracy.append(self.accuracy(self.X_test, self.labels_test))\n",
    "            \n",
    "            if len(self.J) > 1:\n",
    "                if abs(self.J[-1] - self.J[-2]) < threshold or i == epochs:\n",
    "                    break\n",
    "\n",
    "    def plotCostAccuracy(self):\n",
    "        try:\n",
    "            plt.figure(figsize=(12, 4))\n",
    "            plt.subplot(121)\n",
    "            plt.plot(self.J)\n",
    "            plt.title(\"Value of the cost function over epochs\")\n",
    "            plt.xlabel(\"epoch\")\n",
    "            plt.ylabel(\"cost function value\")\n",
    "            \n",
    "            plt.subplot(122)\n",
    "            plt.plot(self.train_accuracy, label=\"train\")\n",
    "            plt.plot(self.test_accuracy, label=\"test\")\n",
    "            plt.title(\"Accuracy over epochs\")\n",
    "            plt.xlabel(\"epoch\")\n",
    "            plt.ylabel(\"accuracy\")\n",
    "            plt.legend()\n",
    "            plt.show()\n",
    "        except AttributeError:\n",
    "            print(\"No gradient descent was performed\")\n",
    "\n",
    "    def costFunction(self, y_pred):\n",
    "        y, m = self.y_train, self.m\n",
    "    \n",
    "        return -1 / m * np.sum(np.multiply(y, np.log(y_pred)) + np.multiply((1 - y), np.log(1 - y_pred)))\n",
    "\n",
    "    def forward(self, x):\n",
    "        inputs = x\n",
    "        for l in range(len(self.layers)):\n",
    "            self.layers[l].forward(inputs)\n",
    "            inputs = self.layers[l].output\n",
    "\n",
    "    def backward(self):\n",
    "        self.layers[-1].backward(self.y_train)\n",
    "        next_w, next_error = self.layers[-1].w, self.layers[-1].error\n",
    "        for l in range(len(self.layers) - 2, 0, -1):\n",
    "            self.layers[l].backward(next_w, next_error)\n",
    "            next_w, next_error = self.layers[l].w, self.layers[l].error\n",
    "\n",
    "    def gradient(self):\n",
    "        grads = []\n",
    "        for l in range(len(self.layers) - 1):\n",
    "            grads.append(self.layers[l + 1].error * self.layers[l].output.T)\n",
    "\n",
    "        return grads\n",
    "    \n",
    "    def confusion(self, X, y):\n",
    "        y_pred = self.predict(X)\n",
    "        \n",
    "        matrix = np.zeros((self.n_classes, self.n_classes), dtype=int)\n",
    "        \n",
    "        for i in range(len(y_pred)):\n",
    "            matrix[y.T[i], y_pred[i]] += 1\n",
    "        \n",
    "        return matrix\n",
    "\n",
    "    def accuracy(self, X, y):\n",
    "        return (self.predict(X) == y).mean()\n",
    "        \n",
    "    def predict(self, X):\n",
    "        self.forward(X)\n",
    "        return np.array(self.layers[-1].output).argmax(axis=0)"
   ]
  },
  {
   "cell_type": "markdown",
   "metadata": {
    "cell_id": "00024-2aaae914-7be6-43e4-b090-3e03b056aae1",
    "deepnote_cell_type": "markdown",
    "tags": []
   },
   "source": [
    "## 5. Applying the DNN algorithm to the dataset\n",
    "\n",
    "Using one hidden layer of 50 neurons, we obtain the following results:"
   ]
  },
  {
   "cell_type": "code",
   "execution_count": 280,
   "metadata": {
    "cell_id": "00027-ee48e1d3-a8ac-4ae0-b5fc-127b7138d42c",
    "deepnote_cell_type": "code",
    "deepnote_to_be_reexecuted": false,
    "execution_millis": 81129,
    "execution_start": 1610038773182,
    "source_hash": "248a3db9",
    "tags": []
   },
   "outputs": [
    {
     "name": "stdout",
     "output_type": "stream",
     "text": [
      "\n",
      "DNN 1 hidden layer\n",
      "Train accuracy: 0.9075\n",
      "Test accuracy: 0.878\n"
     ]
    },
    {
     "data": {
      "image/png": "[encoded data removed]",
      "text/plain": [
       "<Figure size 864x288 with 2 Axes>"
      ]
     },
     "metadata": {
      "needs_background": "light"
     },
     "output_type": "display_data"
    }
   ],
   "source": [
    "DNN1 = DeepNeuralNetwork(df, [50])\n",
    "DNN1.gradientDescent(alpha=1e-4, epochs=1000)\n",
    "print(\"\\nDNN 1 hidden layer\")\n",
    "print(\"Train accuracy:\", DNN1.accuracy(DNN1.X_train, DNN1.labels_train))\n",
    "print(\"Test accuracy:\", DNN1.accuracy(DNN1.X_test, DNN1.labels_test))\n",
    "DNN1.plotCostAccuracy()"
   ]
  },
  {
   "cell_type": "markdown",
   "metadata": {
    "cell_id": "00028-18b1efc4-dae9-428a-9ca2-e70bb4b44896",
    "deepnote_cell_type": "markdown",
    "tags": []
   },
   "source": [
    "We obtain the same result as with the FFNN. \n",
    "\n",
    "### 5.1. Compare DNN with layers of same numbers of neurons\n",
    "\n",
    "Let's add some hidden layers in a FFNN and see the difference of accuracy for train and test.\n",
    "\n",
    "#### Two Hidden Layers\n",
    "\n",
    "With two hidden layers, we obtain the following results:"
   ]
  },
  {
   "cell_type": "code",
   "execution_count": 281,
   "metadata": {
    "cell_id": "00025-75913162-4fa4-4721-8547-66ae3ec3aadb",
    "deepnote_cell_type": "code",
    "deepnote_to_be_reexecuted": false,
    "execution_millis": 103759,
    "execution_start": 1610038854319,
    "source_hash": "a7bd6eca",
    "tags": []
   },
   "outputs": [
    {
     "name": "stdout",
     "output_type": "stream",
     "text": [
      "\n",
      "DNN 2 hidden layers\n",
      "Train accuracy: 0.91825\n",
      "Test accuracy: 0.862\n"
     ]
    },
    {
     "data": {
      "image/png": "[encoded data removed]",
      "text/plain": [
       "<Figure size 864x288 with 2 Axes>"
      ]
     },
     "metadata": {
      "needs_background": "light"
     },
     "output_type": "display_data"
    }
   ],
   "source": [
    "DNN2 = DeepNeuralNetwork(df, [50, 50])\n",
    "DNN2.gradientDescent(alpha=1e-4, epochs=1000)\n",
    "print(\"\\nDNN 2 hidden layers\")\n",
    "print(\"Train accuracy:\", DNN2.accuracy(DNN2.X_train, DNN2.labels_train))\n",
    "print(\"Test accuracy:\", DNN2.accuracy(DNN2.X_test, DNN2.labels_test))\n",
    "DNN2.plotCostAccuracy()"
   ]
  },
  {
   "cell_type": "markdown",
   "metadata": {
    "cell_id": "00030-f30d74a8-4567-4a47-8665-ddee765d7e22",
    "deepnote_cell_type": "markdown",
    "tags": []
   },
   "source": [
    "Compare to the DNN with only one hidden layers, the train accuracy (0.91) of the two hidden layer DNN is higher of 0.01 but the test accuracy (0.86) is \n",
    "lower of 0.016.   \n",
    "We can conclude that the train accuracy is better for two hidden layers, but the test one does not get better. The difference between the two of them is around 0.056 whereas it was around 0.029 for DNN with one hidden layer.\n",
    "\n",
    "We can add more layers to see if the gap is widening between train and test accuracies.\n",
    "\n",
    "#### Three Hidden Layers\n",
    "\n",
    "With three hidden layers, we obtain the following results:"
   ]
  },
  {
   "cell_type": "code",
   "execution_count": 282,
   "metadata": {
    "cell_id": "00031-0ec65d19-7aa5-4edc-9e1f-203da278b923",
    "deepnote_cell_type": "code",
    "deepnote_to_be_reexecuted": false,
    "execution_millis": 127053,
    "execution_start": 1610038958084,
    "source_hash": "8b9837d0",
    "tags": []
   },
   "outputs": [
    {
     "name": "stdout",
     "output_type": "stream",
     "text": [
      "\n",
      "DNN 3 hidden layers\n",
      "Train accuracy: 0.934\n",
      "Test accuracy: 0.88\n"
     ]
    },
    {
     "data": {
      "image/png": "[encoded data removed]",
      "text/plain": [
       "<Figure size 864x288 with 2 Axes>"
      ]
     },
     "metadata": {
      "needs_background": "light"
     },
     "output_type": "display_data"
    }
   ],
   "source": [
    "DNN3 = DeepNeuralNetwork(df, [50, 50, 50])\n",
    "DNN3.gradientDescent(alpha=1e-4, epochs=1000)\n",
    "print(\"\\nDNN 3 hidden layers\")\n",
    "print(\"Train accuracy:\", DNN3.accuracy(DNN3.X_train, DNN3.labels_train))\n",
    "print(\"Test accuracy:\", DNN3.accuracy(DNN3.X_test, DNN3.labels_test))\n",
    "DNN3.plotCostAccuracy()"
   ]
  },
  {
   "cell_type": "markdown",
   "metadata": {
    "cell_id": "00033-1d14cb57-ca56-485a-952a-e6a4b2898e8b",
    "deepnote_cell_type": "markdown",
    "tags": []
   },
   "source": [
    "Once again if we compare the train and test accuracy, the gap between them is more important than\n",
    "the one with two hidden layers. There is **overfitting**.\n",
    "\n",
    "### 5.2. Comparison\n",
    "\n",
    "By plotting them on the same plot we obtain for train and test dataset:"
   ]
  },
  {
   "cell_type": "code",
   "execution_count": 293,
   "metadata": {
    "cell_id": "00032-e3466988-7da0-45f2-8303-f89938d79be9",
    "deepnote_cell_type": "code",
    "deepnote_to_be_reexecuted": false,
    "execution_millis": 293,
    "execution_start": 1610049013829,
    "source_hash": "cd36bd3d",
    "tags": []
   },
   "outputs": [
    {
     "data": {
      "image/png": "[encoded data removed]",
      "text/plain": [
       "<Figure size 792x432 with 1 Axes>"
      ]
     },
     "metadata": {
      "needs_background": "light"
     },
     "output_type": "display_data"
    },
    {
     "data": {
      "image/png": "[encoded data removed]",
      "text/plain": [
       "<Figure size 792x432 with 1 Axes>"
      ]
     },
     "metadata": {
      "needs_background": "light"
     },
     "output_type": "display_data"
    }
   ],
   "source": [
    "plt.figure(figsize=(11, 6))\n",
    "\n",
    "plt.plot(DNN1.train_accuracy, label=\"DNN1 train\")\n",
    "plt.plot(DNN2.train_accuracy, label=\"DNN2 train\")\n",
    "plt.plot(DNN3.train_accuracy, label=\"DNN3 train\")\n",
    "\n",
    "plt.title(\"Train accuracy over epochs\")\n",
    "plt.xlabel(\"epoch\")\n",
    "plt.ylabel(\"accuracy\")\n",
    "plt.legend()\n",
    "plt.show()\n",
    "\n",
    "plt.figure(figsize=(11, 6))\n",
    "\n",
    "plt.plot(DNN1.test_accuracy, label=\"DNN1 test\")\n",
    "plt.plot(DNN2.test_accuracy, label=\"DNN2 test\")\n",
    "plt.plot(DNN3.test_accuracy, label=\"DNN3 test\")\n",
    "\n",
    "plt.title(\"Test Accuracy over epochs\")\n",
    "plt.xlabel(\"epoch\")\n",
    "plt.ylabel(\"accuracy\")\n",
    "plt.legend()\n",
    "plt.show()"
   ]
  },
  {
   "cell_type": "markdown",
   "metadata": {
    "cell_id": "00034-caf5f2a5-3e96-4e0f-a289-66a23f85c764",
    "deepnote_cell_type": "markdown",
    "tags": []
   },
   "source": [
    "We obtain the following accuracies. Result columns represents the difference between train and test accuracy.\n",
    "\n",
    "|                 | Train  accuracy   |  Test accuracy |  Results  |\n",
    "|-----------------|:-----------------:|:--------------:|:---------:|\n",
    "| **DNN 1**       |       0.9075      |       0.878    |  0.0295   |\n",
    "| **DNN 2**       |       0.91825     |       0.862    |  0.0525   |\n",
    "| **DNN 3**       |       0.934       |       0.88     |  0.054    |<br><br>\n",
    "\n",
    "\n",
    "We clearly see that increasing the number of hidden layers increases a little bit the train accuracy but globally, \n",
    "the test accuracy does not change. So it creates overfitting. \n",
    "\n",
    "As the first DNN had a correct train accuracy, adding hidden layers did not bring better results for the test. \n",
    "It means that only one hidden layer explains our dataset.\n",
    "\n",
    "We can now create our final DNN of one hidden layer with **50** neurons going through 3000 epochs (until convergence)."
   ]
  },
  {
   "cell_type": "code",
   "execution_count": 291,
   "metadata": {
    "cell_id": "00038-c87e8526-d48c-4ff6-a865-ea3aa8e9fbe3",
    "deepnote_cell_type": "code",
    "deepnote_to_be_reexecuted": false,
    "execution_millis": 201249,
    "execution_start": 1610048365894,
    "source_hash": "ddcf28a3",
    "tags": []
   },
   "outputs": [
    {
     "name": "stdout",
     "output_type": "stream",
     "text": [
      "\n",
      "DNN 1 hidden layer\n",
      "Train accuracy: 0.95175\n",
      "Test accuracy: 0.903\n"
     ]
    },
    {
     "data": {
      "image/png": "[encoded data removed]",
      "text/plain": [
       "<Figure size 864x288 with 2 Axes>"
      ]
     },
     "metadata": {
      "needs_background": "light"
     },
     "output_type": "display_data"
    }
   ],
   "source": [
    "DNN = DeepNeuralNetwork(df,[50])\n",
    "DNN.gradientDescent(alpha=1e-4, threshold = 1e-4, epochs=3000)\n",
    "print(\"\\nDNN 1 hidden layer\")\n",
    "print(\"Train accuracy:\", DNN.accuracy(DNN.X_train, DNN.labels_train))\n",
    "print(\"Test accuracy:\", DNN.accuracy(DNN.X_test, DNN.labels_test))\n",
    "DNN.plotCostAccuracy()"
   ]
  },
  {
   "cell_type": "markdown",
   "metadata": {
    "cell_id": "00024-e368eb02-07a0-49e9-b366-ebb3b11dd68d",
    "deepnote_cell_type": "markdown",
    "tags": []
   },
   "source": [
    "## 7. Compare to Keras \n",
    "\n",
    "### 7.1. Keras model\n",
    "\n",
    "Using Keras, let's create a DNN with only one hidden layer of 50 neurons."
   ]
  },
  {
   "cell_type": "code",
   "execution_count": 286,
   "metadata": {
    "cell_id": "00025-55012ffe-ada7-404b-8d55-d286f5de8008",
    "deepnote_cell_type": "code",
    "deepnote_to_be_reexecuted": false,
    "execution_millis": 174328,
    "execution_start": 1610041027610,
    "source_hash": "319a20ee",
    "tags": []
   },
   "outputs": [
    {
     "name": "stdout",
     "output_type": "stream",
     "text": [
      "32/32 [==============================] - 0s 1ms/step - loss: 0.1429 - accuracy: 0.9613\n",
      "Epoch 2502/3000\n",
      "32/32 [==============================] - 0s 2ms/step - loss: 0.1517 - accuracy: 0.9614\n",
      "Epoch 2503/3000\n",
      "32/32 [==============================] - 0s 1ms/step - loss: 0.1216 - accuracy: 0.9707\n",
      "Epoch 2504/3000\n",
      "32/32 [==============================] - 0s 2ms/step - loss: 0.1346 - accuracy: 0.9668\n",
      "Epoch 2505/3000\n",
      "32/32 [==============================] - 0s 2ms/step - loss: 0.1335 - accuracy: 0.9641\n",
      "Epoch 2506/3000\n",
      "32/32 [==============================] - 0s 2ms/step - loss: 0.1387 - accuracy: 0.9649\n",
      "Epoch 2507/3000\n",
      "32/32 [==============================] - 0s 2ms/step - loss: 0.1432 - accuracy: 0.9660\n",
      "Epoch 2508/3000\n",
      "32/32 [==============================] - 0s 1ms/step - loss: 0.1393 - accuracy: 0.9634\n",
      "Epoch 2509/3000\n",
      "32/32 [==============================] - 0s 2ms/step - loss: 0.1267 - accuracy: 0.9706\n",
      "Epoch 2510/3000\n",
      "32/32 [==============================] - 0s 1ms/step - loss: 0.1390 - accuracy: 0.9630\n",
      "Epoch 2511/3000\n",
      "32/32 [==============================] - 0s 2ms/step - loss: 0.1328 - accuracy: 0.9660\n",
      "Epoch 2512/3000\n",
      "32/32 [==============================] - 0s 1ms/step - loss: 0.1296 - accuracy: 0.9665\n",
      "Epoch 2513/3000\n",
      "32/32 [==============================] - 0s 2ms/step - loss: 0.1319 - accuracy: 0.9680\n",
      "Epoch 2514/3000\n",
      "32/32 [==============================] - 0s 1ms/step - loss: 0.1358 - accuracy: 0.9681\n",
      "Epoch 2515/3000\n",
      "32/32 [==============================] - 0s 1ms/step - loss: 0.1369 - accuracy: 0.9663\n",
      "Epoch 2516/3000\n",
      "32/32 [==============================] - 0s 2ms/step - loss: 0.1413 - accuracy: 0.9644\n",
      "Epoch 2517/3000\n",
      "32/32 [==============================] - 0s 2ms/step - loss: 0.1365 - accuracy: 0.9642\n",
      "Epoch 2518/3000\n",
      "32/32 [==============================] - 0s 2ms/step - loss: 0.1315 - accuracy: 0.9681\n",
      "Epoch 2519/3000\n",
      "32/32 [==============================] - 0s 2ms/step - loss: 0.1395 - accuracy: 0.9646\n",
      "Epoch 2520/3000\n",
      "32/32 [==============================] - 0s 2ms/step - loss: 0.1355 - accuracy: 0.9644\n",
      "Epoch 2521/3000\n",
      "32/32 [==============================] - 0s 2ms/step - loss: 0.1400 - accuracy: 0.9650\n",
      "Epoch 2522/3000\n",
      "32/32 [==============================] - 0s 2ms/step - loss: 0.1371 - accuracy: 0.9645\n",
      "Epoch 2523/3000\n",
      "32/32 [==============================] - 0s 1ms/step - loss: 0.1388 - accuracy: 0.9638\n",
      "Epoch 2524/3000\n",
      "32/32 [==============================] - 0s 2ms/step - loss: 0.1346 - accuracy: 0.9709\n",
      "Epoch 2525/3000\n",
      "32/32 [==============================] - 0s 1ms/step - loss: 0.1376 - accuracy: 0.9673\n",
      "Epoch 2526/3000\n",
      "32/32 [==============================] - 0s 2ms/step - loss: 0.1321 - accuracy: 0.9651\n",
      "Epoch 2527/3000\n",
      "32/32 [==============================] - 0s 1ms/step - loss: 0.1355 - accuracy: 0.9651\n",
      "Epoch 2528/3000\n",
      "32/32 [==============================] - 0s 2ms/step - loss: 0.1306 - accuracy: 0.9633\n",
      "Epoch 2529/3000\n",
      "32/32 [==============================] - 0s 1ms/step - loss: 0.1303 - accuracy: 0.9676\n",
      "Epoch 2530/3000\n",
      "32/32 [==============================] - 0s 2ms/step - loss: 0.1419 - accuracy: 0.9637\n",
      "Epoch 2531/3000\n",
      "32/32 [==============================] - 0s 2ms/step - loss: 0.1260 - accuracy: 0.9667\n",
      "Epoch 2532/3000\n",
      "32/32 [==============================] - 0s 1ms/step - loss: 0.1313 - accuracy: 0.9708\n",
      "Epoch 2533/3000\n",
      "32/32 [==============================] - 0s 2ms/step - loss: 0.1225 - accuracy: 0.9683\n",
      "Epoch 2534/3000\n",
      "32/32 [==============================] - 0s 2ms/step - loss: 0.1262 - accuracy: 0.9691\n",
      "Epoch 2535/3000\n",
      "32/32 [==============================] - 0s 2ms/step - loss: 0.1303 - accuracy: 0.9679\n",
      "Epoch 2536/3000\n",
      "32/32 [==============================] - 0s 1ms/step - loss: 0.1282 - accuracy: 0.9690\n",
      "Epoch 2537/3000\n",
      "32/32 [==============================] - 0s 1ms/step - loss: 0.1358 - accuracy: 0.9650\n",
      "Epoch 2538/3000\n",
      "32/32 [==============================] - 0s 2ms/step - loss: 0.1242 - accuracy: 0.9703\n",
      "Epoch 2539/3000\n",
      "32/32 [==============================] - 0s 2ms/step - loss: 0.1259 - accuracy: 0.9690\n",
      "Epoch 2540/3000\n",
      "32/32 [==============================] - 0s 1ms/step - loss: 0.1429 - accuracy: 0.9650\n",
      "Epoch 2541/3000\n",
      "32/32 [==============================] - 0s 1ms/step - loss: 0.1357 - accuracy: 0.9611\n",
      "Epoch 2542/3000\n",
      "32/32 [==============================] - 0s 2ms/step - loss: 0.1295 - accuracy: 0.9654\n",
      "Epoch 2543/3000\n",
      "32/32 [==============================] - 0s 2ms/step - loss: 0.1365 - accuracy: 0.9691\n",
      "Epoch 2544/3000\n",
      "32/32 [==============================] - 0s 2ms/step - loss: 0.1363 - accuracy: 0.9667\n",
      "Epoch 2545/3000\n",
      "32/32 [==============================] - 0s 2ms/step - loss: 0.1390 - accuracy: 0.9642\n",
      "Epoch 2546/3000\n",
      "32/32 [==============================] - 0s 1ms/step - loss: 0.1285 - accuracy: 0.9706\n",
      "Epoch 2547/3000\n",
      "32/32 [==============================] - 0s 2ms/step - loss: 0.1209 - accuracy: 0.9704\n",
      "Epoch 2548/3000\n",
      "32/32 [==============================] - 0s 1ms/step - loss: 0.1381 - accuracy: 0.9648\n",
      "Epoch 2549/3000\n",
      "32/32 [==============================] - 0s 2ms/step - loss: 0.1466 - accuracy: 0.9627\n",
      "Epoch 2550/3000\n",
      "32/32 [==============================] - 0s 2ms/step - loss: 0.1318 - accuracy: 0.9675\n",
      "Epoch 2551/3000\n",
      "32/32 [==============================] - 0s 1ms/step - loss: 0.1415 - accuracy: 0.9660\n",
      "Epoch 2552/3000\n",
      "32/32 [==============================] - 0s 2ms/step - loss: 0.1418 - accuracy: 0.9647\n",
      "Epoch 2553/3000\n",
      "32/32 [==============================] - 0s 1ms/step - loss: 0.1378 - accuracy: 0.9655\n",
      "Epoch 2554/3000\n",
      "32/32 [==============================] - 0s 2ms/step - loss: 0.1489 - accuracy: 0.9627\n",
      "Epoch 2555/3000\n",
      "32/32 [==============================] - 0s 1ms/step - loss: 0.1339 - accuracy: 0.9679\n",
      "Epoch 2556/3000\n",
      "32/32 [==============================] - 0s 2ms/step - loss: 0.1342 - accuracy: 0.9661\n",
      "Epoch 2557/3000\n",
      "32/32 [==============================] - 0s 2ms/step - loss: 0.1462 - accuracy: 0.9613\n",
      "Epoch 2558/3000\n",
      "32/32 [==============================] - 0s 1ms/step - loss: 0.1294 - accuracy: 0.9686\n",
      "Epoch 2559/3000\n",
      "32/32 [==============================] - 0s 2ms/step - loss: 0.1300 - accuracy: 0.9692\n",
      "Epoch 2560/3000\n",
      "32/32 [==============================] - 0s 1ms/step - loss: 0.1428 - accuracy: 0.9657\n",
      "Epoch 2561/3000\n",
      "32/32 [==============================] - 0s 2ms/step - loss: 0.1391 - accuracy: 0.9641\n",
      "Epoch 2562/3000\n",
      "32/32 [==============================] - 0s 1ms/step - loss: 0.1355 - accuracy: 0.9635\n",
      "Epoch 2563/3000\n",
      "32/32 [==============================] - 0s 2ms/step - loss: 0.1391 - accuracy: 0.9662\n",
      "Epoch 2564/3000\n",
      "32/32 [==============================] - 0s 2ms/step - loss: 0.1400 - accuracy: 0.9662\n",
      "Epoch 2565/3000\n",
      "32/32 [==============================] - 0s 2ms/step - loss: 0.1377 - accuracy: 0.9654\n",
      "Epoch 2566/3000\n",
      "32/32 [==============================] - 0s 2ms/step - loss: 0.1393 - accuracy: 0.9655\n",
      "Epoch 2567/3000\n",
      "32/32 [==============================] - 0s 1ms/step - loss: 0.1296 - accuracy: 0.9662\n",
      "Epoch 2568/3000\n",
      "32/32 [==============================] - 0s 2ms/step - loss: 0.1374 - accuracy: 0.9645\n",
      "Epoch 2569/3000\n",
      "32/32 [==============================] - 0s 1ms/step - loss: 0.1434 - accuracy: 0.9625\n",
      "Epoch 2570/3000\n",
      "32/32 [==============================] - 0s 2ms/step - loss: 0.1344 - accuracy: 0.9677\n",
      "Epoch 2571/3000\n",
      "32/32 [==============================] - 0s 2ms/step - loss: 0.1352 - accuracy: 0.9664\n",
      "Epoch 2572/3000\n",
      "32/32 [==============================] - 0s 1ms/step - loss: 0.1375 - accuracy: 0.9658\n",
      "Epoch 2573/3000\n",
      "32/32 [==============================] - 0s 2ms/step - loss: 0.1328 - accuracy: 0.9658\n",
      "Epoch 2574/3000\n",
      "32/32 [==============================] - 0s 2ms/step - loss: 0.1325 - accuracy: 0.9678\n",
      "Epoch 2575/3000\n",
      "32/32 [==============================] - 0s 2ms/step - loss: 0.1303 - accuracy: 0.9710\n",
      "Epoch 2576/3000\n",
      "32/32 [==============================] - 0s 1ms/step - loss: 0.1318 - accuracy: 0.9684\n",
      "Epoch 2577/3000\n",
      "32/32 [==============================] - 0s 2ms/step - loss: 0.1245 - accuracy: 0.9699\n",
      "Epoch 2578/3000\n",
      "32/32 [==============================] - 0s 2ms/step - loss: 0.1287 - accuracy: 0.9679\n",
      "Epoch 2579/3000\n",
      "32/32 [==============================] - 0s 1ms/step - loss: 0.1317 - accuracy: 0.9678\n",
      "Epoch 2580/3000\n",
      "32/32 [==============================] - 0s 2ms/step - loss: 0.1260 - accuracy: 0.9697\n",
      "Epoch 2581/3000\n",
      "32/32 [==============================] - 0s 1ms/step - loss: 0.1353 - accuracy: 0.9651\n",
      "Epoch 2582/3000\n",
      "32/32 [==============================] - 0s 2ms/step - loss: 0.1284 - accuracy: 0.9662\n",
      "Epoch 2583/3000\n",
      "32/32 [==============================] - 0s 2ms/step - loss: 0.1347 - accuracy: 0.9649\n",
      "Epoch 2584/3000\n",
      "32/32 [==============================] - 0s 2ms/step - loss: 0.1353 - accuracy: 0.9664\n",
      "Epoch 2585/3000\n",
      "32/32 [==============================] - 0s 1ms/step - loss: 0.1255 - accuracy: 0.9690\n",
      "Epoch 2586/3000\n",
      "32/32 [==============================] - 0s 2ms/step - loss: 0.1391 - accuracy: 0.9654\n",
      "Epoch 2587/3000\n",
      "32/32 [==============================] - 0s 2ms/step - loss: 0.1299 - accuracy: 0.9701\n",
      "Epoch 2588/3000\n",
      "32/32 [==============================] - 0s 2ms/step - loss: 0.1334 - accuracy: 0.9647\n",
      "Epoch 2589/3000\n",
      "32/32 [==============================] - 0s 2ms/step - loss: 0.1376 - accuracy: 0.9640\n",
      "Epoch 2590/3000\n",
      "32/32 [==============================] - 0s 2ms/step - loss: 0.1333 - accuracy: 0.9650\n",
      "Epoch 2591/3000\n",
      "32/32 [==============================] - 0s 2ms/step - loss: 0.1280 - accuracy: 0.9705\n",
      "Epoch 2592/3000\n",
      "32/32 [==============================] - 0s 1ms/step - loss: 0.1216 - accuracy: 0.9702\n",
      "Epoch 2593/3000\n",
      "32/32 [==============================] - 0s 2ms/step - loss: 0.1322 - accuracy: 0.9656\n",
      "Epoch 2594/3000\n",
      "32/32 [==============================] - 0s 2ms/step - loss: 0.1350 - accuracy: 0.9683\n",
      "Epoch 2595/3000\n",
      "32/32 [==============================] - 0s 2ms/step - loss: 0.1364 - accuracy: 0.9675\n",
      "Epoch 2596/3000\n",
      "32/32 [==============================] - 0s 2ms/step - loss: 0.1306 - accuracy: 0.9692\n",
      "Epoch 2597/3000\n",
      "32/32 [==============================] - 0s 2ms/step - loss: 0.1306 - accuracy: 0.9673\n",
      "Epoch 2598/3000\n",
      "32/32 [==============================] - 0s 1ms/step - loss: 0.1310 - accuracy: 0.9697\n",
      "Epoch 2599/3000\n",
      "32/32 [==============================] - 0s 2ms/step - loss: 0.1262 - accuracy: 0.9703\n",
      "Epoch 2600/3000\n",
      "32/32 [==============================] - 0s 2ms/step - loss: 0.1367 - accuracy: 0.9661\n",
      "Epoch 2601/3000\n",
      "32/32 [==============================] - 0s 1ms/step - loss: 0.1354 - accuracy: 0.9689\n",
      "Epoch 2602/3000\n",
      "32/32 [==============================] - 0s 2ms/step - loss: 0.1315 - accuracy: 0.9696\n",
      "Epoch 2603/3000\n",
      "32/32 [==============================] - 0s 2ms/step - loss: 0.1223 - accuracy: 0.9705\n",
      "Epoch 2604/3000\n",
      "32/32 [==============================] - 0s 1ms/step - loss: 0.1350 - accuracy: 0.9653\n",
      "Epoch 2605/3000\n",
      "32/32 [==============================] - 0s 3ms/step - loss: 0.1331 - accuracy: 0.9652\n",
      "Epoch 2606/3000\n",
      "32/32 [==============================] - 0s 1ms/step - loss: 0.1283 - accuracy: 0.9673\n",
      "Epoch 2607/3000\n",
      "32/32 [==============================] - 0s 2ms/step - loss: 0.1369 - accuracy: 0.9656\n",
      "Epoch 2608/3000\n",
      "32/32 [==============================] - 0s 2ms/step - loss: 0.1342 - accuracy: 0.9679\n",
      "Epoch 2609/3000\n",
      "32/32 [==============================] - 0s 1ms/step - loss: 0.1218 - accuracy: 0.9690\n",
      "Epoch 2610/3000\n",
      "32/32 [==============================] - 0s 2ms/step - loss: 0.1325 - accuracy: 0.9671\n",
      "Epoch 2611/3000\n",
      "32/32 [==============================] - 0s 2ms/step - loss: 0.1300 - accuracy: 0.9686\n",
      "Epoch 2612/3000\n",
      "32/32 [==============================] - 0s 1ms/step - loss: 0.1320 - accuracy: 0.9670\n",
      "Epoch 2613/3000\n",
      "32/32 [==============================] - 0s 2ms/step - loss: 0.1258 - accuracy: 0.9700\n",
      "Epoch 2614/3000\n",
      "32/32 [==============================] - 0s 2ms/step - loss: 0.1280 - accuracy: 0.9700\n",
      "Epoch 2615/3000\n",
      "32/32 [==============================] - 0s 2ms/step - loss: 0.1308 - accuracy: 0.9685\n",
      "Epoch 2616/3000\n",
      "32/32 [==============================] - 0s 2ms/step - loss: 0.1253 - accuracy: 0.9699\n",
      "Epoch 2617/3000\n",
      "32/32 [==============================] - 0s 1ms/step - loss: 0.1302 - accuracy: 0.9684\n",
      "Epoch 2618/3000\n",
      "32/32 [==============================] - 0s 2ms/step - loss: 0.1256 - accuracy: 0.9688\n",
      "Epoch 2619/3000\n",
      "32/32 [==============================] - 0s 2ms/step - loss: 0.1306 - accuracy: 0.9696\n",
      "Epoch 2620/3000\n",
      "32/32 [==============================] - 0s 1ms/step - loss: 0.1276 - accuracy: 0.9654\n",
      "Epoch 2621/3000\n",
      "32/32 [==============================] - 0s 2ms/step - loss: 0.1303 - accuracy: 0.9681\n",
      "Epoch 2622/3000\n",
      "32/32 [==============================] - 0s 2ms/step - loss: 0.1334 - accuracy: 0.9698\n",
      "Epoch 2623/3000\n",
      "32/32 [==============================] - 0s 1ms/step - loss: 0.1306 - accuracy: 0.9683\n",
      "Epoch 2624/3000\n",
      "32/32 [==============================] - 0s 2ms/step - loss: 0.1265 - accuracy: 0.9654\n",
      "Epoch 2625/3000\n",
      "32/32 [==============================] - 0s 2ms/step - loss: 0.1372 - accuracy: 0.9632\n",
      "Epoch 2626/3000\n",
      "32/32 [==============================] - 0s 2ms/step - loss: 0.1352 - accuracy: 0.9636\n",
      "Epoch 2627/3000\n",
      "32/32 [==============================] - 0s 2ms/step - loss: 0.1300 - accuracy: 0.9713\n",
      "Epoch 2628/3000\n",
      "32/32 [==============================] - 0s 1ms/step - loss: 0.1317 - accuracy: 0.9672\n",
      "Epoch 2629/3000\n",
      "32/32 [==============================] - 0s 2ms/step - loss: 0.1311 - accuracy: 0.9688\n",
      "Epoch 2630/3000\n",
      "32/32 [==============================] - 0s 2ms/step - loss: 0.1276 - accuracy: 0.9698\n",
      "Epoch 2631/3000\n",
      "32/32 [==============================] - 0s 1ms/step - loss: 0.1284 - accuracy: 0.9721\n",
      "Epoch 2632/3000\n",
      "32/32 [==============================] - 0s 2ms/step - loss: 0.1363 - accuracy: 0.9651\n",
      "Epoch 2633/3000\n",
      "32/32 [==============================] - 0s 2ms/step - loss: 0.1333 - accuracy: 0.9654\n",
      "Epoch 2634/3000\n",
      "32/32 [==============================] - 0s 1ms/step - loss: 0.1303 - accuracy: 0.9659\n",
      "Epoch 2635/3000\n",
      "32/32 [==============================] - 0s 2ms/step - loss: 0.1264 - accuracy: 0.9704\n",
      "Epoch 2636/3000\n",
      "32/32 [==============================] - 0s 2ms/step - loss: 0.1350 - accuracy: 0.9658\n",
      "Epoch 2637/3000\n",
      "32/32 [==============================] - 0s 2ms/step - loss: 0.1270 - accuracy: 0.9681\n",
      "Epoch 2638/3000\n",
      "32/32 [==============================] - 0s 2ms/step - loss: 0.1343 - accuracy: 0.9650\n",
      "Epoch 2639/3000\n",
      "32/32 [==============================] - 0s 1ms/step - loss: 0.1187 - accuracy: 0.9715\n",
      "Epoch 2640/3000\n",
      "32/32 [==============================] - 0s 2ms/step - loss: 0.1316 - accuracy: 0.9694\n",
      "Epoch 2641/3000\n",
      "32/32 [==============================] - 0s 2ms/step - loss: 0.1232 - accuracy: 0.9697\n",
      "Epoch 2642/3000\n",
      "32/32 [==============================] - 0s 1ms/step - loss: 0.1205 - accuracy: 0.9737\n",
      "Epoch 2643/3000\n",
      "32/32 [==============================] - 0s 2ms/step - loss: 0.1271 - accuracy: 0.9691\n",
      "Epoch 2644/3000\n",
      "32/32 [==============================] - 0s 2ms/step - loss: 0.1301 - accuracy: 0.9709\n",
      "Epoch 2645/3000\n",
      "32/32 [==============================] - 0s 1ms/step - loss: 0.1388 - accuracy: 0.9646\n",
      "Epoch 2646/3000\n",
      "32/32 [==============================] - 0s 2ms/step - loss: 0.1340 - accuracy: 0.9706\n",
      "Epoch 2647/3000\n",
      "32/32 [==============================] - 0s 2ms/step - loss: 0.1221 - accuracy: 0.9733\n",
      "Epoch 2648/3000\n",
      "32/32 [==============================] - 0s 1ms/step - loss: 0.1287 - accuracy: 0.9692\n",
      "Epoch 2649/3000\n",
      "32/32 [==============================] - 0s 2ms/step - loss: 0.1314 - accuracy: 0.9677\n",
      "Epoch 2650/3000\n",
      "32/32 [==============================] - 0s 2ms/step - loss: 0.1248 - accuracy: 0.9720\n",
      "Epoch 2651/3000\n",
      "32/32 [==============================] - 0s 2ms/step - loss: 0.1403 - accuracy: 0.9652\n",
      "Epoch 2652/3000\n",
      "32/32 [==============================] - 0s 2ms/step - loss: 0.1374 - accuracy: 0.9630\n",
      "Epoch 2653/3000\n",
      "32/32 [==============================] - 0s 1ms/step - loss: 0.1310 - accuracy: 0.9673\n",
      "Epoch 2654/3000\n",
      "32/32 [==============================] - 0s 2ms/step - loss: 0.1333 - accuracy: 0.9663\n",
      "Epoch 2655/3000\n",
      "32/32 [==============================] - 0s 2ms/step - loss: 0.1261 - accuracy: 0.9703\n",
      "Epoch 2656/3000\n",
      "32/32 [==============================] - 0s 1ms/step - loss: 0.1405 - accuracy: 0.9661\n",
      "Epoch 2657/3000\n",
      "32/32 [==============================] - 0s 2ms/step - loss: 0.1227 - accuracy: 0.9684\n",
      "Epoch 2658/3000\n",
      "32/32 [==============================] - 0s 2ms/step - loss: 0.1344 - accuracy: 0.9651\n",
      "Epoch 2659/3000\n",
      "32/32 [==============================] - 0s 1ms/step - loss: 0.1239 - accuracy: 0.9678\n",
      "Epoch 2660/3000\n",
      "32/32 [==============================] - 0s 2ms/step - loss: 0.1431 - accuracy: 0.9619\n",
      "Epoch 2661/3000\n",
      "32/32 [==============================] - 0s 3ms/step - loss: 0.1253 - accuracy: 0.9679\n",
      "Epoch 2662/3000\n",
      "32/32 [==============================] - 0s 2ms/step - loss: 0.1225 - accuracy: 0.9690\n",
      "Epoch 2663/3000\n",
      "32/32 [==============================] - 0s 2ms/step - loss: 0.1381 - accuracy: 0.9669\n",
      "Epoch 2664/3000\n",
      "32/32 [==============================] - 0s 3ms/step - loss: 0.1270 - accuracy: 0.9691\n",
      "Epoch 2665/3000\n",
      "32/32 [==============================] - 0s 1ms/step - loss: 0.1380 - accuracy: 0.9654\n",
      "Epoch 2666/3000\n",
      "32/32 [==============================] - 0s 2ms/step - loss: 0.1252 - accuracy: 0.9700\n",
      "Epoch 2667/3000\n",
      "32/32 [==============================] - 0s 2ms/step - loss: 0.1252 - accuracy: 0.9690\n",
      "Epoch 2668/3000\n",
      "32/32 [==============================] - 0s 2ms/step - loss: 0.1175 - accuracy: 0.9728\n",
      "Epoch 2669/3000\n",
      "32/32 [==============================] - 0s 2ms/step - loss: 0.1283 - accuracy: 0.9700\n",
      "Epoch 2670/3000\n",
      "32/32 [==============================] - 0s 2ms/step - loss: 0.1240 - accuracy: 0.9715\n",
      "Epoch 2671/3000\n",
      "32/32 [==============================] - 0s 2ms/step - loss: 0.1247 - accuracy: 0.9700\n",
      "Epoch 2672/3000\n",
      "32/32 [==============================] - 0s 1ms/step - loss: 0.1329 - accuracy: 0.9675\n",
      "Epoch 2673/3000\n",
      "32/32 [==============================] - 0s 2ms/step - loss: 0.1387 - accuracy: 0.9656\n",
      "Epoch 2674/3000\n",
      "32/32 [==============================] - 0s 2ms/step - loss: 0.1381 - accuracy: 0.9644\n",
      "Epoch 2675/3000\n",
      "32/32 [==============================] - 0s 2ms/step - loss: 0.1236 - accuracy: 0.9734\n",
      "Epoch 2676/3000\n",
      "32/32 [==============================] - 0s 2ms/step - loss: 0.1247 - accuracy: 0.9693\n",
      "Epoch 2677/3000\n",
      "32/32 [==============================] - 0s 2ms/step - loss: 0.1331 - accuracy: 0.9630\n",
      "Epoch 2678/3000\n",
      "32/32 [==============================] - 0s 2ms/step - loss: 0.1317 - accuracy: 0.9670\n",
      "Epoch 2679/3000\n",
      "32/32 [==============================] - 0s 2ms/step - loss: 0.1391 - accuracy: 0.9625\n",
      "Epoch 2680/3000\n",
      "32/32 [==============================] - 0s 2ms/step - loss: 0.1279 - accuracy: 0.9668\n",
      "Epoch 2681/3000\n",
      "32/32 [==============================] - 0s 3ms/step - loss: 0.1260 - accuracy: 0.9689\n",
      "Epoch 2682/3000\n",
      "32/32 [==============================] - 0s 2ms/step - loss: 0.1300 - accuracy: 0.9675\n",
      "Epoch 2683/3000\n",
      "32/32 [==============================] - 0s 2ms/step - loss: 0.1178 - accuracy: 0.9697\n",
      "Epoch 2684/3000\n",
      "32/32 [==============================] - 0s 2ms/step - loss: 0.1407 - accuracy: 0.9618\n",
      "Epoch 2685/3000\n",
      "32/32 [==============================] - 0s 1ms/step - loss: 0.1283 - accuracy: 0.9708\n",
      "Epoch 2686/3000\n",
      "32/32 [==============================] - 0s 2ms/step - loss: 0.1250 - accuracy: 0.9717\n",
      "Epoch 2687/3000\n",
      "32/32 [==============================] - 0s 2ms/step - loss: 0.1277 - accuracy: 0.9677\n",
      "Epoch 2688/3000\n",
      "32/32 [==============================] - 0s 2ms/step - loss: 0.1248 - accuracy: 0.9693\n",
      "Epoch 2689/3000\n",
      "32/32 [==============================] - 0s 2ms/step - loss: 0.1173 - accuracy: 0.9724\n",
      "Epoch 2690/3000\n",
      "32/32 [==============================] - 0s 1ms/step - loss: 0.1291 - accuracy: 0.9704\n",
      "Epoch 2691/3000\n",
      "32/32 [==============================] - 0s 2ms/step - loss: 0.1187 - accuracy: 0.9719\n",
      "Epoch 2692/3000\n",
      "32/32 [==============================] - 0s 2ms/step - loss: 0.1291 - accuracy: 0.9667\n",
      "Epoch 2693/3000\n",
      "32/32 [==============================] - 0s 1ms/step - loss: 0.1237 - accuracy: 0.9682\n",
      "Epoch 2694/3000\n",
      "32/32 [==============================] - 0s 2ms/step - loss: 0.1218 - accuracy: 0.9718\n",
      "Epoch 2695/3000\n",
      "32/32 [==============================] - 0s 3ms/step - loss: 0.1252 - accuracy: 0.9719\n",
      "Epoch 2696/3000\n",
      "32/32 [==============================] - 0s 1ms/step - loss: 0.1324 - accuracy: 0.9631\n",
      "Epoch 2697/3000\n",
      "32/32 [==============================] - 0s 3ms/step - loss: 0.1311 - accuracy: 0.9665\n",
      "Epoch 2698/3000\n",
      "32/32 [==============================] - 0s 2ms/step - loss: 0.1290 - accuracy: 0.9699\n",
      "Epoch 2699/3000\n",
      "32/32 [==============================] - 0s 1ms/step - loss: 0.1346 - accuracy: 0.9659\n",
      "Epoch 2700/3000\n",
      "32/32 [==============================] - 0s 2ms/step - loss: 0.1267 - accuracy: 0.9715\n",
      "Epoch 2701/3000\n",
      "32/32 [==============================] - 0s 3ms/step - loss: 0.1326 - accuracy: 0.9687\n",
      "Epoch 2702/3000\n",
      "32/32 [==============================] - 0s 2ms/step - loss: 0.1351 - accuracy: 0.9653\n",
      "Epoch 2703/3000\n",
      "32/32 [==============================] - 0s 1ms/step - loss: 0.1314 - accuracy: 0.9707\n",
      "Epoch 2704/3000\n",
      "32/32 [==============================] - 0s 2ms/step - loss: 0.1201 - accuracy: 0.9706\n",
      "Epoch 2705/3000\n",
      "32/32 [==============================] - 0s 2ms/step - loss: 0.1353 - accuracy: 0.9635\n",
      "Epoch 2706/3000\n",
      "32/32 [==============================] - 0s 1ms/step - loss: 0.1276 - accuracy: 0.9693\n",
      "Epoch 2707/3000\n",
      "32/32 [==============================] - 0s 2ms/step - loss: 0.1315 - accuracy: 0.9682\n",
      "Epoch 2708/3000\n",
      "32/32 [==============================] - 0s 2ms/step - loss: 0.1257 - accuracy: 0.9694\n",
      "Epoch 2709/3000\n",
      "32/32 [==============================] - 0s 1ms/step - loss: 0.1345 - accuracy: 0.9677\n",
      "Epoch 2710/3000\n",
      "32/32 [==============================] - 0s 2ms/step - loss: 0.1196 - accuracy: 0.9727\n",
      "Epoch 2711/3000\n",
      "32/32 [==============================] - 0s 2ms/step - loss: 0.1317 - accuracy: 0.9666\n",
      "Epoch 2712/3000\n",
      "32/32 [==============================] - 0s 1ms/step - loss: 0.1264 - accuracy: 0.9694\n",
      "Epoch 2713/3000\n",
      "32/32 [==============================] - 0s 2ms/step - loss: 0.1432 - accuracy: 0.9656\n",
      "Epoch 2714/3000\n",
      "32/32 [==============================] - 0s 2ms/step - loss: 0.1257 - accuracy: 0.9695\n",
      "Epoch 2715/3000\n",
      "32/32 [==============================] - 0s 1ms/step - loss: 0.1296 - accuracy: 0.9674\n",
      "Epoch 2716/3000\n",
      "32/32 [==============================] - 0s 2ms/step - loss: 0.1204 - accuracy: 0.9723\n",
      "Epoch 2717/3000\n",
      "32/32 [==============================] - 0s 2ms/step - loss: 0.1194 - accuracy: 0.9723\n",
      "Epoch 2718/3000\n",
      "32/32 [==============================] - 0s 2ms/step - loss: 0.1241 - accuracy: 0.9700\n",
      "Epoch 2719/3000\n",
      "32/32 [==============================] - 0s 2ms/step - loss: 0.1315 - accuracy: 0.9695\n",
      "Epoch 2720/3000\n",
      "32/32 [==============================] - 0s 1ms/step - loss: 0.1324 - accuracy: 0.9722\n",
      "Epoch 2721/3000\n",
      "32/32 [==============================] - 0s 2ms/step - loss: 0.1346 - accuracy: 0.9683\n",
      "Epoch 2722/3000\n",
      "32/32 [==============================] - 0s 2ms/step - loss: 0.1325 - accuracy: 0.9676\n",
      "Epoch 2723/3000\n",
      "32/32 [==============================] - 0s 1ms/step - loss: 0.1300 - accuracy: 0.9708\n",
      "Epoch 2724/3000\n",
      "32/32 [==============================] - 0s 2ms/step - loss: 0.1384 - accuracy: 0.9671\n",
      "Epoch 2725/3000\n",
      "32/32 [==============================] - 0s 2ms/step - loss: 0.1315 - accuracy: 0.9673\n",
      "Epoch 2726/3000\n",
      "32/32 [==============================] - 0s 1ms/step - loss: 0.1231 - accuracy: 0.9729\n",
      "Epoch 2727/3000\n",
      "32/32 [==============================] - 0s 3ms/step - loss: 0.1264 - accuracy: 0.9687\n",
      "Epoch 2728/3000\n",
      "32/32 [==============================] - 0s 2ms/step - loss: 0.1283 - accuracy: 0.9702\n",
      "Epoch 2729/3000\n",
      "32/32 [==============================] - 0s 1ms/step - loss: 0.1328 - accuracy: 0.9682\n",
      "Epoch 2730/3000\n",
      "32/32 [==============================] - 0s 2ms/step - loss: 0.1268 - accuracy: 0.9708\n",
      "Epoch 2731/3000\n",
      "32/32 [==============================] - 0s 2ms/step - loss: 0.1119 - accuracy: 0.9775\n",
      "Epoch 2732/3000\n",
      "32/32 [==============================] - 0s 1ms/step - loss: 0.1278 - accuracy: 0.9692\n",
      "Epoch 2733/3000\n",
      "32/32 [==============================] - 0s 2ms/step - loss: 0.1311 - accuracy: 0.9685\n",
      "Epoch 2734/3000\n",
      "32/32 [==============================] - 0s 1ms/step - loss: 0.1241 - accuracy: 0.9697\n",
      "Epoch 2735/3000\n",
      "32/32 [==============================] - 0s 2ms/step - loss: 0.1254 - accuracy: 0.9702\n",
      "Epoch 2736/3000\n",
      "32/32 [==============================] - 0s 2ms/step - loss: 0.1194 - accuracy: 0.9716\n",
      "Epoch 2737/3000\n",
      "32/32 [==============================] - 0s 1ms/step - loss: 0.1212 - accuracy: 0.9726\n",
      "Epoch 2738/3000\n",
      "32/32 [==============================] - 0s 3ms/step - loss: 0.1267 - accuracy: 0.9706\n",
      "Epoch 2739/3000\n",
      "32/32 [==============================] - 0s 3ms/step - loss: 0.1172 - accuracy: 0.9720\n",
      "Epoch 2740/3000\n",
      "32/32 [==============================] - 0s 3ms/step - loss: 0.1268 - accuracy: 0.9710\n",
      "Epoch 2741/3000\n",
      "32/32 [==============================] - 0s 1ms/step - loss: 0.1255 - accuracy: 0.9700\n",
      "Epoch 2742/3000\n",
      "32/32 [==============================] - 0s 2ms/step - loss: 0.1279 - accuracy: 0.9670\n",
      "Epoch 2743/3000\n",
      "32/32 [==============================] - 0s 2ms/step - loss: 0.1272 - accuracy: 0.9694\n",
      "Epoch 2744/3000\n",
      "32/32 [==============================] - 0s 1ms/step - loss: 0.1316 - accuracy: 0.9707\n",
      "Epoch 2745/3000\n",
      "32/32 [==============================] - 0s 2ms/step - loss: 0.1400 - accuracy: 0.9648\n",
      "Epoch 2746/3000\n",
      "32/32 [==============================] - 0s 2ms/step - loss: 0.1345 - accuracy: 0.9659\n",
      "Epoch 2747/3000\n",
      "32/32 [==============================] - 0s 1ms/step - loss: 0.1254 - accuracy: 0.9679\n",
      "Epoch 2748/3000\n",
      "32/32 [==============================] - 0s 2ms/step - loss: 0.1355 - accuracy: 0.9663\n",
      "Epoch 2749/3000\n",
      "32/32 [==============================] - 0s 2ms/step - loss: 0.1342 - accuracy: 0.9674\n",
      "Epoch 2750/3000\n",
      "32/32 [==============================] - 0s 1ms/step - loss: 0.1208 - accuracy: 0.9727\n",
      "Epoch 2751/3000\n",
      "32/32 [==============================] - 0s 2ms/step - loss: 0.1212 - accuracy: 0.9728\n",
      "Epoch 2752/3000\n",
      "32/32 [==============================] - 0s 2ms/step - loss: 0.1308 - accuracy: 0.9684\n",
      "Epoch 2753/3000\n",
      "32/32 [==============================] - 0s 2ms/step - loss: 0.1216 - accuracy: 0.9700\n",
      "Epoch 2754/3000\n",
      "32/32 [==============================] - 0s 2ms/step - loss: 0.1310 - accuracy: 0.9677\n",
      "Epoch 2755/3000\n",
      "32/32 [==============================] - 0s 2ms/step - loss: 0.1258 - accuracy: 0.9694\n",
      "Epoch 2756/3000\n",
      "32/32 [==============================] - 0s 1ms/step - loss: 0.1242 - accuracy: 0.9724\n",
      "Epoch 2757/3000\n",
      "32/32 [==============================] - 0s 2ms/step - loss: 0.1317 - accuracy: 0.9700\n",
      "Epoch 2758/3000\n",
      "32/32 [==============================] - 0s 2ms/step - loss: 0.1286 - accuracy: 0.9692\n",
      "Epoch 2759/3000\n",
      "32/32 [==============================] - 0s 1ms/step - loss: 0.1192 - accuracy: 0.9718\n",
      "Epoch 2760/3000\n",
      "32/32 [==============================] - 0s 2ms/step - loss: 0.1191 - accuracy: 0.9727\n",
      "Epoch 2761/3000\n",
      "32/32 [==============================] - 0s 1ms/step - loss: 0.1274 - accuracy: 0.9708\n",
      "Epoch 2762/3000\n",
      "32/32 [==============================] - 0s 2ms/step - loss: 0.1247 - accuracy: 0.9727\n",
      "Epoch 2763/3000\n",
      "32/32 [==============================] - 0s 2ms/step - loss: 0.1208 - accuracy: 0.9717\n",
      "Epoch 2764/3000\n",
      "32/32 [==============================] - 0s 1ms/step - loss: 0.1254 - accuracy: 0.9696\n",
      "Epoch 2765/3000\n",
      "32/32 [==============================] - 0s 2ms/step - loss: 0.1181 - accuracy: 0.9705\n",
      "Epoch 2766/3000\n",
      "32/32 [==============================] - 0s 2ms/step - loss: 0.1186 - accuracy: 0.9736\n",
      "Epoch 2767/3000\n",
      "32/32 [==============================] - 0s 1ms/step - loss: 0.1303 - accuracy: 0.9701\n",
      "Epoch 2768/3000\n",
      "32/32 [==============================] - 0s 2ms/step - loss: 0.1204 - accuracy: 0.9690\n",
      "Epoch 2769/3000\n",
      "32/32 [==============================] - 0s 3ms/step - loss: 0.1242 - accuracy: 0.9728\n",
      "Epoch 2770/3000\n",
      "32/32 [==============================] - 0s 1ms/step - loss: 0.1294 - accuracy: 0.9670\n",
      "Epoch 2771/3000\n",
      "32/32 [==============================] - 0s 2ms/step - loss: 0.1157 - accuracy: 0.9736\n",
      "Epoch 2772/3000\n",
      "32/32 [==============================] - 0s 2ms/step - loss: 0.1250 - accuracy: 0.9702\n",
      "Epoch 2773/3000\n",
      "32/32 [==============================] - 0s 2ms/step - loss: 0.1187 - accuracy: 0.9725\n",
      "Epoch 2774/3000\n",
      "32/32 [==============================] - 0s 2ms/step - loss: 0.1239 - accuracy: 0.9693\n",
      "Epoch 2775/3000\n",
      "32/32 [==============================] - 0s 1ms/step - loss: 0.1329 - accuracy: 0.9672\n",
      "Epoch 2776/3000\n",
      "32/32 [==============================] - 0s 2ms/step - loss: 0.1261 - accuracy: 0.9703\n",
      "Epoch 2777/3000\n",
      "32/32 [==============================] - 0s 2ms/step - loss: 0.1329 - accuracy: 0.9698\n",
      "Epoch 2778/3000\n",
      "32/32 [==============================] - 0s 2ms/step - loss: 0.1195 - accuracy: 0.9709\n",
      "Epoch 2779/3000\n",
      "32/32 [==============================] - 0s 2ms/step - loss: 0.1156 - accuracy: 0.9721\n",
      "Epoch 2780/3000\n",
      "32/32 [==============================] - 0s 1ms/step - loss: 0.1247 - accuracy: 0.9717\n",
      "Epoch 2781/3000\n",
      "32/32 [==============================] - 0s 2ms/step - loss: 0.1209 - accuracy: 0.9766\n",
      "Epoch 2782/3000\n",
      "32/32 [==============================] - 0s 2ms/step - loss: 0.1212 - accuracy: 0.9704\n",
      "Epoch 2783/3000\n",
      "32/32 [==============================] - 0s 2ms/step - loss: 0.1238 - accuracy: 0.9730\n",
      "Epoch 2784/3000\n",
      "32/32 [==============================] - 0s 2ms/step - loss: 0.1272 - accuracy: 0.9709\n",
      "Epoch 2785/3000\n",
      "32/32 [==============================] - 0s 2ms/step - loss: 0.1253 - accuracy: 0.9684\n",
      "Epoch 2786/3000\n",
      "32/32 [==============================] - 0s 2ms/step - loss: 0.1354 - accuracy: 0.9669\n",
      "Epoch 2787/3000\n",
      "32/32 [==============================] - 0s 2ms/step - loss: 0.1268 - accuracy: 0.9714\n",
      "Epoch 2788/3000\n",
      "32/32 [==============================] - 0s 1ms/step - loss: 0.1255 - accuracy: 0.9725\n",
      "Epoch 2789/3000\n",
      "32/32 [==============================] - 0s 2ms/step - loss: 0.1234 - accuracy: 0.9729\n",
      "Epoch 2790/3000\n",
      "32/32 [==============================] - 0s 2ms/step - loss: 0.1213 - accuracy: 0.9714\n",
      "Epoch 2791/3000\n",
      "32/32 [==============================] - 0s 2ms/step - loss: 0.1277 - accuracy: 0.9693\n",
      "Epoch 2792/3000\n",
      "32/32 [==============================] - 0s 2ms/step - loss: 0.1207 - accuracy: 0.9726\n",
      "Epoch 2793/3000\n",
      "32/32 [==============================] - 0s 1ms/step - loss: 0.1112 - accuracy: 0.9754\n",
      "Epoch 2794/3000\n",
      "32/32 [==============================] - 0s 2ms/step - loss: 0.1249 - accuracy: 0.9706\n",
      "Epoch 2795/3000\n",
      "32/32 [==============================] - 0s 2ms/step - loss: 0.1279 - accuracy: 0.9687\n",
      "Epoch 2796/3000\n",
      "32/32 [==============================] - 0s 1ms/step - loss: 0.1309 - accuracy: 0.9660\n",
      "Epoch 2797/3000\n",
      "32/32 [==============================] - 0s 2ms/step - loss: 0.1154 - accuracy: 0.9739\n",
      "Epoch 2798/3000\n",
      "32/32 [==============================] - 0s 1ms/step - loss: 0.1234 - accuracy: 0.9678\n",
      "Epoch 2799/3000\n",
      "32/32 [==============================] - 0s 1ms/step - loss: 0.1256 - accuracy: 0.9708\n",
      "Epoch 2800/3000\n",
      "32/32 [==============================] - 0s 2ms/step - loss: 0.1121 - accuracy: 0.9739\n",
      "Epoch 2801/3000\n",
      "32/32 [==============================] - 0s 1ms/step - loss: 0.1229 - accuracy: 0.9699\n",
      "Epoch 2802/3000\n",
      "32/32 [==============================] - 0s 2ms/step - loss: 0.1303 - accuracy: 0.9712\n",
      "Epoch 2803/3000\n",
      "32/32 [==============================] - 0s 2ms/step - loss: 0.1231 - accuracy: 0.9696\n",
      "Epoch 2804/3000\n",
      "32/32 [==============================] - 0s 1ms/step - loss: 0.1202 - accuracy: 0.9732\n",
      "Epoch 2805/3000\n",
      "32/32 [==============================] - 0s 2ms/step - loss: 0.1312 - accuracy: 0.9719\n",
      "Epoch 2806/3000\n",
      "32/32 [==============================] - 0s 2ms/step - loss: 0.1232 - accuracy: 0.9718\n",
      "Epoch 2807/3000\n",
      "32/32 [==============================] - 0s 1ms/step - loss: 0.1226 - accuracy: 0.9724\n",
      "Epoch 2808/3000\n",
      "32/32 [==============================] - 0s 2ms/step - loss: 0.1265 - accuracy: 0.9718\n",
      "Epoch 2809/3000\n",
      "32/32 [==============================] - 0s 2ms/step - loss: 0.1382 - accuracy: 0.9649\n",
      "Epoch 2810/3000\n",
      "32/32 [==============================] - 0s 1ms/step - loss: 0.1224 - accuracy: 0.9720\n",
      "Epoch 2811/3000\n",
      "32/32 [==============================] - 0s 2ms/step - loss: 0.1174 - accuracy: 0.9726\n",
      "Epoch 2812/3000\n",
      "32/32 [==============================] - 0s 2ms/step - loss: 0.1231 - accuracy: 0.9720\n",
      "Epoch 2813/3000\n",
      "32/32 [==============================] - 0s 1ms/step - loss: 0.1315 - accuracy: 0.9665\n",
      "Epoch 2814/3000\n",
      "32/32 [==============================] - 0s 2ms/step - loss: 0.1214 - accuracy: 0.9754\n",
      "Epoch 2815/3000\n",
      "32/32 [==============================] - 0s 2ms/step - loss: 0.1328 - accuracy: 0.9694\n",
      "Epoch 2816/3000\n",
      "32/32 [==============================] - 0s 2ms/step - loss: 0.1142 - accuracy: 0.9772\n",
      "Epoch 2817/3000\n",
      "32/32 [==============================] - 0s 2ms/step - loss: 0.1256 - accuracy: 0.9707\n",
      "Epoch 2818/3000\n",
      "32/32 [==============================] - 0s 3ms/step - loss: 0.1225 - accuracy: 0.9719\n",
      "Epoch 2819/3000\n",
      "32/32 [==============================] - 0s 1ms/step - loss: 0.1165 - accuracy: 0.9734\n",
      "Epoch 2820/3000\n",
      "32/32 [==============================] - 0s 2ms/step - loss: 0.1235 - accuracy: 0.9704\n",
      "Epoch 2821/3000\n",
      "32/32 [==============================] - 0s 2ms/step - loss: 0.1323 - accuracy: 0.9682\n",
      "Epoch 2822/3000\n",
      "32/32 [==============================] - 0s 1ms/step - loss: 0.1232 - accuracy: 0.9706\n",
      "Epoch 2823/3000\n",
      "32/32 [==============================] - 0s 2ms/step - loss: 0.1148 - accuracy: 0.9725\n",
      "Epoch 2824/3000\n",
      "32/32 [==============================] - 0s 1ms/step - loss: 0.1230 - accuracy: 0.9694\n",
      "Epoch 2825/3000\n",
      "32/32 [==============================] - 0s 2ms/step - loss: 0.1305 - accuracy: 0.9686\n",
      "Epoch 2826/3000\n",
      "32/32 [==============================] - 0s 3ms/step - loss: 0.1177 - accuracy: 0.9725\n",
      "Epoch 2827/3000\n",
      "32/32 [==============================] - 0s 1ms/step - loss: 0.1170 - accuracy: 0.9737\n",
      "Epoch 2828/3000\n",
      "32/32 [==============================] - 0s 2ms/step - loss: 0.1180 - accuracy: 0.9722\n",
      "Epoch 2829/3000\n",
      "32/32 [==============================] - 0s 2ms/step - loss: 0.1310 - accuracy: 0.9689\n",
      "Epoch 2830/3000\n",
      "32/32 [==============================] - 0s 1ms/step - loss: 0.1203 - accuracy: 0.9731\n",
      "Epoch 2831/3000\n",
      "32/32 [==============================] - 0s 2ms/step - loss: 0.1162 - accuracy: 0.9690\n",
      "Epoch 2832/3000\n",
      "32/32 [==============================] - 0s 2ms/step - loss: 0.1391 - accuracy: 0.9665\n",
      "Epoch 2833/3000\n",
      "32/32 [==============================] - 0s 2ms/step - loss: 0.1232 - accuracy: 0.9697\n",
      "Epoch 2834/3000\n",
      "32/32 [==============================] - 0s 3ms/step - loss: 0.1249 - accuracy: 0.9687\n",
      "Epoch 2835/3000\n",
      "32/32 [==============================] - 0s 3ms/step - loss: 0.1182 - accuracy: 0.9733\n",
      "Epoch 2836/3000\n",
      "32/32 [==============================] - 0s 3ms/step - loss: 0.1243 - accuracy: 0.9713\n",
      "Epoch 2837/3000\n",
      "32/32 [==============================] - 0s 2ms/step - loss: 0.1233 - accuracy: 0.9709\n",
      "Epoch 2838/3000\n",
      "32/32 [==============================] - 0s 1ms/step - loss: 0.1146 - accuracy: 0.9736\n",
      "Epoch 2839/3000\n",
      "32/32 [==============================] - 0s 2ms/step - loss: 0.1360 - accuracy: 0.9671\n",
      "Epoch 2840/3000\n",
      "32/32 [==============================] - 0s 2ms/step - loss: 0.1209 - accuracy: 0.9736\n",
      "Epoch 2841/3000\n",
      "32/32 [==============================] - 0s 2ms/step - loss: 0.1173 - accuracy: 0.9713\n",
      "Epoch 2842/3000\n",
      "32/32 [==============================] - 0s 2ms/step - loss: 0.1136 - accuracy: 0.9727\n",
      "Epoch 2843/3000\n",
      "32/32 [==============================] - 0s 2ms/step - loss: 0.1252 - accuracy: 0.9683\n",
      "Epoch 2844/3000\n",
      "32/32 [==============================] - 0s 1ms/step - loss: 0.1258 - accuracy: 0.9710\n",
      "Epoch 2845/3000\n",
      "32/32 [==============================] - 0s 2ms/step - loss: 0.1211 - accuracy: 0.9716\n",
      "Epoch 2846/3000\n",
      "32/32 [==============================] - 0s 2ms/step - loss: 0.1200 - accuracy: 0.9710\n",
      "Epoch 2847/3000\n",
      "32/32 [==============================] - 0s 2ms/step - loss: 0.1191 - accuracy: 0.9721\n",
      "Epoch 2848/3000\n",
      "32/32 [==============================] - 0s 2ms/step - loss: 0.1236 - accuracy: 0.9710\n",
      "Epoch 2849/3000\n",
      "32/32 [==============================] - 0s 1ms/step - loss: 0.1171 - accuracy: 0.9727\n",
      "Epoch 2850/3000\n",
      "32/32 [==============================] - 0s 3ms/step - loss: 0.1108 - accuracy: 0.9758\n",
      "Epoch 2851/3000\n",
      "32/32 [==============================] - 0s 2ms/step - loss: 0.1193 - accuracy: 0.9712\n",
      "Epoch 2852/3000\n",
      "32/32 [==============================] - 0s 1ms/step - loss: 0.1136 - accuracy: 0.9727\n",
      "Epoch 2853/3000\n",
      "32/32 [==============================] - 0s 2ms/step - loss: 0.1209 - accuracy: 0.9722\n",
      "Epoch 2854/3000\n",
      "32/32 [==============================] - 0s 3ms/step - loss: 0.1161 - accuracy: 0.9726\n",
      "Epoch 2855/3000\n",
      "32/32 [==============================] - 0s 2ms/step - loss: 0.1199 - accuracy: 0.9701\n",
      "Epoch 2856/3000\n",
      "32/32 [==============================] - 0s 1ms/step - loss: 0.1133 - accuracy: 0.9760\n",
      "Epoch 2857/3000\n",
      "32/32 [==============================] - 0s 2ms/step - loss: 0.1216 - accuracy: 0.9728\n",
      "Epoch 2858/3000\n",
      "32/32 [==============================] - 0s 2ms/step - loss: 0.1190 - accuracy: 0.9735\n",
      "Epoch 2859/3000\n",
      "32/32 [==============================] - 0s 1ms/step - loss: 0.1369 - accuracy: 0.9655\n",
      "Epoch 2860/3000\n",
      "32/32 [==============================] - 0s 2ms/step - loss: 0.1270 - accuracy: 0.9705\n",
      "Epoch 2861/3000\n",
      "32/32 [==============================] - 0s 1ms/step - loss: 0.1232 - accuracy: 0.9710\n",
      "Epoch 2862/3000\n",
      "32/32 [==============================] - 0s 2ms/step - loss: 0.1250 - accuracy: 0.9713\n",
      "Epoch 2863/3000\n",
      "32/32 [==============================] - 0s 3ms/step - loss: 0.1223 - accuracy: 0.9692\n",
      "Epoch 2864/3000\n",
      "32/32 [==============================] - 0s 2ms/step - loss: 0.1318 - accuracy: 0.9675\n",
      "Epoch 2865/3000\n",
      "32/32 [==============================] - 0s 2ms/step - loss: 0.1200 - accuracy: 0.9715\n",
      "Epoch 2866/3000\n",
      "32/32 [==============================] - 0s 2ms/step - loss: 0.1240 - accuracy: 0.9703\n",
      "Epoch 2867/3000\n",
      "32/32 [==============================] - 0s 1ms/step - loss: 0.1267 - accuracy: 0.9696\n",
      "Epoch 2868/3000\n",
      "32/32 [==============================] - 0s 2ms/step - loss: 0.1182 - accuracy: 0.9739\n",
      "Epoch 2869/3000\n",
      "32/32 [==============================] - 0s 2ms/step - loss: 0.1209 - accuracy: 0.9702\n",
      "Epoch 2870/3000\n",
      "32/32 [==============================] - 0s 1ms/step - loss: 0.1159 - accuracy: 0.9721\n",
      "Epoch 2871/3000\n",
      "32/32 [==============================] - 0s 2ms/step - loss: 0.1104 - accuracy: 0.9738\n",
      "Epoch 2872/3000\n",
      "32/32 [==============================] - 0s 2ms/step - loss: 0.1198 - accuracy: 0.9717\n",
      "Epoch 2873/3000\n",
      "32/32 [==============================] - 0s 1ms/step - loss: 0.1171 - accuracy: 0.9701\n",
      "Epoch 2874/3000\n",
      "32/32 [==============================] - 0s 2ms/step - loss: 0.1193 - accuracy: 0.9714\n",
      "Epoch 2875/3000\n",
      "32/32 [==============================] - 0s 2ms/step - loss: 0.1177 - accuracy: 0.9711\n",
      "Epoch 2876/3000\n",
      "32/32 [==============================] - 0s 1ms/step - loss: 0.1153 - accuracy: 0.9733\n",
      "Epoch 2877/3000\n",
      "32/32 [==============================] - 0s 2ms/step - loss: 0.1233 - accuracy: 0.9690\n",
      "Epoch 2878/3000\n",
      "32/32 [==============================] - 0s 2ms/step - loss: 0.1260 - accuracy: 0.9689\n",
      "Epoch 2879/3000\n",
      "32/32 [==============================] - 0s 2ms/step - loss: 0.1178 - accuracy: 0.9726\n",
      "Epoch 2880/3000\n",
      "32/32 [==============================] - 0s 3ms/step - loss: 0.1120 - accuracy: 0.9731\n",
      "Epoch 2881/3000\n",
      "32/32 [==============================] - 0s 2ms/step - loss: 0.1229 - accuracy: 0.9703\n",
      "Epoch 2882/3000\n",
      "32/32 [==============================] - 0s 2ms/step - loss: 0.1206 - accuracy: 0.9711\n",
      "Epoch 2883/3000\n",
      "32/32 [==============================] - 0s 1ms/step - loss: 0.1193 - accuracy: 0.9718\n",
      "Epoch 2884/3000\n",
      "32/32 [==============================] - 0s 2ms/step - loss: 0.1293 - accuracy: 0.9682\n",
      "Epoch 2885/3000\n",
      "32/32 [==============================] - 0s 1ms/step - loss: 0.1238 - accuracy: 0.9691\n",
      "Epoch 2886/3000\n",
      "32/32 [==============================] - 0s 2ms/step - loss: 0.1252 - accuracy: 0.9701\n",
      "Epoch 2887/3000\n",
      "32/32 [==============================] - 0s 2ms/step - loss: 0.1208 - accuracy: 0.9728\n",
      "Epoch 2888/3000\n",
      "32/32 [==============================] - 0s 1ms/step - loss: 0.1234 - accuracy: 0.9713\n",
      "Epoch 2889/3000\n",
      "32/32 [==============================] - 0s 2ms/step - loss: 0.1159 - accuracy: 0.9726\n",
      "Epoch 2890/3000\n",
      "32/32 [==============================] - 0s 2ms/step - loss: 0.1166 - accuracy: 0.9738\n",
      "Epoch 2891/3000\n",
      "32/32 [==============================] - 0s 2ms/step - loss: 0.1118 - accuracy: 0.9749\n",
      "Epoch 2892/3000\n",
      "32/32 [==============================] - 0s 2ms/step - loss: 0.1165 - accuracy: 0.9723\n",
      "Epoch 2893/3000\n",
      "32/32 [==============================] - 0s 2ms/step - loss: 0.1146 - accuracy: 0.9733\n",
      "Epoch 2894/3000\n",
      "32/32 [==============================] - 0s 1ms/step - loss: 0.1148 - accuracy: 0.9733\n",
      "Epoch 2895/3000\n",
      "32/32 [==============================] - 0s 2ms/step - loss: 0.1217 - accuracy: 0.9713\n",
      "Epoch 2896/3000\n",
      "32/32 [==============================] - 0s 2ms/step - loss: 0.1274 - accuracy: 0.9681\n",
      "Epoch 2897/3000\n",
      "32/32 [==============================] - 0s 2ms/step - loss: 0.1166 - accuracy: 0.9741\n",
      "Epoch 2898/3000\n",
      "32/32 [==============================] - 0s 2ms/step - loss: 0.1247 - accuracy: 0.9692\n",
      "Epoch 2899/3000\n",
      "32/32 [==============================] - 0s 2ms/step - loss: 0.1155 - accuracy: 0.9737\n",
      "Epoch 2900/3000\n",
      "32/32 [==============================] - 0s 1ms/step - loss: 0.1182 - accuracy: 0.9712\n",
      "Epoch 2901/3000\n",
      "32/32 [==============================] - 0s 2ms/step - loss: 0.1265 - accuracy: 0.9706\n",
      "Epoch 2902/3000\n",
      "32/32 [==============================] - 0s 1ms/step - loss: 0.1120 - accuracy: 0.9739\n",
      "Epoch 2903/3000\n",
      "32/32 [==============================] - 0s 2ms/step - loss: 0.1125 - accuracy: 0.9744\n",
      "Epoch 2904/3000\n",
      "32/32 [==============================] - 0s 2ms/step - loss: 0.1227 - accuracy: 0.9699\n",
      "Epoch 2905/3000\n",
      "32/32 [==============================] - 0s 1ms/step - loss: 0.1220 - accuracy: 0.9700\n",
      "Epoch 2906/3000\n",
      "32/32 [==============================] - 0s 2ms/step - loss: 0.1257 - accuracy: 0.9686\n",
      "Epoch 2907/3000\n",
      "32/32 [==============================] - 0s 3ms/step - loss: 0.1152 - accuracy: 0.9732\n",
      "Epoch 2908/3000\n",
      "32/32 [==============================] - 0s 1ms/step - loss: 0.1099 - accuracy: 0.9760\n",
      "Epoch 2909/3000\n",
      "32/32 [==============================] - 0s 2ms/step - loss: 0.1167 - accuracy: 0.9733\n",
      "Epoch 2910/3000\n",
      "32/32 [==============================] - 0s 3ms/step - loss: 0.1122 - accuracy: 0.9719\n",
      "Epoch 2911/3000\n",
      "32/32 [==============================] - 0s 2ms/step - loss: 0.1082 - accuracy: 0.9737\n",
      "Epoch 2912/3000\n",
      "32/32 [==============================] - 0s 1ms/step - loss: 0.1184 - accuracy: 0.9719\n",
      "Epoch 2913/3000\n",
      "32/32 [==============================] - 0s 2ms/step - loss: 0.1184 - accuracy: 0.9743\n",
      "Epoch 2914/3000\n",
      "32/32 [==============================] - 0s 1ms/step - loss: 0.1260 - accuracy: 0.9698\n",
      "Epoch 2915/3000\n",
      "32/32 [==============================] - 0s 2ms/step - loss: 0.1213 - accuracy: 0.9699\n",
      "Epoch 2916/3000\n",
      "32/32 [==============================] - 0s 2ms/step - loss: 0.1248 - accuracy: 0.9717\n",
      "Epoch 2917/3000\n",
      "32/32 [==============================] - 0s 1ms/step - loss: 0.1180 - accuracy: 0.9727\n",
      "Epoch 2918/3000\n",
      "32/32 [==============================] - 0s 2ms/step - loss: 0.1363 - accuracy: 0.9661\n",
      "Epoch 2919/3000\n",
      "32/32 [==============================] - 0s 2ms/step - loss: 0.1204 - accuracy: 0.9708\n",
      "Epoch 2920/3000\n",
      "32/32 [==============================] - 0s 1ms/step - loss: 0.1216 - accuracy: 0.9711\n",
      "Epoch 2921/3000\n",
      "32/32 [==============================] - 0s 2ms/step - loss: 0.1176 - accuracy: 0.9734\n",
      "Epoch 2922/3000\n",
      "32/32 [==============================] - 0s 2ms/step - loss: 0.1224 - accuracy: 0.9689\n",
      "Epoch 2923/3000\n",
      "32/32 [==============================] - 0s 1ms/step - loss: 0.1227 - accuracy: 0.9694\n",
      "Epoch 2924/3000\n",
      "32/32 [==============================] - 0s 2ms/step - loss: 0.1225 - accuracy: 0.9698\n",
      "Epoch 2925/3000\n",
      "32/32 [==============================] - 0s 3ms/step - loss: 0.1249 - accuracy: 0.9703\n",
      "Epoch 2926/3000\n",
      "32/32 [==============================] - 0s 1ms/step - loss: 0.1165 - accuracy: 0.9751\n",
      "Epoch 2927/3000\n",
      "32/32 [==============================] - 0s 2ms/step - loss: 0.1265 - accuracy: 0.9696\n",
      "Epoch 2928/3000\n",
      "32/32 [==============================] - 0s 2ms/step - loss: 0.1256 - accuracy: 0.9706\n",
      "Epoch 2929/3000\n",
      "32/32 [==============================] - 0s 1ms/step - loss: 0.1247 - accuracy: 0.9696\n",
      "Epoch 2930/3000\n",
      "32/32 [==============================] - 0s 2ms/step - loss: 0.1164 - accuracy: 0.9734\n",
      "Epoch 2931/3000\n",
      "32/32 [==============================] - 0s 1ms/step - loss: 0.1135 - accuracy: 0.9754\n",
      "Epoch 2932/3000\n",
      "32/32 [==============================] - 0s 2ms/step - loss: 0.1187 - accuracy: 0.9696\n",
      "Epoch 2933/3000\n",
      "32/32 [==============================] - 0s 2ms/step - loss: 0.1247 - accuracy: 0.9706\n",
      "Epoch 2934/3000\n",
      "32/32 [==============================] - 0s 1ms/step - loss: 0.1155 - accuracy: 0.9733\n",
      "Epoch 2935/3000\n",
      "32/32 [==============================] - 0s 2ms/step - loss: 0.1133 - accuracy: 0.9733\n",
      "Epoch 2936/3000\n",
      "32/32 [==============================] - 0s 2ms/step - loss: 0.1131 - accuracy: 0.9734\n",
      "Epoch 2937/3000\n",
      "32/32 [==============================] - 0s 1ms/step - loss: 0.1159 - accuracy: 0.9731\n",
      "Epoch 2938/3000\n",
      "32/32 [==============================] - 0s 2ms/step - loss: 0.1244 - accuracy: 0.9691\n",
      "Epoch 2939/3000\n",
      "32/32 [==============================] - 0s 2ms/step - loss: 0.1189 - accuracy: 0.9733\n",
      "Epoch 2940/3000\n",
      "32/32 [==============================] - 0s 1ms/step - loss: 0.1144 - accuracy: 0.9728\n",
      "Epoch 2941/3000\n",
      "32/32 [==============================] - 0s 3ms/step - loss: 0.1290 - accuracy: 0.9683\n",
      "Epoch 2942/3000\n",
      "32/32 [==============================] - 0s 2ms/step - loss: 0.1071 - accuracy: 0.9735\n",
      "Epoch 2943/3000\n",
      "32/32 [==============================] - 0s 1ms/step - loss: 0.1202 - accuracy: 0.9700\n",
      "Epoch 2944/3000\n",
      "32/32 [==============================] - 0s 2ms/step - loss: 0.1173 - accuracy: 0.9744\n",
      "Epoch 2945/3000\n",
      "32/32 [==============================] - 0s 2ms/step - loss: 0.1208 - accuracy: 0.9705\n",
      "Epoch 2946/3000\n",
      "32/32 [==============================] - 0s 1ms/step - loss: 0.1134 - accuracy: 0.9737\n",
      "Epoch 2947/3000\n",
      "32/32 [==============================] - 0s 2ms/step - loss: 0.1268 - accuracy: 0.9706\n",
      "Epoch 2948/3000\n",
      "32/32 [==============================] - 0s 2ms/step - loss: 0.1168 - accuracy: 0.9715\n",
      "Epoch 2949/3000\n",
      "32/32 [==============================] - 0s 1ms/step - loss: 0.1109 - accuracy: 0.9749\n",
      "Epoch 2950/3000\n",
      "32/32 [==============================] - 0s 2ms/step - loss: 0.1249 - accuracy: 0.9696\n",
      "Epoch 2951/3000\n",
      "32/32 [==============================] - 0s 2ms/step - loss: 0.1212 - accuracy: 0.9699\n",
      "Epoch 2952/3000\n",
      "32/32 [==============================] - 0s 1ms/step - loss: 0.1150 - accuracy: 0.9724\n",
      "Epoch 2953/3000\n",
      "32/32 [==============================] - 0s 2ms/step - loss: 0.1178 - accuracy: 0.9716\n",
      "Epoch 2954/3000\n",
      "32/32 [==============================] - 0s 2ms/step - loss: 0.1324 - accuracy: 0.9674\n",
      "Epoch 2955/3000\n",
      "32/32 [==============================] - 0s 1ms/step - loss: 0.1140 - accuracy: 0.9710\n",
      "Epoch 2956/3000\n",
      "32/32 [==============================] - 0s 3ms/step - loss: 0.1174 - accuracy: 0.9735\n",
      "Epoch 2957/3000\n",
      "32/32 [==============================] - 0s 2ms/step - loss: 0.1224 - accuracy: 0.9698\n",
      "Epoch 2958/3000\n",
      "32/32 [==============================] - 0s 1ms/step - loss: 0.1073 - accuracy: 0.9775\n",
      "Epoch 2959/3000\n",
      "32/32 [==============================] - 0s 2ms/step - loss: 0.1128 - accuracy: 0.9739\n",
      "Epoch 2960/3000\n",
      "32/32 [==============================] - 0s 3ms/step - loss: 0.1251 - accuracy: 0.9684\n",
      "Epoch 2961/3000\n",
      "32/32 [==============================] - 0s 1ms/step - loss: 0.1198 - accuracy: 0.9715\n",
      "Epoch 2962/3000\n",
      "32/32 [==============================] - 0s 2ms/step - loss: 0.1284 - accuracy: 0.9690\n",
      "Epoch 2963/3000\n",
      "32/32 [==============================] - 0s 2ms/step - loss: 0.1125 - accuracy: 0.9725\n",
      "Epoch 2964/3000\n",
      "32/32 [==============================] - 0s 1ms/step - loss: 0.1181 - accuracy: 0.9710\n",
      "Epoch 2965/3000\n",
      "32/32 [==============================] - 0s 2ms/step - loss: 0.1135 - accuracy: 0.9726\n",
      "Epoch 2966/3000\n",
      "32/32 [==============================] - 0s 2ms/step - loss: 0.1203 - accuracy: 0.9722\n",
      "Epoch 2967/3000\n",
      "32/32 [==============================] - 0s 1ms/step - loss: 0.1162 - accuracy: 0.9701\n",
      "Epoch 2968/3000\n",
      "32/32 [==============================] - 0s 2ms/step - loss: 0.1210 - accuracy: 0.9713\n",
      "Epoch 2969/3000\n",
      "32/32 [==============================] - 0s 2ms/step - loss: 0.1134 - accuracy: 0.9758\n",
      "Epoch 2970/3000\n",
      "32/32 [==============================] - 0s 1ms/step - loss: 0.1188 - accuracy: 0.9703\n",
      "Epoch 2971/3000\n",
      "32/32 [==============================] - 0s 3ms/step - loss: 0.1183 - accuracy: 0.9696\n",
      "Epoch 2972/3000\n",
      "32/32 [==============================] - 0s 2ms/step - loss: 0.1220 - accuracy: 0.9697\n",
      "Epoch 2973/3000\n",
      "32/32 [==============================] - 0s 2ms/step - loss: 0.1158 - accuracy: 0.9733\n",
      "Epoch 2974/3000\n",
      "32/32 [==============================] - 0s 1ms/step - loss: 0.1155 - accuracy: 0.9739\n",
      "Epoch 2975/3000\n",
      "32/32 [==============================] - 0s 2ms/step - loss: 0.1272 - accuracy: 0.9689\n",
      "Epoch 2976/3000\n",
      "32/32 [==============================] - 0s 2ms/step - loss: 0.1192 - accuracy: 0.9712\n",
      "Epoch 2977/3000\n",
      "32/32 [==============================] - 0s 2ms/step - loss: 0.1220 - accuracy: 0.9723\n",
      "Epoch 2978/3000\n",
      "32/32 [==============================] - 0s 2ms/step - loss: 0.1177 - accuracy: 0.9729\n",
      "Epoch 2979/3000\n",
      "32/32 [==============================] - 0s 1ms/step - loss: 0.1146 - accuracy: 0.9729\n",
      "Epoch 2980/3000\n",
      "32/32 [==============================] - 0s 2ms/step - loss: 0.1131 - accuracy: 0.9736\n",
      "Epoch 2981/3000\n",
      "32/32 [==============================] - 0s 2ms/step - loss: 0.1239 - accuracy: 0.9732\n",
      "Epoch 2982/3000\n",
      "32/32 [==============================] - 0s 1ms/step - loss: 0.1174 - accuracy: 0.9722\n",
      "Epoch 2983/3000\n",
      "32/32 [==============================] - 0s 2ms/step - loss: 0.1113 - accuracy: 0.9738\n",
      "Epoch 2984/3000\n",
      "32/32 [==============================] - 0s 3ms/step - loss: 0.1220 - accuracy: 0.9729\n",
      "Epoch 2985/3000\n",
      "32/32 [==============================] - 0s 3ms/step - loss: 0.1269 - accuracy: 0.9691\n",
      "Epoch 2986/3000\n",
      "32/32 [==============================] - 0s 3ms/step - loss: 0.1119 - accuracy: 0.9736\n",
      "Epoch 2987/3000\n",
      "32/32 [==============================] - 0s 2ms/step - loss: 0.1213 - accuracy: 0.9702\n",
      "Epoch 2988/3000\n",
      "32/32 [==============================] - 0s 3ms/step - loss: 0.1111 - accuracy: 0.9737\n",
      "Epoch 2989/3000\n",
      "32/32 [==============================] - 0s 3ms/step - loss: 0.1159 - accuracy: 0.9755\n",
      "Epoch 2990/3000\n",
      "32/32 [==============================] - 0s 3ms/step - loss: 0.1055 - accuracy: 0.9771\n",
      "Epoch 2991/3000\n",
      "32/32 [==============================] - 0s 2ms/step - loss: 0.1108 - accuracy: 0.9760\n",
      "Epoch 2992/3000\n",
      "32/32 [==============================] - 0s 1ms/step - loss: 0.1197 - accuracy: 0.9724\n",
      "Epoch 2993/3000\n",
      "32/32 [==============================] - 0s 2ms/step - loss: 0.1238 - accuracy: 0.9722\n",
      "Epoch 2994/3000\n",
      "32/32 [==============================] - 0s 1ms/step - loss: 0.1172 - accuracy: 0.9720\n",
      "Epoch 2995/3000\n",
      "32/32 [==============================] - 0s 2ms/step - loss: 0.1163 - accuracy: 0.9733\n",
      "Epoch 2996/3000\n",
      "32/32 [==============================] - 0s 2ms/step - loss: 0.1068 - accuracy: 0.9780\n",
      "Epoch 2997/3000\n",
      "32/32 [==============================] - 0s 2ms/step - loss: 0.1127 - accuracy: 0.9711\n",
      "Epoch 2998/3000\n",
      "32/32 [==============================] - 0s 2ms/step - loss: 0.1265 - accuracy: 0.9684\n",
      "Epoch 2999/3000\n",
      "32/32 [==============================] - 0s 3ms/step - loss: 0.1161 - accuracy: 0.9723\n",
      "Epoch 3000/3000\n",
      "32/32 [==============================] - 0s 2ms/step - loss: 0.1156 - accuracy: 0.9722\n"
     ]
    }
   ],
   "source": [
    "model = Sequential()\n",
    "model.add(Dense(50, input_dim=400, activation='sigmoid'))\n",
    "model.add(Dense(10, activation='sigmoid'))\n",
    "\n",
    "model.compile(optimizer='sgd', loss='categorical_crossentropy', metrics=['accuracy'])\n",
    "\n",
    "X = df.iloc[:, :-1]\n",
    "y = df.iloc[:, -1]\n",
    "\n",
    "X_train, X_test, train_labels, test_labels = train_test_split(X,y,test_size=0.2, random_state=42)\n",
    "\n",
    "y_train = pd.get_dummies(train_labels)\n",
    "y_test = pd.get_dummies(test_labels)\n",
    "\n",
    "history = model.fit(X_train, y_train, epochs=3000, batch_size=128)"
   ]
  },
  {
   "cell_type": "markdown",
   "metadata": {
    "cell_id": "00037-a25e133d-c59d-42de-8c9d-94c4e8c55ec7",
    "deepnote_cell_type": "markdown",
    "tags": []
   },
   "source": [
    "### 7.2. Comparison \n",
    "\n",
    "We can now compare accuracy and confusion matrix of Keras model to our DNN model."
   ]
  },
  {
   "cell_type": "code",
   "execution_count": 290,
   "metadata": {
    "cell_id": "00037-f58cfe7a-7e73-4829-af5b-92ca9d572df2",
    "deepnote_cell_type": "code",
    "deepnote_to_be_reexecuted": false,
    "execution_millis": 106,
    "execution_start": 1610048300406,
    "source_hash": "564071f5",
    "tags": []
   },
   "outputs": [
    {
     "name": "stdout",
     "output_type": "stream",
     "text": [
      "Keras:\n",
      "Test accuracy:  0.9229999780654907\n",
      "[[109   0   0   0   0   1   0   0   0   1]\n",
      " [  0 101   1   0   0   2   0   0   0   1]\n",
      " [  1   1  91   3   5   1   1   1   1   0]\n",
      " [  0   0   3  76   0   1   1   1   2   1]\n",
      " [  0   0   2   0  84   0   2   0   1   5]\n",
      " [  0   2   0   0   1  93   0   0   1   1]\n",
      " [  2   0   0   0   0   2  93   0   1   0]\n",
      " [  1   3   2   0   2   0   0 100   0   4]\n",
      " [  1   2   1   0   0   4   1   0  72   0]\n",
      " [  0   0   0   2   0   1   0   3   1 104]]\n",
      "\n",
      "DNN:\n",
      "Test accuracy:  0.903\n",
      "[[106   0   0   0   0   1   2   0   1   1]\n",
      " [  0 100   1   0   0   4   0   0   0   0]\n",
      " [  1   0  94   4   3   0   1   0   1   1]\n",
      " [  0   0   3  74   1   2   1   1   2   1]\n",
      " [  0   0   2   0  83   0   3   0   1   5]\n",
      " [  2   0   0   1   1  90   1   0   3   0]\n",
      " [  2   0   4   0   2   1  88   0   1   0]\n",
      " [  1   2   3   1   2   0   0 100   1   2]\n",
      " [  1   1   0   3   0   1   2   0  73   0]\n",
      " [  0   0   1   1   5   1   0   5   3  95]]\n"
     ]
    }
   ],
   "source": [
    "print(\"Keras:\")\n",
    "accuracy_keras = model.evaluate(X_test, y_test, verbose = 0)[1]\n",
    "print(\"Test accuracy: \", accuracy_keras)\n",
    "rounded_predictions = np.argmax(model.predict(X_test), axis=-1)\n",
    "print(confusion_matrix(test_labels, rounded_predictions))\n",
    "\n",
    "print(\"\\nDNN:\")\n",
    "print(\"Test accuracy: \",DNN.accuracy(DNN.X_test, DNN.labels_test))\n",
    "print(DNN.confusion(DNN.X_test, DNN.labels_test))"
   ]
  },
  {
   "cell_type": "markdown",
   "metadata": {
    "cell_id": "00040-ddf7e5bf-f1e4-440d-af81-d424795b19e3",
    "deepnote_cell_type": "markdown",
    "tags": []
   },
   "source": [
    "Comparing the predictions of our model to the one of Keras model, the accuracy of the Keras DNN \n",
    "is a little bit higher than the one from our model. There is a small difference of 0.019.  \n",
    "This difference can be explained by many factors such as the batches or the weights initialization.\n",
    "\n",
    "The confusion matrices are similar, even if Keras model better predicts some values such as: 0, 5, 6 and 9. \n",
    "But models still confuse some numbers: 9 with 4 and 3 with 5.  \n",
    "\n",
    "## Conclusion \n",
    "\n",
    "This project aims to understand the principle of the feed-forward neural network (FFNN) by implementing\n",
    "one from scratch.\n",
    "Building our own models required us to fully understand the principle: activation function, bias and weights, forward and backward propagation. \n",
    "It was very interesting to go further in machine learning and realise how models as complicated as neural networks work from the inside. \n",
    "\n",
    "For the future, as we have implemented classes for layers and neural network, we could improve and generalize them in order to choose the activation function for example.  \n",
    "We also had the idea to add functions to export our models (save weights in a file) and load them back. This is useful to avoid training the model everytime as it is time-consuming."
   ]
  }
 ],
 "metadata": {
  "deepnote_execution_queue": [],
  "deepnote_notebook_id": "49425ed3-6021-487f-908b-ec1b3020cf5c",
  "kernelspec": {
   "display_name": "Python 3",
   "language": "python",
   "name": "python3"
  },
  "language_info": {
   "codemirror_mode": {
    "name": "ipython",
    "version": 3
   },
   "file_extension": ".py",
   "mimetype": "text/x-python",
   "name": "python",
   "nbconvert_exporter": "python",
   "pygments_lexer": "ipython3",
   "version": "3.8.6"
  }
 },
 "nbformat": 4,
 "nbformat_minor": 2
}
