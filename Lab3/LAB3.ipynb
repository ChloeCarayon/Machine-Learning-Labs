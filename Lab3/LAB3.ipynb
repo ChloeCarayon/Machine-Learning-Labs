{
 "cells": [
  {
   "cell_type": "markdown",
   "metadata": {
    "cell_id": "00001-cd1be055-6f59-4e95-a4ad-8ab356feeb4b",
    "deepnote_cell_type": "markdown",
    "output_cleared": false,
    "tags": []
   },
   "source": [
    "**Authors**: Carayon Chloé - Taillieu Victor\n",
    "\n",
    "**Date**: 08/12/2020\n",
    "\n",
    "---\n",
    "# LAB3 Machine Learning: Logistic Regression\n",
    "---\n",
    "\n",
    "## Introduction\n",
    "\n",
    "In this third lab, we have to build from scratch a logistic regression model and then compare its results to the one  from\n",
    "Scikit-Learn library."
   ]
  },
  {
   "cell_type": "code",
   "execution_count": 1,
   "metadata": {
    "cell_id": "00001-ee8ff358-1d0f-4412-a159-31f20d52f2f9",
    "deepnote_cell_type": "code",
    "execution_millis": 795,
    "execution_start": 1607454775496,
    "output_cleared": false,
    "source_hash": "505402c1",
    "tags": []
   },
   "outputs": [],
   "source": [
    "import pandas as pd\n",
    "import numpy as np\n",
    "import matplotlib.pyplot as plt\n",
    "\n",
    "from sklearn.model_selection import train_test_split\n",
    "from sklearn import linear_model\n",
    "from sklearn.metrics import confusion_matrix, accuracy_score, recall_score, precision_score, f1_score"
   ]
  },
  {
   "cell_type": "markdown",
   "metadata": {
    "cell_id": "00001-3696d726-0dec-4344-9cdd-83f0ed6a5265",
    "deepnote_cell_type": "markdown",
    "output_cleared": false,
    "tags": []
   },
   "source": [
    "## 1. Data understanding\n",
    "\n",
    "### 1.1. Loading and exploring data\n",
    "\n",
    "Let's load and take a look at the loan_prediction dataset:"
   ]
  },
  {
   "cell_type": "code",
   "execution_count": 2,
   "metadata": {
    "cell_id": "00003-920f61c6-0cfe-47ba-8cf2-d044d493b05c",
    "deepnote_cell_type": "code",
    "execution_millis": 0,
    "execution_start": 1607454776292,
    "output_cleared": false,
    "source_hash": "1f31a3a8",
    "tags": []
   },
   "outputs": [
    {
     "data": {
      "text/html": [
       "<div>\n",
       "<style scoped>\n",
       "    .dataframe tbody tr th:only-of-type {\n",
       "        vertical-align: middle;\n",
       "    }\n",
       "\n",
       "    .dataframe tbody tr th {\n",
       "        vertical-align: top;\n",
       "    }\n",
       "\n",
       "    .dataframe thead th {\n",
       "        text-align: right;\n",
       "    }\n",
       "</style>\n",
       "<table border=\"1\" class=\"dataframe\">\n",
       "  <thead>\n",
       "    <tr style=\"text-align: right;\">\n",
       "      <th></th>\n",
       "      <th>Loan_ID</th>\n",
       "      <th>Gender</th>\n",
       "      <th>Married</th>\n",
       "      <th>Dependents</th>\n",
       "      <th>Education</th>\n",
       "      <th>Self_Employed</th>\n",
       "      <th>ApplicantIncome</th>\n",
       "      <th>CoapplicantIncome</th>\n",
       "      <th>LoanAmount</th>\n",
       "      <th>Loan_Amount_Term</th>\n",
       "      <th>Credit_History</th>\n",
       "      <th>Property_Area</th>\n",
       "      <th>Loan_Status</th>\n",
       "    </tr>\n",
       "  </thead>\n",
       "  <tbody>\n",
       "    <tr>\n",
       "      <th>0</th>\n",
       "      <td>LP001002</td>\n",
       "      <td>Male</td>\n",
       "      <td>No</td>\n",
       "      <td>0</td>\n",
       "      <td>Graduate</td>\n",
       "      <td>No</td>\n",
       "      <td>5849</td>\n",
       "      <td>0.0</td>\n",
       "      <td>NaN</td>\n",
       "      <td>360.0</td>\n",
       "      <td>1.0</td>\n",
       "      <td>Urban</td>\n",
       "      <td>Y</td>\n",
       "    </tr>\n",
       "    <tr>\n",
       "      <th>1</th>\n",
       "      <td>LP001003</td>\n",
       "      <td>Male</td>\n",
       "      <td>Yes</td>\n",
       "      <td>1</td>\n",
       "      <td>Graduate</td>\n",
       "      <td>No</td>\n",
       "      <td>4583</td>\n",
       "      <td>1508.0</td>\n",
       "      <td>128.0</td>\n",
       "      <td>360.0</td>\n",
       "      <td>1.0</td>\n",
       "      <td>Rural</td>\n",
       "      <td>N</td>\n",
       "    </tr>\n",
       "    <tr>\n",
       "      <th>2</th>\n",
       "      <td>LP001005</td>\n",
       "      <td>Male</td>\n",
       "      <td>Yes</td>\n",
       "      <td>0</td>\n",
       "      <td>Graduate</td>\n",
       "      <td>Yes</td>\n",
       "      <td>3000</td>\n",
       "      <td>0.0</td>\n",
       "      <td>66.0</td>\n",
       "      <td>360.0</td>\n",
       "      <td>1.0</td>\n",
       "      <td>Urban</td>\n",
       "      <td>Y</td>\n",
       "    </tr>\n",
       "    <tr>\n",
       "      <th>3</th>\n",
       "      <td>LP001006</td>\n",
       "      <td>Male</td>\n",
       "      <td>Yes</td>\n",
       "      <td>0</td>\n",
       "      <td>Not Graduate</td>\n",
       "      <td>No</td>\n",
       "      <td>2583</td>\n",
       "      <td>2358.0</td>\n",
       "      <td>120.0</td>\n",
       "      <td>360.0</td>\n",
       "      <td>1.0</td>\n",
       "      <td>Urban</td>\n",
       "      <td>Y</td>\n",
       "    </tr>\n",
       "    <tr>\n",
       "      <th>4</th>\n",
       "      <td>LP001008</td>\n",
       "      <td>Male</td>\n",
       "      <td>No</td>\n",
       "      <td>0</td>\n",
       "      <td>Graduate</td>\n",
       "      <td>No</td>\n",
       "      <td>6000</td>\n",
       "      <td>0.0</td>\n",
       "      <td>141.0</td>\n",
       "      <td>360.0</td>\n",
       "      <td>1.0</td>\n",
       "      <td>Urban</td>\n",
       "      <td>Y</td>\n",
       "    </tr>\n",
       "    <tr>\n",
       "      <th>...</th>\n",
       "      <td>...</td>\n",
       "      <td>...</td>\n",
       "      <td>...</td>\n",
       "      <td>...</td>\n",
       "      <td>...</td>\n",
       "      <td>...</td>\n",
       "      <td>...</td>\n",
       "      <td>...</td>\n",
       "      <td>...</td>\n",
       "      <td>...</td>\n",
       "      <td>...</td>\n",
       "      <td>...</td>\n",
       "      <td>...</td>\n",
       "    </tr>\n",
       "    <tr>\n",
       "      <th>609</th>\n",
       "      <td>LP002978</td>\n",
       "      <td>Female</td>\n",
       "      <td>No</td>\n",
       "      <td>0</td>\n",
       "      <td>Graduate</td>\n",
       "      <td>No</td>\n",
       "      <td>2900</td>\n",
       "      <td>0.0</td>\n",
       "      <td>71.0</td>\n",
       "      <td>360.0</td>\n",
       "      <td>1.0</td>\n",
       "      <td>Rural</td>\n",
       "      <td>Y</td>\n",
       "    </tr>\n",
       "    <tr>\n",
       "      <th>610</th>\n",
       "      <td>LP002979</td>\n",
       "      <td>Male</td>\n",
       "      <td>Yes</td>\n",
       "      <td>3+</td>\n",
       "      <td>Graduate</td>\n",
       "      <td>No</td>\n",
       "      <td>4106</td>\n",
       "      <td>0.0</td>\n",
       "      <td>40.0</td>\n",
       "      <td>180.0</td>\n",
       "      <td>1.0</td>\n",
       "      <td>Rural</td>\n",
       "      <td>Y</td>\n",
       "    </tr>\n",
       "    <tr>\n",
       "      <th>611</th>\n",
       "      <td>LP002983</td>\n",
       "      <td>Male</td>\n",
       "      <td>Yes</td>\n",
       "      <td>1</td>\n",
       "      <td>Graduate</td>\n",
       "      <td>No</td>\n",
       "      <td>8072</td>\n",
       "      <td>240.0</td>\n",
       "      <td>253.0</td>\n",
       "      <td>360.0</td>\n",
       "      <td>1.0</td>\n",
       "      <td>Urban</td>\n",
       "      <td>Y</td>\n",
       "    </tr>\n",
       "    <tr>\n",
       "      <th>612</th>\n",
       "      <td>LP002984</td>\n",
       "      <td>Male</td>\n",
       "      <td>Yes</td>\n",
       "      <td>2</td>\n",
       "      <td>Graduate</td>\n",
       "      <td>No</td>\n",
       "      <td>7583</td>\n",
       "      <td>0.0</td>\n",
       "      <td>187.0</td>\n",
       "      <td>360.0</td>\n",
       "      <td>1.0</td>\n",
       "      <td>Urban</td>\n",
       "      <td>Y</td>\n",
       "    </tr>\n",
       "    <tr>\n",
       "      <th>613</th>\n",
       "      <td>LP002990</td>\n",
       "      <td>Female</td>\n",
       "      <td>No</td>\n",
       "      <td>0</td>\n",
       "      <td>Graduate</td>\n",
       "      <td>Yes</td>\n",
       "      <td>4583</td>\n",
       "      <td>0.0</td>\n",
       "      <td>133.0</td>\n",
       "      <td>360.0</td>\n",
       "      <td>0.0</td>\n",
       "      <td>Semiurban</td>\n",
       "      <td>N</td>\n",
       "    </tr>\n",
       "  </tbody>\n",
       "</table>\n",
       "<p>614 rows × 13 columns</p>\n",
       "</div>"
      ],
      "text/plain": [
       "      Loan_ID  Gender Married Dependents     Education Self_Employed  \\\n",
       "0    LP001002    Male      No          0      Graduate            No   \n",
       "1    LP001003    Male     Yes          1      Graduate            No   \n",
       "2    LP001005    Male     Yes          0      Graduate           Yes   \n",
       "3    LP001006    Male     Yes          0  Not Graduate            No   \n",
       "4    LP001008    Male      No          0      Graduate            No   \n",
       "..        ...     ...     ...        ...           ...           ...   \n",
       "609  LP002978  Female      No          0      Graduate            No   \n",
       "610  LP002979    Male     Yes         3+      Graduate            No   \n",
       "611  LP002983    Male     Yes          1      Graduate            No   \n",
       "612  LP002984    Male     Yes          2      Graduate            No   \n",
       "613  LP002990  Female      No          0      Graduate           Yes   \n",
       "\n",
       "     ApplicantIncome  CoapplicantIncome  LoanAmount  Loan_Amount_Term  \\\n",
       "0               5849                0.0         NaN             360.0   \n",
       "1               4583             1508.0       128.0             360.0   \n",
       "2               3000                0.0        66.0             360.0   \n",
       "3               2583             2358.0       120.0             360.0   \n",
       "4               6000                0.0       141.0             360.0   \n",
       "..               ...                ...         ...               ...   \n",
       "609             2900                0.0        71.0             360.0   \n",
       "610             4106                0.0        40.0             180.0   \n",
       "611             8072              240.0       253.0             360.0   \n",
       "612             7583                0.0       187.0             360.0   \n",
       "613             4583                0.0       133.0             360.0   \n",
       "\n",
       "     Credit_History Property_Area Loan_Status  \n",
       "0               1.0         Urban           Y  \n",
       "1               1.0         Rural           N  \n",
       "2               1.0         Urban           Y  \n",
       "3               1.0         Urban           Y  \n",
       "4               1.0         Urban           Y  \n",
       "..              ...           ...         ...  \n",
       "609             1.0         Rural           Y  \n",
       "610             1.0         Rural           Y  \n",
       "611             1.0         Urban           Y  \n",
       "612             1.0         Urban           Y  \n",
       "613             0.0     Semiurban           N  \n",
       "\n",
       "[614 rows x 13 columns]"
      ]
     },
     "execution_count": 2,
     "metadata": {},
     "output_type": "execute_result"
    }
   ],
   "source": [
    "df = pd.read_csv(\"data/loan_prediction.csv\")\n",
    "df"
   ]
  },
  {
   "cell_type": "code",
   "execution_count": 3,
   "metadata": {
    "cell_id": "00004-b3b3de0d-1122-40c9-8ef9-654daf9e9cb9",
    "deepnote_cell_type": "code",
    "execution_millis": 0,
    "execution_start": 1607454776293,
    "output_cleared": false,
    "source_hash": "a2b29c74",
    "tags": []
   },
   "outputs": [
    {
     "data": {
      "text/html": [
       "<div>\n",
       "<style scoped>\n",
       "    .dataframe tbody tr th:only-of-type {\n",
       "        vertical-align: middle;\n",
       "    }\n",
       "\n",
       "    .dataframe tbody tr th {\n",
       "        vertical-align: top;\n",
       "    }\n",
       "\n",
       "    .dataframe thead th {\n",
       "        text-align: right;\n",
       "    }\n",
       "</style>\n",
       "<table border=\"1\" class=\"dataframe\">\n",
       "  <thead>\n",
       "    <tr style=\"text-align: right;\">\n",
       "      <th></th>\n",
       "      <th>Loan_ID</th>\n",
       "      <th>Gender</th>\n",
       "      <th>Married</th>\n",
       "      <th>Dependents</th>\n",
       "      <th>Education</th>\n",
       "      <th>Self_Employed</th>\n",
       "      <th>Property_Area</th>\n",
       "      <th>Loan_Status</th>\n",
       "    </tr>\n",
       "  </thead>\n",
       "  <tbody>\n",
       "    <tr>\n",
       "      <th>count</th>\n",
       "      <td>614</td>\n",
       "      <td>601</td>\n",
       "      <td>611</td>\n",
       "      <td>599</td>\n",
       "      <td>614</td>\n",
       "      <td>582</td>\n",
       "      <td>614</td>\n",
       "      <td>614</td>\n",
       "    </tr>\n",
       "    <tr>\n",
       "      <th>unique</th>\n",
       "      <td>614</td>\n",
       "      <td>2</td>\n",
       "      <td>2</td>\n",
       "      <td>4</td>\n",
       "      <td>2</td>\n",
       "      <td>2</td>\n",
       "      <td>3</td>\n",
       "      <td>2</td>\n",
       "    </tr>\n",
       "    <tr>\n",
       "      <th>top</th>\n",
       "      <td>LP001497</td>\n",
       "      <td>Male</td>\n",
       "      <td>Yes</td>\n",
       "      <td>0</td>\n",
       "      <td>Graduate</td>\n",
       "      <td>No</td>\n",
       "      <td>Semiurban</td>\n",
       "      <td>Y</td>\n",
       "    </tr>\n",
       "    <tr>\n",
       "      <th>freq</th>\n",
       "      <td>1</td>\n",
       "      <td>489</td>\n",
       "      <td>398</td>\n",
       "      <td>345</td>\n",
       "      <td>480</td>\n",
       "      <td>500</td>\n",
       "      <td>233</td>\n",
       "      <td>422</td>\n",
       "    </tr>\n",
       "  </tbody>\n",
       "</table>\n",
       "</div>"
      ],
      "text/plain": [
       "         Loan_ID Gender Married Dependents Education Self_Employed  \\\n",
       "count        614    601     611        599       614           582   \n",
       "unique       614      2       2          4         2             2   \n",
       "top     LP001497   Male     Yes          0  Graduate            No   \n",
       "freq           1    489     398        345       480           500   \n",
       "\n",
       "       Property_Area Loan_Status  \n",
       "count            614         614  \n",
       "unique             3           2  \n",
       "top        Semiurban           Y  \n",
       "freq             233         422  "
      ]
     },
     "execution_count": 3,
     "metadata": {},
     "output_type": "execute_result"
    }
   ],
   "source": [
    "df.describe(include=\"object\")"
   ]
  },
  {
   "cell_type": "markdown",
   "metadata": {
    "cell_id": "00004-6000df13-c590-4aa0-adc9-1a994a5784bc",
    "deepnote_cell_type": "markdown",
    "output_cleared": false,
    "tags": []
   },
   "source": [
    "We have 13 columns:\n",
    "\n",
    "* Loan_ID: string to represent the ID of the loan \n",
    "* Gender: gender of the person, male or female \n",
    "* Married: marital status of the person, yes or no \n",
    "* Dependents: number of children, 0, 1, 2 or 3+\n",
    "* Education: graduated or not\n",
    "* Self_Employed: if the person is self employed or not, yes or no\n",
    "* ApplicantIncome: the applicant income\n",
    "* CoapplicantIncome: the coapplicant income\n",
    "* LoanAmount: the loan amount in thousand of $\n",
    "* Loan_Amount_Term: the term loan amount for each month\n",
    "* Credit_History: the credit history, if the person already had a credit or not, 1 or 0\n",
    "* Property_Area: the area, urban, semi urban or rural\n",
    "* Loan_Status: loan approved, yes or no\n",
    "\n",
    "As the variable to predict is the loan status, we have to implement a model to choose either yes or no.  \n",
    "So it is a **binary** logistic regression and a **supervised** machine learning problem.\n",
    "\n",
    "We can briefly look at the plot below to see the proportion of loan status."
   ]
  },
  {
   "cell_type": "code",
   "execution_count": 4,
   "metadata": {
    "cell_id": "00006-19908555-5e2a-407f-a290-3782b053a016",
    "deepnote_cell_type": "code",
    "execution_millis": 68,
    "execution_start": 1607454776293,
    "output_cleared": false,
    "source_hash": "522ee889",
    "tags": []
   },
   "outputs": [
    {
     "name": "stdout",
     "output_type": "stream",
     "text": [
      "Nb Yes: 422\n",
      "Nb No: 192\n"
     ]
    },
    {
     "data": {
      "image/png": "[encoded data removed]",
      "text/plain": [
       "<Figure size 432x288 with 1 Axes>"
      ]
     },
     "metadata": {
      "needs_background": "light"
     },
     "output_type": "display_data"
    }
   ],
   "source": [
    "not_loan = df[df.Loan_Status == 'N'].count().Loan_Status\n",
    "loan = df[df.Loan_Status == 'Y'].count().Loan_Status\n",
    "\n",
    "print(\"Nb Yes:\", loan)\n",
    "print(\"Nb No:\", not_loan)\n",
    "\n",
    "plt.bar([\"Y\", \"N\"], [loan, not_loan])\n",
    "plt.title(\"Loan Status repartition\")\n",
    "plt.xlabel(\"Loan status\")\n",
    "plt.ylabel(\"count\")\n",
    "plt.show()"
   ]
  },
  {
   "cell_type": "markdown",
   "metadata": {
    "cell_id": "00007-e565a2d0-70f1-44fb-93c2-a0aab82b100d",
    "deepnote_cell_type": "markdown",
    "output_cleared": false,
    "tags": []
   },
   "source": [
    "It appears that people are twice as likely to obtain a loan regarding this dataset.\n",
    "So this dataset is **unbalanced**.  \n",
    "The loan status depends on many criteria, as we have 12 different features.  \n",
    "In order to provide the best logistic regression to fit the model, we need to review the dataset and manage several parameters.\n",
    "\n",
    "### 1.2. Handling missing values\n",
    "\n",
    "Let's check if there are missing values:"
   ]
  },
  {
   "cell_type": "code",
   "execution_count": 5,
   "metadata": {
    "cell_id": "00006-d56dade5-dc82-40fd-a46d-14ef70e23a81",
    "deepnote_cell_type": "code",
    "execution_millis": 1,
    "execution_start": 1607454776410,
    "output_cleared": false,
    "source_hash": "b951754d",
    "tags": []
   },
   "outputs": [
    {
     "name": "stdout",
     "output_type": "stream",
     "text": [
      "Number of missing values:\n",
      "Loan_ID               0\n",
      "Gender               13\n",
      "Married               3\n",
      "Dependents           15\n",
      "Education             0\n",
      "Self_Employed        32\n",
      "ApplicantIncome       0\n",
      "CoapplicantIncome     0\n",
      "LoanAmount           22\n",
      "Loan_Amount_Term     14\n",
      "Credit_History       50\n",
      "Property_Area         0\n",
      "Loan_Status           0\n",
      "dtype: int64\n"
     ]
    }
   ],
   "source": [
    "print(\"Number of missing values:\")\n",
    "print(df.isnull().sum())"
   ]
  },
  {
   "cell_type": "markdown",
   "metadata": {
    "cell_id": "00006-7317b473-0d7a-4ee3-8afb-f4bf145edf86",
    "deepnote_cell_type": "markdown",
    "output_cleared": false,
    "tags": []
   },
   "source": [
    "We obtain 149 missing values in 7 different columns, we have to handle them in order to perform the logistic regression. \n",
    "We need to fill or drop them depending on the analysis we will make.\n",
    "\n",
    "#### 1.2.1. Binary and categorical features\n",
    "\n",
    "In order to handle missing values, we can look at the different features and their impact on the loan status.\n",
    "\n",
    "##### 1.2.1.1. Gender feature\n",
    "\n",
    "For gender, we obtain the following results:"
   ]
  },
  {
   "cell_type": "code",
   "execution_count": 6,
   "metadata": {
    "cell_id": "00008-0f71ddac-79e5-4a67-81db-9518294efb60",
    "deepnote_cell_type": "code",
    "execution_millis": 140,
    "execution_start": 1607454776411,
    "output_cleared": false,
    "source_hash": "1e2d7a4a",
    "tags": []
   },
   "outputs": [
    {
     "name": "stdout",
     "output_type": "stream",
     "text": [
      "Nb Male: 489\n",
      "Nb Female: 112\n",
      "Nb nan: 13\n"
     ]
    },
    {
     "data": {
      "image/png": "[encoded data removed]",
      "text/plain": [
       "<Figure size 432x288 with 2 Axes>"
      ]
     },
     "metadata": {
      "needs_background": "light"
     },
     "output_type": "display_data"
    }
   ],
   "source": [
    "print(\"Nb Male:\", df[df.Gender == \"Male\"].shape[0])\n",
    "print(\"Nb Female:\", df[df.Gender == \"Female\"].shape[0])\n",
    "print(\"Nb nan:\", df[df.Gender.isnull()].shape[0])\n",
    "\n",
    "plt.subplot(121)\n",
    "plt.bar([\"N\", \"Y\"], df[df.Gender == 'Male'].groupby(df.Loan_Status).count().Gender)\n",
    "plt.title(\"                                                Loan status proportion when person \\nis a male\")\n",
    "\n",
    "plt.subplot(122)\n",
    "plt.bar([\"N\", \"Y\"], df[df.Gender == \"Female\"].groupby(df.Loan_Status).count().Gender)\n",
    "plt.title(\"is a female\")\n",
    "plt.show()"
   ]
  },
  {
   "cell_type": "markdown",
   "metadata": {
    "cell_id": "00009-42d3349c-57e7-469f-b755-e44f317db30a",
    "deepnote_cell_type": "markdown",
    "output_cleared": false,
    "tags": []
   },
   "source": [
    "Looking at the plots, we clearly see that the gender does not seem to affect the loan status, as there is a\n",
    "similar ratio of loan status distribution regardless the gender.\n",
    "So we can replace the missing values by the most common one, the male gender."
   ]
  },
  {
   "cell_type": "code",
   "execution_count": 7,
   "metadata": {
    "cell_id": "00010-c96672f7-1567-49bb-b730-2f63e801e101",
    "deepnote_cell_type": "code",
    "execution_millis": 2,
    "execution_start": 1607454776555,
    "output_cleared": false,
    "source_hash": "47579715",
    "tags": []
   },
   "outputs": [],
   "source": [
    "df.Gender.fillna(\"Male\", inplace=True)"
   ]
  },
  {
   "cell_type": "markdown",
   "metadata": {
    "cell_id": "00011-46a0efa1-b157-499e-b74c-191cf6da4f4a",
    "deepnote_cell_type": "markdown",
    "output_cleared": false,
    "tags": []
   },
   "source": [
    "##### 1.2.1.2. Married feature\n",
    "\n",
    "Let's take a look at the rows of the 3 missing values:"
   ]
  },
  {
   "cell_type": "code",
   "execution_count": 8,
   "metadata": {
    "cell_id": "00009-695be162-c798-4a09-9c5f-7f819aa91138",
    "deepnote_cell_type": "code",
    "execution_millis": 37,
    "execution_start": 1607454776564,
    "output_cleared": false,
    "source_hash": "661075b8",
    "tags": []
   },
   "outputs": [
    {
     "name": "stdout",
     "output_type": "stream",
     "text": [
      "Nb married: 398\n",
      "Nb not married: 213\n",
      "Nb nan: 3\n"
     ]
    },
    {
     "data": {
      "text/html": [
       "<div>\n",
       "<style scoped>\n",
       "    .dataframe tbody tr th:only-of-type {\n",
       "        vertical-align: middle;\n",
       "    }\n",
       "\n",
       "    .dataframe tbody tr th {\n",
       "        vertical-align: top;\n",
       "    }\n",
       "\n",
       "    .dataframe thead th {\n",
       "        text-align: right;\n",
       "    }\n",
       "</style>\n",
       "<table border=\"1\" class=\"dataframe\">\n",
       "  <thead>\n",
       "    <tr style=\"text-align: right;\">\n",
       "      <th></th>\n",
       "      <th>Loan_ID</th>\n",
       "      <th>Gender</th>\n",
       "      <th>Married</th>\n",
       "      <th>Dependents</th>\n",
       "      <th>Education</th>\n",
       "      <th>Self_Employed</th>\n",
       "      <th>ApplicantIncome</th>\n",
       "      <th>CoapplicantIncome</th>\n",
       "      <th>LoanAmount</th>\n",
       "      <th>Loan_Amount_Term</th>\n",
       "      <th>Credit_History</th>\n",
       "      <th>Property_Area</th>\n",
       "      <th>Loan_Status</th>\n",
       "    </tr>\n",
       "  </thead>\n",
       "  <tbody>\n",
       "    <tr>\n",
       "      <th>104</th>\n",
       "      <td>LP001357</td>\n",
       "      <td>Male</td>\n",
       "      <td>NaN</td>\n",
       "      <td>NaN</td>\n",
       "      <td>Graduate</td>\n",
       "      <td>No</td>\n",
       "      <td>3816</td>\n",
       "      <td>754.0</td>\n",
       "      <td>160.0</td>\n",
       "      <td>360.0</td>\n",
       "      <td>1.0</td>\n",
       "      <td>Urban</td>\n",
       "      <td>Y</td>\n",
       "    </tr>\n",
       "    <tr>\n",
       "      <th>228</th>\n",
       "      <td>LP001760</td>\n",
       "      <td>Male</td>\n",
       "      <td>NaN</td>\n",
       "      <td>NaN</td>\n",
       "      <td>Graduate</td>\n",
       "      <td>No</td>\n",
       "      <td>4758</td>\n",
       "      <td>0.0</td>\n",
       "      <td>158.0</td>\n",
       "      <td>480.0</td>\n",
       "      <td>1.0</td>\n",
       "      <td>Semiurban</td>\n",
       "      <td>Y</td>\n",
       "    </tr>\n",
       "    <tr>\n",
       "      <th>435</th>\n",
       "      <td>LP002393</td>\n",
       "      <td>Female</td>\n",
       "      <td>NaN</td>\n",
       "      <td>NaN</td>\n",
       "      <td>Graduate</td>\n",
       "      <td>No</td>\n",
       "      <td>10047</td>\n",
       "      <td>0.0</td>\n",
       "      <td>NaN</td>\n",
       "      <td>240.0</td>\n",
       "      <td>1.0</td>\n",
       "      <td>Semiurban</td>\n",
       "      <td>Y</td>\n",
       "    </tr>\n",
       "  </tbody>\n",
       "</table>\n",
       "</div>"
      ],
      "text/plain": [
       "      Loan_ID  Gender Married Dependents Education Self_Employed  \\\n",
       "104  LP001357    Male     NaN        NaN  Graduate            No   \n",
       "228  LP001760    Male     NaN        NaN  Graduate            No   \n",
       "435  LP002393  Female     NaN        NaN  Graduate            No   \n",
       "\n",
       "     ApplicantIncome  CoapplicantIncome  LoanAmount  Loan_Amount_Term  \\\n",
       "104             3816              754.0       160.0             360.0   \n",
       "228             4758                0.0       158.0             480.0   \n",
       "435            10047                0.0         NaN             240.0   \n",
       "\n",
       "     Credit_History Property_Area Loan_Status  \n",
       "104             1.0         Urban           Y  \n",
       "228             1.0     Semiurban           Y  \n",
       "435             1.0     Semiurban           Y  "
      ]
     },
     "execution_count": 8,
     "metadata": {},
     "output_type": "execute_result"
    }
   ],
   "source": [
    "print(\"Nb married:\", df[df.Married == \"Yes\"].shape[0])\n",
    "print(\"Nb not married:\", df[df.Married == \"No\"].shape[0])\n",
    "print(\"Nb nan:\", df[df.Married.isnull()].shape[0])\n",
    "df[df.Married.isnull()]"
   ]
  },
  {
   "cell_type": "markdown",
   "metadata": {
    "cell_id": "00011-91ae4f52-0206-4d35-8068-b4af0a83f8fd",
    "deepnote_cell_type": "markdown",
    "output_cleared": false,
    "tags": []
   },
   "source": [
    "We only have 3 missing values for the Married feature. In addition, for thoses values, the dependents feature is also null.  \n",
    "So we can drop those 3 rows, it is not a big loss of information."
   ]
  },
  {
   "cell_type": "code",
   "execution_count": 9,
   "metadata": {
    "cell_id": "00014-7a5895de-8120-4c07-88be-7d1090e05ac2",
    "deepnote_cell_type": "code",
    "execution_millis": 1,
    "execution_start": 1607454776650,
    "output_cleared": false,
    "source_hash": "f381cb1b",
    "tags": []
   },
   "outputs": [],
   "source": [
    "df.dropna(subset=[\"Married\"], inplace=True)"
   ]
  },
  {
   "cell_type": "markdown",
   "metadata": {
    "cell_id": "00015-df524d7e-2404-43c6-94ac-0bb36986949c",
    "deepnote_cell_type": "markdown",
    "output_cleared": false,
    "tags": []
   },
   "source": [
    "##### 1.2.1.3. Dependents feature\n",
    "\n",
    "For dependents feature, we have 4 possible values and we obtain the following plots:"
   ]
  },
  {
   "cell_type": "code",
   "execution_count": 10,
   "metadata": {
    "cell_id": "00010-8eaf9f0c-108e-496d-81c1-4ec9b43a98a4",
    "deepnote_cell_type": "code",
    "execution_millis": 227,
    "execution_start": 1607454776651,
    "output_cleared": false,
    "source_hash": "177f9ccc",
    "tags": []
   },
   "outputs": [
    {
     "name": "stdout",
     "output_type": "stream",
     "text": [
      "Nb 0: 345\n",
      "Nb 1: 102\n",
      "Nb 2: 101\n",
      "Nb 3+: 51\n",
      "Nb nan: 12\n"
     ]
    },
    {
     "data": {
      "image/png": "[encoded data removed]",
      "text/plain": [
       "<Figure size 432x288 with 4 Axes>"
      ]
     },
     "metadata": {
      "needs_background": "light"
     },
     "output_type": "display_data"
    }
   ],
   "source": [
    "print(\"Nb 0:\", df[df.Dependents == \"0\"].shape[0])\n",
    "print(\"Nb 1:\", df[df.Dependents == \"1\"].shape[0])\n",
    "print(\"Nb 2:\", df[df.Dependents == \"2\"].shape[0])\n",
    "print(\"Nb 3+:\", df[df.Dependents == \"3+\"].shape[0])\n",
    "print(\"Nb nan:\", df[df.Dependents.isnull()].shape[0])\n",
    "\n",
    "plt.subplot(221)\n",
    "plt.bar([\"N\", \"Y\"], df[df.Dependents == \"0\"].groupby(df.Loan_Status).count().Dependents)\n",
    "plt.title(\"                                            Loan status proportion when dependents \\nis 0\")\n",
    "\n",
    "plt.subplot(222)\n",
    "plt.bar([\"N\", \"Y\"], df[df.Dependents == \"1\"].groupby(df.Loan_Status).count().Dependents)\n",
    "plt.title(\"is 1\")\n",
    "\n",
    "plt.subplot(223)\n",
    "plt.bar([\"N\", \"Y\"], df[df.Dependents == '2'].groupby(df.Loan_Status).count().Dependents)\n",
    "plt.title(\"is 2\")\n",
    "\n",
    "plt.subplot(224)\n",
    "plt.bar([\"N\", \"Y\"], df[df.Dependents == \"3+\"].groupby(df.Loan_Status).count().Dependents)\n",
    "plt.title(\"is 3+\")\n",
    "plt.show()"
   ]
  },
  {
   "cell_type": "markdown",
   "metadata": {
    "cell_id": "00017-7652ce00-2013-482b-addf-3205d21fdf29",
    "deepnote_cell_type": "markdown",
    "output_cleared": false,
    "tags": []
   },
   "source": [
    "On those 4 plots, the value yes for loan status is dominant.  \n",
    "Even if the ratio of yes/no is not identical for all of them, we see that the dependents doesn't seem to affect importantly the loan decision.  \n",
    "So we can change the missing values by the most predominant category: 0."
   ]
  },
  {
   "cell_type": "code",
   "execution_count": 11,
   "metadata": {
    "cell_id": "00017-764f19b3-3bc1-44dd-a04c-58c28bfc9b79",
    "deepnote_cell_type": "code",
    "execution_millis": 1,
    "execution_start": 1607454776882,
    "output_cleared": false,
    "source_hash": "4929670d",
    "tags": []
   },
   "outputs": [],
   "source": [
    "df.Dependents.fillna(\"0\", inplace=True)"
   ]
  },
  {
   "cell_type": "markdown",
   "metadata": {
    "cell_id": "00013-0b39d58a-7823-45ab-82e7-dc885db8d695",
    "deepnote_cell_type": "markdown",
    "output_cleared": false,
    "tags": []
   },
   "source": [
    "##### 1.2.1.4. Self employed feature\n",
    "\n",
    "We can look at the missing values and plots of self employed:"
   ]
  },
  {
   "cell_type": "code",
   "execution_count": 12,
   "metadata": {
    "cell_id": "00011-39913f73-b2a4-44e7-a003-6c564eaf0377",
    "deepnote_cell_type": "code",
    "execution_millis": 166,
    "execution_start": 1607454776954,
    "output_cleared": false,
    "source_hash": "d04d9269",
    "tags": []
   },
   "outputs": [
    {
     "name": "stdout",
     "output_type": "stream",
     "text": [
      "Nb self-employed: 82\n",
      "Nb not self-employed: 497\n",
      "Nb nan: 32\n"
     ]
    },
    {
     "data": {
      "image/png": "[encoded data removed]",
      "text/plain": [
       "<Figure size 432x288 with 2 Axes>"
      ]
     },
     "metadata": {
      "needs_background": "light"
     },
     "output_type": "display_data"
    }
   ],
   "source": [
    "print(\"Nb self-employed:\", df[df.Self_Employed == \"Yes\"].shape[0])\n",
    "print(\"Nb not self-employed:\", df[df.Self_Employed == \"No\"].shape[0])\n",
    "print(\"Nb nan:\", df[df.Self_Employed.isnull()].shape[0])\n",
    "\n",
    "plt.subplot(121)\n",
    "plt.bar([\"N\", \"Y\"], df[df.Self_Employed == 'No'].groupby(df.Loan_Status).count().Self_Employed)\n",
    "plt.title(\"                                                Loan status proportion when person \\nis not self-employed\")\n",
    "\n",
    "plt.subplot(122)\n",
    "plt.bar([\"N\", \"Y\"], df[df.Self_Employed == \"Yes\"].groupby(df.Loan_Status).count().Self_Employed)\n",
    "plt.title(\"is self-employed\")\n",
    "plt.show()"
   ]
  },
  {
   "cell_type": "markdown",
   "metadata": {
    "cell_id": "00021-eda2cfc1-6ae4-4919-b864-42d97827431a",
    "deepnote_cell_type": "markdown",
    "output_cleared": false,
    "tags": []
   },
   "source": [
    "We clearly see that the self-employed feature does not seem to affect the loan status, as there is a similar \n",
    "ratio of loan status distribution regardless the employement.  \n",
    "So we can replace the missing values by the most common one, not self-employed."
   ]
  },
  {
   "cell_type": "code",
   "execution_count": 13,
   "metadata": {
    "cell_id": "00021-4b68174d-3c0c-4412-bed0-2e336e753077",
    "deepnote_cell_type": "code",
    "execution_millis": 1,
    "execution_start": 1607454777170,
    "output_cleared": false,
    "source_hash": "a4ebfb1d",
    "tags": []
   },
   "outputs": [],
   "source": [
    "df.Self_Employed.fillna(\"No\", inplace=True)"
   ]
  },
  {
   "cell_type": "markdown",
   "metadata": {
    "cell_id": "00023-fc607f40-0eb3-4166-b18d-8f9cda01b9c6",
    "deepnote_cell_type": "markdown",
    "output_cleared": false,
    "tags": []
   },
   "source": [
    "##### 1.2.1.5. Credit history feature\n",
    "\n",
    "The credit history feature is the feature with the most missing values. We have to be carefull by looking at the repartition and \n",
    "the correlation with the loan status."
   ]
  },
  {
   "cell_type": "code",
   "execution_count": 14,
   "metadata": {
    "cell_id": "00012-beb296a5-82a3-4237-a663-f4f2ab18ac34",
    "deepnote_cell_type": "code",
    "execution_millis": 151,
    "execution_start": 1607454777171,
    "output_cleared": false,
    "source_hash": "2833b1d9",
    "tags": []
   },
   "outputs": [
    {
     "name": "stdout",
     "output_type": "stream",
     "text": [
      "Nb Yes: 472\n",
      "Nb No: 89\n",
      "Nb nan: 50\n"
     ]
    },
    {
     "data": {
      "image/png": "[encoded data removed]",
      "text/plain": [
       "<Figure size 432x288 with 2 Axes>"
      ]
     },
     "metadata": {
      "needs_background": "light"
     },
     "output_type": "display_data"
    }
   ],
   "source": [
    "print(\"Nb Yes:\", df[df.Credit_History == 1].shape[0])\n",
    "print(\"Nb No:\", df[df.Credit_History == 0].shape[0])\n",
    "print(\"Nb nan:\", df[df.Credit_History.isnull()].shape[0])\n",
    "\n",
    "plt.subplot(121)\n",
    "plt.bar([\"N\", \"Y\"], df[df.Credit_History == 0].groupby(df.Loan_Status).count().Credit_History)\n",
    "plt.title(\"                                                Loan status proportion when person \\nnever had a credit\")\n",
    "\n",
    "plt.subplot(122)\n",
    "plt.bar([\"N\", \"Y\"], df[df.Credit_History == 1].groupby(df.Loan_Status).count().Credit_History)\n",
    "plt.title(\"\\nalready had a credit\")\n",
    "plt.show()"
   ]
  },
  {
   "cell_type": "markdown",
   "metadata": {
    "cell_id": "00026-cf5afc6c-b315-4245-8892-0da5982f2e90",
    "deepnote_cell_type": "markdown",
    "output_cleared": false,
    "tags": []
   },
   "source": [
    "By looking at the plots, we clearly see that when a person alreadly had a credit, she or he will more easily \n",
    "obtain a loan and on the contrary, if the person never had a credit, she or he will hardly obtain a loan.\n",
    "So we decided to replace the missing values depending on the loan status:\n",
    "if the loan status is Yes, the credit history will be 1, whereas if the loan status is No, the credit history will be 0."
   ]
  },
  {
   "cell_type": "code",
   "execution_count": 15,
   "metadata": {
    "cell_id": "00027-3616229c-cdd5-4d77-894d-138c2d53d533",
    "deepnote_cell_type": "code",
    "execution_millis": 1,
    "execution_start": 1607454777328,
    "output_cleared": false,
    "source_hash": "e43014db",
    "tags": []
   },
   "outputs": [],
   "source": [
    "df.Credit_History.fillna(df.Loan_Status, inplace=True)\n",
    "df.Credit_History.replace([\"Y\", \"N\"], [1, 0], inplace=True)"
   ]
  },
  {
   "cell_type": "markdown",
   "metadata": {
    "cell_id": "00009-a0be52a2-dde7-45e2-abe5-c5e0d2417687",
    "deepnote_cell_type": "markdown",
    "output_cleared": false,
    "tags": []
   },
   "source": [
    "Now, we can work on the numerical features.\n",
    "\n",
    "#### 1.2.2. Numerical features \n",
    "\n",
    "#####  1.2.2.1. Loan amount\n",
    "\n",
    "For loan amount, we have 22 missing values, we can look at the histogram to select the best way to handle those missing values:"
   ]
  },
  {
   "cell_type": "code",
   "execution_count": 16,
   "metadata": {
    "cell_id": "00009-6d63fe91-0c50-40b1-87ed-e30adac6657c",
    "deepnote_cell_type": "code",
    "execution_millis": 192,
    "execution_start": 1607454777335,
    "output_cleared": false,
    "source_hash": "bbed038d",
    "tags": []
   },
   "outputs": [
    {
     "data": {
      "image/png": "[encoded data removed]",
      "text/plain": [
       "<Figure size 432x288 with 1 Axes>"
      ]
     },
     "metadata": {
      "needs_background": "light"
     },
     "output_type": "display_data"
    },
    {
     "name": "stdout",
     "output_type": "stream",
     "text": [
      "Median: 127.5\n"
     ]
    }
   ],
   "source": [
    "plt.hist(df.LoanAmount, bins=20)\n",
    "plt.axvline(df.LoanAmount.median(), color='k', linestyle='dashed', linewidth=1.3)\n",
    "plt.show()\n",
    "print(\"Median:\",df.LoanAmount.median())"
   ]
  },
  {
   "cell_type": "markdown",
   "metadata": {
    "cell_id": "00029-987fff47-8b2a-4f92-b6c6-f4e9f64f8a2a",
    "deepnote_cell_type": "markdown",
    "output_cleared": false,
    "tags": []
   },
   "source": [
    "As we can see, the distribution is centered around the median so we can replace the missing values by \n",
    "the median.  \n",
    "We do not take the mean because we remark some outliers with high values for the loan amount."
   ]
  },
  {
   "cell_type": "code",
   "execution_count": 17,
   "metadata": {
    "cell_id": "00029-93096cf6-d075-4fa5-8ea4-600e2446ad9d",
    "deepnote_cell_type": "code",
    "execution_millis": 0,
    "execution_start": 1607454777532,
    "output_cleared": false,
    "source_hash": "67c894a0",
    "tags": []
   },
   "outputs": [],
   "source": [
    "df.LoanAmount.fillna(df.LoanAmount.median(), inplace=True)"
   ]
  },
  {
   "cell_type": "markdown",
   "metadata": {
    "cell_id": "00029-d1e14c61-a172-4a69-a5c6-34875e659722",
    "deepnote_cell_type": "markdown",
    "output_cleared": false,
    "tags": []
   },
   "source": [
    "##### 1.2.2.2. Loan amount term\n",
    "\n",
    "For loan amount term, we have 14 missing values, looking at the histogram to select the best way to handle those missing values, we obtain:"
   ]
  },
  {
   "cell_type": "code",
   "execution_count": 18,
   "metadata": {
    "cell_id": "00010-1d1b16c7-a8c4-43e0-908b-78db538de255",
    "deepnote_cell_type": "code",
    "execution_millis": 191,
    "execution_start": 1607454777536,
    "output_cleared": false,
    "source_hash": "913ef2c2",
    "tags": []
   },
   "outputs": [
    {
     "data": {
      "image/png": "[encoded data removed]",
      "text/plain": [
       "<Figure size 432x288 with 1 Axes>"
      ]
     },
     "metadata": {
      "needs_background": "light"
     },
     "output_type": "display_data"
    },
    {
     "name": "stdout",
     "output_type": "stream",
     "text": [
      "Mode: 360.0\n"
     ]
    }
   ],
   "source": [
    "plt.hist(df.Loan_Amount_Term, bins=10)\n",
    "plt.axvline(df.Loan_Amount_Term.mode()[0], color='k', linestyle='dashed', linewidth=1.3)\n",
    "plt.show()\n",
    "print(\"Mode:\", df.Loan_Amount_Term.mode()[0])"
   ]
  },
  {
   "cell_type": "markdown",
   "metadata": {
    "cell_id": "00010-05c831e0-ae89-4743-90da-bcf725eeec71",
    "deepnote_cell_type": "markdown",
    "output_cleared": false,
    "tags": []
   },
   "source": [
    "Here, the predominant value is clearly 360 and the others appear really rarely.  \n",
    "We choose to replace the missing values by the mode as it represents the most frequent value."
   ]
  },
  {
   "cell_type": "code",
   "execution_count": 19,
   "metadata": {
    "cell_id": "00034-fa7c8a9c-73fb-443d-ba97-55d92363b95f",
    "deepnote_cell_type": "code",
    "execution_millis": 1,
    "execution_start": 1607454777774,
    "output_cleared": false,
    "source_hash": "e7e8d19f",
    "tags": []
   },
   "outputs": [],
   "source": [
    "df.Loan_Amount_Term.fillna(df.Loan_Amount_Term.mode()[0], inplace=True)"
   ]
  },
  {
   "cell_type": "markdown",
   "metadata": {
    "cell_id": "00035-1d1282f6-0a22-42c2-9729-513a4159952e",
    "deepnote_cell_type": "markdown",
    "output_cleared": false,
    "tags": []
   },
   "source": [
    "As we handled missing values, we can now build our logistic regression from scratch.\n",
    "\n",
    "## 2. Preprocessing\n",
    "\n",
    "Some variables can not be properly used for our logistic regression, we have to handle those string variables by transforming them into binary or numerical ones."
   ]
  },
  {
   "cell_type": "code",
   "execution_count": 20,
   "metadata": {
    "cell_id": "00036-01e0e145-05dd-404c-b2d1-0a7fa4bdb0ac",
    "deepnote_cell_type": "code",
    "execution_millis": 0,
    "execution_start": 1607454777775,
    "output_cleared": false,
    "source_hash": "21b739ae",
    "tags": []
   },
   "outputs": [],
   "source": [
    "df.replace([\"Female\", \"Male\"], [0, 1], inplace=True)\n",
    "df.replace([\"No\", \"Yes\"], [0, 1], inplace=True)\n",
    "df.replace([\"Not Graduate\", \"Graduate\"], [0, 1], inplace=True)\n",
    "df.replace([\"0\", \"1\", \"2\", \"3+\"], [0, 1, 2, 3], inplace=True)\n",
    "df.replace([\"Rural\", \"Semiurban\", \"Urban\"], [0, 1, 2], inplace=True)\n",
    "df.replace([\"N\", \"Y\"], [0, 1], inplace=True)"
   ]
  },
  {
   "cell_type": "markdown",
   "metadata": {
    "cell_id": "00037-c8f1635a-e2fe-4cf1-afbf-5206a79c01ed",
    "deepnote_cell_type": "markdown",
    "output_cleared": false,
    "tags": []
   },
   "source": [
    "We also decided to drop one of the features, Loan_ID which is an unique identifier and is useless to make predictions."
   ]
  },
  {
   "cell_type": "code",
   "execution_count": 21,
   "metadata": {
    "cell_id": "00036-94d90b9b-6b58-4227-babb-5c4a6ad991f9",
    "deepnote_cell_type": "code",
    "execution_millis": 0,
    "execution_start": 1607454777776,
    "output_cleared": false,
    "source_hash": "26fdb735",
    "tags": []
   },
   "outputs": [],
   "source": [
    "df.drop(\"Loan_ID\", axis=1, inplace=True)"
   ]
  },
  {
   "cell_type": "markdown",
   "metadata": {
    "cell_id": "00041-96b68c5f-e52c-4896-a428-ba24e00b2041",
    "deepnote_cell_type": "markdown",
    "output_cleared": false,
    "tags": []
   },
   "source": [
    "We obtain the following dataframe:"
   ]
  },
  {
   "cell_type": "code",
   "execution_count": 22,
   "metadata": {
    "cell_id": "00042-83d60204-c78e-4588-b16c-6961fcad59e3",
    "deepnote_cell_type": "code",
    "execution_millis": 46,
    "execution_start": 1607454777776,
    "output_cleared": false,
    "source_hash": "f804c160",
    "tags": []
   },
   "outputs": [
    {
     "data": {
      "text/html": [
       "<div>\n",
       "<style scoped>\n",
       "    .dataframe tbody tr th:only-of-type {\n",
       "        vertical-align: middle;\n",
       "    }\n",
       "\n",
       "    .dataframe tbody tr th {\n",
       "        vertical-align: top;\n",
       "    }\n",
       "\n",
       "    .dataframe thead th {\n",
       "        text-align: right;\n",
       "    }\n",
       "</style>\n",
       "<table border=\"1\" class=\"dataframe\">\n",
       "  <thead>\n",
       "    <tr style=\"text-align: right;\">\n",
       "      <th></th>\n",
       "      <th>Gender</th>\n",
       "      <th>Married</th>\n",
       "      <th>Dependents</th>\n",
       "      <th>Education</th>\n",
       "      <th>Self_Employed</th>\n",
       "      <th>ApplicantIncome</th>\n",
       "      <th>CoapplicantIncome</th>\n",
       "      <th>LoanAmount</th>\n",
       "      <th>Loan_Amount_Term</th>\n",
       "      <th>Credit_History</th>\n",
       "      <th>Property_Area</th>\n",
       "      <th>Loan_Status</th>\n",
       "    </tr>\n",
       "  </thead>\n",
       "  <tbody>\n",
       "    <tr>\n",
       "      <th>0</th>\n",
       "      <td>1</td>\n",
       "      <td>0</td>\n",
       "      <td>0</td>\n",
       "      <td>1</td>\n",
       "      <td>0</td>\n",
       "      <td>5849</td>\n",
       "      <td>0.0</td>\n",
       "      <td>127.5</td>\n",
       "      <td>360.0</td>\n",
       "      <td>1.0</td>\n",
       "      <td>2</td>\n",
       "      <td>1</td>\n",
       "    </tr>\n",
       "    <tr>\n",
       "      <th>1</th>\n",
       "      <td>1</td>\n",
       "      <td>1</td>\n",
       "      <td>1</td>\n",
       "      <td>1</td>\n",
       "      <td>0</td>\n",
       "      <td>4583</td>\n",
       "      <td>1508.0</td>\n",
       "      <td>128.0</td>\n",
       "      <td>360.0</td>\n",
       "      <td>1.0</td>\n",
       "      <td>0</td>\n",
       "      <td>0</td>\n",
       "    </tr>\n",
       "    <tr>\n",
       "      <th>2</th>\n",
       "      <td>1</td>\n",
       "      <td>1</td>\n",
       "      <td>0</td>\n",
       "      <td>1</td>\n",
       "      <td>1</td>\n",
       "      <td>3000</td>\n",
       "      <td>0.0</td>\n",
       "      <td>66.0</td>\n",
       "      <td>360.0</td>\n",
       "      <td>1.0</td>\n",
       "      <td>2</td>\n",
       "      <td>1</td>\n",
       "    </tr>\n",
       "    <tr>\n",
       "      <th>3</th>\n",
       "      <td>1</td>\n",
       "      <td>1</td>\n",
       "      <td>0</td>\n",
       "      <td>0</td>\n",
       "      <td>0</td>\n",
       "      <td>2583</td>\n",
       "      <td>2358.0</td>\n",
       "      <td>120.0</td>\n",
       "      <td>360.0</td>\n",
       "      <td>1.0</td>\n",
       "      <td>2</td>\n",
       "      <td>1</td>\n",
       "    </tr>\n",
       "    <tr>\n",
       "      <th>4</th>\n",
       "      <td>1</td>\n",
       "      <td>0</td>\n",
       "      <td>0</td>\n",
       "      <td>1</td>\n",
       "      <td>0</td>\n",
       "      <td>6000</td>\n",
       "      <td>0.0</td>\n",
       "      <td>141.0</td>\n",
       "      <td>360.0</td>\n",
       "      <td>1.0</td>\n",
       "      <td>2</td>\n",
       "      <td>1</td>\n",
       "    </tr>\n",
       "    <tr>\n",
       "      <th>...</th>\n",
       "      <td>...</td>\n",
       "      <td>...</td>\n",
       "      <td>...</td>\n",
       "      <td>...</td>\n",
       "      <td>...</td>\n",
       "      <td>...</td>\n",
       "      <td>...</td>\n",
       "      <td>...</td>\n",
       "      <td>...</td>\n",
       "      <td>...</td>\n",
       "      <td>...</td>\n",
       "      <td>...</td>\n",
       "    </tr>\n",
       "    <tr>\n",
       "      <th>609</th>\n",
       "      <td>0</td>\n",
       "      <td>0</td>\n",
       "      <td>0</td>\n",
       "      <td>1</td>\n",
       "      <td>0</td>\n",
       "      <td>2900</td>\n",
       "      <td>0.0</td>\n",
       "      <td>71.0</td>\n",
       "      <td>360.0</td>\n",
       "      <td>1.0</td>\n",
       "      <td>0</td>\n",
       "      <td>1</td>\n",
       "    </tr>\n",
       "    <tr>\n",
       "      <th>610</th>\n",
       "      <td>1</td>\n",
       "      <td>1</td>\n",
       "      <td>3</td>\n",
       "      <td>1</td>\n",
       "      <td>0</td>\n",
       "      <td>4106</td>\n",
       "      <td>0.0</td>\n",
       "      <td>40.0</td>\n",
       "      <td>180.0</td>\n",
       "      <td>1.0</td>\n",
       "      <td>0</td>\n",
       "      <td>1</td>\n",
       "    </tr>\n",
       "    <tr>\n",
       "      <th>611</th>\n",
       "      <td>1</td>\n",
       "      <td>1</td>\n",
       "      <td>1</td>\n",
       "      <td>1</td>\n",
       "      <td>0</td>\n",
       "      <td>8072</td>\n",
       "      <td>240.0</td>\n",
       "      <td>253.0</td>\n",
       "      <td>360.0</td>\n",
       "      <td>1.0</td>\n",
       "      <td>2</td>\n",
       "      <td>1</td>\n",
       "    </tr>\n",
       "    <tr>\n",
       "      <th>612</th>\n",
       "      <td>1</td>\n",
       "      <td>1</td>\n",
       "      <td>2</td>\n",
       "      <td>1</td>\n",
       "      <td>0</td>\n",
       "      <td>7583</td>\n",
       "      <td>0.0</td>\n",
       "      <td>187.0</td>\n",
       "      <td>360.0</td>\n",
       "      <td>1.0</td>\n",
       "      <td>2</td>\n",
       "      <td>1</td>\n",
       "    </tr>\n",
       "    <tr>\n",
       "      <th>613</th>\n",
       "      <td>0</td>\n",
       "      <td>0</td>\n",
       "      <td>0</td>\n",
       "      <td>1</td>\n",
       "      <td>1</td>\n",
       "      <td>4583</td>\n",
       "      <td>0.0</td>\n",
       "      <td>133.0</td>\n",
       "      <td>360.0</td>\n",
       "      <td>0.0</td>\n",
       "      <td>1</td>\n",
       "      <td>0</td>\n",
       "    </tr>\n",
       "  </tbody>\n",
       "</table>\n",
       "<p>611 rows × 12 columns</p>\n",
       "</div>"
      ],
      "text/plain": [
       "     Gender  Married  Dependents  Education  Self_Employed  ApplicantIncome  \\\n",
       "0         1        0           0          1              0             5849   \n",
       "1         1        1           1          1              0             4583   \n",
       "2         1        1           0          1              1             3000   \n",
       "3         1        1           0          0              0             2583   \n",
       "4         1        0           0          1              0             6000   \n",
       "..      ...      ...         ...        ...            ...              ...   \n",
       "609       0        0           0          1              0             2900   \n",
       "610       1        1           3          1              0             4106   \n",
       "611       1        1           1          1              0             8072   \n",
       "612       1        1           2          1              0             7583   \n",
       "613       0        0           0          1              1             4583   \n",
       "\n",
       "     CoapplicantIncome  LoanAmount  Loan_Amount_Term  Credit_History  \\\n",
       "0                  0.0       127.5             360.0             1.0   \n",
       "1               1508.0       128.0             360.0             1.0   \n",
       "2                  0.0        66.0             360.0             1.0   \n",
       "3               2358.0       120.0             360.0             1.0   \n",
       "4                  0.0       141.0             360.0             1.0   \n",
       "..                 ...         ...               ...             ...   \n",
       "609                0.0        71.0             360.0             1.0   \n",
       "610                0.0        40.0             180.0             1.0   \n",
       "611              240.0       253.0             360.0             1.0   \n",
       "612                0.0       187.0             360.0             1.0   \n",
       "613                0.0       133.0             360.0             0.0   \n",
       "\n",
       "     Property_Area  Loan_Status  \n",
       "0                2            1  \n",
       "1                0            0  \n",
       "2                2            1  \n",
       "3                2            1  \n",
       "4                2            1  \n",
       "..             ...          ...  \n",
       "609              0            1  \n",
       "610              0            1  \n",
       "611              2            1  \n",
       "612              2            1  \n",
       "613              1            0  \n",
       "\n",
       "[611 rows x 12 columns]"
      ]
     },
     "execution_count": 22,
     "metadata": {},
     "output_type": "execute_result"
    }
   ],
   "source": [
    "df"
   ]
  },
  {
   "cell_type": "markdown",
   "metadata": {
    "cell_id": "00036-d60afebf-8635-42a7-ac8a-72d85a86d8d2",
    "deepnote_cell_type": "markdown",
    "output_cleared": false,
    "tags": []
   },
   "source": [
    "After cleaning the dataset, let's build the logistic regression model from scratch. \n",
    "\n",
    "## 3. Build the logistic model from scratch\n",
    "\n",
    "Firstly we have to implement the following functions to build our model:\n",
    "\n",
    "* normalizeFeatures(params)\n",
    "* sigmoid(params)\n",
    "* costFunction(params)\n",
    "* gradientDescent(params)\n",
    "\n",
    "The parameters we use are:\n",
    "\n",
    "- $X$: matrix of observations (m, n + 1)\n",
    "- $y$: vector of labels (m, 1)\n",
    "- $w$: vector of weights of the model (n + 1, 1)\n",
    "- $m$: number of observations\n",
    "- $n$: number of features\n",
    "\n",
    "### 3.1. Normalization \n",
    "\n",
    "Before going through the logistic regression, we have to normalize the features.\n",
    "They have different range and the ones with the highest values could easily take precedence over the others.\n",
    "That is why we have to rescale all the variables and make them close to 0.\n",
    "\n",
    "We decided to use min-max normalization:  \n",
    "$X_{norm} = \\frac{X - min(X)}{max(X)-min(X)}$"
   ]
  },
  {
   "cell_type": "code",
   "execution_count": 23,
   "metadata": {
    "cell_id": "00039-748870e4-7166-4e47-b2e5-069a9a4a596b",
    "deepnote_cell_type": "code",
    "execution_millis": 0,
    "execution_start": 1607454777844,
    "output_cleared": false,
    "source_hash": "8f5f724c",
    "tags": []
   },
   "outputs": [],
   "source": [
    "def normalizeFeatures(X, scaling=None):\n",
    "    if scaling is None:\n",
    "        scaling = list(zip(X.min(), X.max()))\n",
    "    minmax = list(zip(*scaling))\n",
    "    min, max = np.array(minmax[0]), np.array(minmax[1])\n",
    "    # min-max normalization\n",
    "    X = np.asmatrix((X - min) / (max - min))\n",
    "\n",
    "    return np.insert(X, 0, 1, axis=1), scaling"
   ]
  },
  {
   "cell_type": "markdown",
   "metadata": {
    "cell_id": "00040-3280aa53-83b2-44b0-ac53-b5289ae4ef5c",
    "deepnote_cell_type": "markdown",
    "output_cleared": false,
    "tags": []
   },
   "source": [
    "After normalizing the data, we have to build the gradient descent.  \n",
    "Unlike the linear regression, to build the gradient descent of the logistic regression, we need to implement the **sigmoid** function.\n",
    "\n",
    "### 3.2. Sigmoid \n",
    "\n",
    "The sigmoid function allows us to map predicted values to **probabilities**, which means values between 0 and 1.  \n",
    "\n",
    "$S(z) = \\frac{1}{1 + e^{-z}}, z=Xw$\n",
    "\n",
    "which gives:\n",
    "\n",
    "$S(Xw) = \\frac{1}{1 + e^{-Xw}}$"
   ]
  },
  {
   "cell_type": "code",
   "execution_count": 24,
   "metadata": {
    "cell_id": "00041-c0c6ef93-1cba-40ea-a756-51cdff9a49b9",
    "deepnote_cell_type": "code",
    "execution_millis": 0,
    "execution_start": 1607454777844,
    "output_cleared": false,
    "source_hash": "e236692a",
    "tags": []
   },
   "outputs": [],
   "source": [
    "def sigmoid(X, w):\n",
    "    return 1 / (1 + np.exp(-X * w))"
   ]
  },
  {
   "cell_type": "markdown",
   "metadata": {
    "cell_id": "00042-94d16e0e-77e7-4b1b-80a4-a42df9eef0bb",
    "deepnote_cell_type": "markdown",
    "output_cleared": false,
    "tags": []
   },
   "source": [
    "### 3.3. Cost function\n",
    "\n",
    "The cost function of the logistic regression uses the sigmoid function presented above. \n",
    "Depending on the result of the sigmoid function, we have to do two different calculations.  \n",
    "\n",
    "Its formula is \n",
    "$J(w) = \\frac{1}{m} \\sum_{i=1}^{m} Cost(h_w(x^{(i)}),y^{(i)})$  \n",
    "\n",
    "with \n",
    "$\\left\\{\\begin{matrix}\n",
    " Cost(h_w(x),y) = -log(h_w(x)) & if & y = 1 \\\\ \n",
    " Cost(h_w(x),y) = -log(1- h_w(x)) & if & y = 0 \n",
    "\\end{matrix}\\right.$\n",
    "\n",
    "And $h_w(x^{(i)})$ the sigmoid function. \n",
    "\n",
    "Using the log makes easier the calculation of the gradient and minimize cost as depending on $y$, 0 or 1 \n",
    "it respectivelly decreases or increases.\n",
    "\n",
    "Combined and using linear algebra, we obtain:\n",
    "$J = \\frac{-1}{m} (y^Tlog(h_w(x^{(i)})) +(1-y^T)log(1- h_w(x^{(i)})))$\n",
    "\n",
    "Each time, depending on the value of $y$ (0 or 1), it will cancel the other part of the equation ($y$ or $1-y$). "
   ]
  },
  {
   "cell_type": "code",
   "execution_count": 25,
   "metadata": {
    "cell_id": "00044-86ab24a7-7958-437f-a26a-e8bf908482b2",
    "deepnote_cell_type": "code",
    "execution_millis": 0,
    "execution_start": 1607454777845,
    "output_cleared": false,
    "source_hash": "eb81acfa",
    "tags": []
   },
   "outputs": [],
   "source": [
    "def costFunction(X, y, w, m):\n",
    "    sig = sigmoid(X, w)\n",
    "    return float(-1 / m * (y.T * np.log(sig) + (1 - y.T) * np.log(1 - sig)))"
   ]
  },
  {
   "cell_type": "markdown",
   "metadata": {
    "cell_id": "00044-3f7ebcb4-d14a-4554-9ad1-fdc62fc92505",
    "deepnote_cell_type": "markdown",
    "output_cleared": false,
    "tags": []
   },
   "source": [
    "### 3.4. Gradient descent \n",
    "\n",
    "The gradient descent is used to minimize the cost.\n",
    "\n",
    "We repeat the following formula until convergence:\n",
    "\n",
    "$w_k = w_k - \\frac{\\alpha }{m} \\sum_{i=1}^{m} (h_w(x^{(i)})- y^{(i)})x_k^{(i)}$\n",
    "\n",
    "$w = w - \\frac{\\alpha }{m} (X^T.(h_w(X^{(i)}) - y)$\n",
    "\n",
    "We reused the gradient descent built in the first lab, except that the formula of $h_w(x)$ is different.\n",
    "\n",
    "We use a while loop and stop when the difference between the previous and actual cost function value is \n",
    "less than the threshold value or when the number of iterations is equal to iter.  \n",
    "At each iteration, we update the list of cost function values, the gradient and $w$.  \n",
    "When the value of the cost function increases, it means that the learning rate is too high and we have to lower it.   \n",
    "That is why we add the parameter autoAlpha in order to auto-tune (by dividing by 1.1) the value of $\\alpha$ if we want to.  \n",
    "Finally, we plot the values of the cost function through the iterations to evaluate the convergence of the algorithm.\n",
    "\n",
    "\n",
    "Unlike the linear regression, for the logistic one, we have to take a **very small** $\\alpha$.\n"
   ]
  },
  {
   "cell_type": "code",
   "execution_count": 26,
   "metadata": {
    "cell_id": "00045-9fd17be8-2851-43de-b781-8894fcfc7a2e",
    "deepnote_cell_type": "code",
    "execution_millis": 0,
    "execution_start": 1607454777846,
    "output_cleared": false,
    "source_hash": "4474b8ff",
    "tags": []
   },
   "outputs": [],
   "source": [
    "def gradientDescent(X, y, m, n, alpha=0.03, threshold=1e-3, iter=1000, autoAlpha=True):\n",
    "    i = 0\n",
    "    J = []\n",
    "    w = np.matrix([[1] for i in range(n + 1)])\n",
    "\n",
    "    while True:\n",
    "        i += 1\n",
    "        J.append(costFunction(X, y, w, m))\n",
    "\n",
    "        grad = X.T * (sigmoid(X, w) - y)\n",
    "        w = w - alpha * grad\n",
    "\n",
    "        if len(J) > 1:\n",
    "            if autoAlpha and J[-1] > J[-2]:\n",
    "                alpha /= 1.1\n",
    "\n",
    "            if abs(J[-1] - J[-2]) < threshold or i == iter:\n",
    "                break\n",
    "\n",
    "    # plot cost function values\n",
    "    plt.plot(np.log(J))\n",
    "    plt.title(\"Value of the cost function over iterations\")\n",
    "    plt.xlabel(\"iteration\")\n",
    "    plt.ylabel(\"log of cost function value\")\n",
    "    plt.show()\n",
    "\n",
    "    return w"
   ]
  },
  {
   "cell_type": "markdown",
   "metadata": {
    "cell_id": "00046-d0cf0e5d-8285-47c6-bb58-dbf6c1217bda",
    "deepnote_cell_type": "markdown",
    "output_cleared": false,
    "tags": []
   },
   "source": [
    "### 3.5. Applying the gradient descent algorithm to the dataset\n",
    "\n",
    "Using the functions implemented above, we can build our logistic regression.\n",
    "\n",
    "Thanks to the exploration part, we understand that Gender, Married, Dependents, Education, Self_Employed,\n",
    "ApplicantIncome, CoapplicantIncome, LoanAmount, Loan_Amount_Term, Credit_History and Property_Area are our features\n",
    "and represent the $X$ matrix and Loan_Status corresponds to the label and is the $y$ vector.\n",
    "\n",
    "As the lab on linear regression, we split the data in train and test sets to do the logistic regression.\n",
    "We will train our model on X_train and y_train and then test it on X_test and y_test.   \n",
    "\n",
    "Firstly, we normalize X_train, and use its scaling values to normalize X_test."
   ]
  },
  {
   "cell_type": "code",
   "execution_count": 27,
   "metadata": {
    "cell_id": "00047-3c22ead1-66ea-4e0a-aa10-3134c33046a5",
    "deepnote_cell_type": "code",
    "execution_millis": 1,
    "execution_start": 1607454777898,
    "output_cleared": false,
    "source_hash": "9666a52c",
    "tags": []
   },
   "outputs": [],
   "source": [
    "X = df.drop(\"Loan_Status\", axis=1)\n",
    "y = df[[\"Loan_Status\"]]\n",
    "X_train, X_test, y_train, y_test = train_test_split(X, y, test_size=0.2, random_state=0)\n",
    "\n",
    "m, n = X_train.shape\n",
    "X_train, scaling = normalizeFeatures(X_train)\n",
    "X_test = normalizeFeatures(X_test, scaling)[0]\n",
    "\n",
    "y_train = np.asmatrix(y_train)\n",
    "y_test = np.asmatrix(y_test)"
   ]
  },
  {
   "cell_type": "markdown",
   "metadata": {
    "cell_id": "00051-a991f229-a850-4ade-9281-bd8567eba4a7",
    "deepnote_cell_type": "markdown",
    "output_cleared": false,
    "tags": []
   },
   "source": [
    "We can now test our $GradientDescent$, let's test it with a very small value of $\\alpha$, 0.003."
   ]
  },
  {
   "cell_type": "code",
   "execution_count": 28,
   "metadata": {
    "cell_id": "00048-a25e0b06-0cbb-4419-ad6b-b71794130ca7",
    "deepnote_cell_type": "code",
    "execution_millis": 111,
    "execution_start": 1607454777899,
    "output_cleared": false,
    "source_hash": "c90b3fd0",
    "tags": []
   },
   "outputs": [
    {
     "data": {
      "image/png": "[encoded data removed]",
      "text/plain": [
       "<Figure size 432x288 with 1 Axes>"
      ]
     },
     "metadata": {
      "needs_background": "light"
     },
     "output_type": "display_data"
    },
    {
     "data": {
      "text/plain": [
       "matrix([[-0.94693196],\n",
       "        [-0.38118466],\n",
       "        [ 0.18482454],\n",
       "        [ 0.18029315],\n",
       "        [ 0.20555318],\n",
       "        [ 0.40319965],\n",
       "        [ 0.80083277],\n",
       "        [ 0.87249866],\n",
       "        [ 0.40429519],\n",
       "        [-0.41012068],\n",
       "        [ 2.32799113],\n",
       "        [ 0.04386909]])"
      ]
     },
     "execution_count": 28,
     "metadata": {},
     "output_type": "execute_result"
    }
   ],
   "source": [
    "coeffs = gradientDescent(X_train, y_train, m, n, alpha=0.003)\n",
    "coeffs"
   ]
  },
  {
   "cell_type": "markdown",
   "metadata": {
    "cell_id": "00049-1dcc2297-0e7e-4d33-abe9-4e0f08f9e526",
    "deepnote_cell_type": "markdown",
    "output_cleared": false,
    "tags": []
   },
   "source": [
    "We obtain the above plot. The convergence is very slow and the log of the $CostFunction$ is \n",
    "around -0,8.\n",
    "\n",
    "Let's change some **hyperparameters**: increase the number of iterations to $1e4$ and threshold to $1e-9$. "
   ]
  },
  {
   "cell_type": "code",
   "execution_count": 29,
   "metadata": {
    "cell_id": "00050-bb99200c-2373-4a58-9ccc-00355803a643",
    "deepnote_cell_type": "code",
    "execution_millis": 568,
    "execution_start": 1607454778012,
    "output_cleared": false,
    "source_hash": "d6c286ab",
    "tags": []
   },
   "outputs": [
    {
     "data": {
      "image/png": "[encoded data removed]",
      "text/plain": [
       "<Figure size 432x288 with 1 Axes>"
      ]
     },
     "metadata": {
      "needs_background": "light"
     },
     "output_type": "display_data"
    },
    {
     "data": {
      "text/plain": [
       "matrix([[-2.82598959],\n",
       "        [-0.07721819],\n",
       "        [ 0.45676453],\n",
       "        [ 0.22917433],\n",
       "        [ 0.63103143],\n",
       "        [ 0.06463871],\n",
       "        [ 0.7269864 ],\n",
       "        [ 0.75345777],\n",
       "        [-0.30125548],\n",
       "        [-0.59108348],\n",
       "        [ 3.85793586],\n",
       "        [ 0.16918771]])"
      ]
     },
     "execution_count": 29,
     "metadata": {},
     "output_type": "execute_result"
    }
   ],
   "source": [
    "coeffs = gradientDescent(X_train, y_train, m, n, alpha=0.003, threshold=1e-9, iter=1e4)\n",
    "coeffs"
   ]
  },
  {
   "cell_type": "markdown",
   "metadata": {
    "cell_id": "00051-dd94eb36-c3b7-4612-92f7-c578f8d4627d",
    "deepnote_cell_type": "markdown",
    "output_cleared": false,
    "tags": []
   },
   "source": [
    "The convergence is better. \n",
    "But in order to verify the truthfulness of our logistic regression, we can compare it to the one from Scikit-Learn.\n",
    "\n",
    "## 4. Compare to Scikit-Learn \n",
    "\n",
    "### 4.1. Functions to manage scores \n",
    "\n",
    "To compare the accuracy of our logistic regression from scratch to the one from Scikit-Learn, we implement four functions:\n",
    "* accuracy(params)\n",
    "* precision(params)\n",
    "* recall(params)\n",
    "* f1(params)\n",
    "\n",
    "We use them as indicators to see if the model fits well to the data.\n",
    "\n",
    "Those functions use the rounded of the sigmoid function and the confusion matrix, that is why, we decided to implement them in two functions.\n",
    "\n",
    "#### 4.1.1 Predict function and confusion matrix\n",
    "\n",
    "##### 4.1.1.1. Predict function \n",
    "\n",
    "To have the rounded value of the sigmoid function, we just need to use round.  \n",
    "By doing that, our values are splited in two categories, the values closer to 0 and the ones closer to 1, changed respectively to 0 and 1."
   ]
  },
  {
   "cell_type": "code",
   "execution_count": 30,
   "metadata": {
    "cell_id": "00052-3a70a62e-9245-4ffe-9a15-6a3d03db92b4",
    "deepnote_cell_type": "code",
    "execution_millis": 0,
    "execution_start": 1607454778583,
    "output_cleared": false,
    "source_hash": "61a2c7ea",
    "tags": []
   },
   "outputs": [],
   "source": [
    "def predict(X_pred, w):\n",
    "    return sigmoid(X_pred, w).round()"
   ]
  },
  {
   "cell_type": "markdown",
   "metadata": {
    "cell_id": "00057-e3889398-207a-4235-9996-15dc39ee90d4",
    "deepnote_cell_type": "markdown",
    "output_cleared": false,
    "tags": []
   },
   "source": [
    "##### 4.1.1.2. Confusion matrix \n",
    "\n",
    "The confusion matrix, is a performance measurement, which measures the quality of a model.\n",
    "It is a table with 4 combinations of predicted and actual values:\n",
    "* True Negative (TN)\n",
    "* False Positve (FP)\n",
    "* False Negative (FN)\n",
    "* True Positive (TP)\n",
    "\n",
    "It gives us:\n",
    "\n",
    "|                 | Predicted  NO | Predicted YES |\n",
    "|-----------------|:-------------:|:-------------:|\n",
    "| **Actual  NO**  |       TN      |       FP      |\n",
    "| **Actual  YES** |       FN      |       TP      |\n",
    "\n",
    "To build it, we compare $y$ to the predictions from predict function."
   ]
  },
  {
   "cell_type": "code",
   "execution_count": 31,
   "metadata": {
    "cell_id": "00058-d24641b1-e41d-476a-ad64-1ba691cd3a2b",
    "deepnote_cell_type": "code",
    "execution_millis": 1,
    "execution_start": 1607454778589,
    "output_cleared": false,
    "source_hash": "995cee67",
    "tags": []
   },
   "outputs": [],
   "source": [
    "def confusion(X, y, w):\n",
    "    y_pred = predict(X, w)\n",
    "    TN = int((1 - y_pred[y == 0]).sum())\n",
    "    FP = int(y_pred[y == 0].sum())\n",
    "    FN = int((1 - y_pred[y == 1]).sum())\n",
    "    TP = int(y_pred[y == 1].sum())\n",
    "\n",
    "    return np.matrix([[TN, FP], [FN, TP]])"
   ]
  },
  {
   "cell_type": "markdown",
   "metadata": {
    "cell_id": "00052-ad34691e-52c1-4b28-9097-e874d4e20c30",
    "deepnote_cell_type": "markdown",
    "output_cleared": false,
    "tags": []
   },
   "source": [
    "We can use the confusion matrix in order to compute accuracy, precision and recall. \n",
    "\n",
    "#### 4.1.2. Accuracy\n",
    "\n",
    "The accuracy is the proportion of correct predictions over total predictions.   \n",
    "It is mostly used when all the classes are equally important.\n",
    "\n",
    "$Accuracy = \\tfrac{TN + TP}{TN + TP + FN + FP}$\n",
    "\n",
    "We can use two implementations to compute the accuracy, one by computing the mean of our correct predictions and the other\n",
    "using the confusion matrix for the calculation."
   ]
  },
  {
   "cell_type": "code",
   "execution_count": 32,
   "metadata": {
    "cell_id": "00062-25eaf34e-897e-4b15-9d81-b490a1065da6",
    "deepnote_cell_type": "code",
    "execution_millis": 2,
    "execution_start": 1607454778595,
    "output_cleared": false,
    "source_hash": "5545cedc",
    "tags": []
   },
   "outputs": [],
   "source": [
    "def accuracy(X, y, w):\n",
    "    return (y == predict(X, w)).mean()\n",
    "\n",
    "def accuracy2(X, y, w):\n",
    "    matrix = confusion(X, y, w)\n",
    "    return ((matrix[0, 0] + matrix[1, 1]) / (matrix[0, 0] + matrix[0, 1] + matrix[1, 0] + matrix[1, 1]))"
   ]
  },
  {
   "cell_type": "markdown",
   "metadata": {
    "cell_id": "00055-7c0e8076-c4fd-4d6b-a272-f747c86d46c6",
    "deepnote_cell_type": "markdown",
    "output_cleared": false,
    "tags": []
   },
   "source": [
    "But the accuracy is not always the best measurement to insure that a model fits the data.\n",
    "If we have unbalanced dataset, it won't be representive.  \n",
    "We have to take a look at other measurements.\n",
    "\n",
    "#### 4.1.3. Precision\n",
    "\n",
    "The precision computes the proportion of correct positive predictions over all positively predicted ones (TP and FP).  \n",
    "It is useful when the cost of FP is high.\n",
    "\n",
    "$Precision = \\tfrac{TP}{TP+FP}$\n",
    "\n",
    "We use the confusion matrix to compute it."
   ]
  },
  {
   "cell_type": "code",
   "execution_count": 33,
   "metadata": {
    "cell_id": "00056-1a84aac4-6110-4e05-b372-674da0584b1e",
    "deepnote_cell_type": "code",
    "execution_millis": 0,
    "execution_start": 1607454778617,
    "output_cleared": false,
    "source_hash": "34a16162",
    "tags": []
   },
   "outputs": [],
   "source": [
    "def precision(X, y, w):\n",
    "    matrix = confusion(X, y, w)\n",
    "    return matrix[1, 1] / (matrix[1, 1] + matrix[0, 1])"
   ]
  },
  {
   "cell_type": "markdown",
   "metadata": {
    "cell_id": "00056-6397e805-5de3-41db-b80e-8e15c34e99c8",
    "deepnote_cell_type": "markdown",
    "output_cleared": false,
    "tags": []
   },
   "source": [
    "#### 4.1.4. Recall\n",
    "\n",
    "The recall computes the proportion of correct positive predictions over the number of actual positives ones (TP and FN).   \n",
    "In fact, it is used to see how much we have correctly predicted the positive class.  \n",
    "It is useful when the cost of FN is high.\n",
    "\n",
    "$Recall = \\tfrac{TP}{TP+FN}$\n",
    "\n",
    "We use the confusion matrix to compute it."
   ]
  },
  {
   "cell_type": "code",
   "execution_count": 34,
   "metadata": {
    "cell_id": "00058-d2fcf408-031e-4b7d-8a7c-86588b9e6fe5",
    "deepnote_cell_type": "code",
    "execution_millis": 0,
    "execution_start": 1607454778618,
    "output_cleared": false,
    "source_hash": "89f01b2",
    "tags": []
   },
   "outputs": [],
   "source": [
    "def recall(X, y, w):\n",
    "    matrix = confusion(X, y, w)\n",
    "    return matrix[1, 1] / (matrix[1, 1] + matrix[1, 0])"
   ]
  },
  {
   "cell_type": "markdown",
   "metadata": {
    "cell_id": "00057-53b4cdd3-4269-4c65-a30c-6621d4de8853",
    "deepnote_cell_type": "markdown",
    "output_cleared": false,
    "tags": []
   },
   "source": [
    "#### 4.1.5. f1-score\n",
    "\n",
    "The f1-score is used to compare two models. It is a balanced mean between precision and recall.   \n",
    "\n",
    "$f1 = 2.\\tfrac{Precision.Recall}{Precision+Recall}$\n"
   ]
  },
  {
   "cell_type": "code",
   "execution_count": 35,
   "metadata": {
    "cell_id": "00060-f2cf25bc-6147-435b-a76d-e96f4e251986",
    "deepnote_cell_type": "code",
    "execution_millis": 1,
    "execution_start": 1607454778618,
    "output_cleared": false,
    "source_hash": "1005af5a",
    "tags": []
   },
   "outputs": [],
   "source": [
    "def f1(X, y, w):\n",
    "    pre = precision(X, y, w)\n",
    "    rec = recall(X, y, w)\n",
    "    return 2 * pre * rec / (pre + rec)"
   ]
  },
  {
   "cell_type": "markdown",
   "metadata": {
    "cell_id": "00063-291a2c90-3245-4cda-b1dc-44a5a8661a14",
    "deepnote_cell_type": "markdown",
    "output_cleared": false,
    "tags": []
   },
   "source": [
    "### 4.2. Compare to Scikit-Learn \n",
    "\n",
    "#### 4.2.1.  Build a new logistic regresion model with Scikit-Learn\n",
    "\n",
    "Let's build a logistic regression using the $LogisticRegression$ class from Scikit-Learn library."
   ]
  },
  {
   "cell_type": "code",
   "execution_count": 36,
   "metadata": {
    "cell_id": "00064-4c32ef9b-58a6-4db0-a123-e08ad17e6f24",
    "deepnote_cell_type": "code",
    "execution_millis": 11,
    "execution_start": 1607454778619,
    "output_cleared": false,
    "source_hash": "391a576f",
    "tags": []
   },
   "outputs": [
    {
     "name": "stderr",
     "output_type": "stream",
     "text": [
      "c:\\python\\lib\\site-packages\\sklearn\\utils\\validation.py:72: DataConversionWarning: A column-vector y was passed when a 1d array was expected. Please change the shape of y to (n_samples, ), for example using ravel().\n",
      "  return f(**kwargs)\n"
     ]
    }
   ],
   "source": [
    "reg = linear_model.LogisticRegression()\n",
    "reg.fit(X_train, y_train)\n",
    "coeffs_sklearn = reg.coef_\n",
    "y_pred = reg.predict(X_test)\n",
    "coeffs_sklearn[0, 0] = reg.intercept_\n",
    "coeffs_sklearn = coeffs_sklearn.T"
   ]
  },
  {
   "cell_type": "markdown",
   "metadata": {
    "cell_id": "00070-416ddd94-c253-4d24-8a90-89cae1552202",
    "deepnote_cell_type": "markdown",
    "output_cleared": false,
    "tags": []
   },
   "source": [
    "#### 4.2.2. Compare logistic models\n",
    "\n",
    "We can now compare those two logistic regression models."
   ]
  },
  {
   "cell_type": "code",
   "execution_count": 37,
   "metadata": {
    "cell_id": "00065-409bcd70-82c1-4055-b02c-d78460da2ade",
    "deepnote_cell_type": "code",
    "execution_millis": 13,
    "execution_start": 1607454778636,
    "output_cleared": false,
    "source_hash": "601b5b0e",
    "tags": []
   },
   "outputs": [
    {
     "name": "stdout",
     "output_type": "stream",
     "text": [
      "Scikit-Learn\n",
      "[[-2.44816876]\n",
      " [-0.06222258]\n",
      " [ 0.4205428 ]\n",
      " [ 0.17793724]\n",
      " [ 0.57452944]\n",
      " [ 0.08444219]\n",
      " [ 0.11094913]\n",
      " [ 0.09099877]\n",
      " [-0.06057049]\n",
      " [-0.33916367]\n",
      " [ 3.32797682]\n",
      " [ 0.15472534]]\n",
      "\n",
      "Confusion matrix:\n",
      " [[ 71  76]\n",
      " [  7 334]]\n",
      "Accuracy: 0.8299180327868853\n",
      "Precision: 0.8146341463414634\n",
      "Recall: 0.9794721407624634\n",
      "F1-score: 0.8894806924101198\n",
      "\n",
      "\n",
      "Logistic model\n",
      "[[-2.82598959]\n",
      " [-0.07721819]\n",
      " [ 0.45676453]\n",
      " [ 0.22917433]\n",
      " [ 0.63103143]\n",
      " [ 0.06463871]\n",
      " [ 0.7269864 ]\n",
      " [ 0.75345777]\n",
      " [-0.30125548]\n",
      " [-0.59108348]\n",
      " [ 3.85793586]\n",
      " [ 0.16918771]]\n",
      "\n",
      "Confusion matrix:\n",
      " [[ 71  76]\n",
      " [  7 334]]\n",
      "Accuracy: 0.8299180327868853\n",
      "Precision: 0.8146341463414634\n",
      "Recall: 0.9794721407624634\n",
      "F1-score: 0.8894806924101198\n"
     ]
    }
   ],
   "source": [
    "print(\"Scikit-Learn\")\n",
    "print(coeffs_sklearn)\n",
    "print(\"\\nConfusion matrix:\\n\", confusion(X_train, y_train, coeffs_sklearn))\n",
    "print(\"Accuracy:\", accuracy(X_train, y_train, coeffs_sklearn))\n",
    "print(\"Precision:\", precision(X_train, y_train, coeffs_sklearn))\n",
    "print(\"Recall:\", recall(X_train, y_train, coeffs_sklearn))\n",
    "print(\"F1-score:\", f1(X_train, y_train, coeffs_sklearn))\n",
    "\n",
    "print(\"\\n\\nLogistic model\")\n",
    "print(coeffs)\n",
    "print(\"\\nConfusion matrix:\\n\", confusion(X_train, y_train, coeffs))\n",
    "print(\"Accuracy:\", accuracy(X_train, y_train, coeffs))\n",
    "print(\"Precision:\", precision(X_train, y_train, coeffs))\n",
    "print(\"Recall:\", recall(X_train, y_train, coeffs))\n",
    "print(\"F1-score:\", f1(X_train, y_train, coeffs))"
   ]
  },
  {
   "cell_type": "markdown",
   "metadata": {
    "cell_id": "00072-32c770ee-1b74-4832-84d4-01bbfa330ce2",
    "deepnote_cell_type": "markdown",
    "output_cleared": false,
    "tags": []
   },
   "source": [
    "Looking at the confusion matrix and the scores of the two models, we see that they are identical even if we obtain different values for their coefficients.   \n",
    "It can be explained by the fact that we do not have many observations and the two models distinct clearly the two categories.\n",
    "\n",
    "Finally, as the dataset is unbalanced, it is better to focus on the result of f1-score. We obtain a good f1-score around 0.89,\n",
    "which prooves that the logistic model fits well the data. \n",
    "\n",
    "Moreover, we can briefly compare the results of our from scratch score functions to the ones from Scikit-Learn on the test set:"
   ]
  },
  {
   "cell_type": "code",
   "execution_count": 38,
   "metadata": {
    "cell_id": "00075-84e3df89-0fdf-4589-87c1-98b60cac9ac6",
    "deepnote_cell_type": "code",
    "execution_millis": 8,
    "execution_start": 1607454778658,
    "output_cleared": false,
    "source_hash": "985a453b",
    "tags": []
   },
   "outputs": [
    {
     "name": "stdout",
     "output_type": "stream",
     "text": [
      "\n",
      "Confusion matrix:\n",
      "Scratch:\n",
      " [[24 21]\n",
      " [ 0 78]]\n",
      "Scikit-Learn:\n",
      " [[24 21]\n",
      " [ 0 78]]\n",
      "\n",
      "Compare our score functions to the ones of Scikit-Learn:\n",
      "Accuracy\n",
      "Scratch: 0.8292682926829268\n",
      "Scikit-Learn: 0.8292682926829268\n",
      "\n",
      "Precision\n",
      "Scratch: 0.7878787878787878\n",
      "Scikit-Learn: 0.7878787878787878\n",
      "\n",
      "Recall\n",
      "Scratch: 1.0\n",
      "Scikit-Learn: 1.0\n",
      "\n",
      "F1-score\n",
      "Scratch: 0.8813559322033898\n",
      "Scikit-Learn: 0.8813559322033898\n"
     ]
    }
   ],
   "source": [
    "print(\"\\nConfusion matrix:\\nScratch:\\n\", confusion(X_test, y_test, coeffs_sklearn))\n",
    "print(\"Scikit-Learn:\\n\", confusion_matrix(y_test, y_pred))\n",
    "\n",
    "print(\"\\nCompare our score functions to the ones of Scikit-Learn:\")\n",
    "print(\"Accuracy\\nScratch:\", accuracy(X_test, y_test, coeffs_sklearn))\n",
    "print(\"Scikit-Learn:\", accuracy_score(y_test, y_pred))\n",
    "\n",
    "print(\"\\nPrecision\\nScratch:\", precision(X_test, y_test, coeffs_sklearn))\n",
    "print(\"Scikit-Learn:\", precision_score(y_test, y_pred))\n",
    "\n",
    "print(\"\\nRecall\\nScratch:\", recall(X_test, y_test, coeffs_sklearn))\n",
    "print(\"Scikit-Learn:\", recall_score(y_test, y_pred))\n",
    "\n",
    "print(\"\\nF1-score\\nScratch:\", f1(X_test, y_test, coeffs_sklearn))\n",
    "print(\"Scikit-Learn:\", f1_score(y_test, y_pred))"
   ]
  },
  {
   "cell_type": "markdown",
   "metadata": {
    "cell_id": "00075-f5c6e3a3-1abb-47d6-b40f-e482ad949e2c",
    "deepnote_cell_type": "markdown",
    "output_cleared": false,
    "tags": []
   },
   "source": [
    "We clearly see that we obtain identical results for from scratch functions and Scikit-Learn ones. \n",
    "\n",
    "And compared to the previous results on the train set, we remark that accuracy, precision and \n",
    "f1-score of the test set are smaller than train ones (which makes sense).  \n",
    "However, the recall of the test set is perfect (1) compared to the one of the train test.  \n",
    "This can be explained by the fact that, as the dataset is unbalanced, our model tends to over-predicts positives at the expense of negatives.  \n",
    "As a result, there is no false negative for the test set but a higher rate of false positive (therefore a lower precision).\n",
    "\n",
    "#### 4.2.3. Plot of the predicted probability\n",
    "\n",
    "Let's plot the predicted probabilities of train and test values:"
   ]
  },
  {
   "cell_type": "code",
   "execution_count": 39,
   "metadata": {
    "cell_id": "00073-e1ba172d-8f2a-41cc-8c14-5bedb617106d",
    "deepnote_cell_type": "code",
    "execution_millis": 226,
    "execution_start": 1607454778714,
    "output_cleared": false,
    "source_hash": "646f6b3",
    "tags": []
   },
   "outputs": [
    {
     "data": {
      "image/png": "[encoded data removed]",
      "text/plain": [
       "<Figure size 720x360 with 2 Axes>"
      ]
     },
     "metadata": {
      "needs_background": "light"
     },
     "output_type": "display_data"
    }
   ],
   "source": [
    "plt.subplots(1,2,figsize=(10,5))\n",
    "\n",
    "plt.subplot(121)\n",
    "probs = np.array(sigmoid(X_train, coeffs).T)[0].tolist()\n",
    "labels = np.array(y_train.T)[0].tolist()\n",
    "probs, labels = zip(*sorted(zip(probs, labels)))\n",
    "indices = [i + 1 for i in range(len(probs))]\n",
    "plt.scatter(indices, probs, s = 30, marker='.', c=labels)\n",
    "plt.title(\"Train set\")\n",
    "plt.ylabel(\"Predicted probability\")\n",
    "\n",
    "plt.subplot(122)\n",
    "probs = np.array(sigmoid(X_test, coeffs).T)[0].tolist()\n",
    "labels = np.array(y_test.T)[0].tolist()\n",
    "probs, labels = zip(*sorted(zip(probs, labels)))\n",
    "indices = [i + 1 for i in range(len(probs))]\n",
    "plt.scatter(indices, probs, s = 30, marker='.', c=labels)\n",
    "plt.title(\"Test set\")\n",
    "plt.ylabel(\"Predicted probability\")\n",
    "plt.show()"
   ]
  },
  {
   "cell_type": "markdown",
   "metadata": {
    "cell_id": "00066-66a798f4-cb92-4195-8827-182fc634c05f",
    "deepnote_cell_type": "markdown",
    "output_cleared": false,
    "tags": []
   },
   "source": [
    "We represented the actual positive values in yellow and actual negative ones in purple.  \n",
    "Most of the time, the model predict well the loan status. \n",
    "But it clearly appears that test set encountered more false positives than the train one.  \n",
    "Those plots confirm what we saw in the visualisation part, the dataset is very unbalanced, as there are more loan status at 1 (yes), than at 0 (no). \n",
    "We could take more data in order to balance it. \n",
    "\n",
    "## Conclusion\n",
    "\n",
    "Thanks to our model, we can now predict the outcome of a loan demand depending on the applicants' information with a good confidence.  \n",
    "This third lab allowed us to familiarize with the implementation of a logistic regression from scratch and use the one \n",
    "from Scikit-Learn. \n",
    "We build functions based on the confusion matrix to compare them and it appears that both regressions give identical results.\n",
    "\n",
    "In order to improve our predictions, we tried to dummy some variables but unfortunately, it only slightly changes the coefficients of the model without \n",
    "affecting the confusion matrix and the scores. \n",
    "We could have handled differently missing values by dropping more of them or coupling K-nearest neighbors. But those\n",
    "methods could have lead to incorrect or insufficient data, that is why we decided to only drop three rows were there were two categorical missing values.\n",
    "\n",
    "As the dataset is unbalanced, in order to obtain more accurate results, we should try to use our implementation with a more balanced dataset with more observations.  \n",
    "Finally, as we may reuse it, once again we decided to instance our implementation in a class. As we alrealdy implemented linear regression, we decided to create\n",
    "a parent class called $Regression$ and add $LinearRegression$ and $LogisticRegression$ as its children.\n"
   ]
  }
 ],
 "metadata": {
  "deepnote_execution_queue": [],
  "deepnote_notebook_id": "74aa0c85-6de4-4ade-8571-a4c1dee55b95",
  "kernelspec": {
   "display_name": "Python 3",
   "language": "python",
   "name": "python3"
  },
  "language_info": {
   "codemirror_mode": {
    "name": "ipython",
    "version": 3
   },
   "file_extension": ".py",
   "mimetype": "text/x-python",
   "name": "python",
   "nbconvert_exporter": "python",
   "pygments_lexer": "ipython3",
   "version": "3.8.6"
  }
 },
 "nbformat": 4,
 "nbformat_minor": 2
}
